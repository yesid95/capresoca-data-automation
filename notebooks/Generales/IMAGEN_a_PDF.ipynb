{
 "cells": [
  {
   "cell_type": "code",
   "execution_count": 2,
   "id": "0d2568ef",
   "metadata": {},
   "outputs": [
    {
     "name": "stdout",
     "output_type": "stream",
     "text": [
      "PDF guardado en: C:\\Users\\osmarrincon\\Downloads\\CERTEPS02511072025.pdf\n"
     ]
    }
   ],
   "source": [
    "from PIL import Image\n",
    "\n",
    "# Ruta de la imagen\n",
    "imagen_path = r\"C:\\Users\\osmarrincon\\Downloads\\IMG_20250711_132612.jpg\"\n",
    "# Ruta de salida del PDF\n",
    "pdf_path = r\"C:\\Users\\osmarrincon\\Downloads\\CERTEPS02511072025.pdf\"\n",
    "\n",
    "# Abrir la imagen y convertirla a RGB (por si es PNG con transparencia)\n",
    "imagen = Image.open(imagen_path).convert(\"RGB\")\n",
    "# Guardar como PDF\n",
    "imagen.save(pdf_path, \"PDF\")\n",
    "\n",
    "print(f\"PDF guardado en: {pdf_path}\")"
   ]
  }
 ],
 "metadata": {
  "kernelspec": {
   "display_name": "venv",
   "language": "python",
   "name": "python3"
  },
  "language_info": {
   "codemirror_mode": {
    "name": "ipython",
    "version": 3
   },
   "file_extension": ".py",
   "mimetype": "text/x-python",
   "name": "python",
   "nbconvert_exporter": "python",
   "pygments_lexer": "ipython3",
   "version": "3.12.2"
  }
 },
 "nbformat": 4,
 "nbformat_minor": 5
}
