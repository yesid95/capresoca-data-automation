{
 "cells": [
  {
   "cell_type": "code",
   "execution_count": 1,
   "id": "4b3673a5",
   "metadata": {},
   "outputs": [
    {
     "name": "stdout",
     "output_type": "stream",
     "text": [
      "✅ Archivo generado exitosamente en:\n",
      "C:\\Users\\osmarrincon\\OneDrive - uniminuto.edu\\Capresoca\\dashboard\\PowerBI\\estructura_ETL.md\n"
     ]
    }
   ],
   "source": [
    "import os\n",
    "\n",
    "def generar_arbol_directorios(ruta_base, nivel=0):\n",
    "    arbol = \"\"\n",
    "    prefijo = \"    \" * nivel + \"- \"\n",
    "    \n",
    "    try:\n",
    "        for elemento in sorted(os.listdir(ruta_base)):\n",
    "            ruta_elemento = os.path.join(ruta_base, elemento)\n",
    "            if os.path.isdir(ruta_elemento):\n",
    "                arbol += f\"{prefijo}{elemento}/\\n\"\n",
    "                arbol += generar_arbol_directorios(ruta_elemento, nivel + 1)\n",
    "            else:\n",
    "                arbol += f\"{prefijo}{elemento}\\n\"\n",
    "    except PermissionError:\n",
    "        pass\n",
    "    \n",
    "    return arbol\n",
    "\n",
    "# 📁 Ruta base del proyecto ETL\n",
    "ruta_proyecto = r\"C:\\Users\\osmarrincon\\OneDrive - uniminuto.edu\\Capresoca\\AlmostClear\"\n",
    "\n",
    "# 📁 Ruta de salida del archivo .md\n",
    "ruta_salida_md = r\"C:\\Users\\osmarrincon\\OneDrive - uniminuto.edu\\Capresoca\\dashboard\\PowerBI\\estructura_ETL.md\"\n",
    "\n",
    "# 🧱 Construcción de la estructura tipo árbol\n",
    "estructura_md = generar_arbol_directorios(ruta_proyecto)\n",
    "\n",
    "# 📝 Guardar como archivo markdown\n",
    "with open(ruta_salida_md, \"w\", encoding=\"utf-8\") as f:\n",
    "    f.write(\"# Estructura del Proyecto ETL de Aseguramiento\\n\\n\")\n",
    "    f.write(\"```markdown\\n\")\n",
    "    f.write(estructura_md)\n",
    "    f.write(\"```\\n\")\n",
    "\n",
    "print(f\"✅ Archivo generado exitosamente en:\\n{ruta_salida_md}\")"
   ]
  }
 ],
 "metadata": {
  "kernelspec": {
   "display_name": "Python 3",
   "language": "python",
   "name": "python3"
  },
  "language_info": {
   "codemirror_mode": {
    "name": "ipython",
    "version": 3
   },
   "file_extension": ".py",
   "mimetype": "text/x-python",
   "name": "python",
   "nbconvert_exporter": "python",
   "pygments_lexer": "ipython3",
   "version": "3.12.2"
  }
 },
 "nbformat": 4,
 "nbformat_minor": 5
}
