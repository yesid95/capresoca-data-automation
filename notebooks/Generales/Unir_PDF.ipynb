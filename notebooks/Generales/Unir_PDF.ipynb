{
 "cells": [
  {
   "cell_type": "code",
   "execution_count": 1,
   "metadata": {},
   "outputs": [],
   "source": [
    "import os\n",
    "import sys\n",
    "from PyPDF2 import PdfReader, PdfWriter"
   ]
  },
  {
   "cell_type": "code",
   "execution_count": 2,
   "metadata": {},
   "outputs": [],
   "source": [
    "R_PDF_Original = r\"C:\\Users\\osmarrincon\\Downloads\\Unir PDF\\Originales\"\n",
    "R_Salida = r\"C:\\Users\\osmarrincon\\Downloads\\Unir PDF\"\n",
    "\n",
    "Nombre = \"Formato\""
   ]
  },
  {
   "cell_type": "code",
   "execution_count": 3,
   "metadata": {},
   "outputs": [
    {
     "name": "stdout",
     "output_type": "stream",
     "text": [
      "PDFs unidos exitosamente.\n"
     ]
    }
   ],
   "source": [
    "import os\n",
    "\n",
    "# List all PDF files in the original directory\n",
    "pdf_files = [f for f in os.listdir(R_PDF_Original) if f.lower().endswith('.pdf')]\n",
    "pdf_files.sort()  # Ordenar los archivos para unirlos en orden alfabético\n",
    "\n",
    "# Crear un objeto PdfWriter para combinar las páginas\n",
    "pdf_writer = PdfWriter()\n",
    "\n",
    "# Recorrer cada archivo PDF y agregar sus páginas\n",
    "for pdf_file in pdf_files:\n",
    "    pdf_path = os.path.join(R_PDF_Original, pdf_file)\n",
    "    pdf_reader = PdfReader(pdf_path)\n",
    "    for page in pdf_reader.pages:\n",
    "        pdf_writer.add_page(page)\n",
    "\n",
    "# Definir la ruta de salida con el nombre del PDF resultante\n",
    "output_pdf = os.path.join(R_Salida, f\"{Nombre}.pdf\")\n",
    "with open(output_pdf, 'wb') as out:\n",
    "    pdf_writer.write(out)\n",
    "\n",
    "print(\"PDFs unidos exitosamente.\")"
   ]
  }
 ],
 "metadata": {
  "kernelspec": {
   "display_name": "venv",
   "language": "python",
   "name": "python3"
  },
  "language_info": {
   "codemirror_mode": {
    "name": "ipython",
    "version": 3
   },
   "file_extension": ".py",
   "mimetype": "text/x-python",
   "name": "python",
   "nbconvert_exporter": "python",
   "pygments_lexer": "ipython3",
   "version": "3.12.2"
  }
 },
 "nbformat": 4,
 "nbformat_minor": 2
}
