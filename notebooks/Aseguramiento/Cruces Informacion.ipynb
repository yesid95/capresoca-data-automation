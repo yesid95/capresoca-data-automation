{
 "cells": [
  {
   "cell_type": "markdown",
   "id": "f835decd",
   "metadata": {},
   "source": [
    "# Librerias"
   ]
  },
  {
   "cell_type": "code",
   "execution_count": null,
   "id": "589ef8af",
   "metadata": {},
   "outputs": [],
   "source": [
    "import pandas as pd\n",
    "import os\n",
    "from pathlib import Path\n",
    "import sys\n",
    "import re\n",
    "\n",
    "# Añadir la carpeta raíz del proyecto a sys.path\n",
    "sys.path.append(os.path.abspath(\"c:/Users/osmarrincon/Documents/capresoca-data-automation\"))\n",
    "#sys.path.append(os.path.abspath(\"D:\\Proyectos Python\\capresoca-data-automation\"))\n",
    "\n",
    "from src.file_loader import cargar_maestros_ADRES"
   ]
  },
  {
   "cell_type": "markdown",
   "id": "29d49f9f",
   "metadata": {},
   "source": [
    "# rutas"
   ]
  },
  {
   "cell_type": "code",
   "execution_count": null,
   "id": "c133a747",
   "metadata": {},
   "outputs": [],
   "source": [
    "R_bd = r\"C:\\Users\\osmarrincon\\OneDrive - 891856000_CAPRESOCA E P S\\Escritorio\\Yesid Rincón Z\\informes\\2025\\CTO135.2025 Informe  #9\\ACTIVIDAD 14\\Estelita\\EXCEL.xlsx\"\n",
    "\n",
    "R_MS_SIE = r\"C:\\Users\\osmarrincon\\OneDrive - uniminuto.edu\\Capresoca\\AlmostClear\\SIE\\Aseguramiento\\ms_sie\\Reporte_Validación Archivos Maestro_2025_08_22.csv\"\n",
    "R_MS_EPS025 = r\"C:\\Users\\osmarrincon\\OneDrive - uniminuto.edu\\Capresoca\\AlmostClear\\Procesos BDUA\\Subsidiados\\Maestro\\MS\\2025-02\\EPS025MS0020082025.TXT\"\n",
    "R_MS_EPSC25 = r\"C:\\Users\\osmarrincon\\OneDrive - uniminuto.edu\\Capresoca\\AlmostClear\\Procesos BDUA\\Contributivo\\Maestro\\2025-2\\EPSC25MC0020082025.TXT\"\n",
    "R_pila_3047 = r\"C:\\Users\\osmarrincon\\OneDrive - uniminuto.edu\\Capresoca\\AlmostClear\\Procesos BDUA\\Contributivo\\Compensación\\Pila consiliada ADRES\\Pila_Unificado_Con_Aportante_2018_2025.TXT\""
   ]
  },
  {
   "cell_type": "markdown",
   "id": "b098e28b",
   "metadata": {},
   "source": [
    "# Dataframes"
   ]
  },
  {
   "cell_type": "code",
   "execution_count": null,
   "id": "eb19a60f",
   "metadata": {},
   "outputs": [],
   "source": [
    "# Cargar y combinar los maestros\n",
    "maestro_ADRES = cargar_maestros_ADRES(R_MS_EPS025, R_MS_EPSC25)\n",
    "# Carga Maestro SIE\n",
    "df_sie = pd.read_csv(R_MS_SIE, sep=';', dtype=str, header=0, encoding='ANSI')\n",
    "Pila_3047 = pd.read_csv(R_pila_3047, sep=',', dtype=str, header=0, encoding='UTF-16')\n",
    "\n",
    "# Base de datos Excel \n",
    "df_bd = pd.read_excel(R_bd, sheet_name=\"Hoja1\", header=0, dtype=str)"
   ]
  },
  {
   "cell_type": "markdown",
   "id": "ac2176e0",
   "metadata": {},
   "source": [
    "# Limpiar datos"
   ]
  },
  {
   "cell_type": "code",
   "execution_count": null,
   "id": "8fee8f6a",
   "metadata": {},
   "outputs": [],
   "source": [
    "Pila_3047.columns"
   ]
  },
  {
   "cell_type": "code",
   "execution_count": null,
   "id": "24adc7a8",
   "metadata": {
    "vscode": {
     "languageId": "ruby"
    }
   },
   "outputs": [],
   "source": [
    "# Contar las combinaciones más frecuentes de Tipo_doc_cotizante y doc_cotizante\n",
    "mas_repetido = Pila_3047.groupby(['Tipo_doc_cotizante', 'doc_cotizante']).size().reset_index(name='conteo').sort_values('conteo', ascending=False).iloc[0]\n",
    "\n",
    "# Filtrar el dataframe para mostrar todos los registros con ese id\n",
    "registro_mas_repetido = Pila_3047[\n",
    "    (Pila_3047['Tipo_doc_cotizante'] == mas_repetido['Tipo_doc_cotizante']) &\n",
    "    (Pila_3047['doc_cotizante'] == mas_repetido['doc_cotizante'])\n",
    "]"
   ]
  },
  {
   "cell_type": "code",
   "execution_count": null,
   "id": "24cdbe63",
   "metadata": {},
   "outputs": [],
   "source": [
    "# Convertir 'perido_pago_del_aportante' a datetime para comparar fechas\n",
    "Pila_3047['perido_pago_del_aportante'] = pd.to_datetime(Pila_3047['perido_pago_del_aportante'], format='%Y-%m')\n",
    "\n",
    "# Ordenar por identificadores y fecha descendente\n",
    "Pila_3047 = Pila_3047.sort_values(['Tipo_doc_cotizante', 'doc_cotizante', 'perido_pago_del_aportante'], ascending=[True, True, False])\n",
    "\n",
    "# Dejar solo el registro más reciente por cada id\n",
    "Pila_3047 = Pila_3047.drop_duplicates(subset=['Tipo_doc_cotizante', 'doc_cotizante'], keep='first')\n",
    "\n",
    "# Si quieres mantener el formato original de la fecha:\n",
    "Pila_3047['perido_pago_del_aportante'] = Pila_3047['perido_pago_del_aportante'].dt.strftime('%Y-%m')"
   ]
  },
  {
   "cell_type": "code",
   "execution_count": null,
   "id": "ff8a650e",
   "metadata": {},
   "outputs": [],
   "source": [
    "print(Pila_3047[(Pila_3047['Tipo_doc_cotizante'] == 'CC') & (Pila_3047['doc_cotizante'] == '1007539785')])"
   ]
  },
  {
   "cell_type": "markdown",
   "id": "42fab92d",
   "metadata": {},
   "source": [
    "# Cruce base de datos"
   ]
  },
  {
   "cell_type": "code",
   "execution_count": null,
   "id": "86bbe5a5",
   "metadata": {},
   "outputs": [],
   "source": [
    "df_bd.columns"
   ]
  },
  {
   "cell_type": "code",
   "execution_count": null,
   "id": "ef540b7c",
   "metadata": {},
   "outputs": [],
   "source": [
    "Pila_3047.columns"
   ]
  },
  {
   "cell_type": "code",
   "execution_count": null,
   "id": "be258f89",
   "metadata": {},
   "outputs": [],
   "source": [
    "# Crear un diccionario para mapear los valores desde Pila_3047\n",
    "map_razon = dict(zip(Pila_3047['doc_cotizante'], Pila_3047['Razon_Soacial']))\n",
    "map_ibc = dict(zip(Pila_3047['doc_cotizante'], Pila_3047['ibc']))\n",
    "\n",
    "# Asignar los valores al dataframe df_bd\n",
    "df_bd['Nombre de empleador o  contratante'] = df_bd['Número Documento'].map(map_razon)\n",
    "df_bd['Ingreso Base de Cotización'] = df_bd['Número Documento'].map(map_ibc)"
   ]
  },
  {
   "cell_type": "code",
   "execution_count": null,
   "id": "f9f1fbb9",
   "metadata": {
    "vscode": {
     "languageId": "ruby"
    }
   },
   "outputs": [],
   "source": [
    "# Hacer un merge temporal para transferir los datos de contacto de df_sie a df_bd\n",
    "df_bd = df_bd.merge(\n",
    "    df_sie[['numero_identificacion', 'celular', 'direccion', 'municipio', 'correo_electronico']],\n",
    "    how='left',\n",
    "    left_on='Número Documento',\n",
    "    right_on='numero_identificacion'\n",
    ")\n",
    "\n",
    "# Asignar los valores a las columnas correspondientes en df_bd\n",
    "df_bd['Teléfono'] = df_bd['celular']\n",
    "df_bd['Dirección de Residencia'] = df_bd['direccion']\n",
    "df_bd['Ciudad'] = df_bd['municipio']\n",
    "df_bd['Correo electrónico'] = df_bd['correo_electronico']\n",
    "\n",
    "# Eliminar columnas auxiliares del merge\n",
    "df_bd = df_bd.drop(columns=['numero_identificacion', 'celular', 'direccion', 'municipio', 'correo_electronico'])"
   ]
  },
  {
   "cell_type": "code",
   "execution_count": null,
   "id": "f6213237",
   "metadata": {
    "vscode": {
     "languageId": "ruby"
    }
   },
   "outputs": [],
   "source": [
    "# Crear un diccionario para mapear los valores desde maestro_ADRES\n",
    "map_estado = dict(zip(maestro_ADRES['HST_IDN_NUMERO_IDENTIFICACION'], maestro_ADRES['TPS_EST_AFL_ID']))\n",
    "map_eps = dict(zip(maestro_ADRES['HST_IDN_NUMERO_IDENTIFICACION'], maestro_ADRES['ENT_ID']))\n",
    "\n",
    "# Asignar los valores al dataframe df_bd\n",
    "df_bd['Estado de Afiliación'] = df_bd['Número Documento'].map(map_estado).fillna('Registro no existe o en otra EPS')\n",
    "df_bd['EPS'] = df_bd['Número Documento'].map(map_eps).fillna('Registro no existe o en otra EPS')"
   ]
  },
  {
   "cell_type": "code",
   "execution_count": null,
   "id": "04e2215f",
   "metadata": {},
   "outputs": [],
   "source": [
    "with pd.ExcelWriter(R_bd, engine='openpyxl', mode='a', if_sheet_exists='replace') as writer:\n",
    "    df_bd.to_excel(writer, sheet_name='Df_Resultado', index=False)"
   ]
  }
 ],
 "metadata": {
  "kernelspec": {
   "display_name": "venv",
   "language": "python",
   "name": "python3"
  },
  "language_info": {
   "codemirror_mode": {
    "name": "ipython",
    "version": 3
   },
   "file_extension": ".py",
   "mimetype": "text/x-python",
   "name": "python",
   "nbconvert_exporter": "python",
   "pygments_lexer": "ipython3",
   "version": "3.12.2"
  }
 },
 "nbformat": 4,
 "nbformat_minor": 5
}
