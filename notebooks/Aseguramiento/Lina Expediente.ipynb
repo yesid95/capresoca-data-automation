{
 "cells": [
  {
   "cell_type": "code",
   "execution_count": null,
   "id": "b3e13b1f",
   "metadata": {},
   "outputs": [],
   "source": []
  }
 ],
 "metadata": {
  "language_info": {
   "name": "python"
  }
 },
 "nbformat": 4,
 "nbformat_minor": 5
}
