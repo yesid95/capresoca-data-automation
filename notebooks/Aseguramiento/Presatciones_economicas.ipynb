{
 "cells": [
  {
   "cell_type": "markdown",
   "id": "f9eccce0",
   "metadata": {},
   "source": [
    "# Librerias"
   ]
  },
  {
   "cell_type": "code",
   "execution_count": null,
   "id": "dec2587f",
   "metadata": {},
   "outputs": [],
   "source": [
    "import pandas as pd\n",
    "import openpyxl"
   ]
  },
  {
   "cell_type": "markdown",
   "id": "ca98965a",
   "metadata": {},
   "source": [
    "# Rutas y variables"
   ]
  },
  {
   "cell_type": "code",
   "execution_count": null,
   "id": "f1bd717e",
   "metadata": {},
   "outputs": [],
   "source": [
    "R_Excel = r\"C:\\Users\\osmarrincon\\OneDrive - 891856000_CAPRESOCA E P S\\Escritorio\\Yesid Rincón Z\\informes\\2025\\CTO135.2025 Informe  #6\\ACTIVIDAD 14\\Presatciones economicas\\BASE UNICA DE INCAPACIDADES.xlsx\"\n",
    "H_Incapacidades = \"BASE DE DATOS INCAPACIDADES\""
   ]
  },
  {
   "cell_type": "markdown",
   "id": "2ed6687a",
   "metadata": {},
   "source": [
    "# Cargue archivos"
   ]
  },
  {
   "cell_type": "code",
   "execution_count": null,
   "id": "679e1298",
   "metadata": {},
   "outputs": [],
   "source": [
    "# 1.1 Lee la hoja de incapacidades del Excel\n",
    "df = pd.read_excel(R_Excel, sheet_name=H_Incapacidades, dtype=str)\n",
    "print(df.columns)    # nombres de las columnas"
   ]
  },
  {
   "cell_type": "code",
   "execution_count": null,
   "id": "afda4647",
   "metadata": {},
   "outputs": [],
   "source": []
  }
 ],
 "metadata": {
  "kernelspec": {
   "display_name": "venv",
   "language": "python",
   "name": "python3"
  },
  "language_info": {
   "codemirror_mode": {
    "name": "ipython",
    "version": 3
   },
   "file_extension": ".py",
   "mimetype": "text/x-python",
   "name": "python",
   "nbconvert_exporter": "python",
   "pygments_lexer": "ipython3",
   "version": "3.12.2"
  }
 },
 "nbformat": 4,
 "nbformat_minor": 5
}
