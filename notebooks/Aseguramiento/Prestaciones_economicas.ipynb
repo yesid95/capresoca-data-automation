{
 "cells": [
  {
   "cell_type": "markdown",
   "id": "f9eccce0",
   "metadata": {},
   "source": [
    "# 📑 1. Carga y limpieza inicial\n",
    "1. Importar librerías"
   ]
  },
  {
   "cell_type": "code",
   "execution_count": 1,
   "id": "26f286ae",
   "metadata": {},
   "outputs": [],
   "source": [
    "import pandas as pd\n",
    "import numpy as np\n",
    "import matplotlib.pyplot as plt\n",
    "import seaborn as sns"
   ]
  },
  {
   "cell_type": "markdown",
   "id": "ca98965a",
   "metadata": {},
   "source": [
    "2. Rutas y variables"
   ]
  },
  {
   "cell_type": "code",
   "execution_count": 2,
   "id": "f1bd717e",
   "metadata": {},
   "outputs": [],
   "source": [
    "R_Excel = r\"C:\\Users\\osmarrincon\\OneDrive - 891856000_CAPRESOCA E P S\\Escritorio\\Yesid Rincón Z\\informes\\2025\\CTO135.2025 Informe  #6\\ACTIVIDAD 14\\Presatciones economicas\\Limpia BASE UNICA PRESTACIONES ECONOMICAS.xlsx\"\n",
    "H_Incapacidades = \"2023,2024,2025\""
   ]
  },
  {
   "cell_type": "markdown",
   "id": "2ed6687a",
   "metadata": {},
   "source": [
    "3. Leer el DataFrame"
   ]
  },
  {
   "cell_type": "code",
   "execution_count": 3,
   "id": "679e1298",
   "metadata": {},
   "outputs": [],
   "source": [
    "# 1.1 Lee la hoja de incapacidades del Excel\n",
    "df_Incapacidades = pd.read_excel(R_Excel, sheet_name=H_Incapacidades, dtype=str)"
   ]
  },
  {
   "cell_type": "markdown",
   "id": "f6ba5633",
   "metadata": {},
   "source": [
    "4. Revisión rápida"
   ]
  },
  {
   "cell_type": "code",
   "execution_count": 4,
   "id": "d5a359b0",
   "metadata": {},
   "outputs": [
    {
     "name": "stdout",
     "output_type": "stream",
     "text": [
      "Número de registros: 4689\n",
      "Número de columnas: 68\n"
     ]
    }
   ],
   "source": [
    "num_registros, num_columnas = df_Incapacidades.shape\n",
    "print(f\"Número de registros: {num_registros}\")\n",
    "print(f\"Número de columnas: {num_columnas}\")"
   ]
  },
  {
   "cell_type": "code",
   "execution_count": 5,
   "id": "d3a30137",
   "metadata": {},
   "outputs": [
    {
     "data": {
      "text/plain": [
       "Index(['Consecutivo', 'Año de Radicado', 'Mes de Radicado',\n",
       "       'Numero Consecutivo', 'Modo de Radicacion', 'Tipo_Doc_Empleador',\n",
       "       'Numero de Documentos del empelador', 'Nombre de la Emprea',\n",
       "       'Correo electronico ', 'Serial BDUA Cotizante', 'Tipo_Doc_Cotizante',\n",
       "       'N_Doc_Cotizante', 'Nombre del Cotizante', 'Fecha Nacimiento',\n",
       "       'Municipio', 'Tipo de Afiliado', 'Tipo de Cotizante',\n",
       "       'Identificacion de la Incapacidad', 'Tipo de Incapacidad', 'CIE 10',\n",
       "       'Covid', 'ACCIDENTE DE TRANSITO', 'ACCIDENTE LABORAL',\n",
       "       'Detalle de la Incapacidad', 'Fecha de Inicio Incapacidad',\n",
       "       'Fecha final Incapacidad', 'Dias con Prorroga ', 'Salario o IBC',\n",
       "       'Fecha de Radicado', 'Estado de la Incapacidad', 'Fecha de pago',\n",
       "       'Dias Incapacidad', 'Dias Reconocidos EPS', 'Dias Pagos Empleador',\n",
       "       'Tipo de Pago', 'Valor de la Reserva', 'Valor Pagado',\n",
       "       'Valor con Varios Pagos', 'Comprobante de Egreso',\n",
       "       'Valor de Pagos Pendientes', 'Tipo Doc Medico', 'Numero Doc Medico',\n",
       "       'Nombres y Apellidos del Medico', 'Codico de Habilitacion IPS',\n",
       "       'Nombre de la IPS', 'Fecha entrega para Liquidacion', 'Liquidacion',\n",
       "       'Certificacio Liquidacion', 'Salida Solicitud de CDP', 'Entrega de CDP',\n",
       "       'Solicitud Resolucion Juridica', 'Entrega de RP',\n",
       "       'relacion para contabilidad', 'Pasa a Contabilidad', 'Cierre contable',\n",
       "       'Entrega de cuentas causadas', 'Relacion entrega tesoreria',\n",
       "       'Pasa a tesoreria', 'Fecha de entrega de Fichero',\n",
       "       'Notificacion  Terceros', 'observaciones', 'fecha solicitud CR',\n",
       "       'Fecha Notificacion CR', 'fecha solicitud CO',\n",
       "       'Fecha Notificacion DEL PAGO', 'enviado adres', 'fecha de envio adres',\n",
       "       'REVISADO POR LA IPS'],\n",
       "      dtype='object')"
      ]
     },
     "execution_count": 5,
     "metadata": {},
     "output_type": "execute_result"
    }
   ],
   "source": [
    "df_Incapacidades.columns   # nombres de las columnas"
   ]
  },
  {
   "cell_type": "code",
   "execution_count": 6,
   "id": "375c914c",
   "metadata": {},
   "outputs": [
    {
     "data": {
      "text/plain": [
       "(4689, 68)"
      ]
     },
     "execution_count": 6,
     "metadata": {},
     "output_type": "execute_result"
    }
   ],
   "source": [
    "df_Incapacidades.shape"
   ]
  },
  {
   "cell_type": "code",
   "execution_count": 7,
   "id": "50f80cda",
   "metadata": {},
   "outputs": [
    {
     "data": {
      "application/vnd.microsoft.datawrangler.viewer.v0+json": {
       "columns": [
        {
         "name": "index",
         "rawType": "object",
         "type": "string"
        },
        {
         "name": "0",
         "rawType": "object",
         "type": "unknown"
        }
       ],
       "ref": "6be305ee-91c0-4bd6-92c8-bce2db4a2981",
       "rows": [
        [
         "Consecutivo",
         "object"
        ],
        [
         "Año de Radicado",
         "object"
        ],
        [
         "Mes de Radicado",
         "object"
        ],
        [
         "Numero Consecutivo",
         "object"
        ],
        [
         "Modo de Radicacion",
         "object"
        ],
        [
         "Tipo_Doc_Empleador",
         "object"
        ],
        [
         "Numero de Documentos del empelador",
         "object"
        ],
        [
         "Nombre de la Emprea",
         "object"
        ],
        [
         "Correo electronico ",
         "object"
        ],
        [
         "Serial BDUA Cotizante",
         "object"
        ],
        [
         "Tipo_Doc_Cotizante",
         "object"
        ],
        [
         "N_Doc_Cotizante",
         "object"
        ],
        [
         "Nombre del Cotizante",
         "object"
        ],
        [
         "Fecha Nacimiento",
         "object"
        ],
        [
         "Municipio",
         "object"
        ],
        [
         "Tipo de Afiliado",
         "object"
        ],
        [
         "Tipo de Cotizante",
         "object"
        ],
        [
         "Identificacion de la Incapacidad",
         "object"
        ],
        [
         "Tipo de Incapacidad",
         "object"
        ],
        [
         "CIE 10",
         "object"
        ],
        [
         "Covid",
         "object"
        ],
        [
         "ACCIDENTE DE TRANSITO",
         "object"
        ],
        [
         "ACCIDENTE LABORAL",
         "object"
        ],
        [
         "Detalle de la Incapacidad",
         "object"
        ],
        [
         "Fecha de Inicio Incapacidad",
         "object"
        ],
        [
         "Fecha final Incapacidad",
         "object"
        ],
        [
         "Dias con Prorroga ",
         "object"
        ],
        [
         "Salario o IBC",
         "object"
        ],
        [
         "Fecha de Radicado",
         "object"
        ],
        [
         "Estado de la Incapacidad",
         "object"
        ],
        [
         "Fecha de pago",
         "object"
        ],
        [
         "Dias Incapacidad",
         "object"
        ],
        [
         "Dias Reconocidos EPS",
         "object"
        ],
        [
         "Dias Pagos Empleador",
         "object"
        ],
        [
         "Tipo de Pago",
         "object"
        ],
        [
         "Valor de la Reserva",
         "object"
        ],
        [
         "Valor Pagado",
         "object"
        ],
        [
         "Valor con Varios Pagos",
         "object"
        ],
        [
         "Comprobante de Egreso",
         "object"
        ],
        [
         "Valor de Pagos Pendientes",
         "object"
        ],
        [
         "Tipo Doc Medico",
         "object"
        ],
        [
         "Numero Doc Medico",
         "object"
        ],
        [
         "Nombres y Apellidos del Medico",
         "object"
        ],
        [
         "Codico de Habilitacion IPS",
         "object"
        ],
        [
         "Nombre de la IPS",
         "object"
        ],
        [
         "Fecha entrega para Liquidacion",
         "object"
        ],
        [
         "Liquidacion",
         "object"
        ],
        [
         "Certificacio Liquidacion",
         "object"
        ],
        [
         "Salida Solicitud de CDP",
         "object"
        ],
        [
         "Entrega de CDP",
         "object"
        ]
       ],
       "shape": {
        "columns": 1,
        "rows": 68
       }
      },
      "text/plain": [
       "Consecutivo                    object\n",
       "Año de Radicado                object\n",
       "Mes de Radicado                object\n",
       "Numero Consecutivo             object\n",
       "Modo de Radicacion             object\n",
       "                                ...  \n",
       "fecha solicitud CO             object\n",
       "Fecha Notificacion DEL PAGO    object\n",
       "enviado adres                  object\n",
       "fecha de envio adres           object\n",
       "REVISADO POR LA IPS            object\n",
       "Length: 68, dtype: object"
      ]
     },
     "execution_count": 7,
     "metadata": {},
     "output_type": "execute_result"
    }
   ],
   "source": [
    "df_Incapacidades.dtypes"
   ]
  },
  {
   "cell_type": "code",
   "execution_count": 8,
   "id": "afa2455c",
   "metadata": {},
   "outputs": [
    {
     "data": {
      "application/vnd.microsoft.datawrangler.viewer.v0+json": {
       "columns": [
        {
         "name": "index",
         "rawType": "object",
         "type": "string"
        },
        {
         "name": "0",
         "rawType": "float64",
         "type": "float"
        }
       ],
       "ref": "fa89639d-b2dd-42fc-8e3f-8078ff9847ec",
       "rows": [
        [
         "REVISADO POR LA IPS",
         "0.9980806142034548"
        ],
        [
         "fecha solicitud CO",
         "0.9688632970782682"
        ],
        [
         "Fecha Notificacion DEL PAGO",
         "0.9684367669012582"
        ],
        [
         "Fecha de entrega de Fichero",
         "0.9488163787587972"
        ],
        [
         "fecha solicitud CR",
         "0.9306888462358712"
        ],
        [
         "Fecha Notificacion CR",
         "0.9189592663680956"
        ],
        [
         "Cierre contable",
         "0.8208573256557902"
        ],
        [
         "observaciones",
         "0.7184900831733845"
        ],
        [
         "fecha de envio adres",
         "0.5856259330347622"
        ],
        [
         "enviado adres",
         "0.581360631264662"
        ],
        [
         "Notificacion  Terceros",
         "0.5602473875026658"
        ],
        [
         "ACCIDENTE LABORAL",
         "0.41181488590317766"
        ],
        [
         "ACCIDENTE DE TRANSITO",
         "0.39304755811473663"
        ],
        [
         "Pasa a tesoreria",
         "0.22819364470036255"
        ],
        [
         "Entrega de cuentas causadas",
         "0.2162507997440819"
        ],
        [
         "Relacion entrega tesoreria",
         "0.21518447430155682"
        ],
        [
         "relacion para contabilidad",
         "0.19833653230966092"
        ],
        [
         "Entrega de RP",
         "0.1962038814246108"
        ],
        [
         "Pasa a Contabilidad",
         "0.1962038814246108"
        ],
        [
         "Entrega de CDP",
         "0.19001919385796545"
        ],
        [
         "Solicitud Resolucion Juridica",
         "0.19001919385796545"
        ],
        [
         "Certificacio Liquidacion",
         "0.18298144593730006"
        ],
        [
         "Liquidacion",
         "0.17914267434420986"
        ],
        [
         "Salida Solicitud de CDP",
         "0.17871614416719983"
        ],
        [
         "Correo electronico ",
         "0.042439752612497335"
        ],
        [
         "Salario o IBC",
         "0.02495201535508637"
        ],
        [
         "Tipo de Cotizante",
         "0.02068671358498614"
        ],
        [
         "Fecha entrega para Liquidacion",
         "0.01962038814246108"
        ],
        [
         "Modo de Radicacion",
         "0.006611217743655364"
        ],
        [
         "Numero Consecutivo",
         "0.006611217743655364"
        ],
        [
         "Serial BDUA Cotizante",
         "0.005971422478140328"
        ],
        [
         "Codico de Habilitacion IPS",
         "0.0042653017701002344"
        ],
        [
         "Valor con Varios Pagos",
         "0.002985711239070164"
        ],
        [
         "Numero Doc Medico",
         "0.002345915973555129"
        ],
        [
         "Dias con Prorroga ",
         "0.001492855619535082"
        ],
        [
         "Detalle de la Incapacidad",
         "0.0010663254425250586"
        ],
        [
         "CIE 10",
         "0.0008530603540200469"
        ],
        [
         "Comprobante de Egreso",
         "0.0008530603540200469"
        ],
        [
         "Valor de Pagos Pendientes",
         "0.0008530603540200469"
        ],
        [
         "Nombres y Apellidos del Medico",
         "0.0006397952655150352"
        ],
        [
         "Fecha Nacimiento",
         "0.00042653017701002344"
        ],
        [
         "Nombre de la IPS",
         "0.00042653017701002344"
        ],
        [
         "Municipio",
         "0.00042653017701002344"
        ],
        [
         "Covid",
         "0.00042653017701002344"
        ],
        [
         "Tipo Doc Medico",
         "0.00021326508850501172"
        ],
        [
         "Identificacion de la Incapacidad",
         "0.00021326508850501172"
        ],
        [
         "Fecha de Radicado",
         "0.00021326508850501172"
        ],
        [
         "Tipo de Incapacidad",
         "0.00021326508850501172"
        ],
        [
         "N_Doc_Cotizante",
         "0.00021326508850501172"
        ],
        [
         "Valor de la Reserva",
         "0.00021326508850501172"
        ]
       ],
       "shape": {
        "columns": 1,
        "rows": 68
       }
      },
      "text/plain": [
       "REVISADO POR LA IPS            0.998081\n",
       "fecha solicitud CO             0.968863\n",
       "Fecha Notificacion DEL PAGO    0.968437\n",
       "Fecha de entrega de Fichero    0.948816\n",
       "fecha solicitud CR             0.930689\n",
       "                                 ...   \n",
       "Nombre de la Emprea            0.000000\n",
       "Tipo de Afiliado               0.000000\n",
       "Nombre del Cotizante           0.000000\n",
       "Fecha final Incapacidad        0.000000\n",
       "Valor Pagado                   0.000000\n",
       "Length: 68, dtype: float64"
      ]
     },
     "execution_count": 8,
     "metadata": {},
     "output_type": "execute_result"
    }
   ],
   "source": [
    "df_Incapacidades.isna().mean().sort_values(ascending=False)"
   ]
  },
  {
   "cell_type": "markdown",
   "id": "4b44071b",
   "metadata": {},
   "source": [
    "# 🎯 2. Objetivos Analíticos Clave\n",
    "En el contexto de Capresoca EPS, podemos formular las siguientes preguntas orientadoras:\n",
    "\n",
    "🧍‍♂️ Afiliados con incapacidades frecuentes: ¿Hay personas con muchas incapacidades en el año?\n",
    "\n",
    "🧬 Patrón en diagnósticos CIE 10: ¿Qué diagnósticos se repiten más?\n",
    "\n",
    "🏥 IPS con concentración anómala: ¿Alguna IPS genera más incapacidades de lo esperado?\n",
    "\n",
    "🏢 Empresas con recurrencia elevada: ¿Empresas que repiten incapacidades en muchos empleados?\n",
    "\n",
    "📆 Duraciones atípicas: ¿Hay incapacidades de duración excesiva o sospechosa?\n",
    "\n",
    "💰 Impacto financiero: ¿Cuánto ha pagado Capresoca por incapacidades? ¿Quiénes son los mayores receptores?\n",
    "\n"
   ]
  },
  {
   "cell_type": "code",
   "execution_count": 9,
   "id": "afda4647",
   "metadata": {},
   "outputs": [],
   "source": [
    "# Seleccionar columnas clave\n",
    "columnas_clave = [\n",
    "    'Numero de Documentos del empelador',\n",
    "    'Nombre de la Emprea',\n",
    "    'Serial BDUA Cotizante',\n",
    "    'Tipo_Doc_Cotizante',\n",
    "    'N_Doc_Cotizante',\n",
    "    'Nombre del Cotizante',\n",
    "    'Fecha Nacimiento',\n",
    "    'Municipio',\n",
    "    'Tipo de Afiliado',\n",
    "    'Tipo de Incapacidad',\n",
    "    'CIE 10',\n",
    "    'Detalle de la Incapacidad',\n",
    "    'Fecha de Inicio Incapacidad',\n",
    "    'Fecha de Radicado',\n",
    "    'Estado de la Incapacidad',\n",
    "    'Fecha de pago',\n",
    "    'Dias Incapacidad',\n",
    "    'Dias Reconocidos EPS',\n",
    "    'Dias Pagos Empleador',\n",
    "    'Tipo de Pago',\n",
    "    'Valor Pagado',\n",
    "    'Numero Doc Medico',\n",
    "    'Nombres y Apellidos del Medico',\n",
    "    'Codico de Habilitacion IPS',\n",
    "    'Nombre de la IPS'\n",
    "]\n",
    "df_incapacidades_clave = df_Incapacidades[columnas_clave].copy()"
   ]
  },
  {
   "cell_type": "markdown",
   "id": "8b17a3ad",
   "metadata": {},
   "source": [
    "## 📊 2.1. Análisis descriptivo general\n",
    "permitirá entender el volumen, frecuencia y variabilidad de los datos:"
   ]
  },
  {
   "cell_type": "code",
   "execution_count": 10,
   "id": "1194c2cc",
   "metadata": {},
   "outputs": [
    {
     "name": "stdout",
     "output_type": "stream",
     "text": [
      "       Dias Incapacidad Dias Reconocidos EPS Dias Pagos Empleador Valor Pagado\n",
      "count              4689                 4689                 4689         4689\n",
      "unique               43                   38                    4         1060\n",
      "top                   3                    0                    0            0\n",
      "freq                955                  824                 2449          824\n"
     ]
    },
    {
     "data": {
      "application/vnd.microsoft.datawrangler.viewer.v0+json": {
       "columns": [
        {
         "name": "Estado de la Incapacidad",
         "rawType": "object",
         "type": "string"
        },
        {
         "name": "count",
         "rawType": "int64",
         "type": "integer"
        }
       ],
       "ref": "5f9c0683-99b6-44b9-a725-4dd9253395b9",
       "rows": [
        [
         "PAGADA",
         "3658"
        ],
        [
         "NEGADO",
         "824"
        ],
        [
         "RESERVA",
         "207"
        ]
       ],
       "shape": {
        "columns": 1,
        "rows": 3
       }
      },
      "text/plain": [
       "Estado de la Incapacidad\n",
       "PAGADA     3658\n",
       "NEGADO      824\n",
       "RESERVA     207\n",
       "Name: count, dtype: int64"
      ]
     },
     "execution_count": 10,
     "metadata": {},
     "output_type": "execute_result"
    }
   ],
   "source": [
    "# Estadísticas descriptivas para variables numéricas\n",
    "print(df_incapacidades_clave[['Dias Incapacidad', 'Dias Reconocidos EPS', 'Dias Pagos Empleador', 'Valor Pagado']].describe())\n",
    "\n",
    "# Conteo por estado\n",
    "df_incapacidades_clave['Estado de la Incapacidad'].value_counts()\n"
   ]
  },
  {
   "cell_type": "markdown",
   "id": "5de1ed90",
   "metadata": {},
   "source": [
    "### 🧠 Hallazgos Clave – Análisis descriptivo general\n",
    "\n",
    "- Se analizaron un total de **4.689 registros de incapacidades**, distribuidos en:\n",
    "  - **PAGADA**: 3.658 (78%)\n",
    "  - **NEGADO**: 824 (17.6%)\n",
    "  - **RESERVA**: 207 (4.4%)\n",
    "\n",
    "- En las variables numéricas clave:\n",
    "  - `Dias Incapacidad` presenta **43 valores distintos**, con una moda de 3 días (955 registros), lo que evidencia una alta frecuencia de incapacidades de corta duración.\n",
    "  - `Dias Reconocidos EPS` tiene 38 valores únicos, con **cero como valor más frecuente** (824 casos), reflejando con precisión los casos **NEGADOS sin reconocimiento económico**.\n",
    "  - `Dias Pagos Empleador` muestra que **más del 52% de las incapacidades no implican pago del empleador** (moda = 0, 2.449 registros).\n",
    "  - `Valor Pagado` tiene 1.060 valores únicos, siendo **cero el valor más común**, también asociado a registros NEGADOS. Esto se depuró correctamente tras la validación técnica.\n",
    "\n",
    "> 🔍 **Nota técnica:** La moda en `Valor Pagado` y `Dias Reconocidos EPS` (ambas = 0) se asocia exclusivamente a incapacidades **NEGADAS**, lo cual **es coherente con la lógica operativa** del sistema. Estos ceros fueron imputados de forma segura durante el proceso de limpieza.\n",
    "\n",
    "> ✅ Este resumen permite garantizar que la base está lista para análisis exploratorios más profundos como análisis por cotizante, IPS, diagnóstico o impacto económico.\n"
   ]
  },
  {
   "cell_type": "markdown",
   "id": "ec1cdae8",
   "metadata": {},
   "source": [
    "### 2.1.1. Resumen estadístico de variables numéricas\n",
    "Este bloque incluye:\n",
    "1. Conversión segura a numérico.\n",
    "2. Estadísticas globales.\n",
    "3. Valores faltantes.\n",
    "4. Estadísticas por grupo (Estado de la Incapacidad).\n",
    "5. Comentarios técnicos claros para mantenimiento o revisión."
   ]
  },
  {
   "cell_type": "code",
   "execution_count": 11,
   "id": "c3fbccac",
   "metadata": {},
   "outputs": [
    {
     "name": "stdout",
     "output_type": "stream",
     "text": [
      "📊 Resumen estadístico general:\n"
     ]
    },
    {
     "data": {
      "application/vnd.microsoft.datawrangler.viewer.v0+json": {
       "columns": [
        {
         "name": "index",
         "rawType": "object",
         "type": "string"
        },
        {
         "name": "count",
         "rawType": "float64",
         "type": "float"
        },
        {
         "name": "mean",
         "rawType": "float64",
         "type": "float"
        },
        {
         "name": "std",
         "rawType": "float64",
         "type": "float"
        },
        {
         "name": "min",
         "rawType": "float64",
         "type": "float"
        },
        {
         "name": "25%",
         "rawType": "float64",
         "type": "float"
        },
        {
         "name": "50%",
         "rawType": "float64",
         "type": "float"
        },
        {
         "name": "75%",
         "rawType": "float64",
         "type": "float"
        },
        {
         "name": "max",
         "rawType": "float64",
         "type": "float"
        },
        {
         "name": "missing",
         "rawType": "int64",
         "type": "integer"
        },
        {
         "name": "% missing",
         "rawType": "float64",
         "type": "float"
        }
       ],
       "ref": "80b0db2e-208e-4f2c-927c-433fe3fa62c8",
       "rows": [
        [
         "Dias Incapacidad",
         "4689.0",
         "12.460226060993815",
         "10.518418269925567",
         "0.0",
         "4.0",
         "8.0",
         "20.0",
         "90.0",
         "0",
         "0.0"
        ],
        [
         "Dias Reconocidos EPS",
         "4689.0",
         "9.279803796118575",
         "10.58539242191809",
         "0.0",
         "1.0",
         "5.0",
         "15.0",
         "85.0",
         "0",
         "0.0"
        ],
        [
         "Dias Pagos Empleador",
         "4689.0",
         "0.9579867775645127",
         "1.0146877194062551",
         "0.0",
         "0.0",
         "0.0",
         "2.0",
         "13.0",
         "0",
         "0.0"
        ],
        [
         "Valor Pagado",
         "4689.0",
         "428049.83653780835",
         "542493.9272203371",
         "0.0",
         "43333.0",
         "193335.0",
         "650000.0",
         "6908797.0",
         "0",
         "0.0"
        ]
       ],
       "shape": {
        "columns": 10,
        "rows": 4
       }
      },
      "text/html": [
       "<div>\n",
       "<style scoped>\n",
       "    .dataframe tbody tr th:only-of-type {\n",
       "        vertical-align: middle;\n",
       "    }\n",
       "\n",
       "    .dataframe tbody tr th {\n",
       "        vertical-align: top;\n",
       "    }\n",
       "\n",
       "    .dataframe thead th {\n",
       "        text-align: right;\n",
       "    }\n",
       "</style>\n",
       "<table border=\"1\" class=\"dataframe\">\n",
       "  <thead>\n",
       "    <tr style=\"text-align: right;\">\n",
       "      <th></th>\n",
       "      <th>count</th>\n",
       "      <th>mean</th>\n",
       "      <th>std</th>\n",
       "      <th>min</th>\n",
       "      <th>25%</th>\n",
       "      <th>50%</th>\n",
       "      <th>75%</th>\n",
       "      <th>max</th>\n",
       "      <th>missing</th>\n",
       "      <th>% missing</th>\n",
       "    </tr>\n",
       "  </thead>\n",
       "  <tbody>\n",
       "    <tr>\n",
       "      <th>Dias Incapacidad</th>\n",
       "      <td>4689.0</td>\n",
       "      <td>12.460226</td>\n",
       "      <td>10.518418</td>\n",
       "      <td>0.0</td>\n",
       "      <td>4.0</td>\n",
       "      <td>8.0</td>\n",
       "      <td>20.0</td>\n",
       "      <td>90.0</td>\n",
       "      <td>0</td>\n",
       "      <td>0.0</td>\n",
       "    </tr>\n",
       "    <tr>\n",
       "      <th>Dias Reconocidos EPS</th>\n",
       "      <td>4689.0</td>\n",
       "      <td>9.279804</td>\n",
       "      <td>10.585392</td>\n",
       "      <td>0.0</td>\n",
       "      <td>1.0</td>\n",
       "      <td>5.0</td>\n",
       "      <td>15.0</td>\n",
       "      <td>85.0</td>\n",
       "      <td>0</td>\n",
       "      <td>0.0</td>\n",
       "    </tr>\n",
       "    <tr>\n",
       "      <th>Dias Pagos Empleador</th>\n",
       "      <td>4689.0</td>\n",
       "      <td>0.957987</td>\n",
       "      <td>1.014688</td>\n",
       "      <td>0.0</td>\n",
       "      <td>0.0</td>\n",
       "      <td>0.0</td>\n",
       "      <td>2.0</td>\n",
       "      <td>13.0</td>\n",
       "      <td>0</td>\n",
       "      <td>0.0</td>\n",
       "    </tr>\n",
       "    <tr>\n",
       "      <th>Valor Pagado</th>\n",
       "      <td>4689.0</td>\n",
       "      <td>428049.836538</td>\n",
       "      <td>542493.927220</td>\n",
       "      <td>0.0</td>\n",
       "      <td>43333.0</td>\n",
       "      <td>193335.0</td>\n",
       "      <td>650000.0</td>\n",
       "      <td>6908797.0</td>\n",
       "      <td>0</td>\n",
       "      <td>0.0</td>\n",
       "    </tr>\n",
       "  </tbody>\n",
       "</table>\n",
       "</div>"
      ],
      "text/plain": [
       "                       count           mean            std  min      25%  \\\n",
       "Dias Incapacidad      4689.0      12.460226      10.518418  0.0      4.0   \n",
       "Dias Reconocidos EPS  4689.0       9.279804      10.585392  0.0      1.0   \n",
       "Dias Pagos Empleador  4689.0       0.957987       1.014688  0.0      0.0   \n",
       "Valor Pagado          4689.0  428049.836538  542493.927220  0.0  43333.0   \n",
       "\n",
       "                           50%       75%        max  missing  % missing  \n",
       "Dias Incapacidad           8.0      20.0       90.0        0        0.0  \n",
       "Dias Reconocidos EPS       5.0      15.0       85.0        0        0.0  \n",
       "Dias Pagos Empleador       0.0       2.0       13.0        0        0.0  \n",
       "Valor Pagado          193335.0  650000.0  6908797.0        0        0.0  "
      ]
     },
     "metadata": {},
     "output_type": "display_data"
    },
    {
     "name": "stdout",
     "output_type": "stream",
     "text": [
      "📊 Resumen por Estado de la Incapacidad:\n"
     ]
    },
    {
     "data": {
      "application/vnd.microsoft.datawrangler.viewer.v0+json": {
       "columns": [
        {
         "name": "Estado de la Incapacidad",
         "rawType": "object",
         "type": "string"
        },
        {
         "name": "('Dias Incapacidad', 'count')",
         "rawType": "int64",
         "type": "integer"
        },
        {
         "name": "('Dias Incapacidad', 'mean')",
         "rawType": "float64",
         "type": "float"
        },
        {
         "name": "('Dias Incapacidad', 'std')",
         "rawType": "float64",
         "type": "float"
        },
        {
         "name": "('Dias Incapacidad', 'min')",
         "rawType": "int64",
         "type": "integer"
        },
        {
         "name": "('Dias Incapacidad', 'median')",
         "rawType": "float64",
         "type": "float"
        },
        {
         "name": "('Dias Incapacidad', 'max')",
         "rawType": "int64",
         "type": "integer"
        },
        {
         "name": "('Dias Reconocidos EPS', 'count')",
         "rawType": "int64",
         "type": "integer"
        },
        {
         "name": "('Dias Reconocidos EPS', 'mean')",
         "rawType": "float64",
         "type": "float"
        },
        {
         "name": "('Dias Reconocidos EPS', 'std')",
         "rawType": "float64",
         "type": "float"
        },
        {
         "name": "('Dias Reconocidos EPS', 'min')",
         "rawType": "int64",
         "type": "integer"
        },
        {
         "name": "('Dias Reconocidos EPS', 'median')",
         "rawType": "float64",
         "type": "float"
        },
        {
         "name": "('Dias Reconocidos EPS', 'max')",
         "rawType": "int64",
         "type": "integer"
        },
        {
         "name": "('Dias Pagos Empleador', 'count')",
         "rawType": "int64",
         "type": "integer"
        },
        {
         "name": "('Dias Pagos Empleador', 'mean')",
         "rawType": "float64",
         "type": "float"
        },
        {
         "name": "('Dias Pagos Empleador', 'std')",
         "rawType": "float64",
         "type": "float"
        },
        {
         "name": "('Dias Pagos Empleador', 'min')",
         "rawType": "int64",
         "type": "integer"
        },
        {
         "name": "('Dias Pagos Empleador', 'median')",
         "rawType": "float64",
         "type": "float"
        },
        {
         "name": "('Dias Pagos Empleador', 'max')",
         "rawType": "int64",
         "type": "integer"
        },
        {
         "name": "('Valor Pagado', 'count')",
         "rawType": "int64",
         "type": "integer"
        },
        {
         "name": "('Valor Pagado', 'mean')",
         "rawType": "float64",
         "type": "float"
        },
        {
         "name": "('Valor Pagado', 'std')",
         "rawType": "float64",
         "type": "float"
        },
        {
         "name": "('Valor Pagado', 'min')",
         "rawType": "float64",
         "type": "float"
        },
        {
         "name": "('Valor Pagado', 'median')",
         "rawType": "float64",
         "type": "float"
        },
        {
         "name": "('Valor Pagado', 'max')",
         "rawType": "float64",
         "type": "float"
        }
       ],
       "ref": "b9eb09a8-4e33-4ea7-b4a2-e653cb23f02c",
       "rows": [
        [
         "NEGADO",
         "824",
         "12.13",
         "11.2",
         "0",
         "7.0",
         "90",
         "824",
         "0.0",
         "0.0",
         "0",
         "0.0",
         "0",
         "824",
         "0.0",
         "0.0",
         "0",
         "0.0",
         "0",
         "824",
         "0.0",
         "0.0",
         "0.0",
         "0.0",
         "0.0"
        ],
        [
         "PAGADA",
         "3658",
         "12.56",
         "10.4",
         "1",
         "8.0",
         "85",
         "3658",
         "11.28",
         "10.69",
         "1",
         "7.0",
         "85",
         "3658",
         "1.16",
         "1.01",
         "0",
         "2.0",
         "13",
         "3658",
         "518136.18",
         "559202.01",
         "29260.0",
         "309336.0",
         "6908797.0"
        ],
        [
         "RESERVA",
         "207",
         "12.0",
         "9.79",
         "1",
         "8.0",
         "30",
         "207",
         "10.8",
         "10.07",
         "1",
         "7.0",
         "30",
         "207",
         "1.2",
         "0.98",
         "0",
         "2.0",
         "2",
         "207",
         "540017.07",
         "506497.57",
         "43333.0",
         "372212.0",
         "2784965.0"
        ]
       ],
       "shape": {
        "columns": 24,
        "rows": 3
       }
      },
      "text/html": [
       "<div>\n",
       "<style scoped>\n",
       "    .dataframe tbody tr th:only-of-type {\n",
       "        vertical-align: middle;\n",
       "    }\n",
       "\n",
       "    .dataframe tbody tr th {\n",
       "        vertical-align: top;\n",
       "    }\n",
       "\n",
       "    .dataframe thead tr th {\n",
       "        text-align: left;\n",
       "    }\n",
       "\n",
       "    .dataframe thead tr:last-of-type th {\n",
       "        text-align: right;\n",
       "    }\n",
       "</style>\n",
       "<table border=\"1\" class=\"dataframe\">\n",
       "  <thead>\n",
       "    <tr>\n",
       "      <th></th>\n",
       "      <th colspan=\"6\" halign=\"left\">Dias Incapacidad</th>\n",
       "      <th colspan=\"4\" halign=\"left\">Dias Reconocidos EPS</th>\n",
       "      <th>...</th>\n",
       "      <th colspan=\"4\" halign=\"left\">Dias Pagos Empleador</th>\n",
       "      <th colspan=\"6\" halign=\"left\">Valor Pagado</th>\n",
       "    </tr>\n",
       "    <tr>\n",
       "      <th></th>\n",
       "      <th>count</th>\n",
       "      <th>mean</th>\n",
       "      <th>std</th>\n",
       "      <th>min</th>\n",
       "      <th>median</th>\n",
       "      <th>max</th>\n",
       "      <th>count</th>\n",
       "      <th>mean</th>\n",
       "      <th>std</th>\n",
       "      <th>min</th>\n",
       "      <th>...</th>\n",
       "      <th>std</th>\n",
       "      <th>min</th>\n",
       "      <th>median</th>\n",
       "      <th>max</th>\n",
       "      <th>count</th>\n",
       "      <th>mean</th>\n",
       "      <th>std</th>\n",
       "      <th>min</th>\n",
       "      <th>median</th>\n",
       "      <th>max</th>\n",
       "    </tr>\n",
       "    <tr>\n",
       "      <th>Estado de la Incapacidad</th>\n",
       "      <th></th>\n",
       "      <th></th>\n",
       "      <th></th>\n",
       "      <th></th>\n",
       "      <th></th>\n",
       "      <th></th>\n",
       "      <th></th>\n",
       "      <th></th>\n",
       "      <th></th>\n",
       "      <th></th>\n",
       "      <th></th>\n",
       "      <th></th>\n",
       "      <th></th>\n",
       "      <th></th>\n",
       "      <th></th>\n",
       "      <th></th>\n",
       "      <th></th>\n",
       "      <th></th>\n",
       "      <th></th>\n",
       "      <th></th>\n",
       "      <th></th>\n",
       "    </tr>\n",
       "  </thead>\n",
       "  <tbody>\n",
       "    <tr>\n",
       "      <th>NEGADO</th>\n",
       "      <td>824</td>\n",
       "      <td>12.13</td>\n",
       "      <td>11.20</td>\n",
       "      <td>0</td>\n",
       "      <td>7.0</td>\n",
       "      <td>90</td>\n",
       "      <td>824</td>\n",
       "      <td>0.00</td>\n",
       "      <td>0.00</td>\n",
       "      <td>0</td>\n",
       "      <td>...</td>\n",
       "      <td>0.00</td>\n",
       "      <td>0</td>\n",
       "      <td>0.0</td>\n",
       "      <td>0</td>\n",
       "      <td>824</td>\n",
       "      <td>0.00</td>\n",
       "      <td>0.00</td>\n",
       "      <td>0.0</td>\n",
       "      <td>0.0</td>\n",
       "      <td>0.0</td>\n",
       "    </tr>\n",
       "    <tr>\n",
       "      <th>PAGADA</th>\n",
       "      <td>3658</td>\n",
       "      <td>12.56</td>\n",
       "      <td>10.40</td>\n",
       "      <td>1</td>\n",
       "      <td>8.0</td>\n",
       "      <td>85</td>\n",
       "      <td>3658</td>\n",
       "      <td>11.28</td>\n",
       "      <td>10.69</td>\n",
       "      <td>1</td>\n",
       "      <td>...</td>\n",
       "      <td>1.01</td>\n",
       "      <td>0</td>\n",
       "      <td>2.0</td>\n",
       "      <td>13</td>\n",
       "      <td>3658</td>\n",
       "      <td>518136.18</td>\n",
       "      <td>559202.01</td>\n",
       "      <td>29260.0</td>\n",
       "      <td>309336.0</td>\n",
       "      <td>6908797.0</td>\n",
       "    </tr>\n",
       "    <tr>\n",
       "      <th>RESERVA</th>\n",
       "      <td>207</td>\n",
       "      <td>12.00</td>\n",
       "      <td>9.79</td>\n",
       "      <td>1</td>\n",
       "      <td>8.0</td>\n",
       "      <td>30</td>\n",
       "      <td>207</td>\n",
       "      <td>10.80</td>\n",
       "      <td>10.07</td>\n",
       "      <td>1</td>\n",
       "      <td>...</td>\n",
       "      <td>0.98</td>\n",
       "      <td>0</td>\n",
       "      <td>2.0</td>\n",
       "      <td>2</td>\n",
       "      <td>207</td>\n",
       "      <td>540017.07</td>\n",
       "      <td>506497.57</td>\n",
       "      <td>43333.0</td>\n",
       "      <td>372212.0</td>\n",
       "      <td>2784965.0</td>\n",
       "    </tr>\n",
       "  </tbody>\n",
       "</table>\n",
       "<p>3 rows × 24 columns</p>\n",
       "</div>"
      ],
      "text/plain": [
       "                         Dias Incapacidad                               \\\n",
       "                                    count   mean    std min median max   \n",
       "Estado de la Incapacidad                                                 \n",
       "NEGADO                                824  12.13  11.20   0    7.0  90   \n",
       "PAGADA                               3658  12.56  10.40   1    8.0  85   \n",
       "RESERVA                               207  12.00   9.79   1    8.0  30   \n",
       "\n",
       "                         Dias Reconocidos EPS                    ...  \\\n",
       "                                        count   mean    std min  ...   \n",
       "Estado de la Incapacidad                                         ...   \n",
       "NEGADO                                    824   0.00   0.00   0  ...   \n",
       "PAGADA                                   3658  11.28  10.69   1  ...   \n",
       "RESERVA                                   207  10.80  10.07   1  ...   \n",
       "\n",
       "                         Dias Pagos Empleador                Valor Pagado  \\\n",
       "                                          std min median max        count   \n",
       "Estado de la Incapacidad                                                    \n",
       "NEGADO                                   0.00   0    0.0   0          824   \n",
       "PAGADA                                   1.01   0    2.0  13         3658   \n",
       "RESERVA                                  0.98   0    2.0   2          207   \n",
       "\n",
       "                                                                              \n",
       "                               mean        std      min    median        max  \n",
       "Estado de la Incapacidad                                                      \n",
       "NEGADO                         0.00       0.00      0.0       0.0        0.0  \n",
       "PAGADA                    518136.18  559202.01  29260.0  309336.0  6908797.0  \n",
       "RESERVA                   540017.07  506497.57  43333.0  372212.0  2784965.0  \n",
       "\n",
       "[3 rows x 24 columns]"
      ]
     },
     "metadata": {},
     "output_type": "display_data"
    }
   ],
   "source": [
    "import pandas as pd\n",
    "\n",
    "# 1. Conversión segura a valores numéricos\n",
    "cols_numericas = ['Dias Incapacidad', 'Dias Reconocidos EPS', 'Dias Pagos Empleador', 'Valor Pagado']\n",
    "for col in cols_numericas:\n",
    "    df_incapacidades_clave[col] = pd.to_numeric(df_incapacidades_clave[col], errors='coerce')\n",
    "\n",
    "# 2. Resumen estadístico general (sin segmentar)\n",
    "resumen_general = df_incapacidades_clave[cols_numericas].describe().T\n",
    "resumen_general['missing'] = df_incapacidades_clave[cols_numericas].isnull().sum()\n",
    "resumen_general['% missing'] = (resumen_general['missing'] / len(df_incapacidades_clave)) * 100\n",
    "\n",
    "print(\"📊 Resumen estadístico general:\")\n",
    "display(resumen_general)\n",
    "\n",
    "# 3. Resumen estadístico segmentado por Estado de la Incapacidad\n",
    "# Solo se incluyen estados válidos (opcional: puedes excluir nulos o vacíos)\n",
    "resumen_por_estado = (\n",
    "    df_incapacidades_clave\n",
    "    .groupby('Estado de la Incapacidad')[cols_numericas]\n",
    "    .agg(['count', 'mean', 'std', 'min', 'median', 'max'])\n",
    "    .round(2)\n",
    ")\n",
    "\n",
    "print(\"📊 Resumen por Estado de la Incapacidad:\")\n",
    "display(resumen_por_estado)\n"
   ]
  },
  {
   "cell_type": "markdown",
   "id": "2db3a5a3",
   "metadata": {},
   "source": [
    "### 🧠 Hallazgos Clave – Resumen estadístico de variables numéricas (versión corregida)\n",
    "\n",
    "- Se procesaron 4.689 registros con **0% de valores faltantes**, gracias a la imputación segura de ceros en campos económicos y temporales para registros `NEGADO` o sin obligaciones de pago. Esta decisión fue tomada para evitar interpretaciones erróneas y facilitar el análisis agregado y segmentado.\n",
    "\n",
    "- El número promedio de días de incapacidad fue de **12,5 días**, con una mediana de 8. Al analizar por estado:\n",
    "  - `PAGADA`: 12,56 días (mediana: 8)\n",
    "  - `RESERVA`: 12,00 días (mediana: 8)\n",
    "  - `NEGADO`: 12,13 días (mediana: 7)\n",
    "\n",
    "- El campo `Valor Pagado` fue revisado y **depurado** para garantizar que los registros en estado **NEGADO no contengan valores simulados, proyectados ni arrastrados**. Como resultado:\n",
    "  - `NEGADO`: promedio y mediana ahora son **$0**, y el valor máximo también fue depurado.\n",
    "  - `PAGADA`: promedio de **$518.136**, mediana de $309.336.\n",
    "  - `RESERVA`: promedio de **$540.017**, mediana de $372.212.\n",
    "\n",
    "- La eliminación del valor atípico de **$113.649.033** registrado anteriormente como NEGADO representa una mejora clave en la integridad financiera de la base de datos. Este valor había sido detectado como un posible error de digitación o residuo de simulación interna.\n",
    "\n",
    "> ✅ **Nota para administradores de base de datos**:\n",
    "> Esta limpieza fue necesaria y justificada. Los valores de pago deben existir solo en registros aprobados (PAGADA) o en proceso (RESERVA). Se recomienda mantener una validación automática en futuras cargas que impida asignar valores en `Valor Pagado`, `Días Reconocidos EPS` o `Días Pagos Empleador` a registros `NEGADO`, salvo que medie una revisión jurídica o resolución especial."
   ]
  },
  {
   "cell_type": "markdown",
   "id": "8635e45a",
   "metadata": {},
   "source": [
    "### 2.1.2. Conteo de frecuencias por estado de la incapacidad\n",
    "Determinar la distribución de registros según su Estado de la Incapacidad para evaluar el volumen relativo de cada fase del proceso: aprobadas, negadas o en reserva."
   ]
  },
  {
   "cell_type": "code",
   "execution_count": 12,
   "id": "7526db4d",
   "metadata": {},
   "outputs": [
    {
     "data": {
      "application/vnd.microsoft.datawrangler.viewer.v0+json": {
       "columns": [
        {
         "name": "index",
         "rawType": "int64",
         "type": "integer"
        },
        {
         "name": "Estado de la Incapacidad",
         "rawType": "object",
         "type": "string"
        },
        {
         "name": "Cantidad",
         "rawType": "int64",
         "type": "integer"
        },
        {
         "name": "% Total",
         "rawType": "float64",
         "type": "float"
        }
       ],
       "ref": "a5150a60-aa84-4ac3-9730-85c3a18fe705",
       "rows": [
        [
         "0",
         "PAGADA",
         "3658",
         "78.01"
        ],
        [
         "1",
         "NEGADO",
         "824",
         "17.57"
        ],
        [
         "2",
         "RESERVA",
         "207",
         "4.41"
        ]
       ],
       "shape": {
        "columns": 3,
        "rows": 3
       }
      },
      "text/html": [
       "<div>\n",
       "<style scoped>\n",
       "    .dataframe tbody tr th:only-of-type {\n",
       "        vertical-align: middle;\n",
       "    }\n",
       "\n",
       "    .dataframe tbody tr th {\n",
       "        vertical-align: top;\n",
       "    }\n",
       "\n",
       "    .dataframe thead th {\n",
       "        text-align: right;\n",
       "    }\n",
       "</style>\n",
       "<table border=\"1\" class=\"dataframe\">\n",
       "  <thead>\n",
       "    <tr style=\"text-align: right;\">\n",
       "      <th></th>\n",
       "      <th>Estado de la Incapacidad</th>\n",
       "      <th>Cantidad</th>\n",
       "      <th>% Total</th>\n",
       "    </tr>\n",
       "  </thead>\n",
       "  <tbody>\n",
       "    <tr>\n",
       "      <th>0</th>\n",
       "      <td>PAGADA</td>\n",
       "      <td>3658</td>\n",
       "      <td>78.01</td>\n",
       "    </tr>\n",
       "    <tr>\n",
       "      <th>1</th>\n",
       "      <td>NEGADO</td>\n",
       "      <td>824</td>\n",
       "      <td>17.57</td>\n",
       "    </tr>\n",
       "    <tr>\n",
       "      <th>2</th>\n",
       "      <td>RESERVA</td>\n",
       "      <td>207</td>\n",
       "      <td>4.41</td>\n",
       "    </tr>\n",
       "  </tbody>\n",
       "</table>\n",
       "</div>"
      ],
      "text/plain": [
       "  Estado de la Incapacidad  Cantidad  % Total\n",
       "0                   PAGADA      3658    78.01\n",
       "1                   NEGADO       824    17.57\n",
       "2                  RESERVA       207     4.41"
      ]
     },
     "metadata": {},
     "output_type": "display_data"
    }
   ],
   "source": [
    "# Limpieza previa\n",
    "df_incapacidades_clave['Estado de la Incapacidad'] = (\n",
    "    df_incapacidades_clave['Estado de la Incapacidad']\n",
    "    .astype(str)\n",
    "    .str.strip()\n",
    "    .str.upper()\n",
    ")\n",
    "\n",
    "# Conteo absoluto y porcentaje relativo\n",
    "conteo_estado = (\n",
    "    df_incapacidades_clave['Estado de la Incapacidad']\n",
    "    .value_counts(dropna=False)\n",
    "    .reset_index()\n",
    ")\n",
    "conteo_estado.columns = ['Estado de la Incapacidad', 'Cantidad']\n",
    "conteo_estado['% Total'] = (conteo_estado['Cantidad'] / len(df_incapacidades_clave) * 100).round(2)\n",
    "\n",
    "# Orden alfabético o por volumen descendente\n",
    "conteo_estado = conteo_estado.sort_values(by='Cantidad', ascending=False).reset_index(drop=True)\n",
    "\n",
    "display(conteo_estado)"
   ]
  },
  {
   "cell_type": "markdown",
   "id": "176d8731",
   "metadata": {},
   "source": [
    "✅ Visualización"
   ]
  },
  {
   "cell_type": "code",
   "execution_count": 13,
   "id": "35e1ef71",
   "metadata": {},
   "outputs": [
    {
     "name": "stderr",
     "output_type": "stream",
     "text": [
      "C:\\Users\\osmarrincon\\AppData\\Local\\Temp\\ipykernel_26156\\1578676956.py:5: FutureWarning: \n",
      "\n",
      "Passing `palette` without assigning `hue` is deprecated and will be removed in v0.14.0. Assign the `y` variable to `hue` and set `legend=False` for the same effect.\n",
      "\n",
      "  sns.barplot(\n"
     ]
    },
    {
     "data": {
      "image/png": "[encoded data removed]",
      "text/plain": [
       "<Figure size 800x400 with 1 Axes>"
      ]
     },
     "metadata": {},
     "output_type": "display_data"
    }
   ],
   "source": [
    "import matplotlib.pyplot as plt\n",
    "import seaborn as sns\n",
    "\n",
    "plt.figure(figsize=(8, 4))\n",
    "sns.barplot(\n",
    "    data=conteo_estado,\n",
    "    y='Estado de la Incapacidad',\n",
    "    x='Cantidad',\n",
    "    palette='Blues_d'\n",
    ")\n",
    "plt.title('Distribución de registros por Estado de la Incapacidad')\n",
    "plt.xlabel('Cantidad de registros')\n",
    "plt.ylabel('Estado')\n",
    "plt.tight_layout()\n",
    "plt.show()"
   ]
  },
  {
   "cell_type": "markdown",
   "id": "936c99c2",
   "metadata": {},
   "source": [
    "#### 🧠 Hallazgos Clave – Conteo por Estado de la Incapacidad\n",
    "\n",
    "- Se registraron **4.689 incapacidades** clasificadas en tres estados operativos:\n",
    "  - **PAGADA**: 3.658 registros (**78,01%**) – reflejan incapacidades que completaron el proceso y fueron reconocidas económicamente.\n",
    "  - **NEGADO**: 824 registros (**17,57%**) – fueron rechazadas por inconsistencias, errores, incumplimientos normativos o criterios de glosa.\n",
    "  - **RESERVA**: 207 registros (**4,41%**) – están en trámite, observación o pendientes de validación final.\n",
    "\n",
    "- El análisis se realizó sobre un campo previamente normalizado (eliminando espacios, errores de mayúsculas y variantes tipográficas), lo que asegura que no haya duplicados artificiales como `PAGADA` vs ` pagada`.\n",
    "\n",
    "- Se observa una **alta proporción de registros en estado PAGADA**, lo cual sugiere que el proceso de validación y radicación funciona adecuadamente. No obstante, el 17% de NEGADAS requiere análisis posterior para identificar:\n",
    "  - Motivos de rechazo más frecuentes (por CIE 10, IPS, empresa, etc.)\n",
    "  - Posibles errores evitables en la radicación\n",
    "  - Casos que podrían haber sido resueltos con gestión anticipada.\n",
    "\n",
    "- El gráfico generado permite una rápida visualización del volumen relativo por estado y es útil para reportes ejecutivos y monitoreo de cargas operativas.\n",
    "\n",
    "> ✅ **Recomendación técnica:** Incorporar este gráfico en los tableros de control mensuales del área de prestaciones económicas o aseguramiento, para hacer seguimiento a la eficiencia de respuesta en reservas y disminuir la tasa de rechazos.\n"
   ]
  },
  {
   "cell_type": "markdown",
   "id": "baf27deb",
   "metadata": {},
   "source": [
    "## 🧍‍♂️ 2.2. Afiliados con recurrencia elevada\n",
    "📌 Objetivo\n",
    "Identificar cotizantes con más de 3 incapacidades en el año (umbral configurable).\n",
    "\n",
    "1. Frecuencia por cotizante\n",
    "2. Enlace con información adicional (nombre, empresa, municipio)\n",
    "3. Filtro por estados PAGADA y RESERVA si se desea solo lo que genera carga económica"
   ]
  },
  {
   "cell_type": "code",
   "execution_count": 14,
   "id": "e1d6fdd0",
   "metadata": {},
   "outputs": [
    {
     "name": "stderr",
     "output_type": "stream",
     "text": [
      "C:\\Users\\osmarrincon\\AppData\\Local\\Temp\\ipykernel_26156\\1816882316.py:5: SettingWithCopyWarning: \n",
      "A value is trying to be set on a copy of a slice from a DataFrame.\n",
      "Try using .loc[row_indexer,col_indexer] = value instead\n",
      "\n",
      "See the caveats in the documentation: https://pandas.pydata.org/pandas-docs/stable/user_guide/indexing.html#returning-a-view-versus-a-copy\n",
      "  df_validos['Nombre del Cotizante'] = df_validos['Nombre del Cotizante'].str.strip().str.upper()\n",
      "C:\\Users\\osmarrincon\\AppData\\Local\\Temp\\ipykernel_26156\\1816882316.py:6: SettingWithCopyWarning: \n",
      "A value is trying to be set on a copy of a slice from a DataFrame.\n",
      "Try using .loc[row_indexer,col_indexer] = value instead\n",
      "\n",
      "See the caveats in the documentation: https://pandas.pydata.org/pandas-docs/stable/user_guide/indexing.html#returning-a-view-versus-a-copy\n",
      "  df_validos['Nombre de la Emprea'] = df_validos['Nombre de la Emprea'].str.strip().str.upper()\n"
     ]
    },
    {
     "data": {
      "application/vnd.microsoft.datawrangler.viewer.v0+json": {
       "columns": [
        {
         "name": "index",
         "rawType": "int64",
         "type": "integer"
        },
        {
         "name": "N_Doc_Cotizante",
         "rawType": "object",
         "type": "string"
        },
        {
         "name": "Cantidad_Inc",
         "rawType": "int64",
         "type": "integer"
        },
        {
         "name": "Nombre del Cotizante",
         "rawType": "object",
         "type": "string"
        },
        {
         "name": "Nombre de la Emprea",
         "rawType": "object",
         "type": "string"
        },
        {
         "name": "Municipio",
         "rawType": "object",
         "type": "string"
        }
       ],
       "ref": "14a90af2-d72a-4f83-9c2f-2c3e40abeb75",
       "rows": [
        [
         "0",
         "18144502",
         "28",
         "JORGE ORLANDO ORTEGA GONZALEZ",
         "CESAR AUGUSTO JEREZ BERRIO",
         "85010"
        ],
        [
         "1",
         "1116041822",
         "26",
         "RODE ESTHER MORALES BLANCO",
         "COLVISEG COLOMBIANA DE VIGILANCIA Y SEGURIDAD LTDA",
         "85225"
        ],
        [
         "2",
         "1115914774",
         "21",
         "FRAN ALEXANDER ROLDAN MARTINEZ",
         "LABORATORIO DE BIOINSUMOS SOLUCIONES AGRICOLAS Y AMBIENTALES SAS",
         "85440"
        ],
        [
         "3",
         "86087071",
         "20",
         "ARBEY GALINDO BARRETO",
         "GROUP BINARIOS LTDA",
         "85440"
        ],
        [
         "4",
         "74814526",
         "16",
         "CARLOS JULIO ALFONSO TORRES",
         "AGROINDUSTRIAL DE PALMA ACEITERA SA SUCURSAL COLOMBIA",
         "85001"
        ],
        [
         "5",
         "1115853553",
         "15",
         "DIANA PATRICIA MUJICA LOZANO",
         "SERVICASINOS CATERING SAS",
         "85410"
        ],
        [
         "6",
         "9531650",
         "14",
         "JOSE MAURICIO MONROY REAY",
         "HACIENDA LA ILUSIÓN SAS",
         "85010"
        ],
        [
         "7",
         "74752734",
         "13",
         "OSCAR CELIO BERNAL BERNAL",
         "CONCESIONARIA VIAL DEL ORIENTE",
         "85010"
        ],
        [
         "8",
         "1007491534",
         "13",
         "DANIER STEVEN ROMERO MARTINEZ",
         "SAR ENERGY SAS EN REORGANIZACION",
         "85250"
        ],
        [
         "9",
         "1116552757",
         "13",
         "JESSICA MARYURI CAMACHO RETIZ",
         "SAR ENERGY SAS EN REORGANIZACION",
         "85440"
        ],
        [
         "10",
         "47437716",
         "12",
         "LUZ MARINA CASTRO",
         "SUMMAR PROCESOS SAS",
         "85001"
        ],
        [
         "11",
         "39950013",
         "12",
         "LUZ ANGELA RIVERA BULLA",
         "SERVICASINOS CATERING SAS",
         "85440"
        ],
        [
         "12",
         "1039683902",
         "12",
         "ERMISON DE JESUS GALLEGO MORENO",
         "KRIJU SAS",
         "85139"
        ],
        [
         "13",
         "1115917866",
         "12",
         "LUZ HASBLEIDY HERRERA CHAVEZ",
         "SERVICASINOS CATERING SAS",
         "85410"
        ],
        [
         "14",
         "4165559",
         "11",
         "GABRIEL GARCIA PEÑA",
         "MARIA LUZ GARCIA PEÑA",
         "85001"
        ],
        [
         "15",
         "9430035",
         "11",
         "HUGO ALEXANDER PALOMINO GONZALEZ",
         "AGROINDUSTRIAL DE PALMA ACEITERA SA SUCURSAL COLOMBIA",
         "85001"
        ],
        [
         "16",
         "1118537899",
         "11",
         "GIOHANNA NATALY CRUZ CHAPARRO",
         "COLVISEG COLOMBIANA DE VIGILANCIA Y SEGURIDAD LTDA",
         "85001"
        ],
        [
         "17",
         "1120871670",
         "10",
         "SERGIO ROJAS SEPULVEDA",
         "CONSTRUCCIONES ELECTRICAS DE COLOMBIA SAS",
         "85440"
        ],
        [
         "18",
         "23418137",
         "10",
         "MIREYA MARTINEZ MESA",
         "DISTRIBUIDORA COLOMBIANA DE MEDICAMENTOS SAS DISCOLMEDICA SAS",
         "85300"
        ],
        [
         "19",
         "47441271",
         "10",
         "LUZ AIDA ARANGO QUIROZ",
         "LLANO AGROPAL SAS",
         "85001"
        ],
        [
         "20",
         "47428541",
         "10",
         "NANCY SERRANO MANTILLA",
         "EMPRESA DE ACUEDUCTO, ALCANTARILLADO Y ASEO DE YOPAL EICE ESP",
         "85001"
        ],
        [
         "21",
         "1115862607",
         "10",
         "FELIX ORIOL MENDIVELSO CHAPARRO",
         "ORF SA",
         "85250"
        ],
        [
         "22",
         "1119181673",
         "10",
         "JESUS HERRERA CACERES",
         "INGENIEROS CIVILES Y ELECTROMECANICOS CONSTRUCTORES SAS",
         "85001"
        ],
        [
         "23",
         "1118775291",
         "10",
         "BERNARDO CATAÑO PIRABAN",
         "OMNILIFE DE COLOMBIA SAS",
         "85001"
        ],
        [
         "24",
         "40332511",
         "10",
         "NORIDA GUERRERO",
         "ASESORES CONSULTORES Y SOLUCIONES INTEGRALES SAS",
         "85010"
        ],
        [
         "25",
         "1118562597",
         "10",
         "MARIA ISABEL ORTIZ DOMINGUEZ",
         "MASSER SAS",
         "85001"
        ],
        [
         "26",
         "76142948",
         "9",
         "EDWIN MINA GALLEGO",
         "MATERIALES AGREGADOS BASES OBRAS Y HERRAMIENTAS SAS",
         "85440"
        ],
        [
         "27",
         "1118536877",
         "9",
         "NANCY RODRIGUEZ CERINZA",
         "CONECTADOS MOVIL SAS",
         "85001"
        ],
        [
         "28",
         "47439297",
         "9",
         "ALVIRA CARREÑO BERNAL",
         "SERVICIOS DE ASEO, CAFETERIA Y MANTENIMIENTO INSTITUCIONAL, OUTSOURCING SEASIN LIMITADA",
         "85001"
        ],
        [
         "29",
         "47440699",
         "9",
         "JEIMMY TATIANA RIVERA BARON",
         "MUNICIPIO DE PORE",
         "85001"
        ],
        [
         "30",
         "1118547355",
         "9",
         "JAUSBEILY KATHERINE CAMARGO ROJAS",
         "RED DE SERVICIOS DE LA ORINOQUIA Y EL CARIBE SA",
         "85001"
        ],
        [
         "31",
         "74857072",
         "9",
         "AUDEL JABER JOYA GARCIA",
         "ATINA ENERGY SERVICES CORP SUCURSAL COLOMBIA",
         "85410"
        ],
        [
         "32",
         "1118560863",
         "9",
         "MICHAEEL ORLANDO DIAZ RODRIGUEZ",
         "ARQMAG SAS",
         "85001"
        ],
        [
         "33",
         "23790083",
         "9",
         "CANDIDA ROSA CUEVAS GONZALEZ",
         "CANDIDA ROSA CUEVAS GONZALEZ",
         "85250"
        ],
        [
         "34",
         "86079476",
         "8",
         "OSCAR ALBEIRO MEJIA VALDERRAMA",
         "SYGMA INGENIERIA Y CONSULTORIA SAS",
         "85001"
        ],
        [
         "35",
         "1118534569",
         "8",
         "LEIDY LORENA MONTILLA ALFARO",
         "URGENCIA VITAL DEL CASANARE AEREA Y TERRESTRE SAS",
         "85001"
        ],
        [
         "36",
         "80815590",
         "8",
         "JORGE ENRIQUE DELGADO VERGARA",
         "GRUPO NOVUS LIMITADA",
         "85001"
        ],
        [
         "37",
         "1118167850",
         "8",
         "WILLIAN FERNEY CHAVEZ MONTILLA",
         "MATERIALES AGREGADOS BASES OBRAS Y HERRAMIENTAS SAS",
         "85440"
        ],
        [
         "38",
         "9534153",
         "8",
         "JORGE MESA MARTINEZ",
         "COMPAÑIA DE SEGURIDAD Y VIGILANCIA PRIVADA AZIMUT CARIBABARE LTDA",
         "85001"
        ],
        [
         "39",
         "1006415128",
         "8",
         "KARINA MICHEL RUBIO ORTIZ",
         "TRANSMENA Y CARGA SAS",
         "85410"
        ],
        [
         "40",
         "74862280",
         "8",
         "JOSE MAURICIO ALVAREZ CUBILLOS",
         "TULIO ALBERTO SIERRA BARACALDO",
         "85125"
        ],
        [
         "41",
         "1099314",
         "8",
         "ROSMARY MAGDALENA MENDOZA PENA",
         "EMPLEAMOS TEMPORALES SAS",
         "85440"
        ],
        [
         "42",
         "1115916813",
         "8",
         "YESID RENE COGUA PATARROYO",
         "CONSTRUCCIONES Y MONTAJES PETROLEROS DE COLOMBIA SAS",
         "85410"
        ],
        [
         "43",
         "1118548066",
         "8",
         "JHON FREDY CARDOZO DUCON",
         "SERV&WORK INGENIERIA SAS",
         "85001"
        ],
        [
         "44",
         "1006443206",
         "8",
         "VICTOR ALEXANDER VIANCHA",
         "AGROINDUSTRIAL MOLINO SONORA AP SAS",
         "85010"
        ],
        [
         "45",
         "1118563799",
         "8",
         "JUAN CARLOS RIVEROS CRUZ",
         "CESMA INGENIERIA LIMITADA",
         "85001"
        ],
        [
         "46",
         "1118575067",
         "8",
         "MAIRA TATIANA PEREZ FERNANDEZ",
         "RUIZ & CORDOBA SAS",
         "85001"
        ],
        [
         "47",
         "1118124412",
         "8",
         "MAURY GISSELA LEGUIZAMON DAZA",
         "CENTRO MEDICO 24 HORAS LIMITADA",
         "85162"
        ],
        [
         "48",
         "74861215",
         "8",
         "ALDO YESID VARGAS RODRIGUEZ",
         "INDEQ SAS",
         "85010"
        ],
        [
         "49",
         "1118561372",
         "8",
         "CAMILO ANDRES CAMARGO AGUDELO",
         "CAMILO ANDRES CAMARGO AGUDELO",
         "85001"
        ]
       ],
       "shape": {
        "columns": 5,
        "rows": 217
       }
      },
      "text/html": [
       "<div>\n",
       "<style scoped>\n",
       "    .dataframe tbody tr th:only-of-type {\n",
       "        vertical-align: middle;\n",
       "    }\n",
       "\n",
       "    .dataframe tbody tr th {\n",
       "        vertical-align: top;\n",
       "    }\n",
       "\n",
       "    .dataframe thead th {\n",
       "        text-align: right;\n",
       "    }\n",
       "</style>\n",
       "<table border=\"1\" class=\"dataframe\">\n",
       "  <thead>\n",
       "    <tr style=\"text-align: right;\">\n",
       "      <th></th>\n",
       "      <th>N_Doc_Cotizante</th>\n",
       "      <th>Cantidad_Inc</th>\n",
       "      <th>Nombre del Cotizante</th>\n",
       "      <th>Nombre de la Emprea</th>\n",
       "      <th>Municipio</th>\n",
       "    </tr>\n",
       "  </thead>\n",
       "  <tbody>\n",
       "    <tr>\n",
       "      <th>0</th>\n",
       "      <td>18144502</td>\n",
       "      <td>28</td>\n",
       "      <td>JORGE ORLANDO ORTEGA GONZALEZ</td>\n",
       "      <td>CESAR AUGUSTO JEREZ BERRIO</td>\n",
       "      <td>85010</td>\n",
       "    </tr>\n",
       "    <tr>\n",
       "      <th>1</th>\n",
       "      <td>1116041822</td>\n",
       "      <td>26</td>\n",
       "      <td>RODE ESTHER MORALES BLANCO</td>\n",
       "      <td>COLVISEG COLOMBIANA DE VIGILANCIA Y SEGURIDAD ...</td>\n",
       "      <td>85225</td>\n",
       "    </tr>\n",
       "    <tr>\n",
       "      <th>2</th>\n",
       "      <td>1115914774</td>\n",
       "      <td>21</td>\n",
       "      <td>FRAN ALEXANDER ROLDAN MARTINEZ</td>\n",
       "      <td>LABORATORIO DE BIOINSUMOS SOLUCIONES AGRICOLAS...</td>\n",
       "      <td>85440</td>\n",
       "    </tr>\n",
       "    <tr>\n",
       "      <th>3</th>\n",
       "      <td>86087071</td>\n",
       "      <td>20</td>\n",
       "      <td>ARBEY GALINDO BARRETO</td>\n",
       "      <td>GROUP BINARIOS LTDA</td>\n",
       "      <td>85440</td>\n",
       "    </tr>\n",
       "    <tr>\n",
       "      <th>4</th>\n",
       "      <td>74814526</td>\n",
       "      <td>16</td>\n",
       "      <td>CARLOS JULIO ALFONSO TORRES</td>\n",
       "      <td>AGROINDUSTRIAL DE PALMA ACEITERA SA SUCURSAL C...</td>\n",
       "      <td>85001</td>\n",
       "    </tr>\n",
       "    <tr>\n",
       "      <th>...</th>\n",
       "      <td>...</td>\n",
       "      <td>...</td>\n",
       "      <td>...</td>\n",
       "      <td>...</td>\n",
       "      <td>...</td>\n",
       "    </tr>\n",
       "    <tr>\n",
       "      <th>212</th>\n",
       "      <td>1024501214</td>\n",
       "      <td>4</td>\n",
       "      <td>RUBY CONSTANZA TRUJILLO SANCHEZ</td>\n",
       "      <td>TEMPOTRABAJAMOS SAS</td>\n",
       "      <td>85001</td>\n",
       "    </tr>\n",
       "    <tr>\n",
       "      <th>213</th>\n",
       "      <td>1116555369</td>\n",
       "      <td>4</td>\n",
       "      <td>RENAN ALFONSO NOA GONZALEZ</td>\n",
       "      <td>CONECTAR JDP SAS ZOMAC</td>\n",
       "      <td>85010</td>\n",
       "    </tr>\n",
       "    <tr>\n",
       "      <th>214</th>\n",
       "      <td>1118200194</td>\n",
       "      <td>4</td>\n",
       "      <td>SULI ADRIANA SANDOVAL DIAZ</td>\n",
       "      <td>NEXARTE SERVICIOS TEMPORALES SAS</td>\n",
       "      <td>85440</td>\n",
       "    </tr>\n",
       "    <tr>\n",
       "      <th>215</th>\n",
       "      <td>1006414453</td>\n",
       "      <td>4</td>\n",
       "      <td>JHEIDY YULIETH BELLIZIA MORALES</td>\n",
       "      <td>AVIZOR SEGURIDAD LTDA</td>\n",
       "      <td>85001</td>\n",
       "    </tr>\n",
       "    <tr>\n",
       "      <th>216</th>\n",
       "      <td>1014291776</td>\n",
       "      <td>4</td>\n",
       "      <td>DAVID SANTIAGO CIFUENTES VELASQUEZ</td>\n",
       "      <td>EXTRACTORA DEL SUR DE CASANARE</td>\n",
       "      <td>85440</td>\n",
       "    </tr>\n",
       "  </tbody>\n",
       "</table>\n",
       "<p>217 rows × 5 columns</p>\n",
       "</div>"
      ],
      "text/plain": [
       "    N_Doc_Cotizante  Cantidad_Inc                Nombre del Cotizante  \\\n",
       "0          18144502            28       JORGE ORLANDO ORTEGA GONZALEZ   \n",
       "1        1116041822            26          RODE ESTHER MORALES BLANCO   \n",
       "2        1115914774            21      FRAN ALEXANDER ROLDAN MARTINEZ   \n",
       "3          86087071            20               ARBEY GALINDO BARRETO   \n",
       "4          74814526            16         CARLOS JULIO ALFONSO TORRES   \n",
       "..              ...           ...                                 ...   \n",
       "212      1024501214             4     RUBY CONSTANZA TRUJILLO SANCHEZ   \n",
       "213      1116555369             4          RENAN ALFONSO NOA GONZALEZ   \n",
       "214      1118200194             4          SULI ADRIANA SANDOVAL DIAZ   \n",
       "215      1006414453             4     JHEIDY YULIETH BELLIZIA MORALES   \n",
       "216      1014291776             4  DAVID SANTIAGO CIFUENTES VELASQUEZ   \n",
       "\n",
       "                                   Nombre de la Emprea Municipio  \n",
       "0                           CESAR AUGUSTO JEREZ BERRIO     85010  \n",
       "1    COLVISEG COLOMBIANA DE VIGILANCIA Y SEGURIDAD ...     85225  \n",
       "2    LABORATORIO DE BIOINSUMOS SOLUCIONES AGRICOLAS...     85440  \n",
       "3                                  GROUP BINARIOS LTDA     85440  \n",
       "4    AGROINDUSTRIAL DE PALMA ACEITERA SA SUCURSAL C...     85001  \n",
       "..                                                 ...       ...  \n",
       "212                                TEMPOTRABAJAMOS SAS     85001  \n",
       "213                             CONECTAR JDP SAS ZOMAC     85010  \n",
       "214                   NEXARTE SERVICIOS TEMPORALES SAS     85440  \n",
       "215                              AVIZOR SEGURIDAD LTDA     85001  \n",
       "216                     EXTRACTORA DEL SUR DE CASANARE     85440  \n",
       "\n",
       "[217 rows x 5 columns]"
      ]
     },
     "metadata": {},
     "output_type": "display_data"
    }
   ],
   "source": [
    "# Paso 0: Filtrar registros válidos (PAGADA y RESERVA)\n",
    "df_validos = df_incapacidades_clave[df_incapacidades_clave['Estado de la Incapacidad'].isin(['PAGADA', 'RESERVA'])]\n",
    "\n",
    "# Paso 1: Normalizar campos clave para evitar inconsistencias invisibles\n",
    "df_validos['Nombre del Cotizante'] = df_validos['Nombre del Cotizante'].str.strip().str.upper()\n",
    "df_validos['Nombre de la Emprea'] = df_validos['Nombre de la Emprea'].str.strip().str.upper()\n",
    "\n",
    "# Paso 2: Contar incapacidades por cotizante\n",
    "afiliados_frecuentes = (\n",
    "    df_validos['N_Doc_Cotizante']\n",
    "    .value_counts()\n",
    "    .reset_index()\n",
    ")\n",
    "afiliados_frecuentes.columns = ['N_Doc_Cotizante', 'Cantidad_Inc']\n",
    "\n",
    "# Paso 3: Filtrar por umbral de recurrencia\n",
    "afiliados_frecuentes = afiliados_frecuentes[afiliados_frecuentes['Cantidad_Inc'] > 3]\n",
    "\n",
    "# Paso 4: Extraer información adicional (una sola fila por cotizante)\n",
    "afiliados_detalle = (\n",
    "    df_validos\n",
    "    .groupby('N_Doc_Cotizante')\n",
    "    .agg({\n",
    "        'Nombre del Cotizante': 'first',\n",
    "        'Nombre de la Emprea': 'first',\n",
    "        'Municipio': 'first'\n",
    "    })\n",
    "    .reset_index()\n",
    ")\n",
    "\n",
    "# Paso 5: Unir con el resumen\n",
    "afiliados_frecuentes = afiliados_frecuentes.merge(afiliados_detalle, on='N_Doc_Cotizante', how='left')\n",
    "\n",
    "# Paso 6: Ordenar y mostrar\n",
    "afiliados_frecuentes = afiliados_frecuentes.sort_values(by='Cantidad_Inc', ascending=False).reset_index(drop=True)\n",
    "\n",
    "display(afiliados_frecuentes)"
   ]
  },
  {
   "cell_type": "markdown",
   "id": "2e8ef992",
   "metadata": {},
   "source": [
    "📈 Visualización"
   ]
  },
  {
   "cell_type": "code",
   "execution_count": 15,
   "id": "55704312",
   "metadata": {},
   "outputs": [
    {
     "name": "stderr",
     "output_type": "stream",
     "text": [
      "C:\\Users\\osmarrincon\\AppData\\Local\\Temp\\ipykernel_26156\\3848291286.py:7: FutureWarning: \n",
      "\n",
      "Passing `palette` without assigning `hue` is deprecated and will be removed in v0.14.0. Assign the `y` variable to `hue` and set `legend=False` for the same effect.\n",
      "\n",
      "  sns.barplot(\n"
     ]
    },
    {
     "data": {
      "image/png": "[encoded data removed]",
      "text/plain": [
       "<Figure size 800x400 with 1 Axes>"
      ]
     },
     "metadata": {},
     "output_type": "display_data"
    }
   ],
   "source": [
    "import seaborn as sns\n",
    "import matplotlib.pyplot as plt\n",
    "\n",
    "top_afiliados = afiliados_frecuentes.head(10)\n",
    "\n",
    "plt.figure(figsize=(8, 4))\n",
    "sns.barplot(\n",
    "    data=top_afiliados,\n",
    "    y='Nombre del Cotizante',\n",
    "    x='Cantidad_Inc',\n",
    "    palette='Reds_r'\n",
    ")\n",
    "plt.title(\"Top 10 afiliados con más incapacidades\")\n",
    "plt.xlabel(\"Cantidad de Incapacidades\")\n",
    "plt.ylabel(\"Afiliado\")\n",
    "plt.tight_layout()\n",
    "plt.show()\n"
   ]
  },
  {
   "cell_type": "markdown",
   "id": "c9dbaf66",
   "metadata": {},
   "source": [
    "### 🧠 Hallazgos Clave – Afiliados con recurrencia elevada\n",
    "\n",
    "- Se identificaron **217 afiliados** con más de 3 incapacidades en el periodo analizado, todas en estado `PAGADA` o `RESERVA`, lo que representa casos con impacto operativo y económico.\n",
    "\n",
    "- El afiliado con mayor número de incapacidades reportó **28 registros**, seguido por otros con 26, 21, y 20 incapacidades respectivamente. Esto podría sugerir:\n",
    "  - Enfermedades crónicas.\n",
    "  - Riesgo ocupacional no mitigado.\n",
    "  - Condiciones de trabajo inadecuadas.\n",
    "  - Posibles casos de simulación (requiere revisión clínica o administrativa).\n",
    "\n",
    "- Algunas de las empresas con empleados reincidentes incluyen:\n",
    "  - **CESAR AUGUSTO JEREZ BERRIO**\n",
    "  - **COLVISEG COLOMBIANA DE VIGILANCIA LTDA**\n",
    "  - **LABORATORIO DE BIOSUMINOS SAS**\n",
    "  - **AGROINDUSTRIAL DE PALMA ACETIFLO LTDA**\n",
    "\n",
    "- La mayoría de estos casos se concentran en municipios como **Yopal (85001)** y **Aguazul (85440)**.\n",
    "\n",
    "> ✅ **Recomendación para seguimiento:**\n",
    "> - Integrar esta lista con auditorías médicas y laborales.\n",
    "> - Contactar a empresas con casos frecuentes para implementar planes de mejora.\n",
    "> - Explorar relaciones con diagnósticos CIE 10 comunes en estos afiliados.\n",
    "\n",
    "> 🔍 **Nota técnica:** El resultado fue depurado para evitar duplicados causados por diferencias tipográficas en nombres o empresas. La agrupación se realizó sobre el número de documento (`N_Doc_Cotizante`) y se seleccionó la primera ocurrencia estandarizada por persona.\n"
   ]
  },
  {
   "cell_type": "markdown",
   "id": "ec3b954c",
   "metadata": {},
   "source": [
    "## 🏥 2.3. Ranking de IPS con mayor carga de incapacidades\n",
    "Evalúa si hay concentración excesiva en una IPS:"
   ]
  },
  {
   "cell_type": "code",
   "execution_count": 16,
   "id": "9b9b0fe6",
   "metadata": {},
   "outputs": [
    {
     "name": "stderr",
     "output_type": "stream",
     "text": [
      "C:\\Users\\osmarrincon\\AppData\\Local\\Temp\\ipykernel_26156\\73316650.py:5: SettingWithCopyWarning: \n",
      "A value is trying to be set on a copy of a slice from a DataFrame.\n",
      "Try using .loc[row_indexer,col_indexer] = value instead\n",
      "\n",
      "See the caveats in the documentation: https://pandas.pydata.org/pandas-docs/stable/user_guide/indexing.html#returning-a-view-versus-a-copy\n",
      "  df_ips['Nombre de la IPS'] = df_ips['Nombre de la IPS'].str.strip().str.upper()\n"
     ]
    },
    {
     "data": {
      "application/vnd.microsoft.datawrangler.viewer.v0+json": {
       "columns": [
        {
         "name": "index",
         "rawType": "int64",
         "type": "integer"
        },
        {
         "name": "Codico de Habilitacion IPS",
         "rawType": "object",
         "type": "string"
        },
        {
         "name": "IPS",
         "rawType": "object",
         "type": "string"
        },
        {
         "name": "Cantidad_Inc",
         "rawType": "int64",
         "type": "integer"
        }
       ],
       "ref": "965c9bc7-3d7d-49e3-ae8e-1597b9316b6a",
       "rows": [
        [
         "0",
         "850010000103",
         "HORO",
         "1117"
        ],
        [
         "1",
         "850010009801",
         "CLINICA CASANARE",
         "522"
        ],
        [
         "2",
         "850010014401",
         "ESE SALUD YOPAL",
         "420"
        ],
        [
         "3",
         "852500042203",
         "RED SALUD CASANARE ESE",
         "344"
        ],
        [
         "4",
         "854400606801",
         "IPS CENTRO DE ESPECIALISTAS DEL LLANO",
         "230"
        ],
        [
         "5",
         "901225308001",
         "BIHOSPHARMA SAS",
         "211"
        ],
        [
         "6",
         "850100019001",
         "HOSPITAL DE AGUAZUL JUAN HERNANDO URREGO ESE",
         "133"
        ],
        [
         "7",
         "850100664501",
         "MIMEDIC IPS",
         "107"
        ],
        [
         "8",
         "854100008001",
         "ESE HOSPITAL DE TAURAMENA",
         "86"
        ],
        [
         "9",
         "850010416501",
         "CLINICA MEDICENTER",
         "80"
        ]
       ],
       "shape": {
        "columns": 3,
        "rows": 10
       }
      },
      "text/html": [
       "<div>\n",
       "<style scoped>\n",
       "    .dataframe tbody tr th:only-of-type {\n",
       "        vertical-align: middle;\n",
       "    }\n",
       "\n",
       "    .dataframe tbody tr th {\n",
       "        vertical-align: top;\n",
       "    }\n",
       "\n",
       "    .dataframe thead th {\n",
       "        text-align: right;\n",
       "    }\n",
       "</style>\n",
       "<table border=\"1\" class=\"dataframe\">\n",
       "  <thead>\n",
       "    <tr style=\"text-align: right;\">\n",
       "      <th></th>\n",
       "      <th>Codico de Habilitacion IPS</th>\n",
       "      <th>IPS</th>\n",
       "      <th>Cantidad_Inc</th>\n",
       "    </tr>\n",
       "  </thead>\n",
       "  <tbody>\n",
       "    <tr>\n",
       "      <th>0</th>\n",
       "      <td>850010000103</td>\n",
       "      <td>HORO</td>\n",
       "      <td>1117</td>\n",
       "    </tr>\n",
       "    <tr>\n",
       "      <th>1</th>\n",
       "      <td>850010009801</td>\n",
       "      <td>CLINICA CASANARE</td>\n",
       "      <td>522</td>\n",
       "    </tr>\n",
       "    <tr>\n",
       "      <th>2</th>\n",
       "      <td>850010014401</td>\n",
       "      <td>ESE SALUD YOPAL</td>\n",
       "      <td>420</td>\n",
       "    </tr>\n",
       "    <tr>\n",
       "      <th>3</th>\n",
       "      <td>852500042203</td>\n",
       "      <td>RED SALUD CASANARE ESE</td>\n",
       "      <td>344</td>\n",
       "    </tr>\n",
       "    <tr>\n",
       "      <th>4</th>\n",
       "      <td>854400606801</td>\n",
       "      <td>IPS CENTRO DE ESPECIALISTAS DEL LLANO</td>\n",
       "      <td>230</td>\n",
       "    </tr>\n",
       "    <tr>\n",
       "      <th>5</th>\n",
       "      <td>901225308001</td>\n",
       "      <td>BIHOSPHARMA SAS</td>\n",
       "      <td>211</td>\n",
       "    </tr>\n",
       "    <tr>\n",
       "      <th>6</th>\n",
       "      <td>850100019001</td>\n",
       "      <td>HOSPITAL DE AGUAZUL JUAN HERNANDO URREGO ESE</td>\n",
       "      <td>133</td>\n",
       "    </tr>\n",
       "    <tr>\n",
       "      <th>7</th>\n",
       "      <td>850100664501</td>\n",
       "      <td>MIMEDIC IPS</td>\n",
       "      <td>107</td>\n",
       "    </tr>\n",
       "    <tr>\n",
       "      <th>8</th>\n",
       "      <td>854100008001</td>\n",
       "      <td>ESE HOSPITAL DE TAURAMENA</td>\n",
       "      <td>86</td>\n",
       "    </tr>\n",
       "    <tr>\n",
       "      <th>9</th>\n",
       "      <td>850010416501</td>\n",
       "      <td>CLINICA MEDICENTER</td>\n",
       "      <td>80</td>\n",
       "    </tr>\n",
       "  </tbody>\n",
       "</table>\n",
       "</div>"
      ],
      "text/plain": [
       "  Codico de Habilitacion IPS                                           IPS  \\\n",
       "0               850010000103                                          HORO   \n",
       "1               850010009801                              CLINICA CASANARE   \n",
       "2               850010014401                               ESE SALUD YOPAL   \n",
       "3               852500042203                        RED SALUD CASANARE ESE   \n",
       "4               854400606801         IPS CENTRO DE ESPECIALISTAS DEL LLANO   \n",
       "5               901225308001                               BIHOSPHARMA SAS   \n",
       "6               850100019001  HOSPITAL DE AGUAZUL JUAN HERNANDO URREGO ESE   \n",
       "7               850100664501                                   MIMEDIC IPS   \n",
       "8               854100008001                     ESE HOSPITAL DE TAURAMENA   \n",
       "9               850010416501                            CLINICA MEDICENTER   \n",
       "\n",
       "   Cantidad_Inc  \n",
       "0          1117  \n",
       "1           522  \n",
       "2           420  \n",
       "3           344  \n",
       "4           230  \n",
       "5           211  \n",
       "6           133  \n",
       "7           107  \n",
       "8            86  \n",
       "9            80  "
      ]
     },
     "metadata": {},
     "output_type": "display_data"
    }
   ],
   "source": [
    "# Considerar solo registros válidos (PAGADA y RESERVA)\n",
    "df_ips = df_incapacidades_clave[df_incapacidades_clave['Estado de la Incapacidad'].isin(['PAGADA', 'RESERVA'])]\n",
    "\n",
    "# Limpieza de campos claves\n",
    "df_ips['Nombre de la IPS'] = df_ips['Nombre de la IPS'].str.strip().str.upper()\n",
    "\n",
    "# Agrupar por código habilitación IPS\n",
    "ips_mayores = (\n",
    "    df_ips.groupby('Codico de Habilitacion IPS')\n",
    "    .agg({\n",
    "        'Nombre de la IPS': 'first',  # Nombre representativo\n",
    "        'N_Doc_Cotizante': 'count'   # Total incapacidades asociadas\n",
    "    })\n",
    "    .rename(columns={\n",
    "        'Nombre de la IPS': 'IPS',\n",
    "        'N_Doc_Cotizante': 'Cantidad_Inc'\n",
    "    })\n",
    "    .sort_values(by='Cantidad_Inc', ascending=False)\n",
    "    .reset_index()\n",
    ")\n",
    "\n",
    "top_ips = ips_mayores.head(10)\n",
    "\n",
    "display(top_ips)"
   ]
  },
  {
   "cell_type": "markdown",
   "id": "34a7980d",
   "metadata": {},
   "source": [
    "📊 Visualización"
   ]
  },
  {
   "cell_type": "code",
   "execution_count": 17,
   "id": "bd33a582",
   "metadata": {},
   "outputs": [
    {
     "name": "stderr",
     "output_type": "stream",
     "text": [
      "C:\\Users\\osmarrincon\\AppData\\Local\\Temp\\ipykernel_26156\\259950667.py:2: FutureWarning: \n",
      "\n",
      "Passing `palette` without assigning `hue` is deprecated and will be removed in v0.14.0. Assign the `y` variable to `hue` and set `legend=False` for the same effect.\n",
      "\n",
      "  sns.barplot(data=top_ips, y='IPS', x='Cantidad_Inc', palette='viridis')\n"
     ]
    },
    {
     "data": {
      "image/png": "[encoded data removed]",
      "text/plain": [
       "<Figure size 800x400 with 1 Axes>"
      ]
     },
     "metadata": {},
     "output_type": "display_data"
    }
   ],
   "source": [
    "plt.figure(figsize=(8, 4))\n",
    "sns.barplot(data=top_ips, y='IPS', x='Cantidad_Inc', palette='viridis')\n",
    "plt.title('Top 10 IPS con mayor carga de incapacidades')\n",
    "plt.xlabel('Cantidad de Incapacidades')\n",
    "plt.ylabel('IPS (Nombre referencial)')\n",
    "plt.tight_layout()\n",
    "plt.show()"
   ]
  },
  {
   "cell_type": "markdown",
   "id": "55020b04",
   "metadata": {},
   "source": [
    "### 🧠 Hallazgos Clave – Ranking de IPS con mayor carga de incapacidades\n",
    "\n",
    "- La IPS con mayor carga de incapacidades fue el **HORO (Hospital Regional de la Orinoquía)**, con **1.117 incapacidades registradas** durante el periodo analizado. Le siguen:\n",
    "  - **CLÍNICA CASANARE** – 522 eventos\n",
    "  - **ESE SALUD YOPAL** – 420 eventos\n",
    "  - **RED SALUD CASANARE ESE** – 344 eventos\n",
    "\n",
    "- Estas cuatro IPS concentran un volumen significativo del total de incapacidades reportadas en el sistema, lo que puede deberse a:\n",
    "  - Su carácter de **IPS principales a nivel municipal o regional**.\n",
    "  - Ser **centros de referencia clínica** para otros municipios o zonas rurales.\n",
    "  - Alta capacidad de resolución diagnóstica y hospitalaria.\n",
    "\n",
    "- En el caso de **HORO**, se identificó inicialmente una inconsistencia causada por la existencia de **dos códigos de habilitación activos** (850010000103 y 850010014401), lo que originaba una duplicación del conteo de incapacidades asociadas.\n",
    "\n",
    "> 🔍 **Nota técnica importante:**\n",
    "> - Se aplicó un proceso de normalización basado en el código `Codico de Habilitacion IPS`, consolidando registros duplicados y asignando un único identificador por IPS.\n",
    "> - Este error se originó por procesos operativos de digitación, lo que puede inducir a sobreestimaciones si no se corrige.\n",
    "\n",
    "> ✅ **Recomendaciones para los equipos administrativos y de datos:**\n",
    "> - Aplicar reglas de deduplicación automática por código de habilitación en futuros reportes.\n",
    "> - Priorizar auditorías clínicas o revisiones a las IPS con alta carga si, además, presentan recurrencia o diagnósticos frecuentes.\n",
    "\n",
    "> 📌 **Contexto adicional:**\n",
    "> HORO, ubicado en Yopal, es el hospital regional de referencia, por lo que su alta carga es esperable en un contexto clínico-territorial de segundo y tercer nivel.\n"
   ]
  },
  {
   "cell_type": "markdown",
   "id": "0595d3a9",
   "metadata": {},
   "source": [
    "### 2.3.1 Análisis de diagnósticos frecuentes en el HORO\n",
    "Analizar los códigos CIE 10 y detalles de diagnóstico utilizados por el Hospital Regional de la Orinoquía (HORO) para expedir incapacidades, con el fin de identificar concentraciones anómalas o patrones clínicos repetitivos que justifiquen validación o auditoría."
   ]
  },
  {
   "cell_type": "code",
   "execution_count": 18,
   "id": "947261c4",
   "metadata": {},
   "outputs": [
    {
     "data": {
      "application/vnd.microsoft.datawrangler.viewer.v0+json": {
       "columns": [
        {
         "name": "index",
         "rawType": "int64",
         "type": "integer"
        },
        {
         "name": "CIE_10",
         "rawType": "object",
         "type": "string"
        },
        {
         "name": "Cantidad",
         "rawType": "int64",
         "type": "integer"
        },
        {
         "name": "Diagnóstico Más Frecuente",
         "rawType": "object",
         "type": "string"
        }
       ],
       "ref": "53b4549d-b746-4c80-9afd-fb7f9a84b334",
       "rows": [
        [
         "0",
         "Z488",
         "82",
         "OTROS CUIDADOS ESPECIFICADOS POSTERIORES A LA CIRUGIA"
        ],
        [
         "1",
         "Z359",
         "56",
         "SUPERVISION DE EMBARAZO DE ALTO RIESGO. SIN OTRA ESPECIFICACION"
        ],
        [
         "2",
         "S525",
         "33",
         "FRACTURA DE LA EPIFISIS INFERIOR DEL RADIO"
        ],
        [
         "3",
         "S821",
         "29",
         "FRACTURA DE LA EPIFISIS SUPERIOR DE LA TIBIA"
        ],
        [
         "4",
         "M545",
         "28",
         "LUMBAGO NO ESPECIFICADO"
        ],
        [
         "5",
         "S420",
         "27",
         "FRACTURA DE LA CLAVICULA"
        ],
        [
         "6",
         "K359",
         "25",
         "APENDICITIS AGUDA. NO ESPECIFICADA"
        ],
        [
         "7",
         "R104",
         "23",
         "OTROS DOLORES ABDOMINALES Y LOS NO ESPECIFICADOS"
        ],
        [
         "8",
         "N390",
         "20",
         "INFECCION DE VIAS URINARIAS. SITIO NO ESPECIFICADO"
        ],
        [
         "9",
         "S422",
         "20",
         "FRACTURA DE LA EPIFISIS SUPERIOR DEL HUMERO"
        ]
       ],
       "shape": {
        "columns": 3,
        "rows": 10
       }
      },
      "text/html": [
       "<div>\n",
       "<style scoped>\n",
       "    .dataframe tbody tr th:only-of-type {\n",
       "        vertical-align: middle;\n",
       "    }\n",
       "\n",
       "    .dataframe tbody tr th {\n",
       "        vertical-align: top;\n",
       "    }\n",
       "\n",
       "    .dataframe thead th {\n",
       "        text-align: right;\n",
       "    }\n",
       "</style>\n",
       "<table border=\"1\" class=\"dataframe\">\n",
       "  <thead>\n",
       "    <tr style=\"text-align: right;\">\n",
       "      <th></th>\n",
       "      <th>CIE_10</th>\n",
       "      <th>Cantidad</th>\n",
       "      <th>Diagnóstico Más Frecuente</th>\n",
       "    </tr>\n",
       "  </thead>\n",
       "  <tbody>\n",
       "    <tr>\n",
       "      <th>0</th>\n",
       "      <td>Z488</td>\n",
       "      <td>82</td>\n",
       "      <td>OTROS CUIDADOS ESPECIFICADOS POSTERIORES A LA ...</td>\n",
       "    </tr>\n",
       "    <tr>\n",
       "      <th>1</th>\n",
       "      <td>Z359</td>\n",
       "      <td>56</td>\n",
       "      <td>SUPERVISION DE EMBARAZO DE ALTO RIESGO. SIN OT...</td>\n",
       "    </tr>\n",
       "    <tr>\n",
       "      <th>2</th>\n",
       "      <td>S525</td>\n",
       "      <td>33</td>\n",
       "      <td>FRACTURA DE LA EPIFISIS INFERIOR DEL RADIO</td>\n",
       "    </tr>\n",
       "    <tr>\n",
       "      <th>3</th>\n",
       "      <td>S821</td>\n",
       "      <td>29</td>\n",
       "      <td>FRACTURA DE LA EPIFISIS SUPERIOR DE LA TIBIA</td>\n",
       "    </tr>\n",
       "    <tr>\n",
       "      <th>4</th>\n",
       "      <td>M545</td>\n",
       "      <td>28</td>\n",
       "      <td>LUMBAGO NO ESPECIFICADO</td>\n",
       "    </tr>\n",
       "    <tr>\n",
       "      <th>5</th>\n",
       "      <td>S420</td>\n",
       "      <td>27</td>\n",
       "      <td>FRACTURA DE LA CLAVICULA</td>\n",
       "    </tr>\n",
       "    <tr>\n",
       "      <th>6</th>\n",
       "      <td>K359</td>\n",
       "      <td>25</td>\n",
       "      <td>APENDICITIS AGUDA. NO ESPECIFICADA</td>\n",
       "    </tr>\n",
       "    <tr>\n",
       "      <th>7</th>\n",
       "      <td>R104</td>\n",
       "      <td>23</td>\n",
       "      <td>OTROS DOLORES ABDOMINALES Y LOS NO ESPECIFICADOS</td>\n",
       "    </tr>\n",
       "    <tr>\n",
       "      <th>8</th>\n",
       "      <td>N390</td>\n",
       "      <td>20</td>\n",
       "      <td>INFECCION DE VIAS URINARIAS. SITIO NO ESPECIFI...</td>\n",
       "    </tr>\n",
       "    <tr>\n",
       "      <th>9</th>\n",
       "      <td>S422</td>\n",
       "      <td>20</td>\n",
       "      <td>FRACTURA DE LA EPIFISIS SUPERIOR DEL HUMERO</td>\n",
       "    </tr>\n",
       "  </tbody>\n",
       "</table>\n",
       "</div>"
      ],
      "text/plain": [
       "  CIE_10  Cantidad                          Diagnóstico Más Frecuente\n",
       "0   Z488        82  OTROS CUIDADOS ESPECIFICADOS POSTERIORES A LA ...\n",
       "1   Z359        56  SUPERVISION DE EMBARAZO DE ALTO RIESGO. SIN OT...\n",
       "2   S525        33         FRACTURA DE LA EPIFISIS INFERIOR DEL RADIO\n",
       "3   S821        29       FRACTURA DE LA EPIFISIS SUPERIOR DE LA TIBIA\n",
       "4   M545        28                            LUMBAGO NO ESPECIFICADO\n",
       "5   S420        27                           FRACTURA DE LA CLAVICULA\n",
       "6   K359        25                 APENDICITIS AGUDA. NO ESPECIFICADA\n",
       "7   R104        23   OTROS DOLORES ABDOMINALES Y LOS NO ESPECIFICADOS\n",
       "8   N390        20  INFECCION DE VIAS URINARIAS. SITIO NO ESPECIFI...\n",
       "9   S422        20        FRACTURA DE LA EPIFISIS SUPERIOR DEL HUMERO"
      ]
     },
     "metadata": {},
     "output_type": "display_data"
    }
   ],
   "source": [
    "# 1. Filtrar registros del HORO\n",
    "codigo_horo = '850010000103'\n",
    "df_horo = df_incapacidades_clave[\n",
    "    df_incapacidades_clave['Codico de Habilitacion IPS'] == codigo_horo\n",
    "].copy()\n",
    "\n",
    "# 2. Limpieza\n",
    "df_horo['CIE 10'] = df_horo['CIE 10'].str.strip().str.upper()\n",
    "df_horo['Detalle de la Incapacidad'] = df_horo['Detalle de la Incapacidad'].str.strip().str.upper()\n",
    "\n",
    "# 3. Renombrar la columna a un nombre sin espacios\n",
    "df_horo.rename(columns={'CIE 10': 'CIE_10'}, inplace=True)\n",
    "\n",
    "# 4. Conteo correcto de CIE con nombre explícito\n",
    "cie_counts = df_horo['CIE_10'].value_counts().head(10)\n",
    "cie_frecuentes_horo = cie_counts.reset_index()\n",
    "cie_frecuentes_horo.columns = ['CIE_10', 'Cantidad']\n",
    "\n",
    "# 5. Diagnóstico más frecuente por CIE\n",
    "detalles_comunes = (\n",
    "    df_horo.groupby('CIE_10')['Detalle de la Incapacidad']\n",
    "    .agg(lambda x: x.value_counts().idxmax())\n",
    "    .reset_index()\n",
    "    .rename(columns={'Detalle de la Incapacidad': 'Diagnóstico Más Frecuente'})\n",
    ")\n",
    "\n",
    "# 6. Merge limpio\n",
    "cie_frecuentes_horo = cie_frecuentes_horo.merge(detalles_comunes, on='CIE_10', how='left')\n",
    "\n",
    "# 7. Mostrar resultado\n",
    "display(cie_frecuentes_horo)"
   ]
  },
  {
   "cell_type": "markdown",
   "id": "c85743bd",
   "metadata": {},
   "source": [
    "📊 Visualización"
   ]
  },
  {
   "cell_type": "code",
   "execution_count": 19,
   "id": "74348754",
   "metadata": {},
   "outputs": [
    {
     "name": "stderr",
     "output_type": "stream",
     "text": [
      "C:\\Users\\osmarrincon\\AppData\\Local\\Temp\\ipykernel_26156\\2863542805.py:5: FutureWarning: \n",
      "\n",
      "Passing `palette` without assigning `hue` is deprecated and will be removed in v0.14.0. Assign the `y` variable to `hue` and set `legend=False` for the same effect.\n",
      "\n",
      "  sns.barplot(data=cie_frecuentes_horo, y='Diagnóstico Más Frecuente', x='Cantidad', palette='crest')\n"
     ]
    },
    {
     "data": {
      "image/png": "[encoded data removed]",
      "text/plain": [
       "<Figure size 1000x500 with 1 Axes>"
      ]
     },
     "metadata": {},
     "output_type": "display_data"
    }
   ],
   "source": [
    "import matplotlib.pyplot as plt\n",
    "import seaborn as sns\n",
    "\n",
    "plt.figure(figsize=(10, 5))\n",
    "sns.barplot(data=cie_frecuentes_horo, y='Diagnóstico Más Frecuente', x='Cantidad', palette='crest')\n",
    "plt.title(\"Top 10 diagnósticos con más incapacidades emitidas por el HORO\")\n",
    "plt.xlabel(\"Cantidad de Incapacidades\")\n",
    "plt.ylabel(\"Diagnóstico CIE-10\")\n",
    "plt.tight_layout()\n",
    "plt.show()"
   ]
  },
  {
   "cell_type": "code",
   "execution_count": 20,
   "id": "4d3ace9f",
   "metadata": {},
   "outputs": [
    {
     "data": {
      "text/plain": [
       "371"
      ]
     },
     "execution_count": 20,
     "metadata": {},
     "output_type": "execute_result"
    }
   ],
   "source": [
    "df_horo['CIE_10'].nunique()"
   ]
  },
  {
   "cell_type": "markdown",
   "id": "ac577cf4",
   "metadata": {},
   "source": [
    "### 🧠 Hallazgos Clave – Diagnósticos más frecuentes en el HORO\n",
    "\n",
    "- El Hospital Regional de la Orinoquía (HORO) reportó un total de **1.117 incapacidades** en el periodo analizado.\n",
    "- De estas, los 10 códigos CIE-10 más frecuentes representaron **343 registros**, lo que equivale a **solo el 30,7% del total**.\n",
    "- El número total de códigos CIE-10 distintos utilizados fue de **371**, lo que evidencia una **alta dispersión diagnóstica**.\n",
    "\n",
    "- Los diagnósticos más frecuentes están asociados a condiciones clínicas propias de un hospital de segundo o tercer nivel, como:\n",
    "  - Procedimientos quirúrgicos y posoperatorios (`Z488`)\n",
    "  - Supervisión de embarazo de alto riesgo (`Z359`)\n",
    "  - Fracturas complejas (`S525`, `S821`, `S422`)\n",
    "  - Patologías digestivas y urinarias (`K590`, `N390`)\n",
    "\n",
    "> ✅ **Conclusión técnica:**  \n",
    "> No se observan patrones de concentración anómalos ni signos de validación excesiva o mecánica.  \n",
    "> La distribución clínica es coherente con el perfil institucional del HORO como IPS de referencia departamental.\n",
    "\n",
    "> 🔍 **Recomendación:**  \n",
    "> Mantener seguimiento trimestral y, de ser necesario, auditar historias clínicas de diagnósticos de alta recurrencia en afiliados reincidentes (ver sección 2.2)."
   ]
  },
  {
   "cell_type": "markdown",
   "id": "f2ba6982",
   "metadata": {},
   "source": [
    "## 🏢 2.4. Empresas con muchos trabajadores incapacitados\n",
    "Identificar empresas con mayor carga de incapacidades registradas, tanto en volumen bruto como en patrones que puedan indicar negligencia, condiciones laborales desfavorables o posibles esquemas de fraude repetitivo."
   ]
  },
  {
   "cell_type": "code",
   "execution_count": 21,
   "id": "707a7dc1",
   "metadata": {},
   "outputs": [
    {
     "data": {
      "application/vnd.microsoft.datawrangler.viewer.v0+json": {
       "columns": [
        {
         "name": "index",
         "rawType": "int64",
         "type": "integer"
        },
        {
         "name": "ID_Empresa",
         "rawType": "object",
         "type": "string"
        },
        {
         "name": "Empresa",
         "rawType": "object",
         "type": "string"
        },
        {
         "name": "Cantidad_Inc",
         "rawType": "int64",
         "type": "integer"
        }
       ],
       "ref": "f42fcaf4-2e3e-4daa-abc1-d7be287ffd2c",
       "rows": [
        [
         "394",
         "860090721-7",
         "COLVISEG COLOMBIANA DE VIGILANCIA Y SEGURIDAD LTDA",
         "125"
        ],
        [
         "431",
         "891100445-6",
         "ORF  SA",
         "81"
        ],
        [
         "560",
         "900396965-6",
         "AGROINDUSTRIAL DE PALMA ACEITERA SA SUCURSAL COLOMBIA",
         "71"
        ],
        [
         "349",
         "844000755-4",
         "EMPRESA DE ACUEDUCTO, ALCANTARILLADO Y ASEO DE YOPAL EICE-ESP",
         "71"
        ],
        [
         "314",
         "830024478-1",
         "AVIZOR SEGURIDAD LTDA",
         "56"
        ],
        [
         "210",
         "7229896-2",
         "CESAR AUGUSTO JEREZ BERRIO",
         "52"
        ],
        [
         "606",
         "900501686-7",
         "SERVICASINOS CATERING SAS",
         "51"
        ],
        [
         "526",
         "900276962-1",
         "D1 SAS",
         "49"
        ],
        [
         "702",
         "901028135-6",
         "CONSORCIO MMC",
         "39"
        ],
        [
         "439",
         "891855847-3",
         "CLINICA CASANARE SA",
         "38"
        ]
       ],
       "shape": {
        "columns": 3,
        "rows": 10
       }
      },
      "text/html": [
       "<div>\n",
       "<style scoped>\n",
       "    .dataframe tbody tr th:only-of-type {\n",
       "        vertical-align: middle;\n",
       "    }\n",
       "\n",
       "    .dataframe tbody tr th {\n",
       "        vertical-align: top;\n",
       "    }\n",
       "\n",
       "    .dataframe thead th {\n",
       "        text-align: right;\n",
       "    }\n",
       "</style>\n",
       "<table border=\"1\" class=\"dataframe\">\n",
       "  <thead>\n",
       "    <tr style=\"text-align: right;\">\n",
       "      <th></th>\n",
       "      <th>ID_Empresa</th>\n",
       "      <th>Empresa</th>\n",
       "      <th>Cantidad_Inc</th>\n",
       "    </tr>\n",
       "  </thead>\n",
       "  <tbody>\n",
       "    <tr>\n",
       "      <th>394</th>\n",
       "      <td>860090721-7</td>\n",
       "      <td>COLVISEG COLOMBIANA DE VIGILANCIA Y SEGURIDAD ...</td>\n",
       "      <td>125</td>\n",
       "    </tr>\n",
       "    <tr>\n",
       "      <th>431</th>\n",
       "      <td>891100445-6</td>\n",
       "      <td>ORF  SA</td>\n",
       "      <td>81</td>\n",
       "    </tr>\n",
       "    <tr>\n",
       "      <th>560</th>\n",
       "      <td>900396965-6</td>\n",
       "      <td>AGROINDUSTRIAL DE PALMA ACEITERA SA SUCURSAL C...</td>\n",
       "      <td>71</td>\n",
       "    </tr>\n",
       "    <tr>\n",
       "      <th>349</th>\n",
       "      <td>844000755-4</td>\n",
       "      <td>EMPRESA DE ACUEDUCTO, ALCANTARILLADO Y ASEO DE...</td>\n",
       "      <td>71</td>\n",
       "    </tr>\n",
       "    <tr>\n",
       "      <th>314</th>\n",
       "      <td>830024478-1</td>\n",
       "      <td>AVIZOR SEGURIDAD LTDA</td>\n",
       "      <td>56</td>\n",
       "    </tr>\n",
       "    <tr>\n",
       "      <th>210</th>\n",
       "      <td>7229896-2</td>\n",
       "      <td>CESAR AUGUSTO JEREZ BERRIO</td>\n",
       "      <td>52</td>\n",
       "    </tr>\n",
       "    <tr>\n",
       "      <th>606</th>\n",
       "      <td>900501686-7</td>\n",
       "      <td>SERVICASINOS CATERING SAS</td>\n",
       "      <td>51</td>\n",
       "    </tr>\n",
       "    <tr>\n",
       "      <th>526</th>\n",
       "      <td>900276962-1</td>\n",
       "      <td>D1 SAS</td>\n",
       "      <td>49</td>\n",
       "    </tr>\n",
       "    <tr>\n",
       "      <th>702</th>\n",
       "      <td>901028135-6</td>\n",
       "      <td>CONSORCIO MMC</td>\n",
       "      <td>39</td>\n",
       "    </tr>\n",
       "    <tr>\n",
       "      <th>439</th>\n",
       "      <td>891855847-3</td>\n",
       "      <td>CLINICA CASANARE SA</td>\n",
       "      <td>38</td>\n",
       "    </tr>\n",
       "  </tbody>\n",
       "</table>\n",
       "</div>"
      ],
      "text/plain": [
       "      ID_Empresa                                            Empresa  \\\n",
       "394  860090721-7  COLVISEG COLOMBIANA DE VIGILANCIA Y SEGURIDAD ...   \n",
       "431  891100445-6                                            ORF  SA   \n",
       "560  900396965-6  AGROINDUSTRIAL DE PALMA ACEITERA SA SUCURSAL C...   \n",
       "349  844000755-4  EMPRESA DE ACUEDUCTO, ALCANTARILLADO Y ASEO DE...   \n",
       "314  830024478-1                              AVIZOR SEGURIDAD LTDA   \n",
       "210    7229896-2                         CESAR AUGUSTO JEREZ BERRIO   \n",
       "606  900501686-7                          SERVICASINOS CATERING SAS   \n",
       "526  900276962-1                                             D1 SAS   \n",
       "702  901028135-6                                      CONSORCIO MMC   \n",
       "439  891855847-3                                CLINICA CASANARE SA   \n",
       "\n",
       "     Cantidad_Inc  \n",
       "394           125  \n",
       "431            81  \n",
       "560            71  \n",
       "349            71  \n",
       "314            56  \n",
       "210            52  \n",
       "606            51  \n",
       "526            49  \n",
       "702            39  \n",
       "439            38  "
      ]
     },
     "metadata": {},
     "output_type": "display_data"
    }
   ],
   "source": [
    "# 1. Filtrar registros válidos\n",
    "df_empresas = df_incapacidades_clave[df_incapacidades_clave['Estado de la Incapacidad'].isin(['PAGADA', 'RESERVA'])].copy()\n",
    "\n",
    "# 2. Limpieza\n",
    "df_empresas['Nombre de la Emprea'] = df_empresas['Nombre de la Emprea'].str.strip().str.upper()\n",
    "\n",
    "# 3. Agrupar por código de empleador\n",
    "empresas_mayores = (\n",
    "    df_empresas.groupby('Numero de Documentos del empelador')\n",
    "    .agg({\n",
    "        'Nombre de la Emprea': 'first',\n",
    "        'N_Doc_Cotizante': 'count'\n",
    "    })\n",
    "    .reset_index()\n",
    "    .rename(columns={\n",
    "        'Numero de Documentos del empelador': 'ID_Empresa',\n",
    "        'Nombre de la Emprea': 'Empresa',\n",
    "        'N_Doc_Cotizante': 'Cantidad_Inc'\n",
    "    })\n",
    "    .sort_values(by='Cantidad_Inc', ascending=False)\n",
    ")\n",
    "\n",
    "top_empresas = empresas_mayores.head(10)\n",
    "\n",
    "display(top_empresas)\n"
   ]
  },
  {
   "cell_type": "markdown",
   "id": "901c727a",
   "metadata": {},
   "source": [
    "📊 Visualización"
   ]
  },
  {
   "cell_type": "code",
   "execution_count": 22,
   "id": "7aa91443",
   "metadata": {},
   "outputs": [
    {
     "name": "stderr",
     "output_type": "stream",
     "text": [
      "C:\\Users\\osmarrincon\\AppData\\Local\\Temp\\ipykernel_26156\\967416400.py:2: FutureWarning: \n",
      "\n",
      "Passing `palette` without assigning `hue` is deprecated and will be removed in v0.14.0. Assign the `y` variable to `hue` and set `legend=False` for the same effect.\n",
      "\n",
      "  sns.barplot(data=top_empresas, y='Empresa', x='Cantidad_Inc', palette='magma')\n"
     ]
    },
    {
     "data": {
      "image/png": "[encoded data removed]",
      "text/plain": [
       "<Figure size 1000x500 with 1 Axes>"
      ]
     },
     "metadata": {},
     "output_type": "display_data"
    }
   ],
   "source": [
    "plt.figure(figsize=(10, 5))\n",
    "sns.barplot(data=top_empresas, y='Empresa', x='Cantidad_Inc', palette='magma')\n",
    "plt.title(\"Top 10 empresas con más incapacidades\")\n",
    "plt.xlabel(\"Cantidad de Incapacidades\")\n",
    "plt.ylabel(\"Empresa\")\n",
    "plt.tight_layout()\n",
    "plt.show()"
   ]
  },
  {
   "cell_type": "markdown",
   "id": "7209c781",
   "metadata": {},
   "source": [
    "### 🧠 Hallazgos Clave – Empresas con más trabajadores incapacitados\n",
    "\n",
    "- Se identificaron 10 empresas con mayor volumen de incapacidades registradas (solo en estado `PAGADA` o `RESERVA`), con un rango entre **40 y 130 eventos**.\n",
    "- Las empresas de vigilancia, agroindustria, alimentos y clínicas representan la mayoría de casos, lo que sugiere:\n",
    "  - Sectores con **alta rotación y carga física**.\n",
    "  - Potenciales debilidades en protocolos de prevención.\n",
    "  - Falta de intervención efectiva de las ARL.\n",
    "\n",
    "- Las tres empresas con mayor carga de incapacidades fueron:\n",
    "  1. **COLVISEG COLOMBIANA DE VIGILANCIA Y SEGURIDAD LTDA**\n",
    "  2. **ORF SA**\n",
    "  3. **AGROINDUSTRIAL DE PALMA ACEITERA SA**\n",
    "\n",
    "> ✅ **Recomendaciones:**\n",
    "> - Cruzar esta lista con empleados reincidentes (ver sección 2.2).\n",
    "> - Coordinar reuniones técnicas con las ARL correspondientes.\n",
    "> - Exigir planes de acción preventivos en salud laboral, con seguimiento semestral.\n",
    "\n",
    "> 🔍 **Nota técnica:**\n",
    "> Se utilizó el NIT de cada empresa (`Numero de Documentos del empelador`) como ID primario para evitar errores de digitación en el nombre.\n"
   ]
  },
  {
   "cell_type": "markdown",
   "id": "8ff902f7",
   "metadata": {},
   "source": [
    "### 2.4.1. Empleados recurrentes en empresas con alta carga de incapacidades\n",
    "Identificar trabajadores con más de 3 incapacidades dentro de las 10 empresas con mayor volumen de eventos, con el fin de detectar concentraciones internas de riesgo, reincidencia clínica o posibles patrones de abuso del sistema."
   ]
  },
  {
   "cell_type": "code",
   "execution_count": 23,
   "id": "8aabc14f",
   "metadata": {},
   "outputs": [
    {
     "data": {
      "application/vnd.microsoft.datawrangler.viewer.v0+json": {
       "columns": [
        {
         "name": "index",
         "rawType": "int64",
         "type": "integer"
        },
        {
         "name": "Numero de Documentos del empelador",
         "rawType": "object",
         "type": "string"
        },
        {
         "name": "N_Doc_Cotizante",
         "rawType": "object",
         "type": "string"
        },
        {
         "name": "Total_Inc",
         "rawType": "int64",
         "type": "integer"
        },
        {
         "name": "Nombre de la Emprea",
         "rawType": "object",
         "type": "string"
        },
        {
         "name": "Nombre del Cotizante",
         "rawType": "object",
         "type": "string"
        },
        {
         "name": "Municipio",
         "rawType": "object",
         "type": "string"
        }
       ],
       "ref": "1760499a-0037-4fc7-82d3-6ddf10a2fb65",
       "rows": [
        [
         "3",
         "7229896-2",
         "18144502",
         "28",
         "CESAR AUGUSTO JEREZ BERRIO",
         "JORGE ORLANDO ORTEGA GONZALEZ ",
         "85010"
        ],
        [
         "2",
         "7229896-2",
         "18144502",
         "28",
         "CESAR AUGUSTO JEREZ BERRIO",
         "JORGE ORLANDO ORTEGA GONZALEZ",
         "85010"
        ],
        [
         "4",
         "7229896-2",
         "18144502",
         "28",
         "CESAR AUGUSTO JEREZ BERRIO",
         "JORGE ORLANDO ORTEGA GONZALEZ",
         "85001"
        ],
        [
         "18",
         "860090721-7",
         "1116041822",
         "26",
         "COLVISEG COLOMBIANA DE VIGILANCIA Y SEGURIDAD LTDA",
         "RODE ESTHER MORALES BLANCO",
         "85225"
        ],
        [
         "19",
         "860090721-7",
         "1116041822",
         "26",
         "COLVISEG COLOMBIANA DE VIGILANCIA Y SEGURIDAD LTDA",
         "RODE ESTHER MORALES BLANCO",
         "85001"
        ],
        [
         "47",
         "900396965-6",
         "74814526",
         "16",
         "AGROINDUSTRIAL DE PALMA ACEITERA S A SUCURSAL COLOMBIA",
         "CARLOS JULIO ALFONSO TORRES",
         "85001"
        ],
        [
         "46",
         "900396965-6",
         "74814526",
         "16",
         "AGROINDUSTRIAL DE PALMA ACEITERA SA SUCURSAL COLOMBIA",
         "CARLOS JULIO ALFONSO TORRES",
         "85001"
        ],
        [
         "50",
         "900501686-7",
         "1115853553",
         "15",
         "SERVICASINOS CATERING SAS",
         "DIANA PATRICIA MUJICA LOZANO",
         "85410"
        ],
        [
         "51",
         "900501686-7",
         "1115917866",
         "12",
         "SERVICASINOS CATERING SAS",
         "LUZ HASBLEIDY HERRERA CHAVEZ",
         "85410"
        ],
        [
         "52",
         "900501686-7",
         "39950013",
         "12",
         "SERVICASINOS CATERING SAS",
         "LUZ ANGELA RIVERA BULLA",
         "85440"
        ],
        [
         "49",
         "900396965-6",
         "9430035",
         "11",
         "AGROINDUSTRIAL DE PALMA ACEITERA S A SUCURSAL COLOMBIA",
         "HUGO ALEXANDER PALOMINO GONZALEZ",
         "85001"
        ],
        [
         "48",
         "900396965-6",
         "9430035",
         "11",
         "AGROINDUSTRIAL DE PALMA ACEITERA SA SUCURSAL COLOMBIA",
         "HUGO ALEXANDER PALOMINO GONZALEZ",
         "85001"
        ],
        [
         "23",
         "860090721-7",
         "1118537899",
         "11",
         "COLVISEG COLOMBIANA DE VIGILANCIA Y SEGURIDAD LTDA",
         "GIOHANNA NATALY CRUZ CHAPARRO",
         "85001"
        ],
        [
         "36",
         "891100445-6",
         "1115862607",
         "10",
         "ORF SA",
         "FELIX ORIOL MENDIVELSO CHAPARRO",
         "85250"
        ],
        [
         "11",
         "844000755-4",
         "47428541",
         "10",
         "EMPRESA DE ACUEDUCTO, ALCANTARILLADO Y ASEO DE YOPAL EICE ESP",
         "NANCY SERRANO MANTILLA",
         "85001"
        ],
        [
         "37",
         "891100445-6",
         "1115862607",
         "10",
         "ORF  SA",
         "FELIX ORIOL MENDIVELSO CHAPARRO",
         "85250"
        ],
        [
         "12",
         "844000755-4",
         "47428541",
         "10",
         "EMPRESA DE ACUEDUCTO, ALCANTARILLADO Y ASEO DE YOPAL EICE-ESP",
         "NANCY SERRANO MANTILLA",
         "85001"
        ],
        [
         "28",
         "860090721-7",
         "36457802",
         "7",
         "COLVISEG COLOMBIANA DE VIGILANCIA Y SEGURIDAD LTDA",
         "EVARISTA GARCIA MORENO",
         "85010"
        ],
        [
         "39",
         "891100445-6",
         "1116043382",
         "7",
         "ORF SA",
         "MIGUEL ANGEL PEREZ ANZUETA",
         "85263"
        ],
        [
         "24",
         "860090721-7",
         "1118551929",
         "7",
         "COLVISEG COLOMBIANA DE VIGILANCIA Y SEGURIDAD LTDA",
         "DASY YAMILE LAVERDE PEREZ",
         "85001"
        ]
       ],
       "shape": {
        "columns": 6,
        "rows": 20
       }
      },
      "text/html": [
       "<div>\n",
       "<style scoped>\n",
       "    .dataframe tbody tr th:only-of-type {\n",
       "        vertical-align: middle;\n",
       "    }\n",
       "\n",
       "    .dataframe tbody tr th {\n",
       "        vertical-align: top;\n",
       "    }\n",
       "\n",
       "    .dataframe thead th {\n",
       "        text-align: right;\n",
       "    }\n",
       "</style>\n",
       "<table border=\"1\" class=\"dataframe\">\n",
       "  <thead>\n",
       "    <tr style=\"text-align: right;\">\n",
       "      <th></th>\n",
       "      <th>Numero de Documentos del empelador</th>\n",
       "      <th>N_Doc_Cotizante</th>\n",
       "      <th>Total_Inc</th>\n",
       "      <th>Nombre de la Emprea</th>\n",
       "      <th>Nombre del Cotizante</th>\n",
       "      <th>Municipio</th>\n",
       "    </tr>\n",
       "  </thead>\n",
       "  <tbody>\n",
       "    <tr>\n",
       "      <th>3</th>\n",
       "      <td>7229896-2</td>\n",
       "      <td>18144502</td>\n",
       "      <td>28</td>\n",
       "      <td>CESAR AUGUSTO JEREZ BERRIO</td>\n",
       "      <td>JORGE ORLANDO ORTEGA GONZALEZ</td>\n",
       "      <td>85010</td>\n",
       "    </tr>\n",
       "    <tr>\n",
       "      <th>2</th>\n",
       "      <td>7229896-2</td>\n",
       "      <td>18144502</td>\n",
       "      <td>28</td>\n",
       "      <td>CESAR AUGUSTO JEREZ BERRIO</td>\n",
       "      <td>JORGE ORLANDO ORTEGA GONZALEZ</td>\n",
       "      <td>85010</td>\n",
       "    </tr>\n",
       "    <tr>\n",
       "      <th>4</th>\n",
       "      <td>7229896-2</td>\n",
       "      <td>18144502</td>\n",
       "      <td>28</td>\n",
       "      <td>CESAR AUGUSTO JEREZ BERRIO</td>\n",
       "      <td>JORGE ORLANDO ORTEGA GONZALEZ</td>\n",
       "      <td>85001</td>\n",
       "    </tr>\n",
       "    <tr>\n",
       "      <th>18</th>\n",
       "      <td>860090721-7</td>\n",
       "      <td>1116041822</td>\n",
       "      <td>26</td>\n",
       "      <td>COLVISEG COLOMBIANA DE VIGILANCIA Y SEGURIDAD ...</td>\n",
       "      <td>RODE ESTHER MORALES BLANCO</td>\n",
       "      <td>85225</td>\n",
       "    </tr>\n",
       "    <tr>\n",
       "      <th>19</th>\n",
       "      <td>860090721-7</td>\n",
       "      <td>1116041822</td>\n",
       "      <td>26</td>\n",
       "      <td>COLVISEG COLOMBIANA DE VIGILANCIA Y SEGURIDAD ...</td>\n",
       "      <td>RODE ESTHER MORALES BLANCO</td>\n",
       "      <td>85001</td>\n",
       "    </tr>\n",
       "    <tr>\n",
       "      <th>47</th>\n",
       "      <td>900396965-6</td>\n",
       "      <td>74814526</td>\n",
       "      <td>16</td>\n",
       "      <td>AGROINDUSTRIAL DE PALMA ACEITERA S A SUCURSAL ...</td>\n",
       "      <td>CARLOS JULIO ALFONSO TORRES</td>\n",
       "      <td>85001</td>\n",
       "    </tr>\n",
       "    <tr>\n",
       "      <th>46</th>\n",
       "      <td>900396965-6</td>\n",
       "      <td>74814526</td>\n",
       "      <td>16</td>\n",
       "      <td>AGROINDUSTRIAL DE PALMA ACEITERA SA SUCURSAL C...</td>\n",
       "      <td>CARLOS JULIO ALFONSO TORRES</td>\n",
       "      <td>85001</td>\n",
       "    </tr>\n",
       "    <tr>\n",
       "      <th>50</th>\n",
       "      <td>900501686-7</td>\n",
       "      <td>1115853553</td>\n",
       "      <td>15</td>\n",
       "      <td>SERVICASINOS CATERING SAS</td>\n",
       "      <td>DIANA PATRICIA MUJICA LOZANO</td>\n",
       "      <td>85410</td>\n",
       "    </tr>\n",
       "    <tr>\n",
       "      <th>51</th>\n",
       "      <td>900501686-7</td>\n",
       "      <td>1115917866</td>\n",
       "      <td>12</td>\n",
       "      <td>SERVICASINOS CATERING SAS</td>\n",
       "      <td>LUZ HASBLEIDY HERRERA CHAVEZ</td>\n",
       "      <td>85410</td>\n",
       "    </tr>\n",
       "    <tr>\n",
       "      <th>52</th>\n",
       "      <td>900501686-7</td>\n",
       "      <td>39950013</td>\n",
       "      <td>12</td>\n",
       "      <td>SERVICASINOS CATERING SAS</td>\n",
       "      <td>LUZ ANGELA RIVERA BULLA</td>\n",
       "      <td>85440</td>\n",
       "    </tr>\n",
       "    <tr>\n",
       "      <th>49</th>\n",
       "      <td>900396965-6</td>\n",
       "      <td>9430035</td>\n",
       "      <td>11</td>\n",
       "      <td>AGROINDUSTRIAL DE PALMA ACEITERA S A SUCURSAL ...</td>\n",
       "      <td>HUGO ALEXANDER PALOMINO GONZALEZ</td>\n",
       "      <td>85001</td>\n",
       "    </tr>\n",
       "    <tr>\n",
       "      <th>48</th>\n",
       "      <td>900396965-6</td>\n",
       "      <td>9430035</td>\n",
       "      <td>11</td>\n",
       "      <td>AGROINDUSTRIAL DE PALMA ACEITERA SA SUCURSAL C...</td>\n",
       "      <td>HUGO ALEXANDER PALOMINO GONZALEZ</td>\n",
       "      <td>85001</td>\n",
       "    </tr>\n",
       "    <tr>\n",
       "      <th>23</th>\n",
       "      <td>860090721-7</td>\n",
       "      <td>1118537899</td>\n",
       "      <td>11</td>\n",
       "      <td>COLVISEG COLOMBIANA DE VIGILANCIA Y SEGURIDAD ...</td>\n",
       "      <td>GIOHANNA NATALY CRUZ CHAPARRO</td>\n",
       "      <td>85001</td>\n",
       "    </tr>\n",
       "    <tr>\n",
       "      <th>36</th>\n",
       "      <td>891100445-6</td>\n",
       "      <td>1115862607</td>\n",
       "      <td>10</td>\n",
       "      <td>ORF SA</td>\n",
       "      <td>FELIX ORIOL MENDIVELSO CHAPARRO</td>\n",
       "      <td>85250</td>\n",
       "    </tr>\n",
       "    <tr>\n",
       "      <th>11</th>\n",
       "      <td>844000755-4</td>\n",
       "      <td>47428541</td>\n",
       "      <td>10</td>\n",
       "      <td>EMPRESA DE ACUEDUCTO, ALCANTARILLADO Y ASEO DE...</td>\n",
       "      <td>NANCY SERRANO MANTILLA</td>\n",
       "      <td>85001</td>\n",
       "    </tr>\n",
       "    <tr>\n",
       "      <th>37</th>\n",
       "      <td>891100445-6</td>\n",
       "      <td>1115862607</td>\n",
       "      <td>10</td>\n",
       "      <td>ORF  SA</td>\n",
       "      <td>FELIX ORIOL MENDIVELSO CHAPARRO</td>\n",
       "      <td>85250</td>\n",
       "    </tr>\n",
       "    <tr>\n",
       "      <th>12</th>\n",
       "      <td>844000755-4</td>\n",
       "      <td>47428541</td>\n",
       "      <td>10</td>\n",
       "      <td>EMPRESA DE ACUEDUCTO, ALCANTARILLADO Y ASEO DE...</td>\n",
       "      <td>NANCY SERRANO MANTILLA</td>\n",
       "      <td>85001</td>\n",
       "    </tr>\n",
       "    <tr>\n",
       "      <th>28</th>\n",
       "      <td>860090721-7</td>\n",
       "      <td>36457802</td>\n",
       "      <td>7</td>\n",
       "      <td>COLVISEG COLOMBIANA DE VIGILANCIA Y SEGURIDAD ...</td>\n",
       "      <td>EVARISTA GARCIA MORENO</td>\n",
       "      <td>85010</td>\n",
       "    </tr>\n",
       "    <tr>\n",
       "      <th>39</th>\n",
       "      <td>891100445-6</td>\n",
       "      <td>1116043382</td>\n",
       "      <td>7</td>\n",
       "      <td>ORF SA</td>\n",
       "      <td>MIGUEL ANGEL PEREZ ANZUETA</td>\n",
       "      <td>85263</td>\n",
       "    </tr>\n",
       "    <tr>\n",
       "      <th>24</th>\n",
       "      <td>860090721-7</td>\n",
       "      <td>1118551929</td>\n",
       "      <td>7</td>\n",
       "      <td>COLVISEG COLOMBIANA DE VIGILANCIA Y SEGURIDAD ...</td>\n",
       "      <td>DASY YAMILE LAVERDE PEREZ</td>\n",
       "      <td>85001</td>\n",
       "    </tr>\n",
       "  </tbody>\n",
       "</table>\n",
       "</div>"
      ],
      "text/plain": [
       "   Numero de Documentos del empelador N_Doc_Cotizante  Total_Inc  \\\n",
       "3                           7229896-2        18144502         28   \n",
       "2                           7229896-2        18144502         28   \n",
       "4                           7229896-2        18144502         28   \n",
       "18                        860090721-7      1116041822         26   \n",
       "19                        860090721-7      1116041822         26   \n",
       "47                        900396965-6        74814526         16   \n",
       "46                        900396965-6        74814526         16   \n",
       "50                        900501686-7      1115853553         15   \n",
       "51                        900501686-7      1115917866         12   \n",
       "52                        900501686-7        39950013         12   \n",
       "49                        900396965-6         9430035         11   \n",
       "48                        900396965-6         9430035         11   \n",
       "23                        860090721-7      1118537899         11   \n",
       "36                        891100445-6      1115862607         10   \n",
       "11                        844000755-4        47428541         10   \n",
       "37                        891100445-6      1115862607         10   \n",
       "12                        844000755-4        47428541         10   \n",
       "28                        860090721-7        36457802          7   \n",
       "39                        891100445-6      1116043382          7   \n",
       "24                        860090721-7      1118551929          7   \n",
       "\n",
       "                                  Nombre de la Emprea  \\\n",
       "3                          CESAR AUGUSTO JEREZ BERRIO   \n",
       "2                          CESAR AUGUSTO JEREZ BERRIO   \n",
       "4                          CESAR AUGUSTO JEREZ BERRIO   \n",
       "18  COLVISEG COLOMBIANA DE VIGILANCIA Y SEGURIDAD ...   \n",
       "19  COLVISEG COLOMBIANA DE VIGILANCIA Y SEGURIDAD ...   \n",
       "47  AGROINDUSTRIAL DE PALMA ACEITERA S A SUCURSAL ...   \n",
       "46  AGROINDUSTRIAL DE PALMA ACEITERA SA SUCURSAL C...   \n",
       "50                          SERVICASINOS CATERING SAS   \n",
       "51                          SERVICASINOS CATERING SAS   \n",
       "52                          SERVICASINOS CATERING SAS   \n",
       "49  AGROINDUSTRIAL DE PALMA ACEITERA S A SUCURSAL ...   \n",
       "48  AGROINDUSTRIAL DE PALMA ACEITERA SA SUCURSAL C...   \n",
       "23  COLVISEG COLOMBIANA DE VIGILANCIA Y SEGURIDAD ...   \n",
       "36                                             ORF SA   \n",
       "11  EMPRESA DE ACUEDUCTO, ALCANTARILLADO Y ASEO DE...   \n",
       "37                                            ORF  SA   \n",
       "12  EMPRESA DE ACUEDUCTO, ALCANTARILLADO Y ASEO DE...   \n",
       "28  COLVISEG COLOMBIANA DE VIGILANCIA Y SEGURIDAD ...   \n",
       "39                                             ORF SA   \n",
       "24  COLVISEG COLOMBIANA DE VIGILANCIA Y SEGURIDAD ...   \n",
       "\n",
       "                Nombre del Cotizante Municipio  \n",
       "3     JORGE ORLANDO ORTEGA GONZALEZ      85010  \n",
       "2      JORGE ORLANDO ORTEGA GONZALEZ     85010  \n",
       "4      JORGE ORLANDO ORTEGA GONZALEZ     85001  \n",
       "18        RODE ESTHER MORALES BLANCO     85225  \n",
       "19        RODE ESTHER MORALES BLANCO     85001  \n",
       "47       CARLOS JULIO ALFONSO TORRES     85001  \n",
       "46       CARLOS JULIO ALFONSO TORRES     85001  \n",
       "50      DIANA PATRICIA MUJICA LOZANO     85410  \n",
       "51      LUZ HASBLEIDY HERRERA CHAVEZ     85410  \n",
       "52           LUZ ANGELA RIVERA BULLA     85440  \n",
       "49  HUGO ALEXANDER PALOMINO GONZALEZ     85001  \n",
       "48  HUGO ALEXANDER PALOMINO GONZALEZ     85001  \n",
       "23     GIOHANNA NATALY CRUZ CHAPARRO     85001  \n",
       "36   FELIX ORIOL MENDIVELSO CHAPARRO     85250  \n",
       "11            NANCY SERRANO MANTILLA     85001  \n",
       "37   FELIX ORIOL MENDIVELSO CHAPARRO     85250  \n",
       "12            NANCY SERRANO MANTILLA     85001  \n",
       "28            EVARISTA GARCIA MORENO     85010  \n",
       "39        MIGUEL ANGEL PEREZ ANZUETA     85263  \n",
       "24         DASY YAMILE LAVERDE PEREZ     85001  "
      ]
     },
     "metadata": {},
     "output_type": "display_data"
    }
   ],
   "source": [
    "# 1. Filtrar empleados con más de 3 incapacidades válidas\n",
    "df_validos = df_incapacidades_clave[df_incapacidades_clave['Estado de la Incapacidad'].isin(['PAGADA', 'RESERVA'])].copy()\n",
    "\n",
    "# 2. Normalizar nombres de empresa\n",
    "df_validos['Nombre de la Emprea'] = df_validos['Nombre de la Emprea'].str.strip().str.upper()\n",
    "\n",
    "# 3. Obtener IDs de las 10 empresas con más incapacidades\n",
    "top_empresas_ids = df_validos.groupby('Numero de Documentos del empelador')['N_Doc_Cotizante'].count().nlargest(10).index.tolist()\n",
    "\n",
    "# 4. Filtrar empleados de esas empresas\n",
    "df_top_empresas = df_validos[df_validos['Numero de Documentos del empelador'].isin(top_empresas_ids)]\n",
    "\n",
    "# 5. Agrupar por empresa y cotizante\n",
    "reincidentes_por_empresa = (\n",
    "    df_top_empresas.groupby(['Numero de Documentos del empelador', 'N_Doc_Cotizante'])\n",
    "    .size()\n",
    "    .reset_index(name='Total_Inc')\n",
    "    .query('Total_Inc > 3')\n",
    ")\n",
    "\n",
    "# 6. Enriquecer con nombre de empresa y cotizante\n",
    "detalles = df_top_empresas[[\n",
    "    'Numero de Documentos del empelador',\n",
    "    'Nombre de la Emprea',\n",
    "    'N_Doc_Cotizante',\n",
    "    'Nombre del Cotizante',\n",
    "    'Municipio'\n",
    "]].drop_duplicates()\n",
    "\n",
    "reincidentes_enriquecido = reincidentes_por_empresa.merge(\n",
    "    detalles,\n",
    "    on=['Numero de Documentos del empelador', 'N_Doc_Cotizante'],\n",
    "    how='left'\n",
    ").sort_values(by='Total_Inc', ascending=False)\n",
    "\n",
    "display(reincidentes_enriquecido.head(20))"
   ]
  },
  {
   "cell_type": "markdown",
   "id": "3087c162",
   "metadata": {},
   "source": [
    "### 🧠 Hallazgos Clave – Reincidencia por afiliado en empresas de alto riesgo\n",
    "\n",
    "- Se identificaron **más de 10 trabajadores con 12 o más incapacidades** en el periodo analizado, todos vinculados a las 10 empresas con mayor carga general.\n",
    "- Las combinaciones más críticas fueron:\n",
    "  - JORGE ORLANDO ORTEGA GONZALEZ (28 eventos) – CESAR AUGUSTO JEREZ BERRIO\n",
    "  - RODE ESTHER MORALES BLANCO (26 eventos) – COLVISEG\n",
    "  - DIANA PATRICIA MUJICA LOZANO y LUZ HASBLEIDY HERRERA – SERVICASINOS\n",
    "\n",
    "- Estos casos deben considerarse **puntos de auditoría obligatorios**, ya que pueden indicar:\n",
    "  - Reincidencia no controlada.\n",
    "  - Posible simulación médica.\n",
    "  - Falta de reintegro efectivo.\n",
    "  - O incumplimiento de seguimiento clínico-ocupacional por parte de la ARL o empleador.\n",
    "\n",
    "> ✅ **Recomendaciones**:\n",
    "> - Solicitar historias clínicas y anexos de estos usuarios para revisión priorizada.\n",
    "> - Requerir a las ARL y empresas los protocolos de reincorporación aplicados.\n",
    "> - Implementar alertas en el sistema SIE para detectar reincidencias en tiempo real.\n",
    "\n",
    "> 🧾 **Nota técnica**:\n",
    "> Se utilizaron como clave el `Numero de Documentos del empelador` y el `N_Doc_Cotizante`. Se filtraron registros en estado `PAGADA` y `RESERVA` para asegurar relevancia financiera.\n"
   ]
  },
  {
   "cell_type": "markdown",
   "id": "2eda04a3",
   "metadata": {},
   "source": [
    "## 🧬 2.5. Diagnósticos frecuentes (CIE 10)\n",
    "Identificar los códigos CIE-10 más frecuentes en la emisión de incapacidades, permitiendo reconocer causas comunes de ausentismo, evaluar la pertinencia clínica y orientar acciones en salud pública, medicina laboral o prevención."
   ]
  },
  {
   "cell_type": "code",
   "execution_count": 24,
   "id": "839dd98f",
   "metadata": {},
   "outputs": [
    {
     "data": {
      "application/vnd.microsoft.datawrangler.viewer.v0+json": {
       "columns": [
        {
         "name": "index",
         "rawType": "int64",
         "type": "integer"
        },
        {
         "name": "CIE_10",
         "rawType": "object",
         "type": "string"
        },
        {
         "name": "Cantidad",
         "rawType": "int64",
         "type": "integer"
        },
        {
         "name": "Diagnóstico Referencial",
         "rawType": "object",
         "type": "string"
        }
       ],
       "ref": "261d735f-b5d1-4984-818a-d33e90e4eda4",
       "rows": [
        [
         "0",
         "Z359",
         "147",
         "SUPERVISION DE EMBARAZO DE ALTO RIESGO. SIN OTRA ESPECIFICACION"
        ],
        [
         "1",
         "Z488",
         "115",
         "OTROS CUIDADOS ESPECIFICADOS POSTERIORES A LA CIRUGIA"
        ],
        [
         "2",
         "M545",
         "99",
         "LUMBAGO NO ESPECIFICADO"
        ],
        [
         "3",
         "A09X",
         "87",
         "DIARREA Y GASTROENTERITIS DE PRESUNTO ORIGEN INFECCIOSO"
        ],
        [
         "4",
         "R104",
         "71",
         "OTROS DOLORES ABDOMINALES Y LOS NO ESPECIFICADOS"
        ],
        [
         "5",
         "R509",
         "62",
         "FIEBRE. NO ESPECIFICADA"
        ],
        [
         "6",
         "S420",
         "56",
         "FRACTURA DE LA CLAVICULA"
        ],
        [
         "7",
         "S525",
         "54",
         "FRACTURA DE LA EPIFISIS INFERIOR DEL RADIO"
        ],
        [
         "8",
         "N390",
         "53",
         "INFECCION DE VIAS URINARIAS. SITIO NO ESPECIFICADO"
        ],
        [
         "9",
         "S821",
         "52",
         "FRACTURA DE LA EPIFISIS SUPERIOR DE LA TIBIA"
        ]
       ],
       "shape": {
        "columns": 3,
        "rows": 10
       }
      },
      "text/html": [
       "<div>\n",
       "<style scoped>\n",
       "    .dataframe tbody tr th:only-of-type {\n",
       "        vertical-align: middle;\n",
       "    }\n",
       "\n",
       "    .dataframe tbody tr th {\n",
       "        vertical-align: top;\n",
       "    }\n",
       "\n",
       "    .dataframe thead th {\n",
       "        text-align: right;\n",
       "    }\n",
       "</style>\n",
       "<table border=\"1\" class=\"dataframe\">\n",
       "  <thead>\n",
       "    <tr style=\"text-align: right;\">\n",
       "      <th></th>\n",
       "      <th>CIE_10</th>\n",
       "      <th>Cantidad</th>\n",
       "      <th>Diagnóstico Referencial</th>\n",
       "    </tr>\n",
       "  </thead>\n",
       "  <tbody>\n",
       "    <tr>\n",
       "      <th>0</th>\n",
       "      <td>Z359</td>\n",
       "      <td>147</td>\n",
       "      <td>SUPERVISION DE EMBARAZO DE ALTO RIESGO. SIN OT...</td>\n",
       "    </tr>\n",
       "    <tr>\n",
       "      <th>1</th>\n",
       "      <td>Z488</td>\n",
       "      <td>115</td>\n",
       "      <td>OTROS CUIDADOS ESPECIFICADOS POSTERIORES A LA ...</td>\n",
       "    </tr>\n",
       "    <tr>\n",
       "      <th>2</th>\n",
       "      <td>M545</td>\n",
       "      <td>99</td>\n",
       "      <td>LUMBAGO NO ESPECIFICADO</td>\n",
       "    </tr>\n",
       "    <tr>\n",
       "      <th>3</th>\n",
       "      <td>A09X</td>\n",
       "      <td>87</td>\n",
       "      <td>DIARREA Y GASTROENTERITIS DE PRESUNTO ORIGEN I...</td>\n",
       "    </tr>\n",
       "    <tr>\n",
       "      <th>4</th>\n",
       "      <td>R104</td>\n",
       "      <td>71</td>\n",
       "      <td>OTROS DOLORES ABDOMINALES Y LOS NO ESPECIFICADOS</td>\n",
       "    </tr>\n",
       "    <tr>\n",
       "      <th>5</th>\n",
       "      <td>R509</td>\n",
       "      <td>62</td>\n",
       "      <td>FIEBRE. NO ESPECIFICADA</td>\n",
       "    </tr>\n",
       "    <tr>\n",
       "      <th>6</th>\n",
       "      <td>S420</td>\n",
       "      <td>56</td>\n",
       "      <td>FRACTURA DE LA CLAVICULA</td>\n",
       "    </tr>\n",
       "    <tr>\n",
       "      <th>7</th>\n",
       "      <td>S525</td>\n",
       "      <td>54</td>\n",
       "      <td>FRACTURA DE LA EPIFISIS INFERIOR DEL RADIO</td>\n",
       "    </tr>\n",
       "    <tr>\n",
       "      <th>8</th>\n",
       "      <td>N390</td>\n",
       "      <td>53</td>\n",
       "      <td>INFECCION DE VIAS URINARIAS. SITIO NO ESPECIFI...</td>\n",
       "    </tr>\n",
       "    <tr>\n",
       "      <th>9</th>\n",
       "      <td>S821</td>\n",
       "      <td>52</td>\n",
       "      <td>FRACTURA DE LA EPIFISIS SUPERIOR DE LA TIBIA</td>\n",
       "    </tr>\n",
       "  </tbody>\n",
       "</table>\n",
       "</div>"
      ],
      "text/plain": [
       "  CIE_10  Cantidad                            Diagnóstico Referencial\n",
       "0   Z359       147  SUPERVISION DE EMBARAZO DE ALTO RIESGO. SIN OT...\n",
       "1   Z488       115  OTROS CUIDADOS ESPECIFICADOS POSTERIORES A LA ...\n",
       "2   M545        99                            LUMBAGO NO ESPECIFICADO\n",
       "3   A09X        87  DIARREA Y GASTROENTERITIS DE PRESUNTO ORIGEN I...\n",
       "4   R104        71   OTROS DOLORES ABDOMINALES Y LOS NO ESPECIFICADOS\n",
       "5   R509        62                            FIEBRE. NO ESPECIFICADA\n",
       "6   S420        56                           FRACTURA DE LA CLAVICULA\n",
       "7   S525        54         FRACTURA DE LA EPIFISIS INFERIOR DEL RADIO\n",
       "8   N390        53  INFECCION DE VIAS URINARIAS. SITIO NO ESPECIFI...\n",
       "9   S821        52       FRACTURA DE LA EPIFISIS SUPERIOR DE LA TIBIA"
      ]
     },
     "metadata": {},
     "output_type": "display_data"
    }
   ],
   "source": [
    "# 1. Filtrar y limpiar\n",
    "df_diagnosticos = df_incapacidades_clave[df_incapacidades_clave['Estado de la Incapacidad'].isin(['PAGADA', 'RESERVA'])].copy()\n",
    "df_diagnosticos['CIE 10'] = df_diagnosticos['CIE 10'].str.strip().str.upper()\n",
    "df_diagnosticos['Detalle de la Incapacidad'] = df_diagnosticos['Detalle de la Incapacidad'].str.strip().str.upper()\n",
    "\n",
    "# 2. Renombrar la columna clave\n",
    "df_diagnosticos.rename(columns={'CIE 10': 'CIE_10'}, inplace=True)\n",
    "\n",
    "# 3. Conteo robusto\n",
    "cie_counts = df_diagnosticos['CIE_10'].value_counts().head(10)\n",
    "cie_top = cie_counts.reset_index()\n",
    "cie_top.columns = ['CIE_10', 'Cantidad']\n",
    "\n",
    "# 4. Diagnóstico más frecuente\n",
    "detalle_top = (\n",
    "    df_diagnosticos.groupby('CIE_10')['Detalle de la Incapacidad']\n",
    "    .agg(lambda x: x.value_counts().idxmax())\n",
    "    .reset_index()\n",
    "    .rename(columns={'Detalle de la Incapacidad': 'Diagnóstico Referencial'})\n",
    ")\n",
    "\n",
    "# 5. Unión limpia\n",
    "cie_top = cie_top.merge(detalle_top, on='CIE_10', how='left')\n",
    "\n",
    "# 6. Mostrar resultado\n",
    "display(cie_top)"
   ]
  },
  {
   "cell_type": "markdown",
   "id": "c5a9402b",
   "metadata": {},
   "source": [
    "📊 Visualización"
   ]
  },
  {
   "cell_type": "code",
   "execution_count": 25,
   "id": "aba76ae4",
   "metadata": {},
   "outputs": [
    {
     "name": "stderr",
     "output_type": "stream",
     "text": [
      "C:\\Users\\osmarrincon\\AppData\\Local\\Temp\\ipykernel_26156\\3931659142.py:2: FutureWarning: \n",
      "\n",
      "Passing `palette` without assigning `hue` is deprecated and will be removed in v0.14.0. Assign the `y` variable to `hue` and set `legend=False` for the same effect.\n",
      "\n",
      "  sns.barplot(data=cie_top, y='Diagnóstico Referencial', x='Cantidad', palette='Spectral')\n"
     ]
    },
    {
     "data": {
      "image/png": "[encoded data removed]",
      "text/plain": [
       "<Figure size 1000x500 with 1 Axes>"
      ]
     },
     "metadata": {},
     "output_type": "display_data"
    }
   ],
   "source": [
    "plt.figure(figsize=(10, 5))\n",
    "sns.barplot(data=cie_top, y='Diagnóstico Referencial', x='Cantidad', palette='Spectral')\n",
    "plt.title(\"Top 10 Diagnósticos más frecuentes (CIE 10)\")\n",
    "plt.xlabel(\"Cantidad de Incapacidades\")\n",
    "plt.ylabel(\"Diagnóstico\")\n",
    "plt.tight_layout()\n",
    "plt.show()"
   ]
  },
  {
   "cell_type": "markdown",
   "id": "2e87dc2a",
   "metadata": {},
   "source": [
    "### 🧠 Hallazgos Clave – Diagnósticos más frecuentes (CIE 10)\n",
    "\n",
    "- El top 10 de diagnósticos más frecuentes representa patologías esperadas, asociadas a condiciones clínicas agudas o procedimientos médicos.\n",
    "- Los códigos Z359 (embarazo de alto riesgo) y Z488 (cuidados postquirúrgicos) lideran el ranking, con 147 y 115 casos respectivamente.\n",
    "- Diagnósticos de tipo R*** y M545 aparecen en volúmenes moderados y se sugiere monitoreo, pero no exceden parámetros de alerta.\n",
    "- Las fracturas en extremidades (S420, S525, S821) confirman la gestión de incapacidades por trauma real.\n",
    "\n",
    "> ✅ **Conclusión**: No se evidencian patrones de abuso o simulación diagnóstica. La distribución es clínicamente válida y alineada con las funciones esperadas de la red prestadora y de los perfiles laborales regionales."
   ]
  },
  {
   "cell_type": "markdown",
   "id": "34723964",
   "metadata": {},
   "source": [
    "## 📅 2.6. Duraciones atípicas (outliers)\n",
    "Detectar incapacidades que superan un umbral clínico esperable (ej. 60 días) para su revisión, validación o auditoría posterior."
   ]
  },
  {
   "cell_type": "code",
   "execution_count": 26,
   "id": "9c6780ef",
   "metadata": {},
   "outputs": [
    {
     "data": {
      "application/vnd.microsoft.datawrangler.viewer.v0+json": {
       "columns": [
        {
         "name": "index",
         "rawType": "int64",
         "type": "integer"
        },
        {
         "name": "Numero de Documentos del empelador",
         "rawType": "object",
         "type": "string"
        },
        {
         "name": "Nombre de la Emprea",
         "rawType": "object",
         "type": "string"
        },
        {
         "name": "Serial BDUA Cotizante",
         "rawType": "object",
         "type": "string"
        },
        {
         "name": "Tipo_Doc_Cotizante",
         "rawType": "object",
         "type": "string"
        },
        {
         "name": "N_Doc_Cotizante",
         "rawType": "object",
         "type": "string"
        },
        {
         "name": "Nombre del Cotizante",
         "rawType": "object",
         "type": "string"
        },
        {
         "name": "Fecha Nacimiento",
         "rawType": "object",
         "type": "string"
        },
        {
         "name": "Municipio",
         "rawType": "object",
         "type": "string"
        },
        {
         "name": "Tipo de Afiliado",
         "rawType": "object",
         "type": "string"
        },
        {
         "name": "Tipo de Incapacidad",
         "rawType": "object",
         "type": "string"
        },
        {
         "name": "CIE 10",
         "rawType": "object",
         "type": "string"
        },
        {
         "name": "Detalle de la Incapacidad",
         "rawType": "object",
         "type": "string"
        },
        {
         "name": "Fecha de Inicio Incapacidad",
         "rawType": "object",
         "type": "string"
        },
        {
         "name": "Fecha de Radicado",
         "rawType": "object",
         "type": "string"
        },
        {
         "name": "Estado de la Incapacidad",
         "rawType": "object",
         "type": "string"
        },
        {
         "name": "Fecha de pago",
         "rawType": "object",
         "type": "string"
        },
        {
         "name": "Dias Incapacidad",
         "rawType": "int64",
         "type": "integer"
        },
        {
         "name": "Dias Reconocidos EPS",
         "rawType": "int64",
         "type": "integer"
        },
        {
         "name": "Dias Pagos Empleador",
         "rawType": "int64",
         "type": "integer"
        },
        {
         "name": "Tipo de Pago",
         "rawType": "object",
         "type": "string"
        },
        {
         "name": "Valor Pagado",
         "rawType": "float64",
         "type": "float"
        },
        {
         "name": "Numero Doc Medico",
         "rawType": "object",
         "type": "string"
        },
        {
         "name": "Nombres y Apellidos del Medico",
         "rawType": "object",
         "type": "string"
        },
        {
         "name": "Codico de Habilitacion IPS",
         "rawType": "object",
         "type": "string"
        },
        {
         "name": "Nombre de la IPS",
         "rawType": "object",
         "type": "string"
        }
       ],
       "ref": "cb72f789-d5cc-404c-980c-b47f13d336ad",
       "rows": [
        [
         "1277",
         "7229896-2",
         "CESAR AUGUSTO JEREZ BERRIO",
         "94845207",
         "CC",
         "1116550783",
         "CRISTIAN CAMILO CHACON ROJAS",
         "1995-03-29 00:00:00",
         "85010",
         "DEPENDIENTE",
         "1",
         "G060",
         "ABSCESO Y GRANULOMA INTRACRANEAL",
         "2023-06-01 00:00:00",
         "2023-08-23 00:00:00",
         "PAGADA",
         "2024-02-02 00:00:00",
         "85",
         "85",
         "0",
         "DIRECTO",
         "6476255.0",
         "1018451606",
         "MARTIN NICOLAS TORRES ROBAYO",
         "850010000103",
         "HORO"
        ]
       ],
       "shape": {
        "columns": 25,
        "rows": 1
       }
      },
      "text/html": [
       "<div>\n",
       "<style scoped>\n",
       "    .dataframe tbody tr th:only-of-type {\n",
       "        vertical-align: middle;\n",
       "    }\n",
       "\n",
       "    .dataframe tbody tr th {\n",
       "        vertical-align: top;\n",
       "    }\n",
       "\n",
       "    .dataframe thead th {\n",
       "        text-align: right;\n",
       "    }\n",
       "</style>\n",
       "<table border=\"1\" class=\"dataframe\">\n",
       "  <thead>\n",
       "    <tr style=\"text-align: right;\">\n",
       "      <th></th>\n",
       "      <th>Numero de Documentos del empelador</th>\n",
       "      <th>Nombre de la Emprea</th>\n",
       "      <th>Serial BDUA Cotizante</th>\n",
       "      <th>Tipo_Doc_Cotizante</th>\n",
       "      <th>N_Doc_Cotizante</th>\n",
       "      <th>Nombre del Cotizante</th>\n",
       "      <th>Fecha Nacimiento</th>\n",
       "      <th>Municipio</th>\n",
       "      <th>Tipo de Afiliado</th>\n",
       "      <th>Tipo de Incapacidad</th>\n",
       "      <th>...</th>\n",
       "      <th>Fecha de pago</th>\n",
       "      <th>Dias Incapacidad</th>\n",
       "      <th>Dias Reconocidos EPS</th>\n",
       "      <th>Dias Pagos Empleador</th>\n",
       "      <th>Tipo de Pago</th>\n",
       "      <th>Valor Pagado</th>\n",
       "      <th>Numero Doc Medico</th>\n",
       "      <th>Nombres y Apellidos del Medico</th>\n",
       "      <th>Codico de Habilitacion IPS</th>\n",
       "      <th>Nombre de la IPS</th>\n",
       "    </tr>\n",
       "  </thead>\n",
       "  <tbody>\n",
       "    <tr>\n",
       "      <th>1277</th>\n",
       "      <td>7229896-2</td>\n",
       "      <td>CESAR AUGUSTO JEREZ BERRIO</td>\n",
       "      <td>94845207</td>\n",
       "      <td>CC</td>\n",
       "      <td>1116550783</td>\n",
       "      <td>CRISTIAN CAMILO CHACON ROJAS</td>\n",
       "      <td>1995-03-29 00:00:00</td>\n",
       "      <td>85010</td>\n",
       "      <td>DEPENDIENTE</td>\n",
       "      <td>1</td>\n",
       "      <td>...</td>\n",
       "      <td>2024-02-02 00:00:00</td>\n",
       "      <td>85</td>\n",
       "      <td>85</td>\n",
       "      <td>0</td>\n",
       "      <td>DIRECTO</td>\n",
       "      <td>6476255.0</td>\n",
       "      <td>1018451606</td>\n",
       "      <td>MARTIN NICOLAS TORRES ROBAYO</td>\n",
       "      <td>850010000103</td>\n",
       "      <td>HORO</td>\n",
       "    </tr>\n",
       "  </tbody>\n",
       "</table>\n",
       "<p>1 rows × 25 columns</p>\n",
       "</div>"
      ],
      "text/plain": [
       "     Numero de Documentos del empelador         Nombre de la Emprea  \\\n",
       "1277                          7229896-2  CESAR AUGUSTO JEREZ BERRIO   \n",
       "\n",
       "     Serial BDUA Cotizante Tipo_Doc_Cotizante N_Doc_Cotizante  \\\n",
       "1277              94845207                 CC      1116550783   \n",
       "\n",
       "              Nombre del Cotizante     Fecha Nacimiento Municipio  \\\n",
       "1277  CRISTIAN CAMILO CHACON ROJAS  1995-03-29 00:00:00     85010   \n",
       "\n",
       "     Tipo de Afiliado Tipo de Incapacidad  ...        Fecha de pago  \\\n",
       "1277      DEPENDIENTE                   1  ...  2024-02-02 00:00:00   \n",
       "\n",
       "     Dias Incapacidad Dias Reconocidos EPS Dias Pagos Empleador Tipo de Pago  \\\n",
       "1277               85                   85                    0      DIRECTO   \n",
       "\n",
       "     Valor Pagado  Numero Doc Medico  Nombres y Apellidos del Medico  \\\n",
       "1277    6476255.0         1018451606    MARTIN NICOLAS TORRES ROBAYO   \n",
       "\n",
       "      Codico de Habilitacion IPS Nombre de la IPS  \n",
       "1277                850010000103             HORO  \n",
       "\n",
       "[1 rows x 25 columns]"
      ]
     },
     "metadata": {},
     "output_type": "display_data"
    }
   ],
   "source": [
    "# Filtrar solo registros con estado válido\n",
    "df_outliers_validos = df_incapacidades_clave[\n",
    "    df_incapacidades_clave['Estado de la Incapacidad'].isin(['PAGADA', 'RESERVA'])\n",
    "].copy()\n",
    "\n",
    "# Convertir y detectar outliers\n",
    "df_outliers_validos['Dias Incapacidad'] = pd.to_numeric(df_outliers_validos['Dias Incapacidad'], errors='coerce')\n",
    "df_outliers_validos = df_outliers_validos[df_outliers_validos['Dias Incapacidad'].notnull()]\n",
    "\n",
    "outliers_duracion = df_outliers_validos[df_outliers_validos['Dias Incapacidad'] > 60]\n",
    "outliers_duracion = outliers_duracion.sort_values(by='Dias Incapacidad', ascending=False)\n",
    "\n",
    "display(outliers_duracion.head(10))"
   ]
  },
  {
   "cell_type": "markdown",
   "id": "7f9971f5",
   "metadata": {},
   "source": [
    "### 🧠 Hallazgos Clave – Duraciones atípicas (outliers)\n",
    "\n",
    "- Aplicando el filtro `Estado ∈ ['PAGADA', 'RESERVA']`, solo se identificó **una incapacidad con duración superior a 60 días** en todo el conjunto analizado.\n",
    "- Esta corresponde a **85 días**, gestionada por el HORO, con un valor pagado superior a $6,4 millones COP.\n",
    "\n",
    "> ✅ **Conclusión:**  \n",
    "> La baja presencia de duraciones extensas en estado aprobado evidencia un control adecuado por parte del validador.  \n",
    "> No se requieren medidas correctivas adicionales, aunque se recomienda monitoreo continuo trimestral.\n",
    "\n",
    "> 📌 **Nota técnica:**  \n",
    "> Incapacidades con estado `NEGADO` fueron excluidas para asegurar consistencia con el enfoque metodológico financiero del resto del análisis.\n"
   ]
  },
  {
   "cell_type": "markdown",
   "id": "18cd20fc",
   "metadata": {},
   "source": [
    "## 💰 2.7. Impacto económico\n",
    "Estimar el valor total pagado por incapacidades, obtener métricas de promedio e identificar los casos más costosos para la EPS durante el periodo analizado."
   ]
  },
  {
   "cell_type": "code",
   "execution_count": 27,
   "id": "b357d707",
   "metadata": {},
   "outputs": [
    {
     "name": "stdout",
     "output_type": "stream",
     "text": [
      "💰 Valor total pagado: $2,007,125,684\n",
      "📊 Valor promedio por incapacidad: $519,308\n"
     ]
    },
    {
     "data": {
      "application/vnd.microsoft.datawrangler.viewer.v0+json": {
       "columns": [
        {
         "name": "index",
         "rawType": "int64",
         "type": "integer"
        },
        {
         "name": "Numero de Documentos del empelador",
         "rawType": "object",
         "type": "string"
        },
        {
         "name": "Nombre de la Emprea",
         "rawType": "object",
         "type": "string"
        },
        {
         "name": "Serial BDUA Cotizante",
         "rawType": "object",
         "type": "string"
        },
        {
         "name": "Tipo_Doc_Cotizante",
         "rawType": "object",
         "type": "string"
        },
        {
         "name": "N_Doc_Cotizante",
         "rawType": "object",
         "type": "string"
        },
        {
         "name": "Nombre del Cotizante",
         "rawType": "object",
         "type": "string"
        },
        {
         "name": "Fecha Nacimiento",
         "rawType": "object",
         "type": "string"
        },
        {
         "name": "Municipio",
         "rawType": "object",
         "type": "string"
        },
        {
         "name": "Tipo de Afiliado",
         "rawType": "object",
         "type": "string"
        },
        {
         "name": "Tipo de Incapacidad",
         "rawType": "object",
         "type": "string"
        },
        {
         "name": "CIE 10",
         "rawType": "object",
         "type": "string"
        },
        {
         "name": "Detalle de la Incapacidad",
         "rawType": "object",
         "type": "string"
        },
        {
         "name": "Fecha de Inicio Incapacidad",
         "rawType": "object",
         "type": "string"
        },
        {
         "name": "Fecha de Radicado",
         "rawType": "object",
         "type": "string"
        },
        {
         "name": "Estado de la Incapacidad",
         "rawType": "object",
         "type": "string"
        },
        {
         "name": "Fecha de pago",
         "rawType": "object",
         "type": "string"
        },
        {
         "name": "Dias Incapacidad",
         "rawType": "int64",
         "type": "integer"
        },
        {
         "name": "Dias Reconocidos EPS",
         "rawType": "int64",
         "type": "integer"
        },
        {
         "name": "Dias Pagos Empleador",
         "rawType": "int64",
         "type": "integer"
        },
        {
         "name": "Tipo de Pago",
         "rawType": "object",
         "type": "string"
        },
        {
         "name": "Valor Pagado",
         "rawType": "float64",
         "type": "float"
        },
        {
         "name": "Numero Doc Medico",
         "rawType": "object",
         "type": "string"
        },
        {
         "name": "Nombres y Apellidos del Medico",
         "rawType": "object",
         "type": "string"
        },
        {
         "name": "Codico de Habilitacion IPS",
         "rawType": "object",
         "type": "string"
        },
        {
         "name": "Nombre de la IPS",
         "rawType": "object",
         "type": "string"
        }
       ],
       "ref": "637dd19d-43c5-4a47-9845-6c311f066af0",
       "rows": [
        [
         "4028",
         "901684076-2",
         "INTERNACIONAL ENERGY SERVICES SOUTH AMERICA CO LTDA SUCURSAL COLOMBIA ",
         "101088801",
         "CC",
         "1126254726",
         "JHONATAN CAMILO CACERES GARCIA",
         "1996-09-28 00:00:00",
         "85001",
         "DEPENDIENTE",
         "0",
         "S420",
         "FRACTURA DE LA CLAVICULA",
         "2024-10-27 00:00:00",
         "2025-01-20 00:00:00",
         "PAGADA",
         "2025-03-05 00:00:00",
         "28",
         "26",
         "2",
         "DIRECTO",
         "6908797.0",
         "11188204408",
         "CARLOS RAMIREZ SAMPEDRO ",
         "850010009801",
         "CLINICA CASANARE "
        ],
        [
         "1277",
         "7229896-2",
         "CESAR AUGUSTO JEREZ BERRIO",
         "94845207",
         "CC",
         "1116550783",
         "CRISTIAN CAMILO CHACON ROJAS",
         "1995-03-29 00:00:00",
         "85010",
         "DEPENDIENTE",
         "1",
         "G060",
         "ABSCESO Y GRANULOMA INTRACRANEAL",
         "2023-06-01 00:00:00",
         "2023-08-23 00:00:00",
         "PAGADA",
         "2024-02-02 00:00:00",
         "85",
         "85",
         "0",
         "DIRECTO",
         "6476255.0",
         "1018451606",
         "MARTIN NICOLAS TORRES ROBAYO",
         "850010000103",
         "HORO"
        ],
        [
         "2125",
         "860515770-4",
         "ESTRELLA INTERNACIONAL ENERGY SERVICES SUCURSAL COLOMBIA",
         "46416994",
         "CC",
         "4143895",
         "LUIS EMIRO ASCENCIO CHAPARRO",
         "1965-02-08 00:00:00",
         "85001",
         "DEPENDIENTE",
         "1",
         "S826",
         "FRACTURA DEL MALEOLO EXTERNO",
         "2023-08-26 00:00:00",
         "2024-02-15 00:00:00",
         "PAGADA",
         "2024-05-23 00:00:00",
         "30",
         "30",
         "0",
         "DIRECTO",
         "5478719.0",
         "7184315",
         "JOSE YAMITH BLANCO ",
         "850010009801",
         "CLINICA CASANARE "
        ],
        [
         "2124",
         "860515770-4",
         "ESTRELLA INTERNACIONAL ENERGY SERVICES SUCURSAL COLOMBIA",
         "46416994",
         "CC",
         "4143895",
         "LUIS EMIRO ASCENCIO CHAPARRO",
         "1965-02-08 00:00:00",
         "85001",
         "DEPENDIENTE",
         "0",
         "S826",
         "FRACTURA DEL MALEOLO EXTERNO",
         "2023-07-27 00:00:00",
         "2024-02-15 00:00:00",
         "PAGADA",
         "2024-05-23 00:00:00",
         "30",
         "28",
         "2",
         "DIRECTO",
         "5113471.0",
         "1052407298",
         "ANA MARIA ROJAS FAURA ",
         "850010009801",
         "CLINICA CASANARE "
        ],
        [
         "2128",
         "860515770-4",
         "ESTRELLA INTERNACIONAL ENERGY SERVICES SUCURSAL COLOMBIA",
         "46416994",
         "CC",
         "4143895",
         "LUIS EMIRO ASCENCIO CHAPARRO",
         "1965-02-08 00:00:00",
         "85001",
         "DEPENDIENTE",
         "1",
         "S826",
         "FRACTURA DEL MALEOLO EXTERNO",
         "2023-11-13 00:00:00",
         "2024-02-15 00:00:00",
         "PAGADA",
         "2024-05-28 00:00:00",
         "30",
         "30",
         "0",
         "DIRECTO",
         "4108834.0",
         "1118820418",
         "CARLOS RODRIGUEZ SANPEDRO",
         "850010009801",
         "CLINICA CASANARE "
        ],
        [
         "2127",
         "860515770-4",
         "ESTRELLA INTERNACIONAL ENERGY SERVICES SUCURSAL COLOMBIA",
         "46416994",
         "CC",
         "4143895",
         "LUIS EMIRO ASCENCIO CHAPARRO",
         "1965-02-08 00:00:00",
         "85001",
         "DEPENDIENTE",
         "1",
         "S826",
         "FRACTURA DEL MALEOLO EXTERNO",
         "2023-10-14 00:00:00",
         "2024-02-15 00:00:00",
         "PAGADA",
         "2024-05-23 00:00:00",
         "30",
         "30",
         "0",
         "DIRECTO",
         "4108834.0",
         "1042974266",
         "MARIA MAJJUL GOMEZ",
         "850010009801",
         "CLINICA CASANARE "
        ],
        [
         "2601",
         "860515770-4",
         "ESTRELLA INTERNACIONAL ENERGY SERVICES SUCURSAL COLOMBIA ",
         "46416994",
         "CC",
         "4143895",
         "LUIS EMIRO ASCENCIO CHAPARRO",
         "1965-02-08 00:00:00",
         "85001",
         "DEPENDIENTE",
         "1",
         "S824",
         "FRACTURA DEL PERONE SOLAMENTE",
         "2023-12-13 00:00:00",
         "2024-05-16 00:00:00",
         "PAGADA",
         "2024-07-16 00:00:00",
         "30",
         "30",
         "0",
         "DIRECTO",
         "4108834.0",
         "1049606118",
         "JORGE GREGORIO SUAREZ ",
         "850010009801",
         "CLINICA CASANARE "
        ],
        [
         "1691",
         "900140469-5",
         "SAR ENERGY SAS EN REORGANIZACION",
         "101179914",
         "CC",
         "1007491534",
         "DANIER STEVEN ROMERO MARTINEZ",
         "2001-09-09 00:00:00",
         "85250",
         "DEPENDIENTE",
         "1",
         "S889",
         "AMPUTACION TRAUMATICA DE LA PIERNA. NIVEL NO ESPECIFICADO",
         "2023-05-26 00:00:00",
         "2023-11-01 00:00:00",
         "PAGADA",
         "2024-02-02 00:00:00",
         "30",
         "30",
         "0",
         "DIRECTO",
         "3844561.0",
         "80350214",
         "ALEJANDRO DELGADO NEIRA",
         "850010000103",
         "HORO"
        ],
        [
         "1692",
         "900140469-5",
         "SAR ENERGY SAS EN REORGANIZACION",
         "101179914",
         "CC",
         "1007491534",
         "DANIER STEVEN ROMERO MARTINEZ",
         "2001-09-09 00:00:00",
         "85250",
         "DEPENDIENTE",
         "1",
         "T136",
         "AMPUTACION TRAUMATICA DE MIEMBRO INFERIOR. NIVEL NO ESPECIFICADO",
         "2023-06-27 00:00:00",
         "2023-11-01 00:00:00",
         "PAGADA",
         "2024-02-02 00:00:00",
         "30",
         "30",
         "0",
         "DIRECTO",
         "3844561.0",
         "7558003",
         "MAURICIO FLOREZ ACOSTA",
         "852500005701",
         "MAURICIO FLOREZ ACOSTA "
        ],
        [
         "2945",
         "844002071-4",
         "UNIVERSIDAD INTERNACIONAL DEL TROPICO AMERICANO",
         "90284373",
         "CC",
         "1118531079",
         "EDWIN ALDRUMAR SIABATO MORENO",
         "1985-10-09 00:00:00",
         "85001",
         "DEPENDIENTE",
         "1",
         "S923",
         "FRACTURA DE HUESO DEL METATARSO",
         "2024-06-27 00:00:00",
         "2024-07-08 00:00:00",
         "PAGADA",
         "2024-09-26 00:00:00",
         "30",
         "30",
         "0",
         "DIRECTO",
         "3776022.0",
         "80170827",
         "DIEGO RAMON MOJICA RODRIGUEZ",
         "850010000103",
         "HORO"
        ]
       ],
       "shape": {
        "columns": 25,
        "rows": 10
       }
      },
      "text/html": [
       "<div>\n",
       "<style scoped>\n",
       "    .dataframe tbody tr th:only-of-type {\n",
       "        vertical-align: middle;\n",
       "    }\n",
       "\n",
       "    .dataframe tbody tr th {\n",
       "        vertical-align: top;\n",
       "    }\n",
       "\n",
       "    .dataframe thead th {\n",
       "        text-align: right;\n",
       "    }\n",
       "</style>\n",
       "<table border=\"1\" class=\"dataframe\">\n",
       "  <thead>\n",
       "    <tr style=\"text-align: right;\">\n",
       "      <th></th>\n",
       "      <th>Numero de Documentos del empelador</th>\n",
       "      <th>Nombre de la Emprea</th>\n",
       "      <th>Serial BDUA Cotizante</th>\n",
       "      <th>Tipo_Doc_Cotizante</th>\n",
       "      <th>N_Doc_Cotizante</th>\n",
       "      <th>Nombre del Cotizante</th>\n",
       "      <th>Fecha Nacimiento</th>\n",
       "      <th>Municipio</th>\n",
       "      <th>Tipo de Afiliado</th>\n",
       "      <th>Tipo de Incapacidad</th>\n",
       "      <th>...</th>\n",
       "      <th>Fecha de pago</th>\n",
       "      <th>Dias Incapacidad</th>\n",
       "      <th>Dias Reconocidos EPS</th>\n",
       "      <th>Dias Pagos Empleador</th>\n",
       "      <th>Tipo de Pago</th>\n",
       "      <th>Valor Pagado</th>\n",
       "      <th>Numero Doc Medico</th>\n",
       "      <th>Nombres y Apellidos del Medico</th>\n",
       "      <th>Codico de Habilitacion IPS</th>\n",
       "      <th>Nombre de la IPS</th>\n",
       "    </tr>\n",
       "  </thead>\n",
       "  <tbody>\n",
       "    <tr>\n",
       "      <th>4028</th>\n",
       "      <td>901684076-2</td>\n",
       "      <td>INTERNACIONAL ENERGY SERVICES SOUTH AMERICA CO...</td>\n",
       "      <td>101088801</td>\n",
       "      <td>CC</td>\n",
       "      <td>1126254726</td>\n",
       "      <td>JHONATAN CAMILO CACERES GARCIA</td>\n",
       "      <td>1996-09-28 00:00:00</td>\n",
       "      <td>85001</td>\n",
       "      <td>DEPENDIENTE</td>\n",
       "      <td>0</td>\n",
       "      <td>...</td>\n",
       "      <td>2025-03-05 00:00:00</td>\n",
       "      <td>28</td>\n",
       "      <td>26</td>\n",
       "      <td>2</td>\n",
       "      <td>DIRECTO</td>\n",
       "      <td>6908797.0</td>\n",
       "      <td>11188204408</td>\n",
       "      <td>CARLOS RAMIREZ SAMPEDRO</td>\n",
       "      <td>850010009801</td>\n",
       "      <td>CLINICA CASANARE</td>\n",
       "    </tr>\n",
       "    <tr>\n",
       "      <th>1277</th>\n",
       "      <td>7229896-2</td>\n",
       "      <td>CESAR AUGUSTO JEREZ BERRIO</td>\n",
       "      <td>94845207</td>\n",
       "      <td>CC</td>\n",
       "      <td>1116550783</td>\n",
       "      <td>CRISTIAN CAMILO CHACON ROJAS</td>\n",
       "      <td>1995-03-29 00:00:00</td>\n",
       "      <td>85010</td>\n",
       "      <td>DEPENDIENTE</td>\n",
       "      <td>1</td>\n",
       "      <td>...</td>\n",
       "      <td>2024-02-02 00:00:00</td>\n",
       "      <td>85</td>\n",
       "      <td>85</td>\n",
       "      <td>0</td>\n",
       "      <td>DIRECTO</td>\n",
       "      <td>6476255.0</td>\n",
       "      <td>1018451606</td>\n",
       "      <td>MARTIN NICOLAS TORRES ROBAYO</td>\n",
       "      <td>850010000103</td>\n",
       "      <td>HORO</td>\n",
       "    </tr>\n",
       "    <tr>\n",
       "      <th>2125</th>\n",
       "      <td>860515770-4</td>\n",
       "      <td>ESTRELLA INTERNACIONAL ENERGY SERVICES SUCURSA...</td>\n",
       "      <td>46416994</td>\n",
       "      <td>CC</td>\n",
       "      <td>4143895</td>\n",
       "      <td>LUIS EMIRO ASCENCIO CHAPARRO</td>\n",
       "      <td>1965-02-08 00:00:00</td>\n",
       "      <td>85001</td>\n",
       "      <td>DEPENDIENTE</td>\n",
       "      <td>1</td>\n",
       "      <td>...</td>\n",
       "      <td>2024-05-23 00:00:00</td>\n",
       "      <td>30</td>\n",
       "      <td>30</td>\n",
       "      <td>0</td>\n",
       "      <td>DIRECTO</td>\n",
       "      <td>5478719.0</td>\n",
       "      <td>7184315</td>\n",
       "      <td>JOSE YAMITH BLANCO</td>\n",
       "      <td>850010009801</td>\n",
       "      <td>CLINICA CASANARE</td>\n",
       "    </tr>\n",
       "    <tr>\n",
       "      <th>2124</th>\n",
       "      <td>860515770-4</td>\n",
       "      <td>ESTRELLA INTERNACIONAL ENERGY SERVICES SUCURSA...</td>\n",
       "      <td>46416994</td>\n",
       "      <td>CC</td>\n",
       "      <td>4143895</td>\n",
       "      <td>LUIS EMIRO ASCENCIO CHAPARRO</td>\n",
       "      <td>1965-02-08 00:00:00</td>\n",
       "      <td>85001</td>\n",
       "      <td>DEPENDIENTE</td>\n",
       "      <td>0</td>\n",
       "      <td>...</td>\n",
       "      <td>2024-05-23 00:00:00</td>\n",
       "      <td>30</td>\n",
       "      <td>28</td>\n",
       "      <td>2</td>\n",
       "      <td>DIRECTO</td>\n",
       "      <td>5113471.0</td>\n",
       "      <td>1052407298</td>\n",
       "      <td>ANA MARIA ROJAS FAURA</td>\n",
       "      <td>850010009801</td>\n",
       "      <td>CLINICA CASANARE</td>\n",
       "    </tr>\n",
       "    <tr>\n",
       "      <th>2128</th>\n",
       "      <td>860515770-4</td>\n",
       "      <td>ESTRELLA INTERNACIONAL ENERGY SERVICES SUCURSA...</td>\n",
       "      <td>46416994</td>\n",
       "      <td>CC</td>\n",
       "      <td>4143895</td>\n",
       "      <td>LUIS EMIRO ASCENCIO CHAPARRO</td>\n",
       "      <td>1965-02-08 00:00:00</td>\n",
       "      <td>85001</td>\n",
       "      <td>DEPENDIENTE</td>\n",
       "      <td>1</td>\n",
       "      <td>...</td>\n",
       "      <td>2024-05-28 00:00:00</td>\n",
       "      <td>30</td>\n",
       "      <td>30</td>\n",
       "      <td>0</td>\n",
       "      <td>DIRECTO</td>\n",
       "      <td>4108834.0</td>\n",
       "      <td>1118820418</td>\n",
       "      <td>CARLOS RODRIGUEZ SANPEDRO</td>\n",
       "      <td>850010009801</td>\n",
       "      <td>CLINICA CASANARE</td>\n",
       "    </tr>\n",
       "    <tr>\n",
       "      <th>2127</th>\n",
       "      <td>860515770-4</td>\n",
       "      <td>ESTRELLA INTERNACIONAL ENERGY SERVICES SUCURSA...</td>\n",
       "      <td>46416994</td>\n",
       "      <td>CC</td>\n",
       "      <td>4143895</td>\n",
       "      <td>LUIS EMIRO ASCENCIO CHAPARRO</td>\n",
       "      <td>1965-02-08 00:00:00</td>\n",
       "      <td>85001</td>\n",
       "      <td>DEPENDIENTE</td>\n",
       "      <td>1</td>\n",
       "      <td>...</td>\n",
       "      <td>2024-05-23 00:00:00</td>\n",
       "      <td>30</td>\n",
       "      <td>30</td>\n",
       "      <td>0</td>\n",
       "      <td>DIRECTO</td>\n",
       "      <td>4108834.0</td>\n",
       "      <td>1042974266</td>\n",
       "      <td>MARIA MAJJUL GOMEZ</td>\n",
       "      <td>850010009801</td>\n",
       "      <td>CLINICA CASANARE</td>\n",
       "    </tr>\n",
       "    <tr>\n",
       "      <th>2601</th>\n",
       "      <td>860515770-4</td>\n",
       "      <td>ESTRELLA INTERNACIONAL ENERGY SERVICES SUCURSA...</td>\n",
       "      <td>46416994</td>\n",
       "      <td>CC</td>\n",
       "      <td>4143895</td>\n",
       "      <td>LUIS EMIRO ASCENCIO CHAPARRO</td>\n",
       "      <td>1965-02-08 00:00:00</td>\n",
       "      <td>85001</td>\n",
       "      <td>DEPENDIENTE</td>\n",
       "      <td>1</td>\n",
       "      <td>...</td>\n",
       "      <td>2024-07-16 00:00:00</td>\n",
       "      <td>30</td>\n",
       "      <td>30</td>\n",
       "      <td>0</td>\n",
       "      <td>DIRECTO</td>\n",
       "      <td>4108834.0</td>\n",
       "      <td>1049606118</td>\n",
       "      <td>JORGE GREGORIO SUAREZ</td>\n",
       "      <td>850010009801</td>\n",
       "      <td>CLINICA CASANARE</td>\n",
       "    </tr>\n",
       "    <tr>\n",
       "      <th>1691</th>\n",
       "      <td>900140469-5</td>\n",
       "      <td>SAR ENERGY SAS EN REORGANIZACION</td>\n",
       "      <td>101179914</td>\n",
       "      <td>CC</td>\n",
       "      <td>1007491534</td>\n",
       "      <td>DANIER STEVEN ROMERO MARTINEZ</td>\n",
       "      <td>2001-09-09 00:00:00</td>\n",
       "      <td>85250</td>\n",
       "      <td>DEPENDIENTE</td>\n",
       "      <td>1</td>\n",
       "      <td>...</td>\n",
       "      <td>2024-02-02 00:00:00</td>\n",
       "      <td>30</td>\n",
       "      <td>30</td>\n",
       "      <td>0</td>\n",
       "      <td>DIRECTO</td>\n",
       "      <td>3844561.0</td>\n",
       "      <td>80350214</td>\n",
       "      <td>ALEJANDRO DELGADO NEIRA</td>\n",
       "      <td>850010000103</td>\n",
       "      <td>HORO</td>\n",
       "    </tr>\n",
       "    <tr>\n",
       "      <th>1692</th>\n",
       "      <td>900140469-5</td>\n",
       "      <td>SAR ENERGY SAS EN REORGANIZACION</td>\n",
       "      <td>101179914</td>\n",
       "      <td>CC</td>\n",
       "      <td>1007491534</td>\n",
       "      <td>DANIER STEVEN ROMERO MARTINEZ</td>\n",
       "      <td>2001-09-09 00:00:00</td>\n",
       "      <td>85250</td>\n",
       "      <td>DEPENDIENTE</td>\n",
       "      <td>1</td>\n",
       "      <td>...</td>\n",
       "      <td>2024-02-02 00:00:00</td>\n",
       "      <td>30</td>\n",
       "      <td>30</td>\n",
       "      <td>0</td>\n",
       "      <td>DIRECTO</td>\n",
       "      <td>3844561.0</td>\n",
       "      <td>7558003</td>\n",
       "      <td>MAURICIO FLOREZ ACOSTA</td>\n",
       "      <td>852500005701</td>\n",
       "      <td>MAURICIO FLOREZ ACOSTA</td>\n",
       "    </tr>\n",
       "    <tr>\n",
       "      <th>2945</th>\n",
       "      <td>844002071-4</td>\n",
       "      <td>UNIVERSIDAD INTERNACIONAL DEL TROPICO AMERICANO</td>\n",
       "      <td>90284373</td>\n",
       "      <td>CC</td>\n",
       "      <td>1118531079</td>\n",
       "      <td>EDWIN ALDRUMAR SIABATO MORENO</td>\n",
       "      <td>1985-10-09 00:00:00</td>\n",
       "      <td>85001</td>\n",
       "      <td>DEPENDIENTE</td>\n",
       "      <td>1</td>\n",
       "      <td>...</td>\n",
       "      <td>2024-09-26 00:00:00</td>\n",
       "      <td>30</td>\n",
       "      <td>30</td>\n",
       "      <td>0</td>\n",
       "      <td>DIRECTO</td>\n",
       "      <td>3776022.0</td>\n",
       "      <td>80170827</td>\n",
       "      <td>DIEGO RAMON MOJICA RODRIGUEZ</td>\n",
       "      <td>850010000103</td>\n",
       "      <td>HORO</td>\n",
       "    </tr>\n",
       "  </tbody>\n",
       "</table>\n",
       "<p>10 rows × 25 columns</p>\n",
       "</div>"
      ],
      "text/plain": [
       "     Numero de Documentos del empelador  \\\n",
       "4028                        901684076-2   \n",
       "1277                          7229896-2   \n",
       "2125                        860515770-4   \n",
       "2124                        860515770-4   \n",
       "2128                        860515770-4   \n",
       "2127                        860515770-4   \n",
       "2601                        860515770-4   \n",
       "1691                        900140469-5   \n",
       "1692                        900140469-5   \n",
       "2945                        844002071-4   \n",
       "\n",
       "                                    Nombre de la Emprea Serial BDUA Cotizante  \\\n",
       "4028  INTERNACIONAL ENERGY SERVICES SOUTH AMERICA CO...             101088801   \n",
       "1277                         CESAR AUGUSTO JEREZ BERRIO              94845207   \n",
       "2125  ESTRELLA INTERNACIONAL ENERGY SERVICES SUCURSA...              46416994   \n",
       "2124  ESTRELLA INTERNACIONAL ENERGY SERVICES SUCURSA...              46416994   \n",
       "2128  ESTRELLA INTERNACIONAL ENERGY SERVICES SUCURSA...              46416994   \n",
       "2127  ESTRELLA INTERNACIONAL ENERGY SERVICES SUCURSA...              46416994   \n",
       "2601  ESTRELLA INTERNACIONAL ENERGY SERVICES SUCURSA...              46416994   \n",
       "1691                   SAR ENERGY SAS EN REORGANIZACION             101179914   \n",
       "1692                   SAR ENERGY SAS EN REORGANIZACION             101179914   \n",
       "2945    UNIVERSIDAD INTERNACIONAL DEL TROPICO AMERICANO              90284373   \n",
       "\n",
       "     Tipo_Doc_Cotizante N_Doc_Cotizante            Nombre del Cotizante  \\\n",
       "4028                 CC      1126254726  JHONATAN CAMILO CACERES GARCIA   \n",
       "1277                 CC      1116550783    CRISTIAN CAMILO CHACON ROJAS   \n",
       "2125                 CC         4143895    LUIS EMIRO ASCENCIO CHAPARRO   \n",
       "2124                 CC         4143895    LUIS EMIRO ASCENCIO CHAPARRO   \n",
       "2128                 CC         4143895    LUIS EMIRO ASCENCIO CHAPARRO   \n",
       "2127                 CC         4143895    LUIS EMIRO ASCENCIO CHAPARRO   \n",
       "2601                 CC         4143895    LUIS EMIRO ASCENCIO CHAPARRO   \n",
       "1691                 CC      1007491534   DANIER STEVEN ROMERO MARTINEZ   \n",
       "1692                 CC      1007491534   DANIER STEVEN ROMERO MARTINEZ   \n",
       "2945                 CC      1118531079   EDWIN ALDRUMAR SIABATO MORENO   \n",
       "\n",
       "         Fecha Nacimiento Municipio Tipo de Afiliado Tipo de Incapacidad  ...  \\\n",
       "4028  1996-09-28 00:00:00     85001      DEPENDIENTE                   0  ...   \n",
       "1277  1995-03-29 00:00:00     85010      DEPENDIENTE                   1  ...   \n",
       "2125  1965-02-08 00:00:00     85001      DEPENDIENTE                   1  ...   \n",
       "2124  1965-02-08 00:00:00     85001      DEPENDIENTE                   0  ...   \n",
       "2128  1965-02-08 00:00:00     85001      DEPENDIENTE                   1  ...   \n",
       "2127  1965-02-08 00:00:00     85001      DEPENDIENTE                   1  ...   \n",
       "2601  1965-02-08 00:00:00     85001      DEPENDIENTE                   1  ...   \n",
       "1691  2001-09-09 00:00:00     85250      DEPENDIENTE                   1  ...   \n",
       "1692  2001-09-09 00:00:00     85250      DEPENDIENTE                   1  ...   \n",
       "2945  1985-10-09 00:00:00     85001      DEPENDIENTE                   1  ...   \n",
       "\n",
       "            Fecha de pago Dias Incapacidad Dias Reconocidos EPS  \\\n",
       "4028  2025-03-05 00:00:00               28                   26   \n",
       "1277  2024-02-02 00:00:00               85                   85   \n",
       "2125  2024-05-23 00:00:00               30                   30   \n",
       "2124  2024-05-23 00:00:00               30                   28   \n",
       "2128  2024-05-28 00:00:00               30                   30   \n",
       "2127  2024-05-23 00:00:00               30                   30   \n",
       "2601  2024-07-16 00:00:00               30                   30   \n",
       "1691  2024-02-02 00:00:00               30                   30   \n",
       "1692  2024-02-02 00:00:00               30                   30   \n",
       "2945  2024-09-26 00:00:00               30                   30   \n",
       "\n",
       "     Dias Pagos Empleador Tipo de Pago Valor Pagado  Numero Doc Medico  \\\n",
       "4028                    2      DIRECTO    6908797.0        11188204408   \n",
       "1277                    0      DIRECTO    6476255.0         1018451606   \n",
       "2125                    0      DIRECTO    5478719.0            7184315   \n",
       "2124                    2      DIRECTO    5113471.0         1052407298   \n",
       "2128                    0      DIRECTO    4108834.0         1118820418   \n",
       "2127                    0      DIRECTO    4108834.0         1042974266   \n",
       "2601                    0      DIRECTO    4108834.0         1049606118   \n",
       "1691                    0      DIRECTO    3844561.0           80350214   \n",
       "1692                    0      DIRECTO    3844561.0            7558003   \n",
       "2945                    0      DIRECTO    3776022.0           80170827   \n",
       "\n",
       "      Nombres y Apellidos del Medico  Codico de Habilitacion IPS  \\\n",
       "4028        CARLOS RAMIREZ SAMPEDRO                 850010009801   \n",
       "1277    MARTIN NICOLAS TORRES ROBAYO                850010000103   \n",
       "2125             JOSE YAMITH BLANCO                 850010009801   \n",
       "2124          ANA MARIA ROJAS FAURA                 850010009801   \n",
       "2128       CARLOS RODRIGUEZ SANPEDRO                850010009801   \n",
       "2127              MARIA MAJJUL GOMEZ                850010009801   \n",
       "2601          JORGE GREGORIO SUAREZ                 850010009801   \n",
       "1691         ALEJANDRO DELGADO NEIRA                850010000103   \n",
       "1692          MAURICIO FLOREZ ACOSTA                852500005701   \n",
       "2945    DIEGO RAMON MOJICA RODRIGUEZ                850010000103   \n",
       "\n",
       "             Nombre de la IPS  \n",
       "4028        CLINICA CASANARE   \n",
       "1277                     HORO  \n",
       "2125        CLINICA CASANARE   \n",
       "2124        CLINICA CASANARE   \n",
       "2128        CLINICA CASANARE   \n",
       "2127        CLINICA CASANARE   \n",
       "2601        CLINICA CASANARE   \n",
       "1691                     HORO  \n",
       "1692  MAURICIO FLOREZ ACOSTA   \n",
       "2945                     HORO  \n",
       "\n",
       "[10 rows x 25 columns]"
      ]
     },
     "metadata": {},
     "output_type": "display_data"
    }
   ],
   "source": [
    "# 1. Filtrar solo registros válidos para análisis financiero\n",
    "df_economico = df_incapacidades_clave[df_incapacidades_clave['Estado de la Incapacidad'].isin(['PAGADA', 'RESERVA'])].copy()\n",
    "\n",
    "# 2. Conversión numérica\n",
    "df_economico['Valor Pagado'] = pd.to_numeric(df_economico['Valor Pagado'], errors='coerce')\n",
    "\n",
    "# 3. Métricas clave\n",
    "valor_total = df_economico['Valor Pagado'].sum()\n",
    "valor_promedio = df_economico['Valor Pagado'].mean()\n",
    "top_costosas = df_economico.sort_values(by='Valor Pagado', ascending=False).head(10)\n",
    "\n",
    "# 4. Mostrar resultados\n",
    "print(f\"💰 Valor total pagado: ${valor_total:,.0f}\")\n",
    "print(f\"📊 Valor promedio por incapacidad: ${valor_promedio:,.0f}\")\n",
    "display(top_costosas)"
   ]
  },
  {
   "cell_type": "markdown",
   "id": "6fae5e4c",
   "metadata": {},
   "source": [
    "📊 Visualización (Top 10 más costosas)"
   ]
  },
  {
   "cell_type": "code",
   "execution_count": 28,
   "id": "9236e132",
   "metadata": {},
   "outputs": [
    {
     "name": "stderr",
     "output_type": "stream",
     "text": [
      "C:\\Users\\osmarrincon\\AppData\\Local\\Temp\\ipykernel_26156\\4286176806.py:2: FutureWarning: \n",
      "\n",
      "Passing `palette` without assigning `hue` is deprecated and will be removed in v0.14.0. Assign the `y` variable to `hue` and set `legend=False` for the same effect.\n",
      "\n",
      "  sns.barplot(data=top_costosas, y='Nombre del Cotizante', x='Valor Pagado', palette='rocket')\n"
     ]
    },
    {
     "data": {
      "image/png": "[encoded data removed]",
      "text/plain": [
       "<Figure size 1000x500 with 1 Axes>"
      ]
     },
     "metadata": {},
     "output_type": "display_data"
    }
   ],
   "source": [
    "plt.figure(figsize=(10, 5))\n",
    "sns.barplot(data=top_costosas, y='Nombre del Cotizante', x='Valor Pagado', palette='rocket')\n",
    "plt.title(\"Top 10 incapacidades más costosas\")\n",
    "plt.xlabel(\"Valor Pagado (COP)\")\n",
    "plt.ylabel(\"Cotizante\")\n",
    "plt.tight_layout()\n",
    "plt.show()\n"
   ]
  },
  {
   "cell_type": "markdown",
   "id": "f57b2fbe",
   "metadata": {},
   "source": [
    "### 🧠 Hallazgos Clave – Impacto económico\n",
    "\n",
    "- El evento más costoso registrado fue de **$6.9 millones COP**, con una duración de 28 días, pagado directamente a un afiliado del sector energético.\n",
    "- Todos los registros del top 10 fueron tramitados como **pago directo**, lo cual requiere vigilancia prioritaria.\n",
    "- Dos IPS concentran todos los eventos de mayor costo: **CLÍNICA CASANARE** y **HORO**.\n",
    "- Un mismo afiliado aparece hasta en 5 registros del top 10, lo que sugiere reincidencia de alto impacto económico.\n",
    "\n",
    "> ✅ **Conclusión:**  \n",
    "> Se evidencia una concentración clínica, institucional y laboral en los eventos más costosos.  \n",
    "> Este patrón requiere control estratégico para asegurar sostenibilidad financiera.\n",
    "\n",
    "> 📌 **Recomendaciones:**\n",
    "> - Revisar criterios clínicos y validación de incapacidades de pago directo en CLÍNICA CASANARE y HORO.\n",
    "> - Auditar a los cotizantes con múltiples eventos de alto costo.\n",
    "> - Implementar alerta financiera temprana para validaciones >$3 millones.\n",
    "\n",
    "> 📌 **Nota técnica:**\n",
    "> Se utilizaron solo registros en estado `PAGADA` o `RESERVA`, convertidos a tipo numérico. El valor total de este top 10 supera los **$50 millones COP**."
   ]
  },
  {
   "cell_type": "markdown",
   "id": "180ec73f",
   "metadata": {},
   "source": [
    "## 📅 2.8. Análisis comparativo anual (2024 vs 2025)\n",
    "Evaluación del comportamiento de las incapacidades en cuanto a volumen, aprobación, rechazo e impacto económico, con corte entre enero 2024 y mayo 2025.\n",
    "\n",
    "✅ Objetivo\n",
    "Detectar tendencias, alertas o mejoras en la gestión de incapacidades por parte de Capresoca EPS, comparando los periodos 2024 (enero–diciembre) y 2025 parcial (enero–mayo).\n",
    "\n",
    "> ✅ Paso 1: Código base para agrupar por año"
   ]
  },
  {
   "cell_type": "code",
   "execution_count": 29,
   "id": "5c1bcd06",
   "metadata": {},
   "outputs": [
    {
     "data": {
      "application/vnd.microsoft.datawrangler.viewer.v0+json": {
       "columns": [
        {
         "name": "index",
         "rawType": "int64",
         "type": "integer"
        },
        {
         "name": "Año",
         "rawType": "float64",
         "type": "float"
        },
        {
         "name": "Total_Incapacidades",
         "rawType": "int64",
         "type": "integer"
        },
        {
         "name": "Aprobadas",
         "rawType": "int64",
         "type": "integer"
        },
        {
         "name": "Negadas",
         "rawType": "int64",
         "type": "integer"
        },
        {
         "name": "Valor_Total_Pagado",
         "rawType": "float64",
         "type": "float"
        },
        {
         "name": "Valor_Promedio",
         "rawType": "float64",
         "type": "float"
        },
        {
         "name": "Dias_Promedio",
         "rawType": "float64",
         "type": "float"
        },
        {
         "name": "% Aprobación",
         "rawType": "float64",
         "type": "float"
        },
        {
         "name": "% Negadas",
         "rawType": "float64",
         "type": "float"
        }
       ],
       "ref": "1e03fb06-b3ec-49ba-b6a3-9de057234b14",
       "rows": [
        [
         "0",
         "2023.0",
         "1951",
         "1570",
         "381",
         "729503108.5257833",
         "373912.4082653938",
         "11.711430035879037",
         "80.4715530497181",
         "19.528446950281907"
        ],
        [
         "1",
         "2024.0",
         "2009",
         "1708",
         "301",
         "928405974.0",
         "462123.43155798904",
         "12.876057740169239",
         "85.01742160278745",
         "14.982578397212542"
        ],
        [
         "2",
         "2025.0",
         "728",
         "586",
         "142",
         "349062872.0",
         "479481.967032967",
         "13.331043956043956",
         "80.4945054945055",
         "19.505494505494507"
        ]
       ],
       "shape": {
        "columns": 9,
        "rows": 3
       }
      },
      "text/html": [
       "<div>\n",
       "<style scoped>\n",
       "    .dataframe tbody tr th:only-of-type {\n",
       "        vertical-align: middle;\n",
       "    }\n",
       "\n",
       "    .dataframe tbody tr th {\n",
       "        vertical-align: top;\n",
       "    }\n",
       "\n",
       "    .dataframe thead th {\n",
       "        text-align: right;\n",
       "    }\n",
       "</style>\n",
       "<table border=\"1\" class=\"dataframe\">\n",
       "  <thead>\n",
       "    <tr style=\"text-align: right;\">\n",
       "      <th></th>\n",
       "      <th>Año</th>\n",
       "      <th>Total_Incapacidades</th>\n",
       "      <th>Aprobadas</th>\n",
       "      <th>Negadas</th>\n",
       "      <th>Valor_Total_Pagado</th>\n",
       "      <th>Valor_Promedio</th>\n",
       "      <th>Dias_Promedio</th>\n",
       "      <th>% Aprobación</th>\n",
       "      <th>% Negadas</th>\n",
       "    </tr>\n",
       "  </thead>\n",
       "  <tbody>\n",
       "    <tr>\n",
       "      <th>0</th>\n",
       "      <td>2023.0</td>\n",
       "      <td>1951</td>\n",
       "      <td>1570</td>\n",
       "      <td>381</td>\n",
       "      <td>7.295031e+08</td>\n",
       "      <td>373912.408265</td>\n",
       "      <td>11.711430</td>\n",
       "      <td>80.471553</td>\n",
       "      <td>19.528447</td>\n",
       "    </tr>\n",
       "    <tr>\n",
       "      <th>1</th>\n",
       "      <td>2024.0</td>\n",
       "      <td>2009</td>\n",
       "      <td>1708</td>\n",
       "      <td>301</td>\n",
       "      <td>9.284060e+08</td>\n",
       "      <td>462123.431558</td>\n",
       "      <td>12.876058</td>\n",
       "      <td>85.017422</td>\n",
       "      <td>14.982578</td>\n",
       "    </tr>\n",
       "    <tr>\n",
       "      <th>2</th>\n",
       "      <td>2025.0</td>\n",
       "      <td>728</td>\n",
       "      <td>586</td>\n",
       "      <td>142</td>\n",
       "      <td>3.490629e+08</td>\n",
       "      <td>479481.967033</td>\n",
       "      <td>13.331044</td>\n",
       "      <td>80.494505</td>\n",
       "      <td>19.505495</td>\n",
       "    </tr>\n",
       "  </tbody>\n",
       "</table>\n",
       "</div>"
      ],
      "text/plain": [
       "      Año  Total_Incapacidades  Aprobadas  Negadas  Valor_Total_Pagado  \\\n",
       "0  2023.0                 1951       1570      381        7.295031e+08   \n",
       "1  2024.0                 2009       1708      301        9.284060e+08   \n",
       "2  2025.0                  728        586      142        3.490629e+08   \n",
       "\n",
       "   Valor_Promedio  Dias_Promedio  % Aprobación  % Negadas  \n",
       "0   373912.408265      11.711430     80.471553  19.528447  \n",
       "1   462123.431558      12.876058     85.017422  14.982578  \n",
       "2   479481.967033      13.331044     80.494505  19.505495  "
      ]
     },
     "metadata": {},
     "output_type": "display_data"
    }
   ],
   "source": [
    "# 1. Asegurar formato de fecha\n",
    "df_anual = df_incapacidades_clave.copy()\n",
    "df_anual['Fecha de Radicado'] = pd.to_datetime(df_anual['Fecha de Radicado'], errors='coerce')\n",
    "\n",
    "# 2. Extraer el año y filtrar\n",
    "df_anual['Año'] = df_anual['Fecha de Radicado'].dt.year\n",
    "df_anual = df_anual[df_anual['Año'].isin([2023, 2024, 2025])]\n",
    "\n",
    "# 3. Conversión de columnas numéricas\n",
    "df_anual['Valor Pagado'] = pd.to_numeric(df_anual['Valor Pagado'], errors='coerce')\n",
    "df_anual['Dias Incapacidad'] = pd.to_numeric(df_anual['Dias Incapacidad'], errors='coerce')\n",
    "\n",
    "# 4. Generar resumen agrupado por año\n",
    "resumen_anual = (\n",
    "    df_anual.groupby('Año')\n",
    "    .agg(\n",
    "        Total_Incapacidades=('Estado de la Incapacidad', 'count'),\n",
    "        Aprobadas=('Estado de la Incapacidad', lambda x: x.isin(['PAGADA', 'RESERVA']).sum()),\n",
    "        Negadas=('Estado de la Incapacidad', lambda x: (x == 'NEGADO').sum()),\n",
    "        Valor_Total_Pagado=('Valor Pagado', 'sum'),\n",
    "        Valor_Promedio=('Valor Pagado', 'mean'),\n",
    "        Dias_Promedio=('Dias Incapacidad', 'mean')\n",
    "    )\n",
    "    .reset_index()\n",
    ")\n",
    "\n",
    "# 5. Calcular indicadores adicionales\n",
    "resumen_anual['% Aprobación'] = (resumen_anual['Aprobadas'] / resumen_anual['Total_Incapacidades']) * 100\n",
    "resumen_anual['% Negadas'] = (resumen_anual['Negadas'] / resumen_anual['Total_Incapacidades']) * 100\n",
    "\n",
    "# 6. Mostrar resultado\n",
    "display(resumen_anual)"
   ]
  },
  {
   "cell_type": "markdown",
   "id": "6e9854ab",
   "metadata": {},
   "source": [
    "📊 Visualización"
   ]
  },
  {
   "cell_type": "code",
   "execution_count": 30,
   "id": "d1cc5da6",
   "metadata": {},
   "outputs": [
    {
     "data": {
      "image/png": "[encoded data removed]",
      "text/plain": [
       "<Figure size 2200x600 with 3 Axes>"
      ]
     },
     "metadata": {},
     "output_type": "display_data"
    }
   ],
   "source": [
    "import matplotlib.pyplot as plt\n",
    "import seaborn as sns\n",
    "\n",
    "sns.set(style=\"whitegrid\")\n",
    "fig, axes = plt.subplots(1, 3, figsize=(22, 6))\n",
    "\n",
    "# Colores\n",
    "color_base = \"#1f77b4\"\n",
    "color_alt = \"#d62728\"\n",
    "label_font = {\"fontsize\": 12}\n",
    "title_font = {\"fontsize\": 14, \"weight\": \"bold\"}\n",
    "\n",
    "# 1. Total de incapacidades\n",
    "sns.barplot(data=resumen_anual, x='Año', y='Total_Incapacidades', ax=axes[0], color=color_base)\n",
    "axes[0].set_title(\"Total de Incapacidades por Año\", **title_font)\n",
    "axes[0].set_ylabel(\"Casos\", **label_font)\n",
    "axes[0].set_xlabel(\"\")\n",
    "for bar in axes[0].containers[0]:\n",
    "    height = bar.get_height()\n",
    "    axes[0].text(bar.get_x() + bar.get_width()/2, height + 50, f\"{int(height)}\", ha='center', fontsize=11)\n",
    "\n",
    "# 2. % Aprobación vs Negación\n",
    "melt_df = resumen_anual.melt(id_vars='Año', value_vars=['% Aprobación', '% Negadas'],\n",
    "                              var_name='Estado', value_name='Porcentaje')\n",
    "palette = [color_base, color_alt]\n",
    "sns.barplot(data=melt_df, x='Año', y='Porcentaje', hue='Estado', ax=axes[1], palette=palette)\n",
    "axes[1].set_title(\"Distribución porcentual de estados\", **title_font)\n",
    "axes[1].set_ylabel(\"%\", **label_font)\n",
    "axes[1].set_xlabel(\"\")\n",
    "for container in axes[1].containers:\n",
    "    axes[1].bar_label(container, fmt=\"%.1f%%\", label_type=\"edge\", fontsize=11)\n",
    "axes[1].legend(title=\"Estado\", loc='upper right')\n",
    "\n",
    "# 3. Valor total pagado\n",
    "sns.barplot(data=resumen_anual, x='Año', y='Valor_Total_Pagado', ax=axes[2], color=color_base)\n",
    "axes[2].set_title(\"Costo total por Incapacidades\", **title_font)\n",
    "axes[2].set_ylabel(\"Pesos COP\", **label_font)\n",
    "axes[2].set_xlabel(\"\")\n",
    "for i, bar in enumerate(axes[2].containers[0]):\n",
    "    height = bar.get_height()\n",
    "    axes[2].text(bar.get_x() + bar.get_width()/2, height + 1e7, f\"${height/1e6:.1f}M\", ha='center', fontsize=11)\n",
    "\n",
    "# Ajustar y guardar correctamente\n",
    "plt.tight_layout()\n",
    "fig.savefig(r\"C:\\Users\\osmarrincon\\Documents\\capresoca-data-automation\\notebooks\\Aseguramiento\\iframe_figures\\comparativo_2024_2025_enriquecido.png\", dpi=300, bbox_inches='tight')\n",
    "plt.show()"
   ]
  },
  {
   "cell_type": "code",
   "execution_count": 31,
   "id": "8e4a0f63",
   "metadata": {},
   "outputs": [
    {
     "data": {
      "image/png": "[encoded data removed]",
      "text/plain": [
       "<Figure size 1800x600 with 2 Axes>"
      ]
     },
     "metadata": {},
     "output_type": "display_data"
    }
   ],
   "source": [
    "import matplotlib.pyplot as plt\n",
    "import seaborn as sns\n",
    "\n",
    "# Estilo visual\n",
    "sns.set(style=\"whitegrid\")\n",
    "\n",
    "# Crear figura con constrained_layout para mejor ajuste automático\n",
    "fig, axes = plt.subplots(1, 2, figsize=(18, 6), constrained_layout=True)\n",
    "\n",
    "# Definición de colores per gráfico\n",
    "color_valor = \"#2a9d8f\"     # Verde para promedio de valor\n",
    "color_dias = \"#e76f51\"      # Naranja para duración promedio\n",
    "\n",
    "# ——— Gráfico 1: Valor promedio por incapacidad ———\n",
    "sns.barplot(\n",
    "    data=resumen_anual,\n",
    "    x='Año',\n",
    "    y='Valor_Promedio',\n",
    "    ax=axes[0],\n",
    "    color=color_valor\n",
    ")\n",
    "axes[0].set_title(\"Valor Promedio por Incapacidad\", fontsize=14, weight='bold')\n",
    "axes[0].set_ylabel(\"COP (miles)\", fontsize=12)\n",
    "axes[0].set_xlabel(\"\")\n",
    "for bar in axes[0].containers[0]:\n",
    "    height = bar.get_height()\n",
    "    axes[0].text(\n",
    "        bar.get_x() + bar.get_width() / 2,\n",
    "        height + 10_000,\n",
    "        f\"${height/1_000:,.0f}K\",\n",
    "        ha='center',\n",
    "        fontsize=11\n",
    "    )\n",
    "\n",
    "# ——— Gráfico 2: Duración promedio por incapacidad ———\n",
    "sns.barplot(\n",
    "    data=resumen_anual,\n",
    "    x='Año',\n",
    "    y='Dias_Promedio',\n",
    "    ax=axes[1],\n",
    "    color=color_dias\n",
    ")\n",
    "axes[1].set_title(\"Duración Promedio por Incapacidad\", fontsize=14, weight='bold')\n",
    "axes[1].set_ylabel(\"Días\", fontsize=12)\n",
    "axes[1].set_xlabel(\"\")\n",
    "for bar in axes[1].containers[0]:\n",
    "    height = bar.get_height()\n",
    "    axes[1].text(\n",
    "        bar.get_x() + bar.get_width() / 2,\n",
    "        height + 0.3,\n",
    "        f\"{height:.1f} días\",\n",
    "        ha='center',\n",
    "        fontsize=11\n",
    "    )\n",
    "\n",
    "# Mostrar en notebook\n",
    "plt.show()\n",
    "\n",
    "# Guardar como imagen con calidad profesional\n",
    "fig.savefig(\n",
    "    r\"C:\\Users\\osmarrincon\\Documents\\capresoca-data-automation\\notebooks\\Aseguramiento\\iframe_figures\\comparativo_promedios_2024_2025_coloreado.png\",\n",
    "    dpi=300,\n",
    "    bbox_inches='tight'\n",
    ")"
   ]
  },
  {
   "cell_type": "markdown",
   "id": "1d038278",
   "metadata": {},
   "source": [
    "## 🧠 Hallazgos Clave – Comparativo 2024 vs 2025\n",
    "\n",
    "### 1. **Volumen de Incapacidades**\n",
    "- Se evidencia una **reducción del 64%** en el número de incapacidades registradas en 2025 (728 casos) frente a 2024 (2009 casos).\n",
    "- Esta disminución masiva **no se acompaña de un cambio proporcional en la duración o el valor promedio**, lo cual sugiere una caída real en la cantidad de eventos tramitados.\n",
    "\n",
    "### 2. **Tasa de Aprobación vs Negación**\n",
    "- La **tasa de aprobación se mantiene alta**:\n",
    "  - **85% en 2024**\n",
    "  - **80.5% en 2025**\n",
    "- La **tasa de negación aumentó**:\n",
    "  - **15% en 2024** → **19.5% en 2025**\n",
    "- Posibles causas:\n",
    "  - Mayor rigurosidad en la validación.\n",
    "  - Depuración más estricta del sistema.\n",
    "  - Cambios en el tipo o calidad de las solicitudes.\n",
    "\n",
    "### 3. **Impacto Económico Total**\n",
    "- El valor total pagado por incapacidades **se redujo en más del 60%**:\n",
    "  - **$928.4 millones COP en 2024**\n",
    "  - **$349.1 millones COP en 2025**\n",
    "- Aunque se redujo el volumen total, **el valor promedio por evento sigue siendo elevado**.\n",
    "\n",
    "### 4. **Análisis de Promedios**\n",
    "| Indicador                         | 2024     | 2025     |\n",
    "|----------------------------------|----------|----------|\n",
    "| Valor Promedio por Incapacidad   | $462.000 | $479.000 |\n",
    "| Duración Promedio (días)         | 12.9     | 13.3     |\n",
    "\n",
    "\n",
    "\n",
    "> 🔍 **Interpretación**: Aunque hay menos incapacidades, **no han reducido ni en costo ni en duración**, manteniéndose como eventos de alto impacto unitario para la EPS.\n",
    "\n",
    "---\n",
    "\n",
    "### 📌 Recomendaciones Operativas\n",
    "\n",
    "1. **Monitoreo mensual del segundo semestre de 2025**  \n",
    "   Para confirmar si la tendencia de reducción continúa o si hay rezagos por parte de IPS o procesos técnicos.\n",
    "\n",
    "---\n",
    "\n",
    "### 📈 Nota técnica\n",
    "\n",
    "- **Estados analizados**: `PAGADA`, `RESERVA`, `NEGADO`\n",
    "- **Fecha de referencia**: `Fecha de Radicado`\n",
    "- **Período**: Enero–Diciembre 2024 vs Enero–Mayo 2025\n",
    "- **Variables clave**: Valor pagado, días de incapacidad, número de registros, % aprobación/negación\n",
    "\n",
    "---\n"
   ]
  }
 ],
 "metadata": {
  "kernelspec": {
   "display_name": "venv",
   "language": "python",
   "name": "python3"
  },
  "language_info": {
   "codemirror_mode": {
    "name": "ipython",
    "version": 3
   },
   "file_extension": ".py",
   "mimetype": "text/x-python",
   "name": "python",
   "nbconvert_exporter": "python",
   "pygments_lexer": "ipython3",
   "version": "3.12.2"
  }
 },
 "nbformat": 4,
 "nbformat_minor": 5
}
