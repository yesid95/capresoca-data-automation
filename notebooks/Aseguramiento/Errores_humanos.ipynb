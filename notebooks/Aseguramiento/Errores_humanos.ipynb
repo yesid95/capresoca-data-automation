{
 "cells": [
  {
   "cell_type": "markdown",
   "id": "48898998",
   "metadata": {},
   "source": [
    "# modulos y rutas"
   ]
  },
  {
   "cell_type": "code",
   "execution_count": 1,
   "id": "0f029877",
   "metadata": {},
   "outputs": [],
   "source": [
    "import datetime\n",
    "import os\n",
    "import pandas as pd\n",
    "\n",
    "# Variables para mes y año\n",
    "mes = \"08\"\n",
    "anio = \"2025\""
   ]
  },
  {
   "cell_type": "code",
   "execution_count": 2,
   "id": "b04972e4",
   "metadata": {},
   "outputs": [],
   "source": [
    "ruta_excel = r\"C:\\Users\\osmarrincon\\OneDrive - 891856000_CAPRESOCA E P S\\Escritorio\\Yesid Rincón Z\\informes\\2025\\CTO135.2025 Informe  #9\\ACTIVIDAD 14\\glosa errroes humanos\\errores_humanos.xlsx\"\n",
    "\n",
    "r_dicionario_eh = r\"C:\\Users\\osmarrincon\\OneDrive - uniminuto.edu\\Capresoca\\AlmostClear\\Constantes\\glosas_error_humano.txt\"\n",
    "r_ms_eps025 = r\"C:\\Users\\osmarrincon\\OneDrive - uniminuto.edu\\Capresoca\\AlmostClear\\Procesos BDUA\\Subsidiados\\Procesos BDUA EPS\\MS\\MS Negado\\All_MS_NEG.TXT\"\n",
    "r_ns_eps025 = r\"C:\\Users\\osmarrincon\\OneDrive - uniminuto.edu\\Capresoca\\AlmostClear\\Procesos BDUA\\Subsidiados\\Procesos BDUA EPS\\NS\\NS Negado\\all-NS-NEG.txt\"\n",
    "r_s3_eps025 = r\"C:\\Users\\osmarrincon\\OneDrive - uniminuto.edu\\Capresoca\\AlmostClear\\Procesos BDUA\\Subsidiados\\Procesos BDUA EPS\\S3\\All-S3.txt\"\n",
    "r_mc_epsc25= r\"C:\\Users\\osmarrincon\\OneDrive - uniminuto.edu\\Capresoca\\AlmostClear\\Procesos BDUA\\Contributivo\\Procesos BDUA EPS\\MC\\MC NEG\\All_MC_NEG.TXT\"\n",
    "r_nc_epsc25 = r\"C:\\Users\\osmarrincon\\OneDrive - uniminuto.edu\\Capresoca\\AlmostClear\\Procesos BDUA\\Contributivo\\Procesos BDUA EPS\\NC\\NC NEG\\all-NC-NEG.txt\"\n",
    "r_r3_epsc25 = r\"C:\\Users\\osmarrincon\\OneDrive - uniminuto.edu\\Capresoca\\AlmostClear\\Procesos BDUA\\Contributivo\\Procesos BDUA EPS\\R3\\All-AUTO-R3.txt\"\n",
    "R_Cod_DANE = r\"C:\\Users\\osmarrincon\\OneDrive - 891856000_CAPRESOCA E P S\\Proyecto INOVA\\Colab_Notebooks\\dashboard\\Base de datos\\Codigo DANE\\Departamentos.txt\""
   ]
  },
  {
   "cell_type": "code",
   "execution_count": null,
   "id": "08750ee4",
   "metadata": {},
   "outputs": [],
   "source": [
    "df_dicionario_eh = pd.read_csv(r_dicionario_eh, sep=';', encoding='ansi', dtype=str)\n",
    "df_ms_eps025 = pd.read_csv(r_ms_eps025, sep=',', encoding='ansi', dtype=str)\n",
    "df_ns_eps025 = pd.read_csv(r_ns_eps025, sep=',', encoding='ansi', dtype=str)\n",
    "df_s3_eps025 = pd.read_csv(r_s3_eps025, sep=',', encoding='ansi', dtype=str)\n",
    "df_mc_epsc25 = pd.read_csv(r_mc_epsc25, sep=',', encoding='ansi', dtype=str)\n",
    "df_nc_epsc25 = pd.read_csv(r_nc_epsc25, sep=',', encoding='ansi', dtype=str)\n",
    "df_r3_epsc25 = pd.read_csv(r_r3_epsc25, sep=',', encoding='ansi', dtype=str)\n",
    "\n",
    "df_cod_dane = pd.read_csv(R_Cod_DANE, sep=';', encoding='UTF-8', dtype=str)"
   ]
  },
  {
   "cell_type": "markdown",
   "id": "e1068b34",
   "metadata": {},
   "source": [
    "# Limpiar datos"
   ]
  },
  {
   "cell_type": "code",
   "execution_count": null,
   "id": "ea439564",
   "metadata": {},
   "outputs": [],
   "source": [
    "df_ms_eps025.rename(columns={'GLOSA': 'Glosa'}, inplace=True)\n",
    "df_s3_eps025.rename(columns={'GLOSA': 'Glosa'}, inplace=True)\n",
    "df_mc_epsc25.rename(columns={'GLOSA': 'Glosa'}, inplace=True)\n",
    "df_r3_epsc25.rename(columns={'GLOSA': 'Glosa'}, inplace=True)"
   ]
  },
  {
   "cell_type": "code",
   "execution_count": null,
   "id": "2267c6a1",
   "metadata": {},
   "outputs": [],
   "source": [
    "# Unificar DPR_ID y MNC_ID en una sola columna de 5 dígitos llamada \"MNC_ID\"\n",
    "df_r3_epsc25['MNC_ID'] = df_r3_epsc25['DPR_ID'].astype(str).str.zfill(2) + df_r3_epsc25['MNC_ID'].astype(str).str.zfill(3)\n",
    "df_r3_epsc25.drop(['DPR_ID'], axis=1, inplace=True)"
   ]
  },
  {
   "cell_type": "code",
   "execution_count": null,
   "id": "652b6d7f",
   "metadata": {},
   "outputs": [],
   "source": [
    "df_dicionario_eh.columns"
   ]
  },
  {
   "cell_type": "code",
   "execution_count": null,
   "id": "c35150f9",
   "metadata": {},
   "outputs": [],
   "source": [
    "df_cod_dane"
   ]
  },
  {
   "cell_type": "code",
   "execution_count": null,
   "id": "b5e95929",
   "metadata": {},
   "outputs": [],
   "source": [
    "df_ms_eps025 = df_ms_eps025[['Nombre_Archivo', 'ENT_ID', 'TPS_IDN_ID', 'HST_IDN_NUMERO_IDENTIFICACION', 'MNC_ID', 'Glosa', 'Fecha_Proceso']]\n",
    "df_ns_eps025 = df_ns_eps025[['Nombre_Archivo', 'ENT_ID', 'TPS_IDN_ID', 'HST_IDN_NUMERO_IDENTIFICACION', 'MNC_ID', 'Glosa', 'Fecha_Proceso']]\n",
    "df_s3_eps025 = df_s3_eps025[['Nombre_Archivo', 'ENT_ID', 'TPS_IDN_ID', 'HST_IDN_NUMERO_IDENTIFICACION', 'MNC_ID', 'Glosa', 'Fecha_Proceso']]\n",
    "df_mc_epsc25 = df_mc_epsc25[['Nombre_Archivo', 'ENT_ID', 'TPS_IDN_ID', 'HST_IDN_NUMERO_IDENTIFICACION', 'MNC_ID', 'Glosa', 'Fecha_Proceso']]\n",
    "df_nc_epsc25 = df_nc_epsc25[['Nombre_Archivo', 'ENT_ID', 'TPS_IDN_ID', 'HST_IDN_NUMERO_IDENTIFICACION', 'MNC_ID', 'Glosa', 'Fecha_Proceso']]\n",
    "df_r3_epsc25 = df_r3_epsc25[['Nombre_Archivo', 'ENT_ID', 'TPS_IDN_ID', 'HST_IDN_NUMERO_IDENTIFICACION', 'MNC_ID', 'Glosa', 'Fecha_Proceso']]"
   ]
  },
  {
   "cell_type": "code",
   "execution_count": null,
   "id": "a68647d9",
   "metadata": {},
   "outputs": [],
   "source": [
    "df_ms_eps025['Regimen'] = 'subsidiado'\n",
    "df_ns_eps025['Regimen'] = 'subsidiado'\n",
    "df_s3_eps025['Regimen'] = 'subsidiado'\n",
    "df_mc_epsc25['Regimen'] = 'contributivo'\n",
    "df_nc_epsc25['Regimen'] = 'contributivo'\n",
    "df_r3_epsc25['Regimen'] = 'contributivo'"
   ]
  },
  {
   "cell_type": "code",
   "execution_count": null,
   "id": "5e2f40fd",
   "metadata": {},
   "outputs": [],
   "source": [
    "# Unificar todos los DataFrames en uno solo\n",
    "df_unificado = pd.concat([\n",
    "    df_ms_eps025,\n",
    "    df_ns_eps025,\n",
    "    df_s3_eps025,\n",
    "    df_mc_epsc25,\n",
    "    df_nc_epsc25,\n",
    "    df_r3_epsc25\n",
    "], ignore_index=True)\n",
    "\n",
    "del df_ms_eps025, df_ns_eps025, df_s3_eps025, df_mc_epsc25, df_nc_epsc25, df_r3_epsc25"
   ]
  },
  {
   "cell_type": "code",
   "execution_count": null,
   "id": "94c10974",
   "metadata": {},
   "outputs": [],
   "source": [
    "# Cantidad de registros antes del filtrado\n",
    "print(\"Registros antes del filtrado:\", len(df_unificado))\n",
    "\n",
    "# Expresión regular dinámica\n",
    "regex_fecha = fr'^(0[1-9]|[12][0-9]|3[01])/{mes}/{anio}$'\n",
    "\n",
    "# Filtrar registros\n",
    "df_unificado = df_unificado[df_unificado['Fecha_Proceso'].str.match(regex_fecha)]\n",
    "\n",
    "# Cantidad de registros después del filtrado\n",
    "print(\"Registros después del filtrado:\", len(df_unificado))"
   ]
  },
  {
   "cell_type": "code",
   "execution_count": null,
   "id": "9ae4c9b9",
   "metadata": {},
   "outputs": [],
   "source": [
    "import numpy as np\n",
    "\n",
    "# Unir df_unificado con df_cod_dane por el código DANE\n",
    "df_unificado = df_unificado.merge(\n",
    "    df_cod_dane[['CODIGO', 'Nombre Municipio']],\n",
    "    left_on='MNC_ID',\n",
    "    right_on='CODIGO',\n",
    "    how='left'\n",
    ")\n",
    "\n",
    "# Aplicar la regla especial\n",
    "df_unificado['Nombre Municipio'] = np.where(\n",
    "    ~df_unificado['MNC_ID'].str.startswith('85'),\n",
    "    'otro departamento',\n",
    "    df_unificado['Nombre Municipio']\n",
    ")\n",
    "\n",
    "df_unificado['Nombre Municipio'] = df_unificado['Nombre Municipio'].replace('', None)\n",
    "df_unificado['Nombre Municipio'] = df_unificado['Nombre Municipio'].fillna('otro departamento')\n",
    "\n",
    "# Si no necesitas la columna CODIGO, puedes eliminarla\n",
    "df_unificado.drop(columns=['CODIGO'], inplace=True)\n",
    "\n",
    "df_unificado"
   ]
  },
  {
   "cell_type": "code",
   "execution_count": null,
   "id": "ac8611c0",
   "metadata": {},
   "outputs": [],
   "source": [
    "import pandas as pd\n",
    "import re\n",
    "\n",
    "# Supongamos que df_dicionario_eh y df_unificado ya están definidos y cargados\n",
    "\n",
    "# Normaliza los códigos del diccionario, tal como lo tienes\n",
    "# Utiliza set para una búsqueda más rápida\n",
    "codigos_eh = set(df_dicionario_eh['Codigo'].astype(str).str.strip().str.upper())\n",
    "\n",
    "def contiene_error_humano(glosa):\n",
    "    # Asegura que el valor no sea nulo antes de procesarlo\n",
    "    if pd.isna(glosa):\n",
    "        return False\n",
    "        \n",
    "    # Extrae todos los códigos tipo GNxxxx de la cadena de glosa\n",
    "    # La expresión regular r'GN\\d{4}' es correcta para encontrar los códigos\n",
    "    codigos_encontrados = re.findall(r'GN\\d{4}', str(glosa).upper())\n",
    "    \n",
    "    # Comprueba si alguno de los códigos encontrados está en el set de códigos de error humano\n",
    "    # La función any() es muy eficiente para esto\n",
    "    return any(codigo in codigos_eh for codigo in codigos_encontrados)\n",
    "\n",
    "# Aplica la función al DataFrame\n",
    "df_unificado['Tp_glosa'] = df_unificado['Glosa'].apply(\n",
    "    lambda x: 'Errores humanos' if contiene_error_humano(x) else 'otro tipo de errores'\n",
    ")\n",
    "\n",
    "print(\"Códigos del diccionario (ejemplos):\")\n",
    "print(list(codigos_eh)[:5])\n",
    "\n",
    "\n",
    "import re\n",
    "# Obtén un ejemplo de glosa que DEBERÍA tener un error humano\n",
    "ejemplo_glosa = df_unificado.loc[df_unificado['Glosa'].str.contains('GN0258', na=False), 'Glosa'].iloc[0]\n",
    "\n",
    "# Extrae los códigos de esa glosa\n",
    "codigos_extraidos = re.findall(r'GN\\d{4}', str(ejemplo_glosa).upper())\n",
    "\n",
    "print(\"\\nGlosa de ejemplo:\")\n",
    "print(ejemplo_glosa)\n",
    "print(\"Códigos extraídos de la glosa:\")\n",
    "print(codigos_extraidos)\n",
    "\n",
    "\n",
    "\n",
    "\n",
    "# Contar registros por categoría\n",
    "conteo = df_unificado['Tp_glosa'].value_counts()\n",
    "porcentaje = df_unificado['Tp_glosa'].value_counts(normalize=True) * 100\n",
    "\n",
    "# Imprimir resultados\n",
    "for categoria in conteo.index:\n",
    "    print(f\"{categoria}: {conteo[categoria]} registros ({porcentaje[categoria]:.2f}%)\")"
   ]
  },
  {
   "cell_type": "code",
   "execution_count": null,
   "id": "702fa7e6",
   "metadata": {},
   "outputs": [],
   "source": [
    "# Filtrar solo errores humanos\n",
    "df_errores_humanos = df_unificado[df_unificado['Tp_glosa'] == 'Errores humanos']\n",
    "\n",
    "# Crear tabla resumen\n",
    "tabla_resumen = df_errores_humanos.pivot_table(\n",
    "    index='Nombre Municipio',\n",
    "    columns='Regimen',\n",
    "    values='Glosa',\n",
    "    aggfunc='count',\n",
    "    fill_value=0\n",
    ").reset_index()\n",
    "\n",
    "# Renombrar columnas si es necesario\n",
    "tabla_resumen.columns.name = None"
   ]
  },
  {
   "cell_type": "code",
   "execution_count": null,
   "id": "53616422",
   "metadata": {},
   "outputs": [],
   "source": [
    "tabla_resumen"
   ]
  },
  {
   "cell_type": "markdown",
   "id": "bd14deac",
   "metadata": {},
   "source": [
    "# Guardar Dataframes"
   ]
  },
  {
   "cell_type": "code",
   "execution_count": null,
   "id": "507980bc",
   "metadata": {},
   "outputs": [],
   "source": [
    "with pd.ExcelWriter(ruta_excel, engine='xlsxwriter') as writer:\n",
    "    tabla_resumen.to_excel(writer, sheet_name='Resumen', index=False)\n",
    "    df_unificado.to_excel(writer, sheet_name='Unificado', index=False)\n",
    "    df_dicionario_eh.to_excel(writer, sheet_name='Diccionario_EH', index=False)"
   ]
  }
 ],
 "metadata": {
  "kernelspec": {
   "display_name": "venv",
   "language": "python",
   "name": "python3"
  },
  "language_info": {
   "codemirror_mode": {
    "name": "ipython",
    "version": 3
   },
   "file_extension": ".py",
   "mimetype": "text/x-python",
   "name": "python",
   "nbconvert_exporter": "python",
   "pygments_lexer": "ipython3",
   "version": "3.12.2"
  }
 },
 "nbformat": 4,
 "nbformat_minor": 5
}
