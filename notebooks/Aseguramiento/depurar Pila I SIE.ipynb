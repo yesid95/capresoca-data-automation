{
 "cells": [
  {
   "cell_type": "markdown",
   "id": "6b409c4b",
   "metadata": {},
   "source": [
    "# Modulos"
   ]
  },
  {
   "cell_type": "code",
   "execution_count": 1,
   "id": "869b5bd9",
   "metadata": {},
   "outputs": [],
   "source": [
    "import os\n",
    "from pathlib import Path\n",
    "import pandas as pd"
   ]
  },
  {
   "cell_type": "markdown",
   "id": "f770a7f2",
   "metadata": {},
   "source": [
    "# Rutas"
   ]
  },
  {
   "cell_type": "code",
   "execution_count": 2,
   "id": "ab9e7573",
   "metadata": {},
   "outputs": [],
   "source": [
    "R_Pila_I_SIE = r\"C:\\Users\\osmarrincon\\Downloads\\reporte_2025_09_24 10_00.txt\"\n",
    "\n",
    "fecha = \"24-09-2025\"\n",
    "\n",
    "R_Salida = fr\"C:\\Users\\osmarrincon\\OneDrive - uniminuto.edu\\Capresoca\\AlmostClear\\SIE\\Pila_SIE\\Pila I\\{fecha}.txt\""
   ]
  },
  {
   "cell_type": "markdown",
   "id": "0ed109bf",
   "metadata": {},
   "source": [
    "# Proceso depuración\n",
    "## Columnas"
   ]
  },
  {
   "cell_type": "code",
   "execution_count": 3,
   "id": "8beeadc9",
   "metadata": {},
   "outputs": [
    {
     "name": "stdout",
     "output_type": "stream",
     "text": [
      "Registros corregidos por columna 'Departamento' con pipe extra:\n",
      "N° Radicación o PILA: 891856000, N° Identificación Cotizante: CITYENERGIAS SAS, Tipo Cotizante: NI\n",
      "N° Radicación o PILA: 891856000, N° Identificación Cotizante: CITYENERGIAS SAS, Tipo Cotizante: NI\n",
      "N° Radicación o PILA: 891856000, N° Identificación Cotizante: CITYENERGIAS SAS, Tipo Cotizante: NI\n",
      "N° Radicación o PILA: 891856000, N° Identificación Cotizante: CITYENERGIAS SAS, Tipo Cotizante: NI\n",
      "Total registros corregidos: 4\n",
      "Archivo corregido guardado en: C:\\Users\\osmarrincon\\OneDrive - uniminuto.edu\\Capresoca\\AlmostClear\\SIE\\Pila_SIE\\Pila I\\24-09-2025.txt\n",
      "Total de registros procesados: 176600\n"
     ]
    }
   ],
   "source": [
    "# Leer el archivo .txt como texto plano\n",
    "with open(R_Pila_I_SIE, encoding='ansi') as f:\n",
    "    lines = f.readlines()\n",
    "\n",
    "# Separar encabezados y registros\n",
    "header = lines[0].strip().split('|')\n",
    "data_lines = lines[1:]\n",
    "\n",
    "# Validaciones\n",
    "expected_cols = 91\n",
    "error_rows = []\n",
    "corrected_lines = []\n",
    "\n",
    "for idx, line in enumerate(data_lines):\n",
    "    cols = line.strip().split('|')\n",
    "    \n",
    "    # Si la línea tiene más columnas de las esperadas\n",
    "    if len(cols) > expected_cols:\n",
    "        \n",
    "        # Encuentra el índice de la columna que causa el error. \n",
    "        # Aquí, se asume que es el valor 'null' en la posición 30.\n",
    "        try:\n",
    "            null_index = cols.index('null', 30, 32) # Buscamos 'null' entre las posiciones 30 y 32\n",
    "            \n",
    "            # Si se encuentra, lo eliminamos de la lista\n",
    "            del cols[null_index]\n",
    "            \n",
    "            # Ahora la lista de columnas tiene el tamaño correcto.\n",
    "            corrected_lines.append('|'.join(cols))\n",
    "            \n",
    "            # Guardar el registro original con error para el reporte\n",
    "            error_rows.append((cols[0], cols[2], cols[3])) # [\"N° Radicación o PILA\", \"N° Identificación Cotizante\", \"Tipo Cotizante\"]\n",
    "            \n",
    "        except ValueError:\n",
    "            # Si no se encuentra un 'null' en ese rango, no es el error que buscamos.\n",
    "            # En este caso, simplemente recortamos la línea a 91 columnas como antes\n",
    "            corrected_lines.append('|'.join(cols[:expected_cols]))\n",
    "            print(f\"Alerta: Registro en línea {idx+2} tiene más de {expected_cols} columnas, pero no se encontró 'null' para corregir. Se recortó a {expected_cols} columnas.\")\n",
    "\n",
    "    # Si la línea tiene el número de columnas esperado, la agregamos tal cual\n",
    "    elif len(cols) == expected_cols:\n",
    "        corrected_lines.append('|'.join(cols))\n",
    "    \n",
    "    # Si la línea tiene menos columnas, también la agregamos (esto podría ser un error, \n",
    "    # pero el código original no lo trata como tal, solo imprime una alerta).\n",
    "    else:\n",
    "        print(f\"Alerta: Registro en línea {idx+2} tiene {len(cols)} columnas. Se recortó a {expected_cols} columnas.\")\n",
    "        corrected_lines.append('|'.join(cols[:expected_cols]))\n",
    "\n",
    "\n",
    "# Imprimir registros con error\n",
    "# ... (El resto del código para imprimir y guardar el archivo es el mismo)\n",
    "if error_rows:\n",
    "    print(\"Registros corregidos por columna 'Departamento' con pipe extra:\")\n",
    "    for r in error_rows:\n",
    "        print(f\"N° Radicación o PILA: {r[0]}, N° Identificación Cotizante: {r[1]}, Tipo Cotizante: {r[2]}\")\n",
    "    print(f\"Total registros corregidos: {len(error_rows)}\")\n",
    "else:\n",
    "    print(\"No se encontraron registros con error de columna 'Departamento'.\")\n",
    "\n",
    "# Guardar el archivo corregido\n",
    "with open(R_Salida, 'w', encoding='ansi') as f_out:\n",
    "    f_out.write('|'.join(header) + '\\n')\n",
    "    for line in corrected_lines:\n",
    "        f_out.write(line + '\\n')\n",
    "\n",
    "print(f\"Archivo corregido guardado en: {R_Salida}\")\n",
    "print(f\"Total de registros procesados: {len(corrected_lines)}\")"
   ]
  }
 ],
 "metadata": {
  "kernelspec": {
   "display_name": "venv",
   "language": "python",
   "name": "python3"
  },
  "language_info": {
   "codemirror_mode": {
    "name": "ipython",
    "version": 3
   },
   "file_extension": ".py",
   "mimetype": "text/x-python",
   "name": "python",
   "nbconvert_exporter": "python",
   "pygments_lexer": "ipython3",
   "version": "3.12.2"
  }
 },
 "nbformat": 4,
 "nbformat_minor": 5
}
