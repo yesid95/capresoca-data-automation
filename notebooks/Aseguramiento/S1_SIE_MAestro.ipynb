{
 "cells": [
  {
   "cell_type": "markdown",
   "id": "62498d61",
   "metadata": {},
   "source": [
    "# Modulos"
   ]
  },
  {
   "cell_type": "code",
   "execution_count": null,
   "id": "6acb889e",
   "metadata": {},
   "outputs": [],
   "source": [
    "import pandas as pd\n",
    "import os"
   ]
  },
  {
   "cell_type": "markdown",
   "id": "73a4a906",
   "metadata": {},
   "source": [
    "# Rutas"
   ]
  },
  {
   "cell_type": "code",
   "execution_count": null,
   "id": "87b1f993",
   "metadata": {},
   "outputs": [],
   "source": [
    "# Ruta de entrada\n",
    "R_S1val = r\"D:\\OneDrive - uniminuto.edu\\Capresoca\\AlmostClear\\Procesos BDUA\\Subsidiados\\Procesos BDUA EPS\\S1.val\\2025-2\\S1EPS02520052025.VAL\"\n",
    "R_S5 = r\"D:\\OneDrive - uniminuto.edu\\Capresoca\\AlmostClear\\Procesos BDUA\\Subsidiados\\Procesos BDUA EPS\\S5\\S5 TXT\\2025\\S5EPS02520052025.TXT\"\n",
    "\n",
    "# Ruta de salida\n",
    "Salida = r\"C:\\Users\\crist\\OneDrive - 891856000_CAPRESOCA E P S\\Escritorio\\Yesid Rincón Z\\Traslados\\Procesos BDUA\\2025\\06_Junio\\04\""
   ]
  },
  {
   "cell_type": "code",
   "execution_count": null,
   "id": "47773a3d",
   "metadata": {},
   "outputs": [],
   "source": [
    "# Cargar los archivos TXT en dataframes separados\n",
    "df_S1val = pd.read_csv(R_S1val, sep=',', header=None, dtype=str, encoding='ansi')\n",
    "df_S5 = pd.read_csv(R_S5, sep=',', header=None, dtype=str, encoding='ansi')"
   ]
  },
  {
   "cell_type": "code",
   "execution_count": null,
   "id": "e7edb0f0",
   "metadata": {},
   "outputs": [],
   "source": [
    "# Número de registros iniciales en df_S1val\n",
    "registros_iniciales = len(df_S1val)\n",
    "print(f\"Registros iniciales en df_S1val: {registros_iniciales}\")\n",
    "\n",
    "# Realizar el cruce de datos\n",
    "df_S1val['ID'] = df_S1val[1] + df_S1val[2]  # Crear columna ID en df_S1val\n",
    "df_S5['ID'] = df_S5[2] + df_S5[3]           # Crear columna ID en df_S5\n",
    "\n",
    "# Merge para traer la columna 7 de df_S5 a df_S1val, usando suffixes para evitar conflictos\n",
    "df_S1val_merged = pd.merge(df_S1val, df_S5[['ID', 7]], on='ID', how='left', suffixes=('', '_S5'))\n",
    "\n",
    "# Filtrar registros que no cruzaron\n",
    "df_No_cargue = df_S1val_merged[df_S1val_merged['7_S5'].isna()]\n",
    "\n",
    "# Eliminar registros que no cruzaron de df_S1val\n",
    "df_S1val = df_S1val_merged.dropna(subset=['7_S5'])\n",
    "\n",
    "# Número de registros finales en df_S1val\n",
    "registros_finales = len(df_S1val)\n",
    "print(f\"Registros finales en df_S1val: {registros_finales}\")\n",
    "\n",
    "# Número de registros movidos\n",
    "registros_movidos = registros_iniciales - registros_finales\n",
    "print(f\"Registros movidos a df_No_cargue: {registros_movidos}\")"
   ]
  },
  {
   "cell_type": "code",
   "execution_count": null,
   "id": "0692d293",
   "metadata": {},
   "outputs": [],
   "source": [
    "# Número de registros iniciales en df_S1val\n",
    "registros_iniciales = len(df_S1val)\n",
    "print(f\"Registros iniciales en df_S1val: {registros_iniciales}\")\n",
    "\n",
    "# Filtrar registros donde \"7_S5\" es igual a 1 en df_S1val\n",
    "registros_a_mover = df_S1val[df_S1val['7_S5'] == '1']\n",
    "\n",
    "# Verificar que estos registros estén en df_No_cargue\n",
    "verificacion = registros_a_mover.equals(df_No_cargue[df_No_cargue['7_S5'] == '1'])\n",
    "print(f\"¿Los registros con '7_S5' igual a 1 fueron movidos correctamente a df_No_cargue? {verificacion}\")\n",
    "\n",
    "# Filtrar registros restantes en df_S1val donde \"7_S5\" es igual a 0\n",
    "df_S1val = df_S1val[df_S1val['7_S5'] == '0']\n",
    "print(f\"Registros restantes en df_S1val con '7_S5' igual a 0: {len(df_S1val)}\")\n",
    "\n",
    "# Número de registros movidos\n",
    "registros_finales = len(df_S1val)\n",
    "registros_movidos = registros_iniciales - registros_finales\n",
    "print(f\"Registros movidos a df_No_cargue: {registros_movidos}\")"
   ]
  },
  {
   "cell_type": "code",
   "execution_count": null,
   "id": "7178650c",
   "metadata": {},
   "outputs": [],
   "source": [
    "output_file = os.path.join(Salida, \"Cargue SIE S1 traslados.xlsx\")\n",
    "\n",
    "with pd.ExcelWriter(output_file, engine='xlsxwriter') as writer:\n",
    "    df_S1val.to_excel(writer, sheet_name='S1val', index=False)\n",
    "    df_No_cargue.to_excel(writer, sheet_name='No_cargue', index=False)\n",
    "    df_S5.to_excel(writer, sheet_name='S5', index=False)\n",
    "\n",
    "print(f\"Archivo guardado en: {output_file}\")"
   ]
  },
  {
   "cell_type": "code",
   "execution_count": null,
   "id": "ba92ea60",
   "metadata": {},
   "outputs": [],
   "source": [
    "output_txt_file = os.path.join(Salida, \"df_S1val_output.txt\")\n",
    "\n",
    "# Seleccionar todas las columnas excepto las últimas 11\n",
    "df_S1val_trimmed = df_S1val.iloc[:, :-11]\n",
    "\n",
    "# Guardar el DataFrame en un archivo .txt\n",
    "df_S1val_trimmed.to_csv(output_txt_file, sep=',', index=False, header=False, encoding='ansi')\n",
    "\n",
    "print(f\"Archivo guardado en: {output_txt_file}\")"
   ]
  },
  {
   "cell_type": "code",
   "execution_count": null,
   "id": "fcf68fc9",
   "metadata": {},
   "outputs": [],
   "source": [
    "# Mostrar los primeros registros de cada dataframe\n",
    "print(\"DataFrame S1val:\")\n",
    "print(df_S1val.head())"
   ]
  },
  {
   "cell_type": "code",
   "execution_count": null,
   "id": "c7f3c243",
   "metadata": {},
   "outputs": [],
   "source": [
    "\n",
    "print(\"DataFrame S5:\")\n",
    "print(df_S5.head())"
   ]
  }
 ],
 "metadata": {
  "kernelspec": {
   "display_name": "venv",
   "language": "python",
   "name": "python3"
  },
  "language_info": {
   "codemirror_mode": {
    "name": "ipython",
    "version": 3
   },
   "file_extension": ".py",
   "mimetype": "text/x-python",
   "name": "python",
   "nbconvert_exporter": "python",
   "pygments_lexer": "ipython3",
   "version": "3.13.3"
  }
 },
 "nbformat": 4,
 "nbformat_minor": 5
}
