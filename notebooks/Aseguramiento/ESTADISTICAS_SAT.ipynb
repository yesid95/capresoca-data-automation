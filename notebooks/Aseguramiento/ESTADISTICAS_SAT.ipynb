{
 "cells": [
  {
   "cell_type": "markdown",
   "id": "4b8b6eb3",
   "metadata": {},
   "source": [
    "# 1. MODULO"
   ]
  },
  {
   "cell_type": "code",
   "execution_count": 1,
   "id": "33899467",
   "metadata": {},
   "outputs": [],
   "source": [
    "# Importa el módulo 'os' para interactuar con el sistema de archivos y rutas del sistema operativo\n",
    "import os\n",
    "\n",
    "# Importa 'pandas' como 'pd', una biblioteca potente para manipulación y análisis de datos mediante DataFrames\n",
    "import pandas as pd\n",
    "\n",
    "# Importa el módulo 'datetime' para trabajar con fechas y horas de manera eficiente\n",
    "import datetime"
   ]
  },
  {
   "cell_type": "markdown",
   "id": "7faa65ee",
   "metadata": {},
   "source": [
    "# 2. Rutas"
   ]
  },
  {
   "cell_type": "code",
   "execution_count": 2,
   "id": "916035d9",
   "metadata": {},
   "outputs": [],
   "source": [
    "R_Consoliado_Sat = r\"C:\\Users\\osmarrincon\\OneDrive - uniminuto.edu\\Capresoca\\AlmostClear\\SAT\\SUBSIDIADO\\consolidado año\\SAT_EPS025_2025.TXT\"\n",
    "R_Historico = r\"\\\\Servernas\\AYC2\\ASEGURAMIENTO\\ASEGURAMIENTO\\PROCESO_ASEGURAMIENTO\\REGIMEN SUBSIDIADO\\MUNICIPIOS 2025\\HISTORICOS\\20250629-HISTORICOS\\HISTORICO_IDENTIFICACION_S_E.TXT\"\n",
    "R_Maestro = r\"C:\\Users\\osmarrincon\\OneDrive - uniminuto.edu\\Capresoca\\AlmostClear\\Procesos BDUA\\Subsidiados\\Maestro\\MS\\All\\Max\\2025_Máxim.txt\"\n",
    "\n",
    "Consolidado_Salida = \"CS_Sat_RC.XLSX\"\n",
    "R_SALIDA = Fr\"C:\\Users\\osmarrincon\\OneDrive - uniminuto.edu\\Capresoca\\AlmostClear\\SAT\\{Consolidado_Salida}\""
   ]
  },
  {
   "cell_type": "markdown",
   "id": "924c12e0",
   "metadata": {},
   "source": [
    "# 3. CARGUE DATAFRAME"
   ]
  },
  {
   "cell_type": "code",
   "execution_count": 3,
   "id": "19008c3b",
   "metadata": {},
   "outputs": [
    {
     "data": {
      "application/vnd.microsoft.datawrangler.viewer.v0+json": {
       "columns": [
        {
         "name": "index",
         "rawType": "int64",
         "type": "integer"
        },
        {
         "name": "COL1",
         "rawType": "object",
         "type": "string"
        },
        {
         "name": "COL2",
         "rawType": "object",
         "type": "string"
        },
        {
         "name": "COL3",
         "rawType": "object",
         "type": "string"
        },
        {
         "name": "COL4",
         "rawType": "object",
         "type": "string"
        },
        {
         "name": "COL5",
         "rawType": "object",
         "type": "string"
        },
        {
         "name": "COL6",
         "rawType": "object",
         "type": "unknown"
        },
        {
         "name": "COL7",
         "rawType": "object",
         "type": "unknown"
        },
        {
         "name": "COL8",
         "rawType": "object",
         "type": "unknown"
        },
        {
         "name": "COL9",
         "rawType": "object",
         "type": "string"
        },
        {
         "name": "COL10",
         "rawType": "object",
         "type": "string"
        },
        {
         "name": "COL11",
         "rawType": "object",
         "type": "string"
        },
        {
         "name": "COL12",
         "rawType": "object",
         "type": "string"
        },
        {
         "name": "COL13",
         "rawType": "object",
         "type": "string"
        },
        {
         "name": "COL14",
         "rawType": "object",
         "type": "string"
        },
        {
         "name": "COL15",
         "rawType": "object",
         "type": "string"
        },
        {
         "name": "COL16",
         "rawType": "object",
         "type": "string"
        },
        {
         "name": "COL17",
         "rawType": "object",
         "type": "string"
        },
        {
         "name": "COL18",
         "rawType": "object",
         "type": "string"
        },
        {
         "name": "COL19",
         "rawType": "object",
         "type": "unknown"
        },
        {
         "name": "COL20",
         "rawType": "object",
         "type": "string"
        },
        {
         "name": "COL21",
         "rawType": "object",
         "type": "string"
        },
        {
         "name": "COL22",
         "rawType": "object",
         "type": "string"
        },
        {
         "name": "COL23",
         "rawType": "object",
         "type": "string"
        },
        {
         "name": "COL24",
         "rawType": "object",
         "type": "string"
        },
        {
         "name": "COL25",
         "rawType": "object",
         "type": "string"
        },
        {
         "name": "COL26",
         "rawType": "object",
         "type": "string"
        },
        {
         "name": "COL27",
         "rawType": "object",
         "type": "string"
        },
        {
         "name": "COL28",
         "rawType": "object",
         "type": "string"
        },
        {
         "name": "COL29",
         "rawType": "object",
         "type": "string"
        },
        {
         "name": "COL30",
         "rawType": "object",
         "type": "string"
        },
        {
         "name": "COL31",
         "rawType": "object",
         "type": "string"
        },
        {
         "name": "COL32",
         "rawType": "object",
         "type": "string"
        },
        {
         "name": "COL33",
         "rawType": "object",
         "type": "string"
        },
        {
         "name": "COL34",
         "rawType": "object",
         "type": "string"
        },
        {
         "name": "COL35",
         "rawType": "object",
         "type": "unknown"
        },
        {
         "name": "COL36",
         "rawType": "object",
         "type": "string"
        },
        {
         "name": "COL37",
         "rawType": "object",
         "type": "string"
        },
        {
         "name": "COL38",
         "rawType": "object",
         "type": "string"
        },
        {
         "name": "COL39",
         "rawType": "object",
         "type": "string"
        },
        {
         "name": "COL40",
         "rawType": "object",
         "type": "string"
        },
        {
         "name": "COL41",
         "rawType": "object",
         "type": "string"
        },
        {
         "name": "COL42",
         "rawType": "object",
         "type": "string"
        },
        {
         "name": "COL43",
         "rawType": "object",
         "type": "string"
        },
        {
         "name": "COL44",
         "rawType": "object",
         "type": "string"
        },
        {
         "name": "COL45",
         "rawType": "object",
         "type": "unknown"
        },
        {
         "name": "COL46",
         "rawType": "object",
         "type": "string"
        },
        {
         "name": "COL47",
         "rawType": "object",
         "type": "string"
        },
        {
         "name": "COL48",
         "rawType": "object",
         "type": "unknown"
        },
        {
         "name": "COL49",
         "rawType": "object",
         "type": "unknown"
        },
        {
         "name": "COL50",
         "rawType": "object",
         "type": "unknown"
        },
        {
         "name": "COL51",
         "rawType": "object",
         "type": "unknown"
        },
        {
         "name": "COL52",
         "rawType": "object",
         "type": "unknown"
        },
        {
         "name": "COL53",
         "rawType": "object",
         "type": "unknown"
        },
        {
         "name": "COL54",
         "rawType": "object",
         "type": "unknown"
        },
        {
         "name": "COL55",
         "rawType": "object",
         "type": "unknown"
        },
        {
         "name": "COL56",
         "rawType": "object",
         "type": "unknown"
        },
        {
         "name": "COL57",
         "rawType": "object",
         "type": "unknown"
        },
        {
         "name": "COL58",
         "rawType": "object",
         "type": "unknown"
        },
        {
         "name": "COL59",
         "rawType": "object",
         "type": "unknown"
        },
        {
         "name": "COL60",
         "rawType": "object",
         "type": "unknown"
        },
        {
         "name": "COL61",
         "rawType": "object",
         "type": "unknown"
        },
        {
         "name": "COL62",
         "rawType": "object",
         "type": "unknown"
        },
        {
         "name": "COL63",
         "rawType": "object",
         "type": "unknown"
        },
        {
         "name": "COL64",
         "rawType": "object",
         "type": "string"
        },
        {
         "name": "COL65",
         "rawType": "object",
         "type": "unknown"
        },
        {
         "name": "COL66",
         "rawType": "object",
         "type": "unknown"
        },
        {
         "name": "COL67",
         "rawType": "object",
         "type": "string"
        },
        {
         "name": "COL68",
         "rawType": "object",
         "type": "string"
        },
        {
         "name": "COL69",
         "rawType": "object",
         "type": "string"
        },
        {
         "name": "COL70",
         "rawType": "object",
         "type": "string"
        },
        {
         "name": "COL71",
         "rawType": "object",
         "type": "string"
        },
        {
         "name": "COL72",
         "rawType": "object",
         "type": "string"
        },
        {
         "name": "COL73",
         "rawType": "object",
         "type": "string"
        },
        {
         "name": "COL74",
         "rawType": "object",
         "type": "string"
        },
        {
         "name": "COL75",
         "rawType": "object",
         "type": "unknown"
        },
        {
         "name": "COL76",
         "rawType": "object",
         "type": "unknown"
        },
        {
         "name": "COL77",
         "rawType": "object",
         "type": "string"
        },
        {
         "name": "COL78",
         "rawType": "object",
         "type": "string"
        },
        {
         "name": "COL79",
         "rawType": "object",
         "type": "string"
        },
        {
         "name": "COL80",
         "rawType": "object",
         "type": "string"
        },
        {
         "name": "COL81",
         "rawType": "object",
         "type": "string"
        },
        {
         "name": "COL82",
         "rawType": "object",
         "type": "string"
        },
        {
         "name": "COL83",
         "rawType": "object",
         "type": "unknown"
        },
        {
         "name": "COL84",
         "rawType": "object",
         "type": "unknown"
        },
        {
         "name": "COL85",
         "rawType": "object",
         "type": "unknown"
        },
        {
         "name": "COL86",
         "rawType": "object",
         "type": "unknown"
        }
       ],
       "ref": "3be4c208-a74e-43df-b3f0-9bf505639841",
       "rows": [
        [
         "0",
         "01-01-2025",
         "1",
         "1",
         "NI",
         "891856000",
         "Dec 31 2024  4:08AM",
         "0",
         "CAPRESOCA EPS",
         " ",
         " ",
         " ",
         " ",
         " ",
         " ",
         " ",
         " ",
         " ",
         " ",
         " ",
         " ",
         " ",
         " ",
         " ",
         " ",
         " ",
         " ",
         " ",
         " ",
         " ",
         " ",
         " ",
         " ",
         " ",
         " ",
         " ",
         " ",
         " ",
         " ",
         " ",
         " ",
         " ",
         " ",
         " ",
         " ",
         " ",
         " ",
         " ",
         " ",
         " ",
         " ",
         " ",
         " ",
         " ",
         " ",
         " ",
         " ",
         " ",
         " ",
         " ",
         " ",
         " ",
         " ",
         " ",
         " ",
         " ",
         " ",
         " ",
         " ",
         " ",
         " ",
         " ",
         " ",
         " ",
         " ",
         " ",
         " ",
         " ",
         " ",
         " ",
         " ",
         " ",
         " ",
         " ",
         " ",
         " ",
         " "
        ],
        [
         "1",
         "10-01-2025",
         "1",
         "1",
         "NI",
         "891856000",
         "Jan  9 2025  4:07AM",
         "39",
         "CAPRESOCA EPS",
         " ",
         " ",
         " ",
         " ",
         " ",
         " ",
         " ",
         " ",
         " ",
         " ",
         " ",
         " ",
         " ",
         " ",
         " ",
         " ",
         " ",
         " ",
         " ",
         " ",
         " ",
         " ",
         " ",
         " ",
         " ",
         " ",
         " ",
         " ",
         " ",
         " ",
         " ",
         " ",
         " ",
         " ",
         " ",
         " ",
         " ",
         " ",
         " ",
         " ",
         " ",
         " ",
         " ",
         " ",
         " ",
         " ",
         " ",
         " ",
         " ",
         " ",
         " ",
         " ",
         " ",
         " ",
         " ",
         " ",
         " ",
         " ",
         " ",
         " ",
         " ",
         " ",
         " ",
         " ",
         " ",
         " ",
         " ",
         " ",
         " ",
         " ",
         " ",
         " ",
         " ",
         " ",
         " ",
         " ",
         " ",
         " "
        ],
        [
         "2",
         "10-01-2025",
         "2",
         "4",
         "069CC3994868009012025150400002",
         "2025-01-09T15:05:23",
         null,
         null,
         null,
         "CC",
         "39948680",
         "RAMIREZ",
         "ROLDAN",
         "BLANCA",
         "INES",
         "S",
         "EPS025",
         "854400042202",
         "EPSS41",
         null,
         "F",
         "CC",
         "39948680",
         "CC",
         "39948680",
         "RAMIREZ",
         "ROLDAN",
         "BLANCA",
         "INES",
         "M",
         "1969-07-14",
         "85",
         "85440",
         "R",
         "inesroldan1969@gmail.com",
         null,
         "3104577060",
         "Al lado del rio tua por toda la pavimentada ",
         "85",
         "85440",
         "R",
         "NINGUNO",
         "NINGUNO",
         "06",
         "9",
         null,
         "O",
         "+",
         null,
         null,
         null,
         null,
         null,
         null,
         null,
         null,
         null,
         null,
         null,
         null,
         null,
         null,
         null,
         null,
         "2025-01-09",
         null,
         null,
         "CC",
         "39948680",
         "CC",
         "39948680",
         "RAMIREZ",
         "RAMIREZ",
         "BLANCA",
         "INES",
         null,
         null,
         "S",
         "S",
         "S",
         "S",
         "S",
         "N",
         null,
         null,
         null,
         null
        ],
        [
         "3",
         "10-01-2025",
         "3",
         "4",
         "069CC416046509012025141900003",
         "2025-01-09T14:23:39",
         null,
         null,
         null,
         "CC",
         "4160465",
         "CHAPARRO",
         "NIÑO",
         "LUIS",
         "NORBERTO",
         "S",
         "EPS025",
         "850010014401",
         "EPSS41",
         null,
         "F",
         "CC",
         "4160465",
         "CC",
         "4160465",
         "CHAPARRO",
         "NIÑO",
         "LUIS",
         "NORBERTO",
         "H",
         "1944-04-11",
         "85",
         "85001",
         "U",
         "luisnorbertochaparro1@gmail.com",
         "3102390950",
         "3102390950",
         "CARRERA 7 26 75",
         "85",
         "85010",
         "U",
         "NINGUNO",
         "NINGUNO",
         "06",
         "5",
         null,
         "B",
         "+",
         null,
         null,
         null,
         null,
         null,
         null,
         null,
         null,
         null,
         null,
         null,
         null,
         null,
         null,
         null,
         null,
         "2025-01-09",
         null,
         null,
         "CC",
         "4160465",
         "CC",
         "4160465",
         "CHAPARRO",
         "CHAPARRO",
         "LUIS",
         "NORBERTO",
         null,
         null,
         "S",
         "S",
         "S",
         "S",
         "S",
         "N",
         null,
         null,
         null,
         null
        ],
        [
         "4",
         "10-01-2025",
         "4",
         "14",
         "069CC3994868009012025150400002",
         "2025-01-09T15:05:23",
         null,
         null,
         null,
         "CC",
         "39948680",
         "RAMIREZ",
         "ROLDAN",
         "BLANCA",
         "INES",
         "S",
         "EPS025",
         "854400042202",
         "EPSS41",
         "Tener más del tiempo mínimo de permanencia ",
         "F",
         "CC",
         "39948680",
         "CC",
         "39948680",
         "RAMIREZ",
         "ROLDAN",
         "BLANCA",
         "INES",
         "M",
         "1969-07-14",
         "85",
         "85440",
         "R",
         "inesroldan1969@gmail.com",
         null,
         "3104577060",
         "Al lado del rio tua por toda la pavimentada ",
         "85",
         "85440",
         "R",
         "NINGUNO",
         "NINGUNO",
         "06",
         "9",
         null,
         "O",
         "+",
         null,
         null,
         null,
         null,
         null,
         null,
         null,
         null,
         null,
         null,
         null,
         null,
         null,
         null,
         null,
         null,
         "2025-02-01",
         null,
         null,
         "CC",
         "39948680",
         "CC",
         "39948680",
         "RAMIREZ",
         "RAMIREZ",
         "BLANCA",
         "INES",
         null,
         null,
         "S",
         "S",
         "S",
         "S",
         "S",
         "N",
         null,
         null,
         null,
         null
        ]
       ],
       "shape": {
        "columns": 86,
        "rows": 5
       }
      },
      "text/html": [
       "<div>\n",
       "<style scoped>\n",
       "    .dataframe tbody tr th:only-of-type {\n",
       "        vertical-align: middle;\n",
       "    }\n",
       "\n",
       "    .dataframe tbody tr th {\n",
       "        vertical-align: top;\n",
       "    }\n",
       "\n",
       "    .dataframe thead th {\n",
       "        text-align: right;\n",
       "    }\n",
       "</style>\n",
       "<table border=\"1\" class=\"dataframe\">\n",
       "  <thead>\n",
       "    <tr style=\"text-align: right;\">\n",
       "      <th></th>\n",
       "      <th>COL1</th>\n",
       "      <th>COL2</th>\n",
       "      <th>COL3</th>\n",
       "      <th>COL4</th>\n",
       "      <th>COL5</th>\n",
       "      <th>COL6</th>\n",
       "      <th>COL7</th>\n",
       "      <th>COL8</th>\n",
       "      <th>COL9</th>\n",
       "      <th>COL10</th>\n",
       "      <th>...</th>\n",
       "      <th>COL77</th>\n",
       "      <th>COL78</th>\n",
       "      <th>COL79</th>\n",
       "      <th>COL80</th>\n",
       "      <th>COL81</th>\n",
       "      <th>COL82</th>\n",
       "      <th>COL83</th>\n",
       "      <th>COL84</th>\n",
       "      <th>COL85</th>\n",
       "      <th>COL86</th>\n",
       "    </tr>\n",
       "  </thead>\n",
       "  <tbody>\n",
       "    <tr>\n",
       "      <th>0</th>\n",
       "      <td>01-01-2025</td>\n",
       "      <td>1</td>\n",
       "      <td>1</td>\n",
       "      <td>NI</td>\n",
       "      <td>891856000</td>\n",
       "      <td>Dec 31 2024  4:08AM</td>\n",
       "      <td>0</td>\n",
       "      <td>CAPRESOCA EPS</td>\n",
       "      <td></td>\n",
       "      <td></td>\n",
       "      <td>...</td>\n",
       "      <td></td>\n",
       "      <td></td>\n",
       "      <td></td>\n",
       "      <td></td>\n",
       "      <td></td>\n",
       "      <td></td>\n",
       "      <td></td>\n",
       "      <td></td>\n",
       "      <td></td>\n",
       "      <td></td>\n",
       "    </tr>\n",
       "    <tr>\n",
       "      <th>1</th>\n",
       "      <td>10-01-2025</td>\n",
       "      <td>1</td>\n",
       "      <td>1</td>\n",
       "      <td>NI</td>\n",
       "      <td>891856000</td>\n",
       "      <td>Jan  9 2025  4:07AM</td>\n",
       "      <td>39</td>\n",
       "      <td>CAPRESOCA EPS</td>\n",
       "      <td></td>\n",
       "      <td></td>\n",
       "      <td>...</td>\n",
       "      <td></td>\n",
       "      <td></td>\n",
       "      <td></td>\n",
       "      <td></td>\n",
       "      <td></td>\n",
       "      <td></td>\n",
       "      <td></td>\n",
       "      <td></td>\n",
       "      <td></td>\n",
       "      <td></td>\n",
       "    </tr>\n",
       "    <tr>\n",
       "      <th>2</th>\n",
       "      <td>10-01-2025</td>\n",
       "      <td>2</td>\n",
       "      <td>4</td>\n",
       "      <td>069CC3994868009012025150400002</td>\n",
       "      <td>2025-01-09T15:05:23</td>\n",
       "      <td>NaN</td>\n",
       "      <td>NaN</td>\n",
       "      <td>NaN</td>\n",
       "      <td>CC</td>\n",
       "      <td>39948680</td>\n",
       "      <td>...</td>\n",
       "      <td>S</td>\n",
       "      <td>S</td>\n",
       "      <td>S</td>\n",
       "      <td>S</td>\n",
       "      <td>S</td>\n",
       "      <td>N</td>\n",
       "      <td>NaN</td>\n",
       "      <td>NaN</td>\n",
       "      <td>NaN</td>\n",
       "      <td>NaN</td>\n",
       "    </tr>\n",
       "    <tr>\n",
       "      <th>3</th>\n",
       "      <td>10-01-2025</td>\n",
       "      <td>3</td>\n",
       "      <td>4</td>\n",
       "      <td>069CC416046509012025141900003</td>\n",
       "      <td>2025-01-09T14:23:39</td>\n",
       "      <td>NaN</td>\n",
       "      <td>NaN</td>\n",
       "      <td>NaN</td>\n",
       "      <td>CC</td>\n",
       "      <td>4160465</td>\n",
       "      <td>...</td>\n",
       "      <td>S</td>\n",
       "      <td>S</td>\n",
       "      <td>S</td>\n",
       "      <td>S</td>\n",
       "      <td>S</td>\n",
       "      <td>N</td>\n",
       "      <td>NaN</td>\n",
       "      <td>NaN</td>\n",
       "      <td>NaN</td>\n",
       "      <td>NaN</td>\n",
       "    </tr>\n",
       "    <tr>\n",
       "      <th>4</th>\n",
       "      <td>10-01-2025</td>\n",
       "      <td>4</td>\n",
       "      <td>14</td>\n",
       "      <td>069CC3994868009012025150400002</td>\n",
       "      <td>2025-01-09T15:05:23</td>\n",
       "      <td>NaN</td>\n",
       "      <td>NaN</td>\n",
       "      <td>NaN</td>\n",
       "      <td>CC</td>\n",
       "      <td>39948680</td>\n",
       "      <td>...</td>\n",
       "      <td>S</td>\n",
       "      <td>S</td>\n",
       "      <td>S</td>\n",
       "      <td>S</td>\n",
       "      <td>S</td>\n",
       "      <td>N</td>\n",
       "      <td>NaN</td>\n",
       "      <td>NaN</td>\n",
       "      <td>NaN</td>\n",
       "      <td>NaN</td>\n",
       "    </tr>\n",
       "  </tbody>\n",
       "</table>\n",
       "<p>5 rows × 86 columns</p>\n",
       "</div>"
      ],
      "text/plain": [
       "         COL1 COL2 COL3                            COL4                 COL5  \\\n",
       "0  01-01-2025    1    1                              NI            891856000   \n",
       "1  10-01-2025    1    1                              NI            891856000   \n",
       "2  10-01-2025    2    4  069CC3994868009012025150400002  2025-01-09T15:05:23   \n",
       "3  10-01-2025    3    4   069CC416046509012025141900003  2025-01-09T14:23:39   \n",
       "4  10-01-2025    4   14  069CC3994868009012025150400002  2025-01-09T15:05:23   \n",
       "\n",
       "                  COL6 COL7           COL8 COL9     COL10  ... COL77 COL78  \\\n",
       "0  Dec 31 2024  4:08AM    0  CAPRESOCA EPS                 ...               \n",
       "1  Jan  9 2025  4:07AM   39  CAPRESOCA EPS                 ...               \n",
       "2                  NaN  NaN            NaN   CC  39948680  ...     S     S   \n",
       "3                  NaN  NaN            NaN   CC   4160465  ...     S     S   \n",
       "4                  NaN  NaN            NaN   CC  39948680  ...     S     S   \n",
       "\n",
       "  COL79 COL80 COL81 COL82 COL83 COL84 COL85 COL86  \n",
       "0                                                  \n",
       "1                                                  \n",
       "2     S     S     S     N   NaN   NaN   NaN   NaN  \n",
       "3     S     S     S     N   NaN   NaN   NaN   NaN  \n",
       "4     S     S     S     N   NaN   NaN   NaN   NaN  \n",
       "\n",
       "[5 rows x 86 columns]"
      ]
     },
     "execution_count": 3,
     "metadata": {},
     "output_type": "execute_result"
    }
   ],
   "source": [
    "df_sat = pd.read_csv(R_Consoliado_Sat, sep='|', encoding='ansi', dtype=str)\n",
    "df_sat.head()"
   ]
  },
  {
   "cell_type": "code",
   "execution_count": 4,
   "id": "cd10ff82",
   "metadata": {},
   "outputs": [
    {
     "name": "stdout",
     "output_type": "stream",
     "text": [
      "            COL1 COL2 COL3                            COL4  \\\n",
      "404   23-01-2025   16    4  069CC4249021622012025111600001   \n",
      "405   23-01-2025   17   14  069CC4249021622012025111600001   \n",
      "4572  27-06-2025    4    4  069CC4249021626062025151600017   \n",
      "4573  27-06-2025    5   14  069CC4249021626062025151600017   \n",
      "\n",
      "                     COL5 COL6 COL7 COL8 COL9     COL10  ... COL77 COL78  \\\n",
      "404   2025-01-22T11:22:53  NaN  NaN  NaN   CC  42490216  ...     N     S   \n",
      "405   2025-01-22T11:22:53  NaN  NaN  NaN   CC  42490216  ...     N     S   \n",
      "4572  2025-06-26T15:18:48  NaN  NaN  NaN   CC  42490216  ...     N     S   \n",
      "4573  2025-06-26T15:19:05  NaN  NaN  NaN   CC  42490216  ...     N     S   \n",
      "\n",
      "     COL79 COL80 COL81 COL82 COL83 COL84 COL85 COL86  \n",
      "404      S     S     S     N   NaN   NaN   NaN   NaN  \n",
      "405      S     S     S     N   NaN   NaN   NaN   NaN  \n",
      "4572     S     S     S     N   NaN   NaN   NaN   NaN  \n",
      "4573     S     S     S     N   NaN   NaN   NaN   NaN  \n",
      "\n",
      "[4 rows x 86 columns]\n"
     ]
    }
   ],
   "source": [
    "# Imprimir los registros donde la columna COL24 sea igual a \"42490216\"\n",
    "registros_filtrados = df_sat[df_sat[\"COL24\"] == \"42490216\"]\n",
    "print(registros_filtrados)"
   ]
  },
  {
   "cell_type": "code",
   "execution_count": 5,
   "id": "d4b69607",
   "metadata": {},
   "outputs": [
    {
     "name": "stdout",
     "output_type": "stream",
     "text": [
      "Archivo leído con éxito usando 'latin1'.\n"
     ]
    },
    {
     "data": {
      "application/vnd.microsoft.datawrangler.viewer.v0+json": {
       "columns": [
        {
         "name": "index",
         "rawType": "int64",
         "type": "integer"
        },
        {
         "name": "0",
         "rawType": "object",
         "type": "string"
        },
        {
         "name": "1",
         "rawType": "object",
         "type": "string"
        },
        {
         "name": "2",
         "rawType": "object",
         "type": "string"
        },
        {
         "name": "3",
         "rawType": "object",
         "type": "string"
        },
        {
         "name": "4",
         "rawType": "object",
         "type": "string"
        },
        {
         "name": "5",
         "rawType": "object",
         "type": "string"
        }
       ],
       "ref": "72a9a240-d4af-4f7a-86ef-217629d0fd91",
       "rows": [
        [
         "0",
         "104413898",
         "CC",
         "1073246014",
         "02/08/2018",
         "31/12/2999",
         "EPS025"
        ],
        [
         "1",
         "90652775",
         "RC",
         "1005065465",
         "01/12/2005",
         "26/06/2008",
         "EPS025"
        ],
        [
         "2",
         "94845649",
         "CC",
         "1193339663",
         "01/12/2014",
         "31/12/2999",
         "EPS025"
        ],
        [
         "3",
         "68213378",
         "CC",
         "9526502",
         "16/12/2001",
         "31/12/2999",
         "EPS025"
        ],
        [
         "4",
         "113416408",
         "TI",
         "1115865996",
         "19/11/2024",
         "31/12/2999",
         "EPS025"
        ]
       ],
       "shape": {
        "columns": 6,
        "rows": 5
       }
      },
      "text/html": [
       "<div>\n",
       "<style scoped>\n",
       "    .dataframe tbody tr th:only-of-type {\n",
       "        vertical-align: middle;\n",
       "    }\n",
       "\n",
       "    .dataframe tbody tr th {\n",
       "        vertical-align: top;\n",
       "    }\n",
       "\n",
       "    .dataframe thead th {\n",
       "        text-align: right;\n",
       "    }\n",
       "</style>\n",
       "<table border=\"1\" class=\"dataframe\">\n",
       "  <thead>\n",
       "    <tr style=\"text-align: right;\">\n",
       "      <th></th>\n",
       "      <th>0</th>\n",
       "      <th>1</th>\n",
       "      <th>2</th>\n",
       "      <th>3</th>\n",
       "      <th>4</th>\n",
       "      <th>5</th>\n",
       "    </tr>\n",
       "  </thead>\n",
       "  <tbody>\n",
       "    <tr>\n",
       "      <th>0</th>\n",
       "      <td>104413898</td>\n",
       "      <td>CC</td>\n",
       "      <td>1073246014</td>\n",
       "      <td>02/08/2018</td>\n",
       "      <td>31/12/2999</td>\n",
       "      <td>EPS025</td>\n",
       "    </tr>\n",
       "    <tr>\n",
       "      <th>1</th>\n",
       "      <td>90652775</td>\n",
       "      <td>RC</td>\n",
       "      <td>1005065465</td>\n",
       "      <td>01/12/2005</td>\n",
       "      <td>26/06/2008</td>\n",
       "      <td>EPS025</td>\n",
       "    </tr>\n",
       "    <tr>\n",
       "      <th>2</th>\n",
       "      <td>94845649</td>\n",
       "      <td>CC</td>\n",
       "      <td>1193339663</td>\n",
       "      <td>01/12/2014</td>\n",
       "      <td>31/12/2999</td>\n",
       "      <td>EPS025</td>\n",
       "    </tr>\n",
       "    <tr>\n",
       "      <th>3</th>\n",
       "      <td>68213378</td>\n",
       "      <td>CC</td>\n",
       "      <td>9526502</td>\n",
       "      <td>16/12/2001</td>\n",
       "      <td>31/12/2999</td>\n",
       "      <td>EPS025</td>\n",
       "    </tr>\n",
       "    <tr>\n",
       "      <th>4</th>\n",
       "      <td>113416408</td>\n",
       "      <td>TI</td>\n",
       "      <td>1115865996</td>\n",
       "      <td>19/11/2024</td>\n",
       "      <td>31/12/2999</td>\n",
       "      <td>EPS025</td>\n",
       "    </tr>\n",
       "  </tbody>\n",
       "</table>\n",
       "</div>"
      ],
      "text/plain": [
       "           0   1           2           3           4       5\n",
       "0  104413898  CC  1073246014  02/08/2018  31/12/2999  EPS025\n",
       "1   90652775  RC  1005065465  01/12/2005  26/06/2008  EPS025\n",
       "2   94845649  CC  1193339663  01/12/2014  31/12/2999  EPS025\n",
       "3   68213378  CC     9526502  16/12/2001  31/12/2999  EPS025\n",
       "4  113416408  TI  1115865996  19/11/2024  31/12/2999  EPS025"
      ]
     },
     "execution_count": 5,
     "metadata": {},
     "output_type": "execute_result"
    }
   ],
   "source": [
    "# Intenta con latin1\n",
    "try:\n",
    "    df_HI = pd.read_csv(R_Historico, sep=',', encoding='latin1', dtype=str, header=None)\n",
    "    print(\"Archivo leído con éxito usando 'latin1'.\")\n",
    "except UnicodeDecodeError:\n",
    "    print(\"Error con 'latin1'. Intentando con 'cp1252'.\")\n",
    "    # Si falla, intenta con cp1252\n",
    "    df_HI = pd.read_csv(R_Historico, sep=',', encoding='cp1252', dtype=str, header=None)\n",
    "    print(\"Archivo leído con éxito usando 'cp1252'.\")\n",
    "\n",
    "df_HI.head()"
   ]
  },
  {
   "cell_type": "code",
   "execution_count": 6,
   "id": "281754dd",
   "metadata": {},
   "outputs": [
    {
     "data": {
      "application/vnd.microsoft.datawrangler.viewer.v0+json": {
       "columns": [
        {
         "name": "index",
         "rawType": "int64",
         "type": "integer"
        },
        {
         "name": "AFL_ID",
         "rawType": "object",
         "type": "string"
        },
        {
         "name": "ENT_ID",
         "rawType": "object",
         "type": "string"
        },
        {
         "name": "TPS_IDN_ID_CF",
         "rawType": "object",
         "type": "unknown"
        },
        {
         "name": "HST_IDN_NUMERO_IDENTIFICACION_CF",
         "rawType": "object",
         "type": "unknown"
        },
        {
         "name": "TPS_IDN_ID",
         "rawType": "object",
         "type": "string"
        },
        {
         "name": "HST_IDN_NUMERO_IDENTIFICACION",
         "rawType": "object",
         "type": "string"
        },
        {
         "name": "AFL_PRIMER_APELLIDO",
         "rawType": "object",
         "type": "string"
        },
        {
         "name": "AFL_SEGUNDO_APELLIDO",
         "rawType": "object",
         "type": "unknown"
        },
        {
         "name": "AFL_PRIMER_NOMBRE",
         "rawType": "object",
         "type": "string"
        },
        {
         "name": "AFL_SEGUNDO_NOMBRE",
         "rawType": "object",
         "type": "unknown"
        },
        {
         "name": "AFL_FECHA_NACIMIENTO",
         "rawType": "object",
         "type": "string"
        },
        {
         "name": "TPS_GNR_ID",
         "rawType": "object",
         "type": "string"
        },
        {
         "name": "AFL_PAIS_NACIMIENTO",
         "rawType": "object",
         "type": "unknown"
        },
        {
         "name": "AFL_MUNICIPIO_NACIMIENTO",
         "rawType": "object",
         "type": "unknown"
        },
        {
         "name": "AFL_NACIONALIDAD",
         "rawType": "object",
         "type": "unknown"
        },
        {
         "name": "AFL_SEXO_IDENTIFICACION",
         "rawType": "object",
         "type": "unknown"
        },
        {
         "name": "AFL_DISCAPACIDAD",
         "rawType": "object",
         "type": "unknown"
        },
        {
         "name": "TPS_AFL_ID",
         "rawType": "object",
         "type": "string"
        },
        {
         "name": "TPS_PRN_ID",
         "rawType": "object",
         "type": "unknown"
        },
        {
         "name": "TPS_GRP_PBL_ID",
         "rawType": "object",
         "type": "unknown"
        },
        {
         "name": "TPS_NVL_SSB_ID",
         "rawType": "object",
         "type": "unknown"
        },
        {
         "name": "NUMEROFICHASISBEN",
         "rawType": "object",
         "type": "unknown"
        },
        {
         "name": "TPS_CND_BNF_ID",
         "rawType": "object",
         "type": "unknown"
        },
        {
         "name": "DPR_ID",
         "rawType": "object",
         "type": "string"
        },
        {
         "name": "MNC_ID",
         "rawType": "object",
         "type": "string"
        },
        {
         "name": "ZNS_ID",
         "rawType": "object",
         "type": "string"
        },
        {
         "name": "AFL_FECHA_AFILIACION_SGSSS",
         "rawType": "object",
         "type": "string"
        },
        {
         "name": "AFC_FECHA_INICIO",
         "rawType": "object",
         "type": "string"
        },
        {
         "name": "NUMERO CONTRATO",
         "rawType": "object",
         "type": "unknown"
        },
        {
         "name": "FECHADE INICIO DEL CONTRATO",
         "rawType": "object",
         "type": "unknown"
        },
        {
         "name": "CNT_AFL_TPS_GRP_PBL_ID",
         "rawType": "object",
         "type": "unknown"
        },
        {
         "name": "CNT_AFL_TPS_PRT_ETN_ID",
         "rawType": "object",
         "type": "unknown"
        },
        {
         "name": "TPS_MDL_SBS_ID",
         "rawType": "object",
         "type": "unknown"
        },
        {
         "name": "TPS_EST_AFL_ID",
         "rawType": "object",
         "type": "string"
        },
        {
         "name": "CND_AFL_FECHA_INICIO",
         "rawType": "object",
         "type": "string"
        },
        {
         "name": "CND_AFL_FECHA_INICIO_2",
         "rawType": "object",
         "type": "unknown"
        },
        {
         "name": "GRP_FML_COTIZANTE_ID",
         "rawType": "object",
         "type": "string"
        },
        {
         "name": "PORTABILIDAD",
         "rawType": "object",
         "type": "string"
        },
        {
         "name": "COD_IPS_P",
         "rawType": "object",
         "type": "unknown"
        },
        {
         "name": "MTDLG_G_P",
         "rawType": "object",
         "type": "unknown"
        },
        {
         "name": "SUB_SISBEN_IV",
         "rawType": "object",
         "type": "unknown"
        },
        {
         "name": "MARCASISBENIV+MARCASISBENIII",
         "rawType": "object",
         "type": "unknown"
        },
        {
         "name": "CRUCE_BDEX_RNEC",
         "rawType": "object",
         "type": "string"
        },
        {
         "name": "nombre_archivo",
         "rawType": "object",
         "type": "string"
        },
        {
         "name": "fecha_maestro",
         "rawType": "object",
         "type": "string"
        }
       ],
       "ref": "c99629fe-435b-4ecc-b95e-bcde2c3890aa",
       "rows": [
        [
         "0",
         "117350752",
         "EPS025",
         "CC",
         "1118562505",
         "RC",
         "1222137586",
         "GAITAN",
         "VIÑA",
         "JESUS",
         "MATEO",
         "01/09/2020",
         "M",
         null,
         null,
         null,
         null,
         null,
         "B",
         "2",
         "5",
         "1",
         null,
         null,
         "11",
         "001",
         "U",
         "01/09/2020",
         "01/10/2024",
         null,
         null,
         null,
         null,
         "ST",
         "AC",
         "01/10/2024",
         null,
         "96457920",
         "0",
         null,
         "2",
         "B01",
         "SIV(B01)",
         "0",
         "EPS025MS0030012025.TXT",
         "30/01/2025"
        ],
        [
         "1",
         "91099671",
         "EPS025",
         null,
         null,
         "RC",
         "WXR0303747",
         "CACHAY",
         "MALDONADO",
         "KAREN",
         "NATALIA",
         "19/06/2002",
         "F",
         null,
         null,
         null,
         null,
         null,
         "F",
         null,
         "5",
         "1",
         null,
         null,
         "15",
         "533",
         "R",
         "29/12/2005",
         "29/12/2005",
         null,
         null,
         "5",
         "6",
         "ST",
         "RE",
         "20/02/2010",
         "20/02/2010",
         "-1",
         "0",
         null,
         null,
         null,
         null,
         "0",
         "EPS025MS0030012025.TXT",
         "30/01/2025"
        ],
        [
         "2",
         "69415144",
         "EPS025",
         null,
         null,
         "CC",
         "4204689",
         "CATAÑO",
         null,
         "JOSE",
         "ALBEIRO",
         "30/07/1979",
         "M",
         null,
         null,
         null,
         null,
         null,
         "F",
         null,
         "5",
         "1",
         null,
         null,
         "15",
         "533",
         "R",
         "01/04/2001",
         "01/04/2001",
         null,
         null,
         "5",
         "6",
         "ST",
         "AF",
         "06/03/2008",
         null,
         "-1",
         "0",
         null,
         null,
         null,
         null,
         "0",
         "EPS025MS0030012025.TXT",
         "30/01/2025"
        ],
        [
         "3",
         "69407001",
         "EPS025",
         null,
         null,
         "CC",
         "1111261",
         "MALDONADO",
         "ADAN",
         "FRANCISCO",
         "ASIS",
         "04/10/1939",
         "M",
         null,
         null,
         null,
         null,
         null,
         "F",
         null,
         null,
         null,
         null,
         null,
         "15",
         "533",
         "R",
         "01/04/2001",
         "01/04/2001",
         null,
         null,
         null,
         null,
         null,
         "AF",
         "02/10/2008",
         null,
         "-1",
         "0",
         null,
         null,
         null,
         null,
         "0",
         "EPS025MS0030012025.TXT",
         "30/01/2025"
        ],
        [
         "4",
         "69410294",
         "EPS025",
         null,
         null,
         "CC",
         "4205549",
         "CATAÑO",
         "ROJAS",
         "FACUNDO",
         null,
         "07/09/1946",
         "M",
         null,
         null,
         null,
         null,
         null,
         "F",
         null,
         "5",
         "1",
         null,
         null,
         "15",
         "533",
         "R",
         "01/04/2001",
         "01/04/2001",
         null,
         null,
         "5",
         "6",
         "ST",
         "AF",
         "31/10/2007",
         null,
         "-1",
         "0",
         null,
         null,
         null,
         null,
         "0",
         "EPS025MS0030012025.TXT",
         "30/01/2025"
        ]
       ],
       "shape": {
        "columns": 45,
        "rows": 5
       }
      },
      "text/html": [
       "<div>\n",
       "<style scoped>\n",
       "    .dataframe tbody tr th:only-of-type {\n",
       "        vertical-align: middle;\n",
       "    }\n",
       "\n",
       "    .dataframe tbody tr th {\n",
       "        vertical-align: top;\n",
       "    }\n",
       "\n",
       "    .dataframe thead th {\n",
       "        text-align: right;\n",
       "    }\n",
       "</style>\n",
       "<table border=\"1\" class=\"dataframe\">\n",
       "  <thead>\n",
       "    <tr style=\"text-align: right;\">\n",
       "      <th></th>\n",
       "      <th>AFL_ID</th>\n",
       "      <th>ENT_ID</th>\n",
       "      <th>TPS_IDN_ID_CF</th>\n",
       "      <th>HST_IDN_NUMERO_IDENTIFICACION_CF</th>\n",
       "      <th>TPS_IDN_ID</th>\n",
       "      <th>HST_IDN_NUMERO_IDENTIFICACION</th>\n",
       "      <th>AFL_PRIMER_APELLIDO</th>\n",
       "      <th>AFL_SEGUNDO_APELLIDO</th>\n",
       "      <th>AFL_PRIMER_NOMBRE</th>\n",
       "      <th>AFL_SEGUNDO_NOMBRE</th>\n",
       "      <th>...</th>\n",
       "      <th>CND_AFL_FECHA_INICIO_2</th>\n",
       "      <th>GRP_FML_COTIZANTE_ID</th>\n",
       "      <th>PORTABILIDAD</th>\n",
       "      <th>COD_IPS_P</th>\n",
       "      <th>MTDLG_G_P</th>\n",
       "      <th>SUB_SISBEN_IV</th>\n",
       "      <th>MARCASISBENIV+MARCASISBENIII</th>\n",
       "      <th>CRUCE_BDEX_RNEC</th>\n",
       "      <th>nombre_archivo</th>\n",
       "      <th>fecha_maestro</th>\n",
       "    </tr>\n",
       "  </thead>\n",
       "  <tbody>\n",
       "    <tr>\n",
       "      <th>0</th>\n",
       "      <td>117350752</td>\n",
       "      <td>EPS025</td>\n",
       "      <td>CC</td>\n",
       "      <td>1118562505</td>\n",
       "      <td>RC</td>\n",
       "      <td>1222137586</td>\n",
       "      <td>GAITAN</td>\n",
       "      <td>VIÑA</td>\n",
       "      <td>JESUS</td>\n",
       "      <td>MATEO</td>\n",
       "      <td>...</td>\n",
       "      <td>NaN</td>\n",
       "      <td>96457920</td>\n",
       "      <td>0</td>\n",
       "      <td>NaN</td>\n",
       "      <td>2</td>\n",
       "      <td>B01</td>\n",
       "      <td>SIV(B01)</td>\n",
       "      <td>0</td>\n",
       "      <td>EPS025MS0030012025.TXT</td>\n",
       "      <td>30/01/2025</td>\n",
       "    </tr>\n",
       "    <tr>\n",
       "      <th>1</th>\n",
       "      <td>91099671</td>\n",
       "      <td>EPS025</td>\n",
       "      <td>NaN</td>\n",
       "      <td>NaN</td>\n",
       "      <td>RC</td>\n",
       "      <td>WXR0303747</td>\n",
       "      <td>CACHAY</td>\n",
       "      <td>MALDONADO</td>\n",
       "      <td>KAREN</td>\n",
       "      <td>NATALIA</td>\n",
       "      <td>...</td>\n",
       "      <td>20/02/2010</td>\n",
       "      <td>-1</td>\n",
       "      <td>0</td>\n",
       "      <td>NaN</td>\n",
       "      <td>NaN</td>\n",
       "      <td>NaN</td>\n",
       "      <td>NaN</td>\n",
       "      <td>0</td>\n",
       "      <td>EPS025MS0030012025.TXT</td>\n",
       "      <td>30/01/2025</td>\n",
       "    </tr>\n",
       "    <tr>\n",
       "      <th>2</th>\n",
       "      <td>69415144</td>\n",
       "      <td>EPS025</td>\n",
       "      <td>NaN</td>\n",
       "      <td>NaN</td>\n",
       "      <td>CC</td>\n",
       "      <td>4204689</td>\n",
       "      <td>CATAÑO</td>\n",
       "      <td>NaN</td>\n",
       "      <td>JOSE</td>\n",
       "      <td>ALBEIRO</td>\n",
       "      <td>...</td>\n",
       "      <td>NaN</td>\n",
       "      <td>-1</td>\n",
       "      <td>0</td>\n",
       "      <td>NaN</td>\n",
       "      <td>NaN</td>\n",
       "      <td>NaN</td>\n",
       "      <td>NaN</td>\n",
       "      <td>0</td>\n",
       "      <td>EPS025MS0030012025.TXT</td>\n",
       "      <td>30/01/2025</td>\n",
       "    </tr>\n",
       "    <tr>\n",
       "      <th>3</th>\n",
       "      <td>69407001</td>\n",
       "      <td>EPS025</td>\n",
       "      <td>NaN</td>\n",
       "      <td>NaN</td>\n",
       "      <td>CC</td>\n",
       "      <td>1111261</td>\n",
       "      <td>MALDONADO</td>\n",
       "      <td>ADAN</td>\n",
       "      <td>FRANCISCO</td>\n",
       "      <td>ASIS</td>\n",
       "      <td>...</td>\n",
       "      <td>NaN</td>\n",
       "      <td>-1</td>\n",
       "      <td>0</td>\n",
       "      <td>NaN</td>\n",
       "      <td>NaN</td>\n",
       "      <td>NaN</td>\n",
       "      <td>NaN</td>\n",
       "      <td>0</td>\n",
       "      <td>EPS025MS0030012025.TXT</td>\n",
       "      <td>30/01/2025</td>\n",
       "    </tr>\n",
       "    <tr>\n",
       "      <th>4</th>\n",
       "      <td>69410294</td>\n",
       "      <td>EPS025</td>\n",
       "      <td>NaN</td>\n",
       "      <td>NaN</td>\n",
       "      <td>CC</td>\n",
       "      <td>4205549</td>\n",
       "      <td>CATAÑO</td>\n",
       "      <td>ROJAS</td>\n",
       "      <td>FACUNDO</td>\n",
       "      <td>NaN</td>\n",
       "      <td>...</td>\n",
       "      <td>NaN</td>\n",
       "      <td>-1</td>\n",
       "      <td>0</td>\n",
       "      <td>NaN</td>\n",
       "      <td>NaN</td>\n",
       "      <td>NaN</td>\n",
       "      <td>NaN</td>\n",
       "      <td>0</td>\n",
       "      <td>EPS025MS0030012025.TXT</td>\n",
       "      <td>30/01/2025</td>\n",
       "    </tr>\n",
       "  </tbody>\n",
       "</table>\n",
       "<p>5 rows × 45 columns</p>\n",
       "</div>"
      ],
      "text/plain": [
       "      AFL_ID  ENT_ID TPS_IDN_ID_CF HST_IDN_NUMERO_IDENTIFICACION_CF  \\\n",
       "0  117350752  EPS025            CC                       1118562505   \n",
       "1   91099671  EPS025           NaN                              NaN   \n",
       "2   69415144  EPS025           NaN                              NaN   \n",
       "3   69407001  EPS025           NaN                              NaN   \n",
       "4   69410294  EPS025           NaN                              NaN   \n",
       "\n",
       "  TPS_IDN_ID HST_IDN_NUMERO_IDENTIFICACION AFL_PRIMER_APELLIDO  \\\n",
       "0         RC                    1222137586              GAITAN   \n",
       "1         RC                    WXR0303747              CACHAY   \n",
       "2         CC                       4204689              CATAÑO   \n",
       "3         CC                       1111261           MALDONADO   \n",
       "4         CC                       4205549              CATAÑO   \n",
       "\n",
       "  AFL_SEGUNDO_APELLIDO AFL_PRIMER_NOMBRE AFL_SEGUNDO_NOMBRE  ...  \\\n",
       "0                 VIÑA             JESUS              MATEO  ...   \n",
       "1            MALDONADO             KAREN            NATALIA  ...   \n",
       "2                  NaN              JOSE            ALBEIRO  ...   \n",
       "3                 ADAN         FRANCISCO               ASIS  ...   \n",
       "4                ROJAS           FACUNDO                NaN  ...   \n",
       "\n",
       "  CND_AFL_FECHA_INICIO_2 GRP_FML_COTIZANTE_ID PORTABILIDAD COD_IPS_P  \\\n",
       "0                    NaN             96457920            0       NaN   \n",
       "1             20/02/2010                   -1            0       NaN   \n",
       "2                    NaN                   -1            0       NaN   \n",
       "3                    NaN                   -1            0       NaN   \n",
       "4                    NaN                   -1            0       NaN   \n",
       "\n",
       "  MTDLG_G_P SUB_SISBEN_IV MARCASISBENIV+MARCASISBENIII CRUCE_BDEX_RNEC  \\\n",
       "0         2           B01                     SIV(B01)               0   \n",
       "1       NaN           NaN                          NaN               0   \n",
       "2       NaN           NaN                          NaN               0   \n",
       "3       NaN           NaN                          NaN               0   \n",
       "4       NaN           NaN                          NaN               0   \n",
       "\n",
       "           nombre_archivo fecha_maestro  \n",
       "0  EPS025MS0030012025.TXT    30/01/2025  \n",
       "1  EPS025MS0030012025.TXT    30/01/2025  \n",
       "2  EPS025MS0030012025.TXT    30/01/2025  \n",
       "3  EPS025MS0030012025.TXT    30/01/2025  \n",
       "4  EPS025MS0030012025.TXT    30/01/2025  \n",
       "\n",
       "[5 rows x 45 columns]"
      ]
     },
     "execution_count": 6,
     "metadata": {},
     "output_type": "execute_result"
    }
   ],
   "source": [
    "df_Maestro = pd.read_csv(R_Maestro, sep=',', encoding='ansi', dtype=str)\n",
    "df_Maestro.head()"
   ]
  },
  {
   "cell_type": "markdown",
   "id": "9e21d0fc",
   "metadata": {},
   "source": [
    "# 4. LIMPIEZA DE DATOS\n",
    "\n",
    "En esta sección, realizaremos un proceso de limpieza de datos para identificar inconsistencias y columnas que posiblemente no sean necesarias para el análisis. Esto incluye:\n",
    "\n",
    "- Análisis de columnas vacías.\n",
    "- Análisis de columnas de fechas.\n",
    "- Identificación de posibles errores de tipificación."
   ]
  },
  {
   "cell_type": "markdown",
   "id": "c429d7e9",
   "metadata": {},
   "source": [
    "## 4.1 Análisis de Columnas Vacías\n",
    "\n",
    "En esta subsección, identificaremos las columnas que tienen un alto porcentaje de valores vacíos. Esto nos ayudará a decidir si estas columnas son relevantes para el análisis o si pueden ser eliminadas."
   ]
  },
  {
   "cell_type": "code",
   "execution_count": 7,
   "id": "cf60218b",
   "metadata": {},
   "outputs": [
    {
     "name": "stdout",
     "output_type": "stream",
     "text": [
      "Posible error: La columna 'COL3' contiene valores numéricos pero está tipificada como texto.\n",
      "Posible error: La columna 'COL7' contiene valores numéricos pero está tipificada como texto.\n"
     ]
    }
   ],
   "source": [
    "# Identificar posibles errores de tipificación\n",
    "def identificar_errores_tipificacion(df):\n",
    "    for col in df.columns:\n",
    "        if df[col].dtype == \"object\":\n",
    "            try:\n",
    "                df[col].astype(float)\n",
    "                print(f\"Posible error: La columna '{col}' contiene valores numéricos pero está tipificada como texto.\")\n",
    "            except ValueError:\n",
    "                pass\n",
    "        elif df[col].dtype in [\"int64\", \"float64\"]:\n",
    "            if df[col].apply(lambda x: isinstance(x, str)).any():\n",
    "                print(f\"Posible error: La columna '{col}' contiene texto pero está tipificada como numérica.\")\n",
    "\n",
    "# Aplicar la función al DataFrame\n",
    "identificar_errores_tipificacion(df_sat)"
   ]
  },
  {
   "cell_type": "markdown",
   "id": "667566dd",
   "metadata": {},
   "source": [
    "## Análisis de Columnas de Fechas\n",
    "\n",
    "En esta subsección, verificaremos las columnas que contienen fechas para identificar valores fuera de rango o inconsistencias en el formato."
   ]
  },
  {
   "cell_type": "code",
   "execution_count": 8,
   "id": "b3d1a1fd",
   "metadata": {},
   "outputs": [],
   "source": [
    "# Identificar columnas de tipo fecha\n",
    "def analizar_columnas_fechas(df):\n",
    "    columnas_fecha = [col for col in df.columns if \"fecha\" in col.lower()]\n",
    "    for col in columnas_fecha:\n",
    "        print(f\"Análisis de la columna: {col}\")\n",
    "        print(f\"Rango de fechas: {df[col].min()} - {df[col].max()}\")\n",
    "        print(f\"Valores únicos: {df[col].nunique()}\")\n",
    "\n",
    "# Aplicar la función al DataFrame\n",
    "analizar_columnas_fechas(df_sat)"
   ]
  },
  {
   "cell_type": "markdown",
   "id": "d7dae9b9",
   "metadata": {},
   "source": [
    "## Identificación de Errores de Tipificación\n",
    "\n",
    "En esta subsección, revisaremos las columnas para identificar posibles errores de tipificación, como valores numéricos en columnas categóricas o texto en columnas numéricas."
   ]
  },
  {
   "cell_type": "code",
   "execution_count": 9,
   "id": "60cb7918",
   "metadata": {},
   "outputs": [
    {
     "name": "stdout",
     "output_type": "stream",
     "text": [
      "Columnas con más del 50% de valores vacíos:\n",
      "COL6     68.210976\n",
      "COL7     68.210976\n",
      "COL8     68.210976\n",
      "COL35    62.990021\n",
      "COL45    70.349252\n",
      "COL48    64.451176\n",
      "COL49    82.234498\n",
      "COL50    88.809694\n",
      "COL51    88.774056\n",
      "COL52    88.774056\n",
      "COL53    88.774056\n",
      "COL54    88.827512\n",
      "COL55    88.898788\n",
      "COL56    96.222381\n",
      "COL57    88.898788\n",
      "COL58    96.222381\n",
      "COL59    96.222381\n",
      "COL60    96.222381\n",
      "COL61    96.222381\n",
      "COL62    96.222381\n",
      "COL63    88.898788\n",
      "COL65    96.222381\n",
      "COL66    96.222381\n",
      "COL75    95.598717\n",
      "COL76    95.598717\n",
      "COL83    68.371347\n",
      "COL84    75.926586\n",
      "COL85    69.529579\n",
      "COL86    72.558803\n",
      "dtype: float64\n",
      "            COL1 COL2 COL3                            COL4  \\\n",
      "404   23-01-2025   16    4  069CC4249021622012025111600001   \n",
      "405   23-01-2025   17   14  069CC4249021622012025111600001   \n",
      "4572  27-06-2025    4    4  069CC4249021626062025151600017   \n",
      "4573  27-06-2025    5   14  069CC4249021626062025151600017   \n",
      "\n",
      "                     COL5 COL6 COL7 COL8 COL9     COL10  ... COL77 COL78  \\\n",
      "404   2025-01-22T11:22:53  NaN  NaN  NaN   CC  42490216  ...     N     S   \n",
      "405   2025-01-22T11:22:53  NaN  NaN  NaN   CC  42490216  ...     N     S   \n",
      "4572  2025-06-26T15:18:48  NaN  NaN  NaN   CC  42490216  ...     N     S   \n",
      "4573  2025-06-26T15:19:05  NaN  NaN  NaN   CC  42490216  ...     N     S   \n",
      "\n",
      "     COL79 COL80 COL81 COL82 COL83 COL84 COL85 COL86  \n",
      "404      S     S     S     N   NaN   NaN   NaN   NaN  \n",
      "405      S     S     S     N   NaN   NaN   NaN   NaN  \n",
      "4572     S     S     S     N   NaN   NaN   NaN   NaN  \n",
      "4573     S     S     S     N   NaN   NaN   NaN   NaN  \n",
      "\n",
      "[4 rows x 86 columns]\n"
     ]
    }
   ],
   "source": [
    "# Calcular el porcentaje de valores vacíos por columna\n",
    "def calcular_porcentaje_vacios(df):\n",
    "    porcentaje_vacios = df.isnull().mean() * 100\n",
    "    return porcentaje_vacios\n",
    "\n",
    "# Aplicar la función al DataFrame y mostrar las columnas con más del 50% de valores vacíos\n",
    "porcentaje_vacios = calcular_porcentaje_vacios(df_sat)\n",
    "columnas_vacias = porcentaje_vacios[porcentaje_vacios > 50]\n",
    "\n",
    "print(\"Columnas con más del 50% de valores vacíos:\")\n",
    "print(columnas_vacias)\n",
    "\n",
    "# Imprimir los registros donde la columna COL24 sea igual a \"42490216\"\n",
    "registros_filtrados = df_sat[df_sat[\"COL24\"] == \"42490216\"]\n",
    "print(registros_filtrados)"
   ]
  },
  {
   "cell_type": "markdown",
   "id": "d8efc6bf",
   "metadata": {},
   "source": [
    "## Eliminacion de Columnas Vacias"
   ]
  },
  {
   "cell_type": "code",
   "execution_count": 10,
   "id": "8af0daa7",
   "metadata": {},
   "outputs": [
    {
     "name": "stdout",
     "output_type": "stream",
     "text": [
      "Antes de eliminar:\n",
      "Registros: 5612, Columnas: 86\n",
      "Después de eliminar:\n",
      "Registros: 5612, Columnas: 57\n",
      "            COL1 COL2 COL3                            COL4  \\\n",
      "404   23-01-2025   16    4  069CC4249021622012025111600001   \n",
      "405   23-01-2025   17   14  069CC4249021622012025111600001   \n",
      "4572  27-06-2025    4    4  069CC4249021626062025151600017   \n",
      "4573  27-06-2025    5   14  069CC4249021626062025151600017   \n",
      "\n",
      "                     COL5 COL9     COL10       COL11     COL12  COL13  ...  \\\n",
      "404   2025-01-22T11:22:53   CC  42490216  LABASTIDAS  DE PLATA  NANCY  ...   \n",
      "405   2025-01-22T11:22:53   CC  42490216  LABASTIDAS  DE PLATA  NANCY  ...   \n",
      "4572  2025-06-26T15:18:48   CC  42490216  LABASTIDAS  DE PLATA  NANCY  ...   \n",
      "4573  2025-06-26T15:19:05   CC  42490216  LABASTIDAS  DE PLATA  NANCY  ...   \n",
      "\n",
      "           COL71       COL72  COL73    COL74 COL77 COL78 COL79 COL80 COL81  \\\n",
      "404   LABASTIDAS  LABASTIDAS  NANCY  BEATRIZ     N     S     S     S     S   \n",
      "405   LABASTIDAS  LABASTIDAS  NANCY  BEATRIZ     N     S     S     S     S   \n",
      "4572  LABASTIDAS  LABASTIDAS  NANCY  BEATRIZ     N     S     S     S     S   \n",
      "4573  LABASTIDAS  LABASTIDAS  NANCY  BEATRIZ     N     S     S     S     S   \n",
      "\n",
      "     COL82  \n",
      "404      N  \n",
      "405      N  \n",
      "4572     N  \n",
      "4573     N  \n",
      "\n",
      "[4 rows x 57 columns]\n"
     ]
    }
   ],
   "source": [
    "# Mostrar número de registros y columnas antes de eliminar\n",
    "print(\"Antes de eliminar:\")\n",
    "print(f\"Registros: {df_sat.shape[0]}, Columnas: {df_sat.shape[1]}\")\n",
    "\n",
    "# Eliminar columnas con más del 50% de valores vacíos\n",
    "df_sat_limpio = df_sat.drop(columns=columnas_vacias.index)\n",
    "\n",
    "# Mostrar número de registros y columnas después de eliminar\n",
    "print(\"Después de eliminar:\")\n",
    "print(f\"Registros: {df_sat_limpio.shape[0]}, Columnas: {df_sat_limpio.shape[1]}\")\n",
    "\n",
    "# Imprimir los registros donde la columna COL24 sea igual a \"42490216\"\n",
    "registros_filtrados = df_sat_limpio[df_sat_limpio[\"COL24\"] == \"42490216\"]\n",
    "print(registros_filtrados)"
   ]
  },
  {
   "cell_type": "markdown",
   "id": "95fd81a4",
   "metadata": {},
   "source": [
    "## VALIDAR EVOLUCIONES DC"
   ]
  },
  {
   "cell_type": "code",
   "execution_count": 11,
   "id": "b76c9239",
   "metadata": {},
   "outputs": [
    {
     "name": "stdout",
     "output_type": "stream",
     "text": [
      "Registros vacíos en COL23 antes: 1336\n",
      "Registros vacíos en COL24 antes: 1336\n",
      "Registros vacíos en COL23 después: 212\n",
      "Registros vacíos en COL24 después: 212\n",
      "            COL1 COL2 COL3                            COL4  \\\n",
      "404   23-01-2025   16    4  069CC4249021622012025111600001   \n",
      "405   23-01-2025   17   14  069CC4249021622012025111600001   \n",
      "4572  27-06-2025    4    4  069CC4249021626062025151600017   \n",
      "4573  27-06-2025    5   14  069CC4249021626062025151600017   \n",
      "\n",
      "                     COL5 COL9     COL10       COL11     COL12  COL13  ...  \\\n",
      "404   2025-01-22T11:22:53   CC  42490216  LABASTIDAS  DE PLATA  NANCY  ...   \n",
      "405   2025-01-22T11:22:53   CC  42490216  LABASTIDAS  DE PLATA  NANCY  ...   \n",
      "4572  2025-06-26T15:18:48   CC  42490216  LABASTIDAS  DE PLATA  NANCY  ...   \n",
      "4573  2025-06-26T15:19:05   CC  42490216  LABASTIDAS  DE PLATA  NANCY  ...   \n",
      "\n",
      "           COL71       COL72  COL73    COL74 COL77 COL78 COL79 COL80 COL81  \\\n",
      "404   LABASTIDAS  LABASTIDAS  NANCY  BEATRIZ     N     S     S     S     S   \n",
      "405   LABASTIDAS  LABASTIDAS  NANCY  BEATRIZ     N     S     S     S     S   \n",
      "4572  LABASTIDAS  LABASTIDAS  NANCY  BEATRIZ     N     S     S     S     S   \n",
      "4573  LABASTIDAS  LABASTIDAS  NANCY  BEATRIZ     N     S     S     S     S   \n",
      "\n",
      "     COL82  \n",
      "404      N  \n",
      "405      N  \n",
      "4572     N  \n",
      "4573     N  \n",
      "\n",
      "[4 rows x 57 columns]\n"
     ]
    }
   ],
   "source": [
    "# Mostrar número de registros vacíos en COL23 y COL24 antes del proceso\n",
    "vacios_antes_col23 = df_sat_limpio['COL23'].isnull().sum() + (df_sat_limpio['COL23'].str.strip() == '').sum()\n",
    "vacios_antes_col24 = df_sat_limpio['COL24'].isnull().sum() + (df_sat_limpio['COL24'].str.strip() == '').sum()\n",
    "print(f\"Registros vacíos en COL23 antes: {vacios_antes_col23}\")\n",
    "print(f\"Registros vacíos en COL24 antes: {vacios_antes_col24}\")\n",
    "\n",
    "# Copiar valores de COL21 y COL22 a COL23 y COL24 cuando estén vacías\n",
    "mask_col23 = df_sat_limpio['COL23'].isnull() | (df_sat_limpio['COL23'].str.strip() == '')\n",
    "mask_col24 = df_sat_limpio['COL24'].isnull() | (df_sat_limpio['COL24'].str.strip() == '')\n",
    "\n",
    "if 'COL21' in df_sat.columns and 'COL22' in df_sat.columns:\n",
    "    df_sat_limpio.loc[mask_col23, 'COL23'] = df_sat.loc[df_sat_limpio.index[mask_col23], 'COL21']\n",
    "    df_sat_limpio.loc[mask_col24, 'COL24'] = df_sat.loc[df_sat_limpio.index[mask_col24], 'COL22']\n",
    "\n",
    "# Mostrar número de registros vacíos en COL23 y COL24 después del proceso\n",
    "vacios_despues_col23 = df_sat_limpio['COL23'].isnull().sum() + (df_sat_limpio['COL23'].str.strip() == '').sum()\n",
    "vacios_despues_col24 = df_sat_limpio['COL24'].isnull().sum() + (df_sat_limpio['COL24'].str.strip() == '').sum()\n",
    "print(f\"Registros vacíos en COL23 después: {vacios_despues_col23}\")\n",
    "print(f\"Registros vacíos en COL24 después: {vacios_despues_col24}\")\n",
    "\n",
    "# Imprimir los registros donde la columna COL24 sea igual a \"42490216\"\n",
    "registros_filtrados = df_sat_limpio[df_sat_limpio[\"COL24\"] == \"42490216\"]\n",
    "print(registros_filtrados)"
   ]
  },
  {
   "cell_type": "markdown",
   "id": "93834288",
   "metadata": {},
   "source": [
    "## Eliminación Registros de actualización de datos\n",
    "\n",
    "Actualización de datos y evoluciones"
   ]
  },
  {
   "cell_type": "code",
   "execution_count": 12,
   "id": "7049ea68",
   "metadata": {},
   "outputs": [
    {
     "name": "stdout",
     "output_type": "stream",
     "text": [
      "            COL1 COL2 COL3                            COL4  \\\n",
      "405   23-01-2025   17   14  069CC4249021622012025111600001   \n",
      "4573  27-06-2025    5   14  069CC4249021626062025151600017   \n",
      "\n",
      "                     COL5 COL9     COL10       COL11     COL12  COL13  ...  \\\n",
      "405   2025-01-22T11:22:53   CC  42490216  LABASTIDAS  DE PLATA  NANCY  ...   \n",
      "4573  2025-06-26T15:19:05   CC  42490216  LABASTIDAS  DE PLATA  NANCY  ...   \n",
      "\n",
      "           COL71       COL72  COL73    COL74 COL77 COL78 COL79 COL80 COL81  \\\n",
      "405   LABASTIDAS  LABASTIDAS  NANCY  BEATRIZ     N     S     S     S     S   \n",
      "4573  LABASTIDAS  LABASTIDAS  NANCY  BEATRIZ     N     S     S     S     S   \n",
      "\n",
      "     COL82  \n",
      "405      N  \n",
      "4573     N  \n",
      "\n",
      "[2 rows x 57 columns]\n"
     ]
    }
   ],
   "source": [
    "# Eliminar registros donde COL3 sea igual a \"4\" y \"3\"\n",
    "df_sat_limpio = df_sat_limpio[~df_sat_limpio['COL3'].isin([\"4\", \"3\"])]\n",
    "\n",
    "# Imprimir los registros donde la columna COL24 sea igual a \"42490216\"\n",
    "registros_filtrados = df_sat_limpio[df_sat_limpio[\"COL24\"] == \"42490216\"]\n",
    "print(registros_filtrados)"
   ]
  },
  {
   "cell_type": "markdown",
   "id": "094566ff",
   "metadata": {},
   "source": [
    "## DEFINIR COLUMNAS"
   ]
  },
  {
   "cell_type": "code",
   "execution_count": 13,
   "id": "125d44fa",
   "metadata": {
    "vscode": {
     "languageId": "ruby"
    }
   },
   "outputs": [
    {
     "name": "stdout",
     "output_type": "stream",
     "text": [
      "Dimensiones antes: (2925, 57)\n",
      "Dimensiones después: (2925, 7)\n",
      "            COL1 COL3   COL16   COL18 COL23     COL24       COL64\n",
      "405   23-01-2025   14  CCF055  EPS025    CC  42490216  2025-03-01\n",
      "4573  27-06-2025   14  EPS025  EPSS41    CC  42490216  2025-08-01\n"
     ]
    }
   ],
   "source": [
    "# Mostrar dimensiones antes de seleccionar columnas\n",
    "print(\"Dimensiones antes:\", df_sat_limpio.shape)\n",
    "\n",
    "# Seleccionar las columnas requeridas (corrigiendo el espacio en 'COL 18')\n",
    "columnas_a_trabajar = ['COL1', 'COL3', 'COL16', 'COL18', 'COL23', 'COL24', 'COL64']\n",
    "df_sat_limpio = df_sat_limpio[columnas_a_trabajar]\n",
    "\n",
    "# Mostrar dimensiones después de seleccionar columnas\n",
    "print(\"Dimensiones después:\", df_sat_limpio.shape)\n",
    "\n",
    "# Imprimir los registros donde la columna COL24 sea igual a \"42490216\"\n",
    "registros_filtrados = df_sat_limpio[df_sat_limpio[\"COL24\"] == \"42490216\"]\n",
    "print(registros_filtrados)"
   ]
  },
  {
   "cell_type": "markdown",
   "id": "98d3c2f1",
   "metadata": {},
   "source": [
    "## QUITAR DUPLICADOS"
   ]
  },
  {
   "cell_type": "code",
   "execution_count": 14,
   "id": "2fbb8684",
   "metadata": {},
   "outputs": [
    {
     "name": "stdout",
     "output_type": "stream",
     "text": [
      "Antes de eliminar duplicados y vacíos:\n",
      "(2925, 7)\n",
      "Después de eliminar duplicados y vacíos:\n",
      "(2703, 7)\n",
      "            COL1 COL3   COL16   COL18 COL23     COL24       COL64\n",
      "405   23-01-2025   14  CCF055  EPS025    CC  42490216  2025-03-01\n",
      "4573  27-06-2025   14  EPS025  EPSS41    CC  42490216  2025-08-01\n"
     ]
    }
   ],
   "source": [
    "# Mostrar el DataFrame antes de eliminar duplicados y vacíos\n",
    "print(\"Antes de eliminar duplicados y vacíos:\")\n",
    "print(df_sat_limpio.shape)\n",
    "\n",
    "# Eliminar filas donde COL23 o COL24 estén vacíos (NaN o cadena vacía)\n",
    "df_sat_limpio = df_sat_limpio.dropna(subset=['COL23', 'COL24'])\n",
    "df_sat_limpio = df_sat_limpio[(df_sat_limpio['COL23'].str.strip() != '') & (df_sat_limpio['COL24'].str.strip() != '')]\n",
    "\n",
    "# Eliminar duplicados considerando las 6 columnas como un solo ID\n",
    "df_sat_limpio = df_sat_limpio.drop_duplicates(subset=['COL1', 'COL3', 'COL16', 'COL18', 'COL23', 'COL24'])\n",
    "\n",
    "# Mostrar el DataFrame después del proceso\n",
    "print(\"Después de eliminar duplicados y vacíos:\")\n",
    "print(df_sat_limpio.shape)\n",
    "\n",
    "# Imprimir los registros donde la columna COL24 sea igual a \"42490216\"\n",
    "registros_filtrados = df_sat_limpio[df_sat_limpio[\"COL24\"] == \"42490216\"]\n",
    "print(registros_filtrados)"
   ]
  },
  {
   "cell_type": "markdown",
   "id": "f39be395",
   "metadata": {},
   "source": [
    "## ELM DE MOVILIDAD"
   ]
  },
  {
   "cell_type": "code",
   "execution_count": 15,
   "id": "becf2c29",
   "metadata": {},
   "outputs": [
    {
     "name": "stdout",
     "output_type": "stream",
     "text": [
      "Dimensiones antes de eliminar registros: (2703, 7)\n",
      "Dimensiones después de eliminar registros: (2219, 7)\n",
      "            COL1 COL3   COL16   COL18 COL23     COL24       COL64\n",
      "405   23-01-2025   14  CCF055  EPS025    CC  42490216  2025-03-01\n",
      "4573  27-06-2025   14  EPS025  EPSS41    CC  42490216  2025-08-01\n"
     ]
    }
   ],
   "source": [
    "# Mostrar dimensiones antes de eliminar registros\n",
    "print(\"Dimensiones antes de eliminar registros:\", df_sat_limpio.shape)\n",
    "\n",
    "# Eliminar registros donde (COL16 = 'EPSC25' y COL18 = 'EPS025') o (COL16 = 'EPS025' y COL18 = 'EPSC25')\n",
    "condicion = ((df_sat_limpio['COL16'] == 'EPSC25') & (df_sat_limpio['COL18'] == 'EPS025')) | \\\n",
    "            ((df_sat_limpio['COL16'] == 'EPS025') & (df_sat_limpio['COL18'] == 'EPSC25'))\n",
    "df_sat_limpio = df_sat_limpio[~condicion]\n",
    "\n",
    "# Mostrar dimensiones después de eliminar registros\n",
    "print(\"Dimensiones después de eliminar registros:\", df_sat_limpio.shape)\n",
    "\n",
    "# Imprimir los registros donde la columna COL24 sea igual a \"42490216\"\n",
    "registros_filtrados = df_sat_limpio[df_sat_limpio[\"COL24\"] == \"42490216\"]\n",
    "print(registros_filtrados)"
   ]
  },
  {
   "cell_type": "markdown",
   "id": "31939cb1",
   "metadata": {},
   "source": [
    "## CATEGORIZAR BD"
   ]
  },
  {
   "cell_type": "code",
   "execution_count": 16,
   "id": "8c487644",
   "metadata": {},
   "outputs": [
    {
     "name": "stdout",
     "output_type": "stream",
     "text": [
      "Dimensiones antes: (2219, 7)\n",
      "Dimensiones después: (2219, 8)\n",
      "Porcentaje de categorías en 'tipo_Proceso':\n",
      "tipo_Proceso\n",
      "Salidas     60.567823\n",
      "Entradas    39.432177\n",
      "Name: proportion, dtype: float64\n",
      "            COL1 COL3   COL16   COL18 COL23     COL24       COL64 tipo_Proceso\n",
      "405   23-01-2025   14  CCF055  EPS025    CC  42490216  2025-03-01     Entradas\n",
      "4573  27-06-2025   14  EPS025  EPSS41    CC  42490216  2025-08-01      Salidas\n"
     ]
    }
   ],
   "source": [
    "# Mostrar dimensiones antes de crear la columna\n",
    "print(\"Dimensiones antes:\", df_sat_limpio.shape)\n",
    "\n",
    "# Crear la columna 'tipo_Proceso' según las condiciones dadas\n",
    "cond_entrada_1 = (df_sat_limpio['COL16'] == 'EPS025') & (df_sat_limpio['COL18'].isnull())\n",
    "cond_entrada_2 = (df_sat_limpio['COL16'] == 'EPS025') & (df_sat_limpio['COL18'].str.strip() == '')\n",
    "cond_entrada_3 = (df_sat_limpio['COL16'] != 'EPS025') & (df_sat_limpio['COL18'] == 'EPS025')\n",
    "cond_entrada_4 = (df_sat_limpio['COL16'] == 'EPS025') & (df_sat_limpio['COL18'] == 'EPS025')\n",
    "\n",
    "cond_entrada = cond_entrada_1 | cond_entrada_2 | cond_entrada_3 | cond_entrada_4\n",
    "cond_salida = (df_sat_limpio['COL16'] == 'EPS025') & (df_sat_limpio['COL18'] != 'EPS025') & (~df_sat_limpio['COL18'].isnull()) & (df_sat_limpio['COL18'].str.strip() != '')\n",
    "\n",
    "df_sat_limpio['tipo_Proceso'] = None\n",
    "df_sat_limpio.loc[cond_entrada, 'tipo_Proceso'] = 'Entradas'\n",
    "df_sat_limpio.loc[cond_salida, 'tipo_Proceso'] = 'Salidas'\n",
    "\n",
    "# Mostrar dimensiones después de crear la columna\n",
    "print(\"Dimensiones después:\", df_sat_limpio.shape)\n",
    "\n",
    "# Mostrar porcentaje de cada categoría y verificar si hay registros sin categoría\n",
    "porcentaje_categorias = df_sat_limpio['tipo_Proceso'].value_counts(dropna=False, normalize=True) * 100\n",
    "print(\"Porcentaje de categorías en 'tipo_Proceso':\")\n",
    "print(porcentaje_categorias)\n",
    "\n",
    "# Imprimir los registros donde la columna COL24 sea igual a \"42490216\"\n",
    "registros_filtrados = df_sat_limpio[df_sat_limpio[\"COL24\"] == \"42490216\"]\n",
    "print(registros_filtrados)"
   ]
  },
  {
   "cell_type": "markdown",
   "id": "47c59eba",
   "metadata": {},
   "source": [
    "## ID BDUA"
   ]
  },
  {
   "cell_type": "code",
   "execution_count": 17,
   "id": "0a88e508",
   "metadata": {},
   "outputs": [
    {
     "name": "stdout",
     "output_type": "stream",
     "text": [
      "Dimensiones antes: (2219, 8)\n",
      "Dimensiones después: (2219, 10)\n",
      "Porcentaje de vacíos en la columna 'serial': 5.77%\n",
      "            COL1 COL3   COL16   COL18 COL23     COL24       COL64  \\\n",
      "405   23-01-2025   14  CCF055  EPS025    CC  42490216  2025-03-01   \n",
      "4573  27-06-2025   14  EPS025  EPSS41    CC  42490216  2025-08-01   \n",
      "\n",
      "     tipo_Proceso    unique_id    serial  \n",
      "405      Entradas  CC 42490216  73518302  \n",
      "4573      Salidas  CC 42490216  73518302  \n"
     ]
    }
   ],
   "source": [
    "# Mostrar dimensiones antes de agregar la columna\n",
    "print(\"Dimensiones antes:\", df_sat_limpio.shape)\n",
    "\n",
    "# Crear un nuevo identificador único combinando las columnas 1 y 2 de df_HI\n",
    "df_HI['unique_id'] = df_HI[1].str.strip() + \" \" + df_HI[2].str.strip()\n",
    "\n",
    "# Crear un diccionario para mapear el identificador único al serial (columna 0)\n",
    "id_to_serial = df_HI.set_index('unique_id')[0].to_dict()\n",
    "\n",
    "# Crear un nuevo identificador único combinando las columnas COL23 y COL24 de df_sat_limpio\n",
    "df_sat_limpio['unique_id'] = df_sat_limpio['COL23'].str.strip() + \" \" + df_sat_limpio['COL24'].str.strip()\n",
    "\n",
    "# Asignar la columna 'serial' en df_sat_limpio usando el identificador único\n",
    "df_sat_limpio['serial'] = df_sat_limpio['unique_id'].map(id_to_serial)\n",
    "\n",
    "# Mostrar dimensiones después de agregar la columna\n",
    "print(\"Dimensiones después:\", df_sat_limpio.shape)\n",
    "\n",
    "# Calcular el porcentaje de vacíos en la nueva columna 'serial'\n",
    "porcentaje_vacios_serial = df_sat_limpio['serial'].isnull().mean() * 100\n",
    "print(f\"Porcentaje de vacíos en la columna 'serial': {porcentaje_vacios_serial:.2f}%\")\n",
    "\n",
    "\n",
    "# Imprimir los registros donde la columna COL24 sea igual a \"42490216\"\n",
    "registros_filtrados = df_sat_limpio[df_sat_limpio[\"COL24\"] == \"42490216\"]\n",
    "print(registros_filtrados)"
   ]
  },
  {
   "cell_type": "code",
   "execution_count": 18,
   "id": "bf063416",
   "metadata": {},
   "outputs": [
    {
     "name": "stdout",
     "output_type": "stream",
     "text": [
      "            COL1 COL3   COL16   COL18 COL23     COL24       COL64  \\\n",
      "405   23-01-2025   14  CCF055  EPS025    CC  42490216  2025-03-01   \n",
      "4573  27-06-2025   14  EPS025  EPSS41    CC  42490216  2025-08-01   \n",
      "\n",
      "     tipo_Proceso    unique_id    serial fec_maestro  \n",
      "405      Entradas  CC 42490216  73518302  25/07/2025  \n",
      "4573      Salidas  CC 42490216  73518302  29/05/2025  \n"
     ]
    }
   ],
   "source": [
    "# Agrupar df_Maestro por AFL_ID y obtener la fecha mínima y máxima de fecha_maestro\n",
    "fechas_maestro = df_Maestro.groupby('AFL_ID')['fecha_maestro'].agg(['min', 'max']).reset_index()\n",
    "\n",
    "# Crear un diccionario para acceso rápido\n",
    "min_fechas = fechas_maestro.set_index('AFL_ID')['min'].to_dict()\n",
    "max_fechas = fechas_maestro.set_index('AFL_ID')['max'].to_dict()\n",
    "\n",
    "# Función para asignar la fecha según tipo_Proceso\n",
    "def obtener_fec_maestro(row):\n",
    "    serial = row['serial']\n",
    "    if row['tipo_Proceso'] == 'Entradas':\n",
    "        return min_fechas.get(serial, pd.NaT)\n",
    "    elif row['tipo_Proceso'] == 'Salidas':\n",
    "        return max_fechas.get(serial, pd.NaT)\n",
    "    else:\n",
    "        return pd.NaT\n",
    "\n",
    "# Crear la columna 'fec_maestro' en df_sat_limpio\n",
    "df_sat_limpio['fec_maestro'] = df_sat_limpio.apply(obtener_fec_maestro, axis=1)\n",
    "\n",
    "\n",
    "# Imprimir los registros donde la columna COL24 sea igual a \"42490216\"\n",
    "registros_filtrados = df_sat_limpio[df_sat_limpio[\"COL24\"] == \"42490216\"]\n",
    "print(registros_filtrados)"
   ]
  },
  {
   "cell_type": "markdown",
   "id": "404d04ec",
   "metadata": {},
   "source": [
    "# 5.VIZUALIACION DE DATOS"
   ]
  },
  {
   "cell_type": "code",
   "execution_count": 20,
   "id": "8f56555f",
   "metadata": {},
   "outputs": [
    {
     "data": {
      "image/png": "[encoded data removed]",
      "text/plain": [
       "<Figure size 1400x800 with 1 Axes>"
      ]
     },
     "metadata": {},
     "output_type": "display_data"
    }
   ],
   "source": [
    "import matplotlib.pyplot as plt\n",
    "import seaborn as sns\n",
    "import matplotlib.dates as mdates\n",
    "\n",
    "# Asegurarse de que la columna COL1 esté en formato de fecha\n",
    "df_sat_limpio['COL1'] = pd.to_datetime(df_sat_limpio['COL1'], format='%d-%m-%Y', errors='coerce')\n",
    "\n",
    "# Crear una nueva columna para el mes y año\n",
    "df_sat_limpio['Mes_Año'] = df_sat_limpio['COL1'].dt.to_period('M')\n",
    "\n",
    "# Agrupar por Mes_Año y tipo_Proceso, y contar los registros\n",
    "totales_por_mes = df_sat_limpio.groupby(['Mes_Año', 'tipo_Proceso']).size().reset_index(name='Total')\n",
    "\n",
    "# Pivotar los datos para que cada tipo_Proceso sea una columna\n",
    "timeline = totales_por_mes.pivot(index='Mes_Año', columns='tipo_Proceso', values='Total').fillna(0)\n",
    "\n",
    "import matplotlib.pyplot as plt\n",
    "import seaborn as sns\n",
    "import matplotlib.dates as mdates\n",
    "\n",
    "# Mapeo abreviado de meses en español\n",
    "spanish_abbr = {\n",
    "    1: 'Ene', 2: 'Feb', 3: 'Mar', 4: 'Abr',\n",
    "    5: 'May', 6: 'Jun', 7: 'Jul', 8: 'Ago',\n",
    "    9: 'Sep', 10: 'Oct', 11: 'Nov', 12: 'Dic'\n",
    "}\n",
    "\n",
    "# Estilo y paleta\n",
    "sns.set_theme(style=\"whitegrid\", context=\"talk\", palette=\"colorblind\")\n",
    "\n",
    "# Índice de fechas (Timestamp)\n",
    "idx = timeline.index.to_timestamp()\n",
    "\n",
    "fig, ax = plt.subplots(figsize=(14, 8))\n",
    "\n",
    "for column in timeline.columns:\n",
    "    y = timeline[column].values\n",
    "    ax.plot(idx, y, marker='o', linewidth=2, label=column)\n",
    "    # Etiqueta cada punto\n",
    "    for x, val in zip(idx, y):\n",
    "        ax.text(x, val, f\"{int(val)}\",\n",
    "                va='bottom', ha='center',\n",
    "                fontsize=10, fontweight='bold')\n",
    "\n",
    "# Formato de eje X con etiquetas en español\n",
    "ax.set_xticks(idx)\n",
    "ax.set_xticklabels(\n",
    "    [f\"{spanish_abbr[d.month]} {d.year}\" for d in idx],\n",
    "    rotation=45,\n",
    "    ha='right'\n",
    ")\n",
    "\n",
    "# Despine y grillas secundarias\n",
    "sns.despine(ax=ax)\n",
    "ax.minorticks_on()\n",
    "ax.grid(which='minor', linestyle=':', alpha=0.5)\n",
    "\n",
    "# Títulos y ejes\n",
    "ax.set_title(\n",
    "    'Línea de Tiempo por Tipo de Proceso\\n(Totalización Mensual)',\n",
    "    fontsize=18, fontweight='bold', pad=20\n",
    ")\n",
    "ax.set_xlabel('Mes', fontsize=14)\n",
    "ax.set_ylabel('Cantidad de Registros', fontsize=14)\n",
    "\n",
    "# Leyenda fuera del plot\n",
    "ax.legend(\n",
    "    title='Tipo de Proceso',\n",
    "    loc='upper left',\n",
    "    bbox_to_anchor=(1.02, 1),\n",
    "    borderaxespad=0.\n",
    ")\n",
    "\n",
    "plt.tight_layout()\n",
    "plt.show()\n"
   ]
  }
 ],
 "metadata": {
  "kernelspec": {
   "display_name": "venv",
   "language": "python",
   "name": "python3"
  },
  "language_info": {
   "codemirror_mode": {
    "name": "ipython",
    "version": 3
   },
   "file_extension": ".py",
   "mimetype": "text/x-python",
   "name": "python",
   "nbconvert_exporter": "python",
   "pygments_lexer": "ipython3",
   "version": "3.12.2"
  }
 },
 "nbformat": 4,
 "nbformat_minor": 5
}
