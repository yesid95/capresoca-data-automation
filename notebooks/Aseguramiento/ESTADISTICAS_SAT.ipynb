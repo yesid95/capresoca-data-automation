{
 "cells": [
  {
   "cell_type": "markdown",
   "id": "4b8b6eb3",
   "metadata": {},
   "source": [
    "# 1. MODULO"
   ]
  },
  {
   "cell_type": "code",
   "execution_count": 18,
   "id": "33899467",
   "metadata": {},
   "outputs": [],
   "source": [
    "# Importa el módulo 'os' para interactuar con el sistema de archivos y rutas del sistema operativo\n",
    "import os\n",
    "\n",
    "# Importa 'pandas' como 'pd', una biblioteca potente para manipulación y análisis de datos mediante DataFrames\n",
    "import pandas as pd\n",
    "\n",
    "# Importa el módulo 'datetime' para trabajar con fechas y horas de manera eficiente\n",
    "import datetime"
   ]
  },
  {
   "cell_type": "markdown",
   "id": "7faa65ee",
   "metadata": {},
   "source": [
    "# 2. Rutas"
   ]
  },
  {
   "cell_type": "code",
   "execution_count": 19,
   "id": "916035d9",
   "metadata": {},
   "outputs": [],
   "source": [
    "R_Consoliado_Sat = r\"C:\\Users\\anthonycaicedo\\OneDrive - 891856000_CAPRESOCA E P S\\Escritorio\\BaseD\\CONSOLIDADO_SAT_RC.TXT\"\n",
    "R_Historico = r\"C:\\Users\\anthonycaicedo\\OneDrive - 891856000_CAPRESOCA E P S\\Escritorio\\BaseD\\Historico\\HISTORIA_IDENTIFICACION.TXT\"\n",
    "R_Maestro = r\"C:\\Users\\anthonycaicedo\\OneDrive - 891856000_CAPRESOCA E P S\\Escritorio\\BaseD\\Maestro.txt\"\n",
    "\n",
    "Consolidado_Salida = \"CS_Sat_RC.XLSX\"\n",
    "R_SALIDA = Fr\"C:\\Users\\anthonycaicedo\\OneDrive - 891856000_CAPRESOCA E P S\\Escritorio\\BaseD\\{Consolidado_Salida}\""
   ]
  },
  {
   "cell_type": "markdown",
   "id": "924c12e0",
   "metadata": {},
   "source": [
    "# 3. CARGUE DATAFRAME"
   ]
  },
  {
   "cell_type": "code",
   "execution_count": 20,
   "id": "19008c3b",
   "metadata": {},
   "outputs": [
    {
     "data": {
      "application/vnd.microsoft.datawrangler.viewer.v0+json": {
       "columns": [
        {
         "name": "index",
         "rawType": "int64",
         "type": "integer"
        },
        {
         "name": "COL1",
         "rawType": "object",
         "type": "string"
        },
        {
         "name": "COL2",
         "rawType": "object",
         "type": "string"
        },
        {
         "name": "COL3",
         "rawType": "object",
         "type": "string"
        },
        {
         "name": "COL4",
         "rawType": "object",
         "type": "string"
        },
        {
         "name": "COL5",
         "rawType": "object",
         "type": "string"
        },
        {
         "name": "COL6",
         "rawType": "object",
         "type": "unknown"
        },
        {
         "name": "COL7",
         "rawType": "object",
         "type": "unknown"
        },
        {
         "name": "COL8",
         "rawType": "object",
         "type": "unknown"
        },
        {
         "name": "COL9",
         "rawType": "object",
         "type": "string"
        },
        {
         "name": "COL10",
         "rawType": "object",
         "type": "string"
        },
        {
         "name": "COL11",
         "rawType": "object",
         "type": "string"
        },
        {
         "name": "COL12",
         "rawType": "object",
         "type": "string"
        },
        {
         "name": "COL13",
         "rawType": "object",
         "type": "string"
        },
        {
         "name": "COL14",
         "rawType": "object",
         "type": "unknown"
        },
        {
         "name": "COL15",
         "rawType": "object",
         "type": "string"
        },
        {
         "name": "COL16",
         "rawType": "object",
         "type": "string"
        },
        {
         "name": "COL17",
         "rawType": "object",
         "type": "unknown"
        },
        {
         "name": "COL18",
         "rawType": "object",
         "type": "string"
        },
        {
         "name": "COL19",
         "rawType": "object",
         "type": "unknown"
        },
        {
         "name": "COL20",
         "rawType": "object",
         "type": "string"
        },
        {
         "name": "COL21",
         "rawType": "object",
         "type": "string"
        },
        {
         "name": "COL22",
         "rawType": "object",
         "type": "string"
        },
        {
         "name": "COL23",
         "rawType": "object",
         "type": "string"
        },
        {
         "name": "COL24",
         "rawType": "object",
         "type": "string"
        },
        {
         "name": "COL25",
         "rawType": "object",
         "type": "string"
        },
        {
         "name": "COL26",
         "rawType": "object",
         "type": "string"
        },
        {
         "name": "COL27",
         "rawType": "object",
         "type": "string"
        },
        {
         "name": "COL28",
         "rawType": "object",
         "type": "unknown"
        },
        {
         "name": "COL29",
         "rawType": "object",
         "type": "string"
        },
        {
         "name": "COL30",
         "rawType": "object",
         "type": "string"
        },
        {
         "name": "COL31",
         "rawType": "object",
         "type": "string"
        },
        {
         "name": "COL32",
         "rawType": "object",
         "type": "string"
        },
        {
         "name": "COL33",
         "rawType": "object",
         "type": "string"
        },
        {
         "name": "COL34",
         "rawType": "object",
         "type": "unknown"
        },
        {
         "name": "COL35",
         "rawType": "object",
         "type": "unknown"
        },
        {
         "name": "COL36",
         "rawType": "object",
         "type": "unknown"
        },
        {
         "name": "COL37",
         "rawType": "object",
         "type": "unknown"
        },
        {
         "name": "COL38",
         "rawType": "object",
         "type": "unknown"
        },
        {
         "name": "COL39",
         "rawType": "object",
         "type": "unknown"
        },
        {
         "name": "COL40",
         "rawType": "object",
         "type": "unknown"
        },
        {
         "name": "COL41",
         "rawType": "object",
         "type": "string"
        },
        {
         "name": "COL42",
         "rawType": "object",
         "type": "string"
        },
        {
         "name": "COL43",
         "rawType": "object",
         "type": "string"
        },
        {
         "name": "COL44",
         "rawType": "object",
         "type": "unknown"
        },
        {
         "name": "COL45",
         "rawType": "object",
         "type": "unknown"
        },
        {
         "name": "COL46",
         "rawType": "object",
         "type": "string"
        },
        {
         "name": "COL47",
         "rawType": "object",
         "type": "string"
        },
        {
         "name": "COL48",
         "rawType": "object",
         "type": "unknown"
        },
        {
         "name": "COL49",
         "rawType": "object",
         "type": "unknown"
        },
        {
         "name": "COL50",
         "rawType": "object",
         "type": "unknown"
        },
        {
         "name": "COL51",
         "rawType": "object",
         "type": "unknown"
        },
        {
         "name": "COL52",
         "rawType": "object",
         "type": "unknown"
        },
        {
         "name": "COL53",
         "rawType": "object",
         "type": "unknown"
        },
        {
         "name": "COL54",
         "rawType": "object",
         "type": "unknown"
        },
        {
         "name": "COL55",
         "rawType": "object",
         "type": "unknown"
        },
        {
         "name": "COL56",
         "rawType": "object",
         "type": "unknown"
        },
        {
         "name": "COL57",
         "rawType": "object",
         "type": "unknown"
        },
        {
         "name": "COL58",
         "rawType": "object",
         "type": "unknown"
        },
        {
         "name": "COL59",
         "rawType": "object",
         "type": "unknown"
        },
        {
         "name": "COL60",
         "rawType": "object",
         "type": "unknown"
        },
        {
         "name": "COL61",
         "rawType": "object",
         "type": "unknown"
        },
        {
         "name": "COL62",
         "rawType": "object",
         "type": "unknown"
        },
        {
         "name": "COL63",
         "rawType": "object",
         "type": "unknown"
        },
        {
         "name": "COL64",
         "rawType": "object",
         "type": "string"
        },
        {
         "name": "COL65",
         "rawType": "object",
         "type": "unknown"
        },
        {
         "name": "COL66",
         "rawType": "object",
         "type": "unknown"
        },
        {
         "name": "COL67",
         "rawType": "object",
         "type": "string"
        },
        {
         "name": "COL68",
         "rawType": "object",
         "type": "string"
        },
        {
         "name": "COL69",
         "rawType": "object",
         "type": "string"
        },
        {
         "name": "COL70",
         "rawType": "object",
         "type": "string"
        },
        {
         "name": "COL71",
         "rawType": "object",
         "type": "string"
        },
        {
         "name": "COL72",
         "rawType": "object",
         "type": "string"
        },
        {
         "name": "COL73",
         "rawType": "object",
         "type": "string"
        },
        {
         "name": "COL74",
         "rawType": "object",
         "type": "unknown"
        },
        {
         "name": "COL75",
         "rawType": "object",
         "type": "unknown"
        },
        {
         "name": "COL76",
         "rawType": "object",
         "type": "unknown"
        },
        {
         "name": "COL77",
         "rawType": "object",
         "type": "string"
        },
        {
         "name": "COL78",
         "rawType": "object",
         "type": "string"
        },
        {
         "name": "COL79",
         "rawType": "object",
         "type": "string"
        },
        {
         "name": "COL80",
         "rawType": "object",
         "type": "string"
        },
        {
         "name": "COL81",
         "rawType": "object",
         "type": "string"
        },
        {
         "name": "COL82",
         "rawType": "object",
         "type": "string"
        },
        {
         "name": "COL83",
         "rawType": "object",
         "type": "unknown"
        },
        {
         "name": "COL84",
         "rawType": "object",
         "type": "unknown"
        },
        {
         "name": "COL85",
         "rawType": "object",
         "type": "unknown"
        },
        {
         "name": "COL86",
         "rawType": "object",
         "type": "unknown"
        },
        {
         "name": "COL87",
         "rawType": "object",
         "type": "unknown"
        },
        {
         "name": "COL88",
         "rawType": "object",
         "type": "unknown"
        },
        {
         "name": "COL89",
         "rawType": "object",
         "type": "unknown"
        },
        {
         "name": "COL90",
         "rawType": "object",
         "type": "unknown"
        },
        {
         "name": "COL91",
         "rawType": "object",
         "type": "unknown"
        },
        {
         "name": "COL92",
         "rawType": "object",
         "type": "unknown"
        },
        {
         "name": "COL93",
         "rawType": "object",
         "type": "unknown"
        },
        {
         "name": "COL94",
         "rawType": "object",
         "type": "unknown"
        },
        {
         "name": "COL95",
         "rawType": "object",
         "type": "unknown"
        },
        {
         "name": "COL96",
         "rawType": "object",
         "type": "unknown"
        },
        {
         "name": "COL97",
         "rawType": "object",
         "type": "unknown"
        },
        {
         "name": "COL98",
         "rawType": "object",
         "type": "unknown"
        },
        {
         "name": "COL99",
         "rawType": "object",
         "type": "unknown"
        },
        {
         "name": "COL100",
         "rawType": "object",
         "type": "unknown"
        },
        {
         "name": "COL101",
         "rawType": "object",
         "type": "unknown"
        },
        {
         "name": "COL102",
         "rawType": "object",
         "type": "unknown"
        },
        {
         "name": "COL103",
         "rawType": "object",
         "type": "unknown"
        },
        {
         "name": "COL104",
         "rawType": "object",
         "type": "unknown"
        },
        {
         "name": "COL105",
         "rawType": "object",
         "type": "unknown"
        },
        {
         "name": "COL106",
         "rawType": "object",
         "type": "unknown"
        },
        {
         "name": "COL107",
         "rawType": "object",
         "type": "unknown"
        },
        {
         "name": "COL108",
         "rawType": "object",
         "type": "unknown"
        },
        {
         "name": "COL109",
         "rawType": "object",
         "type": "unknown"
        },
        {
         "name": "COL110",
         "rawType": "object",
         "type": "unknown"
        },
        {
         "name": "COL111",
         "rawType": "object",
         "type": "unknown"
        },
        {
         "name": "COL112",
         "rawType": "object",
         "type": "unknown"
        },
        {
         "name": "COL113",
         "rawType": "object",
         "type": "unknown"
        },
        {
         "name": "COL114",
         "rawType": "object",
         "type": "unknown"
        },
        {
         "name": "COL115",
         "rawType": "object",
         "type": "unknown"
        },
        {
         "name": "COL116",
         "rawType": "object",
         "type": "unknown"
        },
        {
         "name": "COL117",
         "rawType": "object",
         "type": "unknown"
        },
        {
         "name": "COL118",
         "rawType": "object",
         "type": "unknown"
        },
        {
         "name": "COL119",
         "rawType": "object",
         "type": "unknown"
        },
        {
         "name": "COL120",
         "rawType": "object",
         "type": "unknown"
        },
        {
         "name": "COL121",
         "rawType": "object",
         "type": "unknown"
        },
        {
         "name": "COL122",
         "rawType": "object",
         "type": "unknown"
        },
        {
         "name": "COL123",
         "rawType": "object",
         "type": "unknown"
        },
        {
         "name": "COL124",
         "rawType": "object",
         "type": "unknown"
        },
        {
         "name": "COL125",
         "rawType": "object",
         "type": "unknown"
        },
        {
         "name": "COL126",
         "rawType": "object",
         "type": "unknown"
        },
        {
         "name": "COL127",
         "rawType": "object",
         "type": "unknown"
        },
        {
         "name": "COL128",
         "rawType": "object",
         "type": "unknown"
        },
        {
         "name": "COL129",
         "rawType": "object",
         "type": "unknown"
        },
        {
         "name": "COL130",
         "rawType": "object",
         "type": "unknown"
        },
        {
         "name": "COL131",
         "rawType": "object",
         "type": "unknown"
        },
        {
         "name": "COL132",
         "rawType": "object",
         "type": "unknown"
        },
        {
         "name": "COL133",
         "rawType": "object",
         "type": "unknown"
        },
        {
         "name": "COL134",
         "rawType": "object",
         "type": "unknown"
        },
        {
         "name": "COL135",
         "rawType": "object",
         "type": "unknown"
        },
        {
         "name": "COL136",
         "rawType": "object",
         "type": "unknown"
        },
        {
         "name": "COL137",
         "rawType": "object",
         "type": "unknown"
        },
        {
         "name": "COL138",
         "rawType": "object",
         "type": "unknown"
        },
        {
         "name": "COL139",
         "rawType": "object",
         "type": "unknown"
        },
        {
         "name": "COL140",
         "rawType": "object",
         "type": "unknown"
        },
        {
         "name": "COL141",
         "rawType": "object",
         "type": "unknown"
        },
        {
         "name": "COL142",
         "rawType": "object",
         "type": "unknown"
        },
        {
         "name": "COL143",
         "rawType": "object",
         "type": "unknown"
        },
        {
         "name": "COL144",
         "rawType": "object",
         "type": "unknown"
        },
        {
         "name": "COL145",
         "rawType": "object",
         "type": "unknown"
        },
        {
         "name": "COL146",
         "rawType": "object",
         "type": "unknown"
        },
        {
         "name": "COL147",
         "rawType": "object",
         "type": "unknown"
        },
        {
         "name": "COL148",
         "rawType": "object",
         "type": "unknown"
        },
        {
         "name": "COL149",
         "rawType": "object",
         "type": "unknown"
        },
        {
         "name": "COL150",
         "rawType": "object",
         "type": "unknown"
        },
        {
         "name": "COL151",
         "rawType": "object",
         "type": "unknown"
        },
        {
         "name": "COL152",
         "rawType": "object",
         "type": "unknown"
        },
        {
         "name": "COL153",
         "rawType": "object",
         "type": "unknown"
        },
        {
         "name": "COL154",
         "rawType": "object",
         "type": "unknown"
        },
        {
         "name": "COL155",
         "rawType": "object",
         "type": "unknown"
        },
        {
         "name": "COL156",
         "rawType": "object",
         "type": "unknown"
        },
        {
         "name": "COL157",
         "rawType": "object",
         "type": "unknown"
        },
        {
         "name": "COL158",
         "rawType": "object",
         "type": "unknown"
        },
        {
         "name": "COL159",
         "rawType": "object",
         "type": "unknown"
        },
        {
         "name": "COL160",
         "rawType": "object",
         "type": "unknown"
        },
        {
         "name": "COL161",
         "rawType": "object",
         "type": "unknown"
        },
        {
         "name": "COL162",
         "rawType": "object",
         "type": "unknown"
        },
        {
         "name": "COL163",
         "rawType": "object",
         "type": "unknown"
        },
        {
         "name": "COL164",
         "rawType": "object",
         "type": "unknown"
        },
        {
         "name": "COL165",
         "rawType": "object",
         "type": "unknown"
        },
        {
         "name": "COL166",
         "rawType": "object",
         "type": "unknown"
        },
        {
         "name": "COL167",
         "rawType": "object",
         "type": "unknown"
        },
        {
         "name": "COL168",
         "rawType": "object",
         "type": "unknown"
        },
        {
         "name": "COL169",
         "rawType": "object",
         "type": "unknown"
        },
        {
         "name": "COL170",
         "rawType": "object",
         "type": "unknown"
        },
        {
         "name": "COL171",
         "rawType": "object",
         "type": "unknown"
        },
        {
         "name": "COL172",
         "rawType": "object",
         "type": "unknown"
        },
        {
         "name": "COL173",
         "rawType": "object",
         "type": "unknown"
        },
        {
         "name": "COL174",
         "rawType": "object",
         "type": "unknown"
        },
        {
         "name": "COL175",
         "rawType": "object",
         "type": "unknown"
        },
        {
         "name": "COL176",
         "rawType": "object",
         "type": "unknown"
        },
        {
         "name": "COL177",
         "rawType": "object",
         "type": "unknown"
        },
        {
         "name": "COL178",
         "rawType": "object",
         "type": "unknown"
        },
        {
         "name": "COL179",
         "rawType": "object",
         "type": "unknown"
        },
        {
         "name": "COL180",
         "rawType": "object",
         "type": "unknown"
        },
        {
         "name": "COL181",
         "rawType": "object",
         "type": "unknown"
        },
        {
         "name": "COL182",
         "rawType": "object",
         "type": "unknown"
        },
        {
         "name": "COL183",
         "rawType": "object",
         "type": "unknown"
        },
        {
         "name": "COL184",
         "rawType": "object",
         "type": "unknown"
        },
        {
         "name": "COL185",
         "rawType": "object",
         "type": "unknown"
        },
        {
         "name": "COL186",
         "rawType": "object",
         "type": "unknown"
        },
        {
         "name": "COL187",
         "rawType": "object",
         "type": "unknown"
        },
        {
         "name": "COL188",
         "rawType": "object",
         "type": "unknown"
        },
        {
         "name": "COL189",
         "rawType": "object",
         "type": "unknown"
        },
        {
         "name": "COL190",
         "rawType": "object",
         "type": "unknown"
        },
        {
         "name": "COL191",
         "rawType": "object",
         "type": "unknown"
        },
        {
         "name": "COL192",
         "rawType": "object",
         "type": "unknown"
        },
        {
         "name": "COL193",
         "rawType": "object",
         "type": "unknown"
        },
        {
         "name": "COL194",
         "rawType": "object",
         "type": "unknown"
        },
        {
         "name": "COL195",
         "rawType": "object",
         "type": "unknown"
        },
        {
         "name": "COL196",
         "rawType": "object",
         "type": "unknown"
        },
        {
         "name": "COL197",
         "rawType": "object",
         "type": "unknown"
        },
        {
         "name": "COL198",
         "rawType": "object",
         "type": "unknown"
        },
        {
         "name": "COL199",
         "rawType": "object",
         "type": "unknown"
        },
        {
         "name": "COL200",
         "rawType": "object",
         "type": "unknown"
        },
        {
         "name": "COL201",
         "rawType": "object",
         "type": "unknown"
        },
        {
         "name": "COL202",
         "rawType": "object",
         "type": "unknown"
        },
        {
         "name": "COL203",
         "rawType": "object",
         "type": "unknown"
        },
        {
         "name": "COL204",
         "rawType": "object",
         "type": "unknown"
        },
        {
         "name": "COL205",
         "rawType": "object",
         "type": "unknown"
        },
        {
         "name": "COL206",
         "rawType": "object",
         "type": "unknown"
        },
        {
         "name": "COL207",
         "rawType": "object",
         "type": "unknown"
        },
        {
         "name": "COL208",
         "rawType": "object",
         "type": "unknown"
        },
        {
         "name": "COL209",
         "rawType": "object",
         "type": "unknown"
        },
        {
         "name": "COL210",
         "rawType": "object",
         "type": "unknown"
        },
        {
         "name": "COL211",
         "rawType": "object",
         "type": "unknown"
        },
        {
         "name": "COL212",
         "rawType": "object",
         "type": "unknown"
        },
        {
         "name": "COL213",
         "rawType": "object",
         "type": "unknown"
        },
        {
         "name": "COL214",
         "rawType": "object",
         "type": "unknown"
        },
        {
         "name": "COL215",
         "rawType": "object",
         "type": "unknown"
        },
        {
         "name": "COL216",
         "rawType": "object",
         "type": "unknown"
        },
        {
         "name": "COL217",
         "rawType": "object",
         "type": "unknown"
        },
        {
         "name": "COL218",
         "rawType": "object",
         "type": "unknown"
        },
        {
         "name": "COL219",
         "rawType": "object",
         "type": "unknown"
        },
        {
         "name": "COL220",
         "rawType": "object",
         "type": "unknown"
        },
        {
         "name": "COL221",
         "rawType": "object",
         "type": "unknown"
        },
        {
         "name": "COL222",
         "rawType": "object",
         "type": "unknown"
        },
        {
         "name": "COL223",
         "rawType": "object",
         "type": "unknown"
        },
        {
         "name": "COL224",
         "rawType": "object",
         "type": "unknown"
        },
        {
         "name": "COL225",
         "rawType": "object",
         "type": "unknown"
        },
        {
         "name": "COL226",
         "rawType": "object",
         "type": "unknown"
        },
        {
         "name": "COL227",
         "rawType": "object",
         "type": "unknown"
        },
        {
         "name": "COL228",
         "rawType": "object",
         "type": "unknown"
        },
        {
         "name": "COL229",
         "rawType": "object",
         "type": "unknown"
        },
        {
         "name": "COL230",
         "rawType": "object",
         "type": "unknown"
        },
        {
         "name": "COL231",
         "rawType": "object",
         "type": "unknown"
        },
        {
         "name": "COL232",
         "rawType": "object",
         "type": "unknown"
        },
        {
         "name": "COL233",
         "rawType": "object",
         "type": "unknown"
        },
        {
         "name": "COL234",
         "rawType": "object",
         "type": "unknown"
        },
        {
         "name": "COL235",
         "rawType": "object",
         "type": "unknown"
        },
        {
         "name": "COL236",
         "rawType": "object",
         "type": "unknown"
        },
        {
         "name": "COL237",
         "rawType": "object",
         "type": "unknown"
        },
        {
         "name": "COL238",
         "rawType": "object",
         "type": "unknown"
        },
        {
         "name": "COL239",
         "rawType": "object",
         "type": "unknown"
        },
        {
         "name": "COL240",
         "rawType": "object",
         "type": "unknown"
        },
        {
         "name": "COL241",
         "rawType": "object",
         "type": "unknown"
        },
        {
         "name": "COL242",
         "rawType": "object",
         "type": "unknown"
        },
        {
         "name": "COL243",
         "rawType": "object",
         "type": "unknown"
        },
        {
         "name": "COL244",
         "rawType": "object",
         "type": "unknown"
        },
        {
         "name": "COL245",
         "rawType": "object",
         "type": "unknown"
        },
        {
         "name": "COL246",
         "rawType": "object",
         "type": "unknown"
        },
        {
         "name": "COL247",
         "rawType": "object",
         "type": "unknown"
        },
        {
         "name": "COL248",
         "rawType": "object",
         "type": "unknown"
        },
        {
         "name": "COL249",
         "rawType": "object",
         "type": "unknown"
        },
        {
         "name": "COL250",
         "rawType": "object",
         "type": "unknown"
        },
        {
         "name": "COL251",
         "rawType": "object",
         "type": "unknown"
        },
        {
         "name": "COL252",
         "rawType": "object",
         "type": "unknown"
        },
        {
         "name": "COL253",
         "rawType": "object",
         "type": "unknown"
        },
        {
         "name": "COL254",
         "rawType": "object",
         "type": "unknown"
        },
        {
         "name": "COL255",
         "rawType": "object",
         "type": "unknown"
        },
        {
         "name": "COL256",
         "rawType": "object",
         "type": "unknown"
        },
        {
         "name": "COL257",
         "rawType": "object",
         "type": "unknown"
        },
        {
         "name": "COL258",
         "rawType": "object",
         "type": "unknown"
        },
        {
         "name": "COL259",
         "rawType": "object",
         "type": "unknown"
        },
        {
         "name": "COL260",
         "rawType": "object",
         "type": "unknown"
        },
        {
         "name": "COL261",
         "rawType": "object",
         "type": "unknown"
        },
        {
         "name": "COL262",
         "rawType": "object",
         "type": "unknown"
        },
        {
         "name": "COL263",
         "rawType": "object",
         "type": "unknown"
        },
        {
         "name": "COL264",
         "rawType": "object",
         "type": "unknown"
        },
        {
         "name": "COL265",
         "rawType": "object",
         "type": "unknown"
        },
        {
         "name": "COL266",
         "rawType": "object",
         "type": "unknown"
        },
        {
         "name": "COL267",
         "rawType": "object",
         "type": "unknown"
        },
        {
         "name": "COL268",
         "rawType": "object",
         "type": "unknown"
        },
        {
         "name": "COL269",
         "rawType": "object",
         "type": "unknown"
        },
        {
         "name": "COL270",
         "rawType": "object",
         "type": "unknown"
        },
        {
         "name": "COL271",
         "rawType": "object",
         "type": "unknown"
        },
        {
         "name": "COL272",
         "rawType": "object",
         "type": "unknown"
        },
        {
         "name": "COL273",
         "rawType": "object",
         "type": "unknown"
        },
        {
         "name": "COL274",
         "rawType": "object",
         "type": "unknown"
        },
        {
         "name": "COL275",
         "rawType": "object",
         "type": "unknown"
        },
        {
         "name": "COL276",
         "rawType": "object",
         "type": "unknown"
        },
        {
         "name": "COL277",
         "rawType": "object",
         "type": "unknown"
        },
        {
         "name": "COL278",
         "rawType": "object",
         "type": "unknown"
        },
        {
         "name": "COL279",
         "rawType": "object",
         "type": "unknown"
        },
        {
         "name": "COL280",
         "rawType": "object",
         "type": "unknown"
        },
        {
         "name": "COL281",
         "rawType": "object",
         "type": "unknown"
        },
        {
         "name": "COL282",
         "rawType": "object",
         "type": "unknown"
        },
        {
         "name": "COL283",
         "rawType": "object",
         "type": "unknown"
        },
        {
         "name": "COL284",
         "rawType": "object",
         "type": "unknown"
        },
        {
         "name": "COL285",
         "rawType": "object",
         "type": "unknown"
        },
        {
         "name": "COL286",
         "rawType": "object",
         "type": "unknown"
        },
        {
         "name": "COL287",
         "rawType": "object",
         "type": "unknown"
        },
        {
         "name": "COL288",
         "rawType": "object",
         "type": "unknown"
        },
        {
         "name": "COL289",
         "rawType": "object",
         "type": "unknown"
        },
        {
         "name": "COL290",
         "rawType": "object",
         "type": "unknown"
        },
        {
         "name": "COL291",
         "rawType": "object",
         "type": "unknown"
        },
        {
         "name": "COL292",
         "rawType": "object",
         "type": "unknown"
        },
        {
         "name": "COL293",
         "rawType": "object",
         "type": "unknown"
        },
        {
         "name": "COL294",
         "rawType": "object",
         "type": "unknown"
        },
        {
         "name": "COL295",
         "rawType": "object",
         "type": "unknown"
        },
        {
         "name": "COL296",
         "rawType": "object",
         "type": "unknown"
        },
        {
         "name": "COL297",
         "rawType": "object",
         "type": "unknown"
        },
        {
         "name": "COL298",
         "rawType": "object",
         "type": "unknown"
        },
        {
         "name": "COL299",
         "rawType": "object",
         "type": "unknown"
        },
        {
         "name": "COL300",
         "rawType": "object",
         "type": "unknown"
        },
        {
         "name": "COL301",
         "rawType": "object",
         "type": "unknown"
        },
        {
         "name": "COL302",
         "rawType": "object",
         "type": "unknown"
        },
        {
         "name": "COL303",
         "rawType": "object",
         "type": "unknown"
        },
        {
         "name": "COL304",
         "rawType": "object",
         "type": "unknown"
        },
        {
         "name": "COL305",
         "rawType": "object",
         "type": "unknown"
        },
        {
         "name": "COL306",
         "rawType": "object",
         "type": "unknown"
        },
        {
         "name": "COL307",
         "rawType": "object",
         "type": "unknown"
        },
        {
         "name": "COL308",
         "rawType": "object",
         "type": "unknown"
        },
        {
         "name": "COL309",
         "rawType": "object",
         "type": "unknown"
        },
        {
         "name": "COL310",
         "rawType": "object",
         "type": "unknown"
        },
        {
         "name": "COL311",
         "rawType": "object",
         "type": "unknown"
        },
        {
         "name": "COL312",
         "rawType": "object",
         "type": "unknown"
        },
        {
         "name": "COL313",
         "rawType": "object",
         "type": "unknown"
        },
        {
         "name": "COL314",
         "rawType": "object",
         "type": "unknown"
        },
        {
         "name": "COL315",
         "rawType": "object",
         "type": "unknown"
        },
        {
         "name": "COL316",
         "rawType": "object",
         "type": "unknown"
        },
        {
         "name": "COL317",
         "rawType": "object",
         "type": "unknown"
        },
        {
         "name": "COL318",
         "rawType": "object",
         "type": "unknown"
        },
        {
         "name": "COL319",
         "rawType": "object",
         "type": "unknown"
        },
        {
         "name": "COL320",
         "rawType": "object",
         "type": "unknown"
        },
        {
         "name": "COL321",
         "rawType": "object",
         "type": "unknown"
        },
        {
         "name": "COL322",
         "rawType": "object",
         "type": "unknown"
        },
        {
         "name": "COL323",
         "rawType": "object",
         "type": "unknown"
        },
        {
         "name": "COL324",
         "rawType": "object",
         "type": "unknown"
        },
        {
         "name": "COL325",
         "rawType": "object",
         "type": "unknown"
        },
        {
         "name": "COL326",
         "rawType": "object",
         "type": "unknown"
        },
        {
         "name": "COL327",
         "rawType": "object",
         "type": "unknown"
        },
        {
         "name": "COL328",
         "rawType": "object",
         "type": "unknown"
        },
        {
         "name": "COL329",
         "rawType": "object",
         "type": "unknown"
        },
        {
         "name": "COL330",
         "rawType": "object",
         "type": "unknown"
        },
        {
         "name": "COL331",
         "rawType": "object",
         "type": "unknown"
        },
        {
         "name": "COL332",
         "rawType": "object",
         "type": "unknown"
        },
        {
         "name": "COL333",
         "rawType": "object",
         "type": "unknown"
        },
        {
         "name": "COL334",
         "rawType": "object",
         "type": "unknown"
        },
        {
         "name": "COL335",
         "rawType": "object",
         "type": "unknown"
        },
        {
         "name": "COL336",
         "rawType": "object",
         "type": "unknown"
        },
        {
         "name": "COL337",
         "rawType": "object",
         "type": "unknown"
        },
        {
         "name": "COL338",
         "rawType": "object",
         "type": "unknown"
        },
        {
         "name": "COL339",
         "rawType": "object",
         "type": "unknown"
        },
        {
         "name": "COL340",
         "rawType": "object",
         "type": "unknown"
        },
        {
         "name": "COL341",
         "rawType": "object",
         "type": "unknown"
        },
        {
         "name": "COL342",
         "rawType": "object",
         "type": "unknown"
        }
       ],
       "ref": "8db82e16-d6e2-4557-aacb-cc3a468f6cf4",
       "rows": [
        [
         "0",
         "01-01-2025",
         "3",
         "14",
         "069CC119278462931122024101800002",
         "2024-12-31T10:24:49",
         null,
         null,
         null,
         "CC",
         "1192784629",
         "BOCANEGRA",
         "PEDRAZA",
         "VICTOR",
         "DANIEL",
         "C",
         "EPSC25",
         "854300286301",
         "EPS037",
         "Tener más del tiempo mínimo de permanencia ",
         "C",
         "CC",
         "1192784629",
         "CC",
         "1192784629",
         "BOCANEGRA",
         "PEDRAZA",
         "VICTOR",
         "DANIEL",
         "H",
         "2000-12-02",
         "85",
         "85430",
         "U",
         "victorbocanegra2000@gmail.com",
         null,
         "3115675280",
         "CALLE 14A # 11A -27",
         "85",
         "85430",
         "U",
         "NINGUNO",
         "NINGUNO",
         "06",
         null,
         null,
         "O",
         "+",
         null,
         null,
         "D",
         "1",
         "NI",
         "891857861",
         "MUNICIPIO DE TRINIDAD",
         "2022-02-01",
         null,
         null,
         null,
         null,
         null,
         null,
         null,
         "4290",
         "2025-02-01",
         null,
         null,
         "CC",
         "1192784629",
         "CC",
         "1192784629",
         "BOCANEGRA",
         "BOCANEGRA",
         "VICTOR",
         "DANIEL",
         null,
         null,
         "S",
         "S",
         "S",
         "S",
         "S",
         "N",
         null,
         null,
         null,
         null,
         null,
         null,
         null,
         null,
         null,
         null,
         null,
         null,
         null,
         null,
         null,
         null,
         null,
         null,
         null,
         null,
         null,
         null,
         null,
         null,
         null,
         null,
         null,
         null,
         null,
         null,
         null,
         null,
         null,
         null,
         null,
         null,
         null,
         null,
         null,
         null,
         null,
         null,
         null,
         null,
         null,
         null,
         null,
         null,
         null,
         null,
         null,
         null,
         null,
         null,
         null,
         null,
         null,
         null,
         null,
         null,
         null,
         null,
         null,
         null,
         null,
         null,
         null,
         null,
         null,
         null,
         null,
         null,
         null,
         null,
         null,
         null,
         null,
         null,
         null,
         null,
         null,
         null,
         null,
         null,
         null,
         null,
         null,
         null,
         null,
         null,
         null,
         null,
         null,
         null,
         null,
         null,
         null,
         null,
         null,
         null,
         null,
         null,
         null,
         null,
         null,
         null,
         null,
         null,
         null,
         null,
         null,
         null,
         null,
         null,
         null,
         null,
         null,
         null,
         null,
         null,
         null,
         null,
         null,
         null,
         null,
         null,
         null,
         null,
         null,
         null,
         null,
         null,
         null,
         null,
         null,
         null,
         null,
         null,
         null,
         null,
         null,
         null,
         null,
         null,
         null,
         null,
         null,
         null,
         null,
         null,
         null,
         null,
         null,
         null,
         null,
         null,
         null,
         null,
         null,
         null,
         null,
         null,
         null,
         null,
         null,
         null,
         null,
         null,
         null,
         null,
         null,
         null,
         null,
         null,
         null,
         null,
         null,
         null,
         null,
         null,
         null,
         null,
         null,
         null,
         null,
         null,
         null,
         null,
         null,
         null,
         null,
         null,
         null,
         null,
         null,
         null,
         null,
         null,
         null,
         null,
         null,
         null,
         null,
         null,
         null,
         null,
         null,
         null,
         null,
         null,
         null,
         null,
         null,
         null,
         null,
         null,
         null,
         null,
         null,
         null,
         null,
         null,
         null,
         null,
         null,
         null,
         null,
         null,
         null,
         null,
         null,
         null,
         null,
         null,
         null,
         null,
         null,
         null,
         null,
         null,
         null,
         null,
         null,
         null,
         null,
         null,
         null,
         null,
         null,
         null,
         null,
         null,
         null,
         null,
         null,
         null,
         null,
         null,
         null,
         null
        ],
        [
         "1",
         "10-01-2025",
         "3",
         "14",
         "069CC111655113809012025130200001",
         "2025-01-09T13:03:21",
         null,
         null,
         null,
         "CC",
         "1116551138",
         "RINCON",
         "VARGAS",
         "SEBASTIAN",
         null,
         "C",
         "EPSC25",
         null,
         "EPS005",
         "Tener más del tiempo mínimo de permanencia ",
         "C",
         "CC",
         "1116551138",
         "CC",
         "1116551138",
         "RINCON",
         "VARGAS",
         "SEBASTIAN",
         null,
         "H",
         "1995-09-08",
         "85",
         "85010",
         "U",
         "sebastian1@vuket.org",
         null,
         "3184932921",
         "KR 14 N 20 - 76",
         "85",
         "85010",
         "U",
         "NINGUNO",
         "NINGUNO",
         "06",
         null,
         null,
         "O",
         "+",
         null,
         null,
         "D",
         "1",
         "NI",
         "891856331",
         "CUERPO DE BOMBEROS VOLUNTARIOS DE AGUAZUL",
         "2022-10-01",
         null,
         null,
         null,
         null,
         null,
         null,
         null,
         "9999",
         "2025-02-01",
         null,
         null,
         "CC",
         "1116551138",
         "CC",
         "1116551138",
         "RINCON",
         "RINCON",
         "SEBASTIAN",
         null,
         null,
         null,
         "S",
         "S",
         "S",
         "S",
         "S",
         "N",
         null,
         null,
         null,
         null,
         null,
         null,
         null,
         null,
         null,
         null,
         null,
         null,
         null,
         null,
         null,
         null,
         null,
         null,
         null,
         null,
         null,
         null,
         null,
         null,
         null,
         null,
         null,
         null,
         null,
         null,
         null,
         null,
         null,
         null,
         null,
         null,
         null,
         null,
         null,
         null,
         null,
         null,
         null,
         null,
         null,
         null,
         null,
         null,
         null,
         null,
         null,
         null,
         null,
         null,
         null,
         null,
         null,
         null,
         null,
         null,
         null,
         null,
         null,
         null,
         null,
         null,
         null,
         null,
         null,
         null,
         null,
         null,
         null,
         null,
         null,
         null,
         null,
         null,
         null,
         null,
         null,
         null,
         null,
         null,
         null,
         null,
         null,
         null,
         null,
         null,
         null,
         null,
         null,
         null,
         null,
         null,
         null,
         null,
         null,
         null,
         null,
         null,
         null,
         null,
         null,
         null,
         null,
         null,
         null,
         null,
         null,
         null,
         null,
         null,
         null,
         null,
         null,
         null,
         null,
         null,
         null,
         null,
         null,
         null,
         null,
         null,
         null,
         null,
         null,
         null,
         null,
         null,
         null,
         null,
         null,
         null,
         null,
         null,
         null,
         null,
         null,
         null,
         null,
         null,
         null,
         null,
         null,
         null,
         null,
         null,
         null,
         null,
         null,
         null,
         null,
         null,
         null,
         null,
         null,
         null,
         null,
         null,
         null,
         null,
         null,
         null,
         null,
         null,
         null,
         null,
         null,
         null,
         null,
         null,
         null,
         null,
         null,
         null,
         null,
         null,
         null,
         null,
         null,
         null,
         null,
         null,
         null,
         null,
         null,
         null,
         null,
         null,
         null,
         null,
         null,
         null,
         null,
         null,
         null,
         null,
         null,
         null,
         null,
         null,
         null,
         null,
         null,
         null,
         null,
         null,
         null,
         null,
         null,
         null,
         null,
         null,
         null,
         null,
         null,
         null,
         null,
         null,
         null,
         null,
         null,
         null,
         null,
         null,
         null,
         null,
         null,
         null,
         null,
         null,
         null,
         null,
         null,
         null,
         null,
         null,
         null,
         null,
         null,
         null,
         null,
         null,
         null,
         null,
         null,
         null,
         null,
         null,
         null,
         null,
         null,
         null,
         null,
         null,
         null,
         null
        ],
        [
         "2",
         "10-01-2025",
         "4",
         "14",
         "069CC3364704509012025130200003",
         "2025-01-09T13:18:41",
         null,
         null,
         null,
         "CC",
         "33647045",
         "CARDENAS",
         "CHAPARRO",
         "YEIMY",
         "JOHANA",
         "C",
         "EPSC25",
         null,
         "EPS005",
         "Tener más del tiempo mínimo de permanencia ",
         "C",
         "CC",
         "33647045",
         "CC",
         "33647045",
         "CARDENAS",
         "CHAPARRO",
         "YEIMY",
         "JOHANA",
         "M",
         "1985-08-24",
         "85",
         "85010",
         "U",
         "cardenasyeimy4@gmail.com",
         "3214193010",
         "3214193010",
         "Calle 16 N 24-73",
         "85",
         "85010",
         "U",
         "NINGUNO",
         "NINGUNO",
         "06",
         null,
         null,
         "O",
         "+",
         null,
         null,
         "I",
         "3",
         "CC",
         "33647045",
         "INDEPENDIENTE",
         "2020-04-01",
         null,
         null,
         null,
         null,
         null,
         null,
         null,
         "9999",
         "2025-02-01",
         null,
         null,
         "CC",
         "33647045",
         "CC",
         "33647045",
         "CARDENAS",
         "CARDENAS",
         "YEIMY",
         "JOHANA",
         null,
         null,
         "S",
         "S",
         "S",
         "S",
         "S",
         "N",
         null,
         null,
         null,
         null,
         null,
         null,
         null,
         null,
         null,
         null,
         null,
         null,
         null,
         null,
         null,
         null,
         null,
         null,
         null,
         null,
         null,
         null,
         null,
         null,
         null,
         null,
         null,
         null,
         null,
         null,
         null,
         null,
         null,
         null,
         null,
         null,
         null,
         null,
         null,
         null,
         null,
         null,
         null,
         null,
         null,
         null,
         null,
         null,
         null,
         null,
         null,
         null,
         null,
         null,
         null,
         null,
         null,
         null,
         null,
         null,
         null,
         null,
         null,
         null,
         null,
         null,
         null,
         null,
         null,
         null,
         null,
         null,
         null,
         null,
         null,
         null,
         null,
         null,
         null,
         null,
         null,
         null,
         null,
         null,
         null,
         null,
         null,
         null,
         null,
         null,
         null,
         null,
         null,
         null,
         null,
         null,
         null,
         null,
         null,
         null,
         null,
         null,
         null,
         null,
         null,
         null,
         null,
         null,
         null,
         null,
         null,
         null,
         null,
         null,
         null,
         null,
         null,
         null,
         null,
         null,
         null,
         null,
         null,
         null,
         null,
         null,
         null,
         null,
         null,
         null,
         null,
         null,
         null,
         null,
         null,
         null,
         null,
         null,
         null,
         null,
         null,
         null,
         null,
         null,
         null,
         null,
         null,
         null,
         null,
         null,
         null,
         null,
         null,
         null,
         null,
         null,
         null,
         null,
         null,
         null,
         null,
         null,
         null,
         null,
         null,
         null,
         null,
         null,
         null,
         null,
         null,
         null,
         null,
         null,
         null,
         null,
         null,
         null,
         null,
         null,
         null,
         null,
         null,
         null,
         null,
         null,
         null,
         null,
         null,
         null,
         null,
         null,
         null,
         null,
         null,
         null,
         null,
         null,
         null,
         null,
         null,
         null,
         null,
         null,
         null,
         null,
         null,
         null,
         null,
         null,
         null,
         null,
         null,
         null,
         null,
         null,
         null,
         null,
         null,
         null,
         null,
         null,
         null,
         null,
         null,
         null,
         null,
         null,
         null,
         null,
         null,
         null,
         null,
         null,
         null,
         null,
         null,
         null,
         null,
         null,
         null,
         null,
         null,
         null,
         null,
         null,
         null,
         null,
         null,
         null,
         null,
         null,
         null,
         null,
         null,
         null,
         null,
         null,
         null,
         null
        ],
        [
         "3",
         "10-01-2025",
         "5",
         "4",
         "069CC111604148609012025132300002",
         "2025-01-09T13:37:12",
         null,
         null,
         null,
         "CC",
         "1116041486",
         "ANZUETA",
         "COBA",
         "HOLGER",
         "ALIRIO",
         "C",
         "EPSC25",
         "505680074918",
         "EPS037",
         null,
         "B",
         "CC",
         "1118546766",
         "CC",
         "1118546766",
         "MARTINEZ",
         "VELANDIA",
         "DIANA",
         "PATRICIA",
         "M",
         "1991-01-23",
         "50",
         "50568",
         "R",
         null,
         null,
         null,
         null,
         null,
         null,
         null,
         "NINGUNO",
         "NINGUNO",
         "06",
         null,
         null,
         "O",
         "+",
         "CY",
         null,
         null,
         null,
         null,
         null,
         null,
         null,
         null,
         null,
         null,
         null,
         null,
         null,
         null,
         null,
         "2025-01-09",
         null,
         null,
         "CC",
         "1116041486",
         "CC",
         "1118546766",
         "ANZUETA",
         "ANZUETA",
         "HOLGER",
         "ALIRIO",
         null,
         null,
         "S",
         "S",
         "S",
         "S",
         "S",
         "N",
         null,
         null,
         null,
         null,
         null,
         null,
         null,
         null,
         null,
         null,
         null,
         null,
         null,
         null,
         null,
         null,
         null,
         null,
         null,
         null,
         null,
         null,
         null,
         null,
         null,
         null,
         null,
         null,
         null,
         null,
         null,
         null,
         null,
         null,
         null,
         null,
         null,
         null,
         null,
         null,
         null,
         null,
         null,
         null,
         null,
         null,
         null,
         null,
         null,
         null,
         null,
         null,
         null,
         null,
         null,
         null,
         null,
         null,
         null,
         null,
         null,
         null,
         null,
         null,
         null,
         null,
         null,
         null,
         null,
         null,
         null,
         null,
         null,
         null,
         null,
         null,
         null,
         null,
         null,
         null,
         null,
         null,
         null,
         null,
         null,
         null,
         null,
         null,
         null,
         null,
         null,
         null,
         null,
         null,
         null,
         null,
         null,
         null,
         null,
         null,
         null,
         null,
         null,
         null,
         null,
         null,
         null,
         null,
         null,
         null,
         null,
         null,
         null,
         null,
         null,
         null,
         null,
         null,
         null,
         null,
         null,
         null,
         null,
         null,
         null,
         null,
         null,
         null,
         null,
         null,
         null,
         null,
         null,
         null,
         null,
         null,
         null,
         null,
         null,
         null,
         null,
         null,
         null,
         null,
         null,
         null,
         null,
         null,
         null,
         null,
         null,
         null,
         null,
         null,
         null,
         null,
         null,
         null,
         null,
         null,
         null,
         null,
         null,
         null,
         null,
         null,
         null,
         null,
         null,
         null,
         null,
         null,
         null,
         null,
         null,
         null,
         null,
         null,
         null,
         null,
         null,
         null,
         null,
         null,
         null,
         null,
         null,
         null,
         null,
         null,
         null,
         null,
         null,
         null,
         null,
         null,
         null,
         null,
         null,
         null,
         null,
         null,
         null,
         null,
         null,
         null,
         null,
         null,
         null,
         null,
         null,
         null,
         null,
         null,
         null,
         null,
         null,
         null,
         null,
         null,
         null,
         null,
         null,
         null,
         null,
         null,
         null,
         null,
         null,
         null,
         null,
         null,
         null,
         null,
         null,
         null,
         null,
         null,
         null,
         null,
         null,
         null,
         null,
         null,
         null,
         null,
         null,
         null,
         null,
         null,
         null,
         null,
         null,
         null,
         null,
         null,
         null,
         null,
         null,
         null
        ],
        [
         "4",
         "10-01-2025",
         "6",
         "14",
         "069CC111604148609012025132300002",
         "2025-01-09T13:37:13",
         null,
         null,
         null,
         "CC",
         "1116041486",
         "ANZUETA",
         "COBA",
         "HOLGER",
         "ALIRIO",
         "C",
         "EPSC25",
         "505680074918",
         "EPS037",
         "Tener más del tiempo mínimo de permanencia ",
         "B",
         "RC",
         "1116043816",
         "RC",
         "1116043816",
         "ANZUETA",
         "MARTINEZ",
         "JHON",
         "ALEXSANDER",
         "H",
         "2018-03-14",
         "50",
         "50568",
         "R",
         null,
         null,
         null,
         null,
         null,
         null,
         null,
         "NINGUNO",
         "NINGUNO",
         "06",
         null,
         null,
         "O",
         "+",
         "HI",
         null,
         null,
         null,
         null,
         null,
         null,
         null,
         null,
         null,
         null,
         null,
         null,
         null,
         null,
         null,
         "2025-02-01",
         null,
         null,
         "CC",
         "1116041486",
         "RC",
         "1116043816",
         "ANZUETA",
         "ANZUETA",
         "HOLGER",
         "ALIRIO",
         null,
         null,
         "S",
         "S",
         "S",
         "S",
         "S",
         "N",
         null,
         null,
         null,
         null,
         null,
         null,
         null,
         null,
         null,
         null,
         null,
         null,
         null,
         null,
         null,
         null,
         null,
         null,
         null,
         null,
         null,
         null,
         null,
         null,
         null,
         null,
         null,
         null,
         null,
         null,
         null,
         null,
         null,
         null,
         null,
         null,
         null,
         null,
         null,
         null,
         null,
         null,
         null,
         null,
         null,
         null,
         null,
         null,
         null,
         null,
         null,
         null,
         null,
         null,
         null,
         null,
         null,
         null,
         null,
         null,
         null,
         null,
         null,
         null,
         null,
         null,
         null,
         null,
         null,
         null,
         null,
         null,
         null,
         null,
         null,
         null,
         null,
         null,
         null,
         null,
         null,
         null,
         null,
         null,
         null,
         null,
         null,
         null,
         null,
         null,
         null,
         null,
         null,
         null,
         null,
         null,
         null,
         null,
         null,
         null,
         null,
         null,
         null,
         null,
         null,
         null,
         null,
         null,
         null,
         null,
         null,
         null,
         null,
         null,
         null,
         null,
         null,
         null,
         null,
         null,
         null,
         null,
         null,
         null,
         null,
         null,
         null,
         null,
         null,
         null,
         null,
         null,
         null,
         null,
         null,
         null,
         null,
         null,
         null,
         null,
         null,
         null,
         null,
         null,
         null,
         null,
         null,
         null,
         null,
         null,
         null,
         null,
         null,
         null,
         null,
         null,
         null,
         null,
         null,
         null,
         null,
         null,
         null,
         null,
         null,
         null,
         null,
         null,
         null,
         null,
         null,
         null,
         null,
         null,
         null,
         null,
         null,
         null,
         null,
         null,
         null,
         null,
         null,
         null,
         null,
         null,
         null,
         null,
         null,
         null,
         null,
         null,
         null,
         null,
         null,
         null,
         null,
         null,
         null,
         null,
         null,
         null,
         null,
         null,
         null,
         null,
         null,
         null,
         null,
         null,
         null,
         null,
         null,
         null,
         null,
         null,
         null,
         null,
         null,
         null,
         null,
         null,
         null,
         null,
         null,
         null,
         null,
         null,
         null,
         null,
         null,
         null,
         null,
         null,
         null,
         null,
         null,
         null,
         null,
         null,
         null,
         null,
         null,
         null,
         null,
         null,
         null,
         null,
         null,
         null,
         null,
         null,
         null,
         null,
         null,
         null,
         null,
         null,
         null,
         null
        ]
       ],
       "shape": {
        "columns": 342,
        "rows": 5
       }
      },
      "text/html": [
       "<div>\n",
       "<style scoped>\n",
       "    .dataframe tbody tr th:only-of-type {\n",
       "        vertical-align: middle;\n",
       "    }\n",
       "\n",
       "    .dataframe tbody tr th {\n",
       "        vertical-align: top;\n",
       "    }\n",
       "\n",
       "    .dataframe thead th {\n",
       "        text-align: right;\n",
       "    }\n",
       "</style>\n",
       "<table border=\"1\" class=\"dataframe\">\n",
       "  <thead>\n",
       "    <tr style=\"text-align: right;\">\n",
       "      <th></th>\n",
       "      <th>COL1</th>\n",
       "      <th>COL2</th>\n",
       "      <th>COL3</th>\n",
       "      <th>COL4</th>\n",
       "      <th>COL5</th>\n",
       "      <th>COL6</th>\n",
       "      <th>COL7</th>\n",
       "      <th>COL8</th>\n",
       "      <th>COL9</th>\n",
       "      <th>COL10</th>\n",
       "      <th>...</th>\n",
       "      <th>COL333</th>\n",
       "      <th>COL334</th>\n",
       "      <th>COL335</th>\n",
       "      <th>COL336</th>\n",
       "      <th>COL337</th>\n",
       "      <th>COL338</th>\n",
       "      <th>COL339</th>\n",
       "      <th>COL340</th>\n",
       "      <th>COL341</th>\n",
       "      <th>COL342</th>\n",
       "    </tr>\n",
       "  </thead>\n",
       "  <tbody>\n",
       "    <tr>\n",
       "      <th>0</th>\n",
       "      <td>01-01-2025</td>\n",
       "      <td>3</td>\n",
       "      <td>14</td>\n",
       "      <td>069CC119278462931122024101800002</td>\n",
       "      <td>2024-12-31T10:24:49</td>\n",
       "      <td>NaN</td>\n",
       "      <td>NaN</td>\n",
       "      <td>NaN</td>\n",
       "      <td>CC</td>\n",
       "      <td>1192784629</td>\n",
       "      <td>...</td>\n",
       "      <td>NaN</td>\n",
       "      <td>NaN</td>\n",
       "      <td>NaN</td>\n",
       "      <td>NaN</td>\n",
       "      <td>NaN</td>\n",
       "      <td>NaN</td>\n",
       "      <td>NaN</td>\n",
       "      <td>NaN</td>\n",
       "      <td>NaN</td>\n",
       "      <td>NaN</td>\n",
       "    </tr>\n",
       "    <tr>\n",
       "      <th>1</th>\n",
       "      <td>10-01-2025</td>\n",
       "      <td>3</td>\n",
       "      <td>14</td>\n",
       "      <td>069CC111655113809012025130200001</td>\n",
       "      <td>2025-01-09T13:03:21</td>\n",
       "      <td>NaN</td>\n",
       "      <td>NaN</td>\n",
       "      <td>NaN</td>\n",
       "      <td>CC</td>\n",
       "      <td>1116551138</td>\n",
       "      <td>...</td>\n",
       "      <td>NaN</td>\n",
       "      <td>NaN</td>\n",
       "      <td>NaN</td>\n",
       "      <td>NaN</td>\n",
       "      <td>NaN</td>\n",
       "      <td>NaN</td>\n",
       "      <td>NaN</td>\n",
       "      <td>NaN</td>\n",
       "      <td>NaN</td>\n",
       "      <td>NaN</td>\n",
       "    </tr>\n",
       "    <tr>\n",
       "      <th>2</th>\n",
       "      <td>10-01-2025</td>\n",
       "      <td>4</td>\n",
       "      <td>14</td>\n",
       "      <td>069CC3364704509012025130200003</td>\n",
       "      <td>2025-01-09T13:18:41</td>\n",
       "      <td>NaN</td>\n",
       "      <td>NaN</td>\n",
       "      <td>NaN</td>\n",
       "      <td>CC</td>\n",
       "      <td>33647045</td>\n",
       "      <td>...</td>\n",
       "      <td>NaN</td>\n",
       "      <td>NaN</td>\n",
       "      <td>NaN</td>\n",
       "      <td>NaN</td>\n",
       "      <td>NaN</td>\n",
       "      <td>NaN</td>\n",
       "      <td>NaN</td>\n",
       "      <td>NaN</td>\n",
       "      <td>NaN</td>\n",
       "      <td>NaN</td>\n",
       "    </tr>\n",
       "    <tr>\n",
       "      <th>3</th>\n",
       "      <td>10-01-2025</td>\n",
       "      <td>5</td>\n",
       "      <td>4</td>\n",
       "      <td>069CC111604148609012025132300002</td>\n",
       "      <td>2025-01-09T13:37:12</td>\n",
       "      <td>NaN</td>\n",
       "      <td>NaN</td>\n",
       "      <td>NaN</td>\n",
       "      <td>CC</td>\n",
       "      <td>1116041486</td>\n",
       "      <td>...</td>\n",
       "      <td>NaN</td>\n",
       "      <td>NaN</td>\n",
       "      <td>NaN</td>\n",
       "      <td>NaN</td>\n",
       "      <td>NaN</td>\n",
       "      <td>NaN</td>\n",
       "      <td>NaN</td>\n",
       "      <td>NaN</td>\n",
       "      <td>NaN</td>\n",
       "      <td>NaN</td>\n",
       "    </tr>\n",
       "    <tr>\n",
       "      <th>4</th>\n",
       "      <td>10-01-2025</td>\n",
       "      <td>6</td>\n",
       "      <td>14</td>\n",
       "      <td>069CC111604148609012025132300002</td>\n",
       "      <td>2025-01-09T13:37:13</td>\n",
       "      <td>NaN</td>\n",
       "      <td>NaN</td>\n",
       "      <td>NaN</td>\n",
       "      <td>CC</td>\n",
       "      <td>1116041486</td>\n",
       "      <td>...</td>\n",
       "      <td>NaN</td>\n",
       "      <td>NaN</td>\n",
       "      <td>NaN</td>\n",
       "      <td>NaN</td>\n",
       "      <td>NaN</td>\n",
       "      <td>NaN</td>\n",
       "      <td>NaN</td>\n",
       "      <td>NaN</td>\n",
       "      <td>NaN</td>\n",
       "      <td>NaN</td>\n",
       "    </tr>\n",
       "  </tbody>\n",
       "</table>\n",
       "<p>5 rows × 342 columns</p>\n",
       "</div>"
      ],
      "text/plain": [
       "         COL1 COL2 COL3                              COL4  \\\n",
       "0  01-01-2025    3   14  069CC119278462931122024101800002   \n",
       "1  10-01-2025    3   14  069CC111655113809012025130200001   \n",
       "2  10-01-2025    4   14    069CC3364704509012025130200003   \n",
       "3  10-01-2025    5    4  069CC111604148609012025132300002   \n",
       "4  10-01-2025    6   14  069CC111604148609012025132300002   \n",
       "\n",
       "                  COL5 COL6 COL7 COL8 COL9       COL10  ... COL333 COL334  \\\n",
       "0  2024-12-31T10:24:49  NaN  NaN  NaN   CC  1192784629  ...    NaN    NaN   \n",
       "1  2025-01-09T13:03:21  NaN  NaN  NaN   CC  1116551138  ...    NaN    NaN   \n",
       "2  2025-01-09T13:18:41  NaN  NaN  NaN   CC    33647045  ...    NaN    NaN   \n",
       "3  2025-01-09T13:37:12  NaN  NaN  NaN   CC  1116041486  ...    NaN    NaN   \n",
       "4  2025-01-09T13:37:13  NaN  NaN  NaN   CC  1116041486  ...    NaN    NaN   \n",
       "\n",
       "  COL335 COL336 COL337 COL338 COL339 COL340 COL341 COL342  \n",
       "0    NaN    NaN    NaN    NaN    NaN    NaN    NaN    NaN  \n",
       "1    NaN    NaN    NaN    NaN    NaN    NaN    NaN    NaN  \n",
       "2    NaN    NaN    NaN    NaN    NaN    NaN    NaN    NaN  \n",
       "3    NaN    NaN    NaN    NaN    NaN    NaN    NaN    NaN  \n",
       "4    NaN    NaN    NaN    NaN    NaN    NaN    NaN    NaN  \n",
       "\n",
       "[5 rows x 342 columns]"
      ]
     },
     "execution_count": 20,
     "metadata": {},
     "output_type": "execute_result"
    }
   ],
   "source": [
    "df_sat = pd.read_csv(R_Consoliado_Sat, sep='|', encoding='ansi', dtype=str)\n",
    "df_sat.head()"
   ]
  },
  {
   "cell_type": "code",
   "execution_count": 21,
   "id": "d4b69607",
   "metadata": {},
   "outputs": [
    {
     "data": {
      "application/vnd.microsoft.datawrangler.viewer.v0+json": {
       "columns": [
        {
         "name": "index",
         "rawType": "int64",
         "type": "integer"
        },
        {
         "name": "0",
         "rawType": "object",
         "type": "string"
        },
        {
         "name": "1",
         "rawType": "object",
         "type": "string"
        },
        {
         "name": "2",
         "rawType": "object",
         "type": "string"
        },
        {
         "name": "3",
         "rawType": "object",
         "type": "string"
        },
        {
         "name": "4",
         "rawType": "object",
         "type": "string"
        },
        {
         "name": "5",
         "rawType": "object",
         "type": "string"
        }
       ],
       "ref": "8fe5fa8c-340c-4ca5-94af-a04a5a4e0b69",
       "rows": [
        [
         "0",
         "114189514",
         "TI",
         "1118575186",
         "31/12/2024",
         "31/12/2999",
         "EPSC25"
        ],
        [
         "1",
         "98302734",
         "CC",
         "1115854149",
         "24/11/2008",
         "31/12/2999",
         "EPSC25"
        ],
        [
         "2",
         "72242905",
         "CC",
         "47439480",
         "04/01/2001",
         "31/12/2999",
         "EPSC25"
        ],
        [
         "3",
         "71669292",
         "CC",
         "47438450",
         "29/06/2006",
         "31/12/2999",
         "EPSC25"
        ],
        [
         "4",
         "41982118",
         "CC",
         "39950202",
         "16/12/2001",
         "31/12/2999",
         "EPSC25"
        ]
       ],
       "shape": {
        "columns": 6,
        "rows": 5
       }
      },
      "text/html": [
       "<div>\n",
       "<style scoped>\n",
       "    .dataframe tbody tr th:only-of-type {\n",
       "        vertical-align: middle;\n",
       "    }\n",
       "\n",
       "    .dataframe tbody tr th {\n",
       "        vertical-align: top;\n",
       "    }\n",
       "\n",
       "    .dataframe thead th {\n",
       "        text-align: right;\n",
       "    }\n",
       "</style>\n",
       "<table border=\"1\" class=\"dataframe\">\n",
       "  <thead>\n",
       "    <tr style=\"text-align: right;\">\n",
       "      <th></th>\n",
       "      <th>0</th>\n",
       "      <th>1</th>\n",
       "      <th>2</th>\n",
       "      <th>3</th>\n",
       "      <th>4</th>\n",
       "      <th>5</th>\n",
       "    </tr>\n",
       "  </thead>\n",
       "  <tbody>\n",
       "    <tr>\n",
       "      <th>0</th>\n",
       "      <td>114189514</td>\n",
       "      <td>TI</td>\n",
       "      <td>1118575186</td>\n",
       "      <td>31/12/2024</td>\n",
       "      <td>31/12/2999</td>\n",
       "      <td>EPSC25</td>\n",
       "    </tr>\n",
       "    <tr>\n",
       "      <th>1</th>\n",
       "      <td>98302734</td>\n",
       "      <td>CC</td>\n",
       "      <td>1115854149</td>\n",
       "      <td>24/11/2008</td>\n",
       "      <td>31/12/2999</td>\n",
       "      <td>EPSC25</td>\n",
       "    </tr>\n",
       "    <tr>\n",
       "      <th>2</th>\n",
       "      <td>72242905</td>\n",
       "      <td>CC</td>\n",
       "      <td>47439480</td>\n",
       "      <td>04/01/2001</td>\n",
       "      <td>31/12/2999</td>\n",
       "      <td>EPSC25</td>\n",
       "    </tr>\n",
       "    <tr>\n",
       "      <th>3</th>\n",
       "      <td>71669292</td>\n",
       "      <td>CC</td>\n",
       "      <td>47438450</td>\n",
       "      <td>29/06/2006</td>\n",
       "      <td>31/12/2999</td>\n",
       "      <td>EPSC25</td>\n",
       "    </tr>\n",
       "    <tr>\n",
       "      <th>4</th>\n",
       "      <td>41982118</td>\n",
       "      <td>CC</td>\n",
       "      <td>39950202</td>\n",
       "      <td>16/12/2001</td>\n",
       "      <td>31/12/2999</td>\n",
       "      <td>EPSC25</td>\n",
       "    </tr>\n",
       "  </tbody>\n",
       "</table>\n",
       "</div>"
      ],
      "text/plain": [
       "           0   1           2           3           4       5\n",
       "0  114189514  TI  1118575186  31/12/2024  31/12/2999  EPSC25\n",
       "1   98302734  CC  1115854149  24/11/2008  31/12/2999  EPSC25\n",
       "2   72242905  CC    47439480  04/01/2001  31/12/2999  EPSC25\n",
       "3   71669292  CC    47438450  29/06/2006  31/12/2999  EPSC25\n",
       "4   41982118  CC    39950202  16/12/2001  31/12/2999  EPSC25"
      ]
     },
     "execution_count": 21,
     "metadata": {},
     "output_type": "execute_result"
    }
   ],
   "source": [
    "df_HI = pd.read_csv(R_Historico, sep=',', encoding='UTF-8', dtype=str, header=None)\n",
    "df_HI.head()"
   ]
  },
  {
   "cell_type": "code",
   "execution_count": 22,
   "id": "281754dd",
   "metadata": {},
   "outputs": [
    {
     "data": {
      "application/vnd.microsoft.datawrangler.viewer.v0+json": {
       "columns": [
        {
         "name": "index",
         "rawType": "int64",
         "type": "integer"
        },
        {
         "name": "AFL_ID",
         "rawType": "object",
         "type": "string"
        },
        {
         "name": "ENT_ID",
         "rawType": "object",
         "type": "string"
        },
        {
         "name": "TPS_IDN_ID_CF",
         "rawType": "object",
         "type": "unknown"
        },
        {
         "name": "HST_IDN_NUMERO_IDENTIFICACION_CF",
         "rawType": "object",
         "type": "unknown"
        },
        {
         "name": "TPS_IDN_ID",
         "rawType": "object",
         "type": "string"
        },
        {
         "name": "HST_IDN_NUMERO_IDENTIFICACION",
         "rawType": "object",
         "type": "string"
        },
        {
         "name": "AFL_PRIMER_APELLIDO",
         "rawType": "object",
         "type": "string"
        },
        {
         "name": "AFL_SEGUNDO_APELLIDO",
         "rawType": "object",
         "type": "unknown"
        },
        {
         "name": "AFL_PRIMER_NOMBRE",
         "rawType": "object",
         "type": "string"
        },
        {
         "name": "AFL_SEGUNDO_NOMBRE",
         "rawType": "object",
         "type": "unknown"
        },
        {
         "name": "AFL_FECHA_NACIMIENTO",
         "rawType": "object",
         "type": "string"
        },
        {
         "name": "TPS_GNR_ID",
         "rawType": "object",
         "type": "string"
        },
        {
         "name": "AFL_PAIS_NACIMIENTO",
         "rawType": "object",
         "type": "unknown"
        },
        {
         "name": "AFL_MUNICIPIO_NACIMIENTO",
         "rawType": "object",
         "type": "unknown"
        },
        {
         "name": "AFL_NACIONALIDAD",
         "rawType": "object",
         "type": "unknown"
        },
        {
         "name": "AFL_SEXO_IDENTIFICACION",
         "rawType": "object",
         "type": "unknown"
        },
        {
         "name": "AFL_DISCAPACIDAD",
         "rawType": "object",
         "type": "unknown"
        },
        {
         "name": "TPS_AFL_ID",
         "rawType": "object",
         "type": "string"
        },
        {
         "name": "TPS_PRN_ID",
         "rawType": "object",
         "type": "unknown"
        },
        {
         "name": "TPS_GRP_PBL_ID",
         "rawType": "object",
         "type": "unknown"
        },
        {
         "name": "TPS_NVL_SSB_ID",
         "rawType": "object",
         "type": "unknown"
        },
        {
         "name": "NUMEROFICHASISBEN",
         "rawType": "object",
         "type": "unknown"
        },
        {
         "name": "TPS_CND_BNF_ID",
         "rawType": "object",
         "type": "unknown"
        },
        {
         "name": "DPR_ID",
         "rawType": "object",
         "type": "string"
        },
        {
         "name": "MNC_ID",
         "rawType": "object",
         "type": "string"
        },
        {
         "name": "ZNS_ID",
         "rawType": "object",
         "type": "string"
        },
        {
         "name": "AFL_FECHA_AFILIACION_SGSSS",
         "rawType": "object",
         "type": "string"
        },
        {
         "name": "AFC_FECHA_INICIO",
         "rawType": "object",
         "type": "string"
        },
        {
         "name": "NUMERO CONTRATO",
         "rawType": "object",
         "type": "unknown"
        },
        {
         "name": "FECHADE INICIO DEL CONTRATO",
         "rawType": "object",
         "type": "unknown"
        },
        {
         "name": "CNT_AFL_TPS_GRP_PBL_ID",
         "rawType": "object",
         "type": "unknown"
        },
        {
         "name": "CNT_AFL_TPS_PRT_ETN_ID",
         "rawType": "object",
         "type": "unknown"
        },
        {
         "name": "TPS_MDL_SBS_ID",
         "rawType": "object",
         "type": "unknown"
        },
        {
         "name": "TPS_EST_AFL_ID",
         "rawType": "object",
         "type": "string"
        },
        {
         "name": "CND_AFL_FECHA_INICIO",
         "rawType": "object",
         "type": "string"
        },
        {
         "name": "CND_AFL_FECHA_INICIO_2",
         "rawType": "object",
         "type": "unknown"
        },
        {
         "name": "GRP_FML_COTIZANTE_ID",
         "rawType": "object",
         "type": "string"
        },
        {
         "name": "PORTABILIDAD",
         "rawType": "object",
         "type": "string"
        },
        {
         "name": "COD_IPS_P",
         "rawType": "object",
         "type": "unknown"
        },
        {
         "name": "MTDLG_G_P",
         "rawType": "object",
         "type": "unknown"
        },
        {
         "name": "SUB_SISBEN_IV",
         "rawType": "object",
         "type": "unknown"
        },
        {
         "name": "MARCASISBENIV+MARCASISBENIII",
         "rawType": "object",
         "type": "string"
        },
        {
         "name": "CRUCE_BDEX_RNEC",
         "rawType": "object",
         "type": "string"
        },
        {
         "name": "fecha_maestro",
         "rawType": "object",
         "type": "string"
        }
       ],
       "ref": "e78978df-3239-4904-87c0-81ea4f7ba87d",
       "rows": [
        [
         "0",
         "39533052",
         "EPSC25",
         null,
         null,
         "CC",
         "1054146060",
         "GONZALEZ",
         "ACERO",
         "ANDRES",
         "FELIPE",
         "05/08/2004",
         "M",
         null,
         null,
         null,
         null,
         null,
         "C",
         null,
         null,
         null,
         null,
         null,
         "15",
         "001",
         "U",
         "28/01/2005",
         "23/01/2025",
         null,
         null,
         null,
         null,
         null,
         "AC",
         "23/01/2025",
         null,
         "-1",
         "0",
         "850100019001",
         null,
         null,
         "SIV(A04)",
         "0",
         "30/01/2025"
        ],
        [
         "1",
         "90278075",
         "EPSC25",
         null,
         null,
         "CC",
         "9430563",
         "CHAPARRO",
         "PATIÑO",
         "JOSE",
         "LIBARDO",
         "20/05/1980",
         "M",
         null,
         null,
         null,
         null,
         null,
         "C",
         null,
         null,
         null,
         null,
         null,
         "15",
         "238",
         "U",
         "01/10/2001",
         "15/01/2025",
         null,
         null,
         null,
         null,
         null,
         "AC",
         "15/01/2025",
         null,
         "-1",
         "0",
         "850010014401",
         null,
         null,
         "SIV(D06)",
         "0",
         "30/01/2025"
        ],
        [
         "2",
         "72302384",
         "EPSC25",
         null,
         null,
         "CC",
         "74853100",
         "DEDIOS",
         "RODRIGUEZ",
         "ELMER",
         null,
         "12/10/1979",
         "M",
         null,
         null,
         null,
         null,
         null,
         "C",
         null,
         null,
         null,
         null,
         null,
         "15",
         "001",
         "R",
         "01/04/2003",
         "28/01/2025",
         null,
         null,
         null,
         null,
         null,
         "AC",
         "28/01/2025",
         null,
         "-1",
         "0",
         "854000042207",
         null,
         null,
         "SIV(B02)",
         "0",
         "30/01/2025"
        ],
        [
         "3",
         "90268659",
         "EPSC25",
         null,
         null,
         "CC",
         "1118648555",
         "MORALES",
         "TOCARIA",
         "SUSANA",
         null,
         "29/03/2001",
         "F",
         null,
         null,
         null,
         null,
         null,
         "C",
         null,
         null,
         null,
         null,
         null,
         "15",
         "407",
         "R",
         "01/09/2006",
         "25/01/2025",
         null,
         null,
         null,
         null,
         null,
         "AC",
         "25/01/2025",
         null,
         "-1",
         "0",
         "851250042210",
         null,
         null,
         "SIV(A03)",
         "0",
         "30/01/2025"
        ],
        [
         "4",
         "71749224",
         "EPSC25",
         null,
         null,
         "CC",
         "23739682",
         "CORONADO",
         null,
         "AURA",
         "MARIA",
         "20/10/1948",
         "F",
         null,
         null,
         null,
         null,
         null,
         "C",
         null,
         null,
         null,
         null,
         null,
         "15",
         "001",
         "U",
         "01/06/2002",
         "29/08/2024",
         null,
         null,
         null,
         null,
         null,
         "AF",
         "05/09/2024",
         null,
         "-1",
         "0",
         null,
         null,
         null,
         "SIV(B05)",
         "0",
         "30/01/2025"
        ]
       ],
       "shape": {
        "columns": 44,
        "rows": 5
       }
      },
      "text/html": [
       "<div>\n",
       "<style scoped>\n",
       "    .dataframe tbody tr th:only-of-type {\n",
       "        vertical-align: middle;\n",
       "    }\n",
       "\n",
       "    .dataframe tbody tr th {\n",
       "        vertical-align: top;\n",
       "    }\n",
       "\n",
       "    .dataframe thead th {\n",
       "        text-align: right;\n",
       "    }\n",
       "</style>\n",
       "<table border=\"1\" class=\"dataframe\">\n",
       "  <thead>\n",
       "    <tr style=\"text-align: right;\">\n",
       "      <th></th>\n",
       "      <th>AFL_ID</th>\n",
       "      <th>ENT_ID</th>\n",
       "      <th>TPS_IDN_ID_CF</th>\n",
       "      <th>HST_IDN_NUMERO_IDENTIFICACION_CF</th>\n",
       "      <th>TPS_IDN_ID</th>\n",
       "      <th>HST_IDN_NUMERO_IDENTIFICACION</th>\n",
       "      <th>AFL_PRIMER_APELLIDO</th>\n",
       "      <th>AFL_SEGUNDO_APELLIDO</th>\n",
       "      <th>AFL_PRIMER_NOMBRE</th>\n",
       "      <th>AFL_SEGUNDO_NOMBRE</th>\n",
       "      <th>...</th>\n",
       "      <th>CND_AFL_FECHA_INICIO</th>\n",
       "      <th>CND_AFL_FECHA_INICIO_2</th>\n",
       "      <th>GRP_FML_COTIZANTE_ID</th>\n",
       "      <th>PORTABILIDAD</th>\n",
       "      <th>COD_IPS_P</th>\n",
       "      <th>MTDLG_G_P</th>\n",
       "      <th>SUB_SISBEN_IV</th>\n",
       "      <th>MARCASISBENIV+MARCASISBENIII</th>\n",
       "      <th>CRUCE_BDEX_RNEC</th>\n",
       "      <th>fecha_maestro</th>\n",
       "    </tr>\n",
       "  </thead>\n",
       "  <tbody>\n",
       "    <tr>\n",
       "      <th>0</th>\n",
       "      <td>39533052</td>\n",
       "      <td>EPSC25</td>\n",
       "      <td>NaN</td>\n",
       "      <td>NaN</td>\n",
       "      <td>CC</td>\n",
       "      <td>1054146060</td>\n",
       "      <td>GONZALEZ</td>\n",
       "      <td>ACERO</td>\n",
       "      <td>ANDRES</td>\n",
       "      <td>FELIPE</td>\n",
       "      <td>...</td>\n",
       "      <td>23/01/2025</td>\n",
       "      <td>NaN</td>\n",
       "      <td>-1</td>\n",
       "      <td>0</td>\n",
       "      <td>850100019001</td>\n",
       "      <td>NaN</td>\n",
       "      <td>NaN</td>\n",
       "      <td>SIV(A04)</td>\n",
       "      <td>0</td>\n",
       "      <td>30/01/2025</td>\n",
       "    </tr>\n",
       "    <tr>\n",
       "      <th>1</th>\n",
       "      <td>90278075</td>\n",
       "      <td>EPSC25</td>\n",
       "      <td>NaN</td>\n",
       "      <td>NaN</td>\n",
       "      <td>CC</td>\n",
       "      <td>9430563</td>\n",
       "      <td>CHAPARRO</td>\n",
       "      <td>PATIÑO</td>\n",
       "      <td>JOSE</td>\n",
       "      <td>LIBARDO</td>\n",
       "      <td>...</td>\n",
       "      <td>15/01/2025</td>\n",
       "      <td>NaN</td>\n",
       "      <td>-1</td>\n",
       "      <td>0</td>\n",
       "      <td>850010014401</td>\n",
       "      <td>NaN</td>\n",
       "      <td>NaN</td>\n",
       "      <td>SIV(D06)</td>\n",
       "      <td>0</td>\n",
       "      <td>30/01/2025</td>\n",
       "    </tr>\n",
       "    <tr>\n",
       "      <th>2</th>\n",
       "      <td>72302384</td>\n",
       "      <td>EPSC25</td>\n",
       "      <td>NaN</td>\n",
       "      <td>NaN</td>\n",
       "      <td>CC</td>\n",
       "      <td>74853100</td>\n",
       "      <td>DEDIOS</td>\n",
       "      <td>RODRIGUEZ</td>\n",
       "      <td>ELMER</td>\n",
       "      <td>NaN</td>\n",
       "      <td>...</td>\n",
       "      <td>28/01/2025</td>\n",
       "      <td>NaN</td>\n",
       "      <td>-1</td>\n",
       "      <td>0</td>\n",
       "      <td>854000042207</td>\n",
       "      <td>NaN</td>\n",
       "      <td>NaN</td>\n",
       "      <td>SIV(B02)</td>\n",
       "      <td>0</td>\n",
       "      <td>30/01/2025</td>\n",
       "    </tr>\n",
       "    <tr>\n",
       "      <th>3</th>\n",
       "      <td>90268659</td>\n",
       "      <td>EPSC25</td>\n",
       "      <td>NaN</td>\n",
       "      <td>NaN</td>\n",
       "      <td>CC</td>\n",
       "      <td>1118648555</td>\n",
       "      <td>MORALES</td>\n",
       "      <td>TOCARIA</td>\n",
       "      <td>SUSANA</td>\n",
       "      <td>NaN</td>\n",
       "      <td>...</td>\n",
       "      <td>25/01/2025</td>\n",
       "      <td>NaN</td>\n",
       "      <td>-1</td>\n",
       "      <td>0</td>\n",
       "      <td>851250042210</td>\n",
       "      <td>NaN</td>\n",
       "      <td>NaN</td>\n",
       "      <td>SIV(A03)</td>\n",
       "      <td>0</td>\n",
       "      <td>30/01/2025</td>\n",
       "    </tr>\n",
       "    <tr>\n",
       "      <th>4</th>\n",
       "      <td>71749224</td>\n",
       "      <td>EPSC25</td>\n",
       "      <td>NaN</td>\n",
       "      <td>NaN</td>\n",
       "      <td>CC</td>\n",
       "      <td>23739682</td>\n",
       "      <td>CORONADO</td>\n",
       "      <td>NaN</td>\n",
       "      <td>AURA</td>\n",
       "      <td>MARIA</td>\n",
       "      <td>...</td>\n",
       "      <td>05/09/2024</td>\n",
       "      <td>NaN</td>\n",
       "      <td>-1</td>\n",
       "      <td>0</td>\n",
       "      <td>NaN</td>\n",
       "      <td>NaN</td>\n",
       "      <td>NaN</td>\n",
       "      <td>SIV(B05)</td>\n",
       "      <td>0</td>\n",
       "      <td>30/01/2025</td>\n",
       "    </tr>\n",
       "  </tbody>\n",
       "</table>\n",
       "<p>5 rows × 44 columns</p>\n",
       "</div>"
      ],
      "text/plain": [
       "     AFL_ID  ENT_ID TPS_IDN_ID_CF HST_IDN_NUMERO_IDENTIFICACION_CF TPS_IDN_ID  \\\n",
       "0  39533052  EPSC25           NaN                              NaN         CC   \n",
       "1  90278075  EPSC25           NaN                              NaN         CC   \n",
       "2  72302384  EPSC25           NaN                              NaN         CC   \n",
       "3  90268659  EPSC25           NaN                              NaN         CC   \n",
       "4  71749224  EPSC25           NaN                              NaN         CC   \n",
       "\n",
       "  HST_IDN_NUMERO_IDENTIFICACION AFL_PRIMER_APELLIDO AFL_SEGUNDO_APELLIDO  \\\n",
       "0                    1054146060            GONZALEZ                ACERO   \n",
       "1                       9430563            CHAPARRO               PATIÑO   \n",
       "2                      74853100              DEDIOS            RODRIGUEZ   \n",
       "3                    1118648555             MORALES              TOCARIA   \n",
       "4                      23739682            CORONADO                  NaN   \n",
       "\n",
       "  AFL_PRIMER_NOMBRE AFL_SEGUNDO_NOMBRE  ... CND_AFL_FECHA_INICIO  \\\n",
       "0            ANDRES             FELIPE  ...           23/01/2025   \n",
       "1              JOSE            LIBARDO  ...           15/01/2025   \n",
       "2             ELMER                NaN  ...           28/01/2025   \n",
       "3            SUSANA                NaN  ...           25/01/2025   \n",
       "4              AURA              MARIA  ...           05/09/2024   \n",
       "\n",
       "  CND_AFL_FECHA_INICIO_2 GRP_FML_COTIZANTE_ID PORTABILIDAD     COD_IPS_P  \\\n",
       "0                    NaN                   -1            0  850100019001   \n",
       "1                    NaN                   -1            0  850010014401   \n",
       "2                    NaN                   -1            0  854000042207   \n",
       "3                    NaN                   -1            0  851250042210   \n",
       "4                    NaN                   -1            0           NaN   \n",
       "\n",
       "  MTDLG_G_P SUB_SISBEN_IV MARCASISBENIV+MARCASISBENIII CRUCE_BDEX_RNEC  \\\n",
       "0       NaN           NaN                     SIV(A04)               0   \n",
       "1       NaN           NaN                     SIV(D06)               0   \n",
       "2       NaN           NaN                     SIV(B02)               0   \n",
       "3       NaN           NaN                     SIV(A03)               0   \n",
       "4       NaN           NaN                     SIV(B05)               0   \n",
       "\n",
       "  fecha_maestro  \n",
       "0    30/01/2025  \n",
       "1    30/01/2025  \n",
       "2    30/01/2025  \n",
       "3    30/01/2025  \n",
       "4    30/01/2025  \n",
       "\n",
       "[5 rows x 44 columns]"
      ]
     },
     "execution_count": 22,
     "metadata": {},
     "output_type": "execute_result"
    }
   ],
   "source": [
    "df_Maestro = pd.read_csv(R_Maestro, sep=',', encoding='ansi', dtype=str)\n",
    "df_Maestro.head()"
   ]
  },
  {
   "cell_type": "markdown",
   "id": "9e21d0fc",
   "metadata": {},
   "source": [
    "# 4. LIMPIEZA DE DATOS\n",
    "\n",
    "En esta sección, realizaremos un proceso de limpieza de datos para identificar inconsistencias y columnas que posiblemente no sean necesarias para el análisis. Esto incluye:\n",
    "\n",
    "- Análisis de columnas vacías.\n",
    "- Análisis de columnas de fechas.\n",
    "- Identificación de posibles errores de tipificación."
   ]
  },
  {
   "cell_type": "markdown",
   "id": "c429d7e9",
   "metadata": {},
   "source": [
    "## 4.1 Análisis de Columnas Vacías\n",
    "\n",
    "En esta subsección, identificaremos las columnas que tienen un alto porcentaje de valores vacíos. Esto nos ayudará a decidir si estas columnas son relevantes para el análisis o si pueden ser eliminadas."
   ]
  },
  {
   "cell_type": "code",
   "execution_count": 23,
   "id": "cf60218b",
   "metadata": {},
   "outputs": [
    {
     "name": "stdout",
     "output_type": "stream",
     "text": [
      "Posible error: La columna 'COL2' contiene valores numéricos pero está tipificada como texto.\n",
      "Posible error: La columna 'COL3' contiene valores numéricos pero está tipificada como texto.\n",
      "Posible error: La columna 'COL6' contiene valores numéricos pero está tipificada como texto.\n",
      "Posible error: La columna 'COL7' contiene valores numéricos pero está tipificada como texto.\n",
      "Posible error: La columna 'COL10' contiene valores numéricos pero está tipificada como texto.\n",
      "Posible error: La columna 'COL17' contiene valores numéricos pero está tipificada como texto.\n",
      "Posible error: La columna 'COL22' contiene valores numéricos pero está tipificada como texto.\n",
      "Posible error: La columna 'COL31' contiene valores numéricos pero está tipificada como texto.\n",
      "Posible error: La columna 'COL32' contiene valores numéricos pero está tipificada como texto.\n",
      "Posible error: La columna 'COL38' contiene valores numéricos pero está tipificada como texto.\n",
      "Posible error: La columna 'COL39' contiene valores numéricos pero está tipificada como texto.\n",
      "Posible error: La columna 'COL43' contiene valores numéricos pero está tipificada como texto.\n",
      "Posible error: La columna 'COL44' contiene valores numéricos pero está tipificada como texto.\n",
      "Posible error: La columna 'COL49' contiene valores numéricos pero está tipificada como texto.\n",
      "Posible error: La columna 'COL51' contiene valores numéricos pero está tipificada como texto.\n",
      "Posible error: La columna 'COL53' contiene valores numéricos pero está tipificada como texto.\n",
      "Posible error: La columna 'COL56' contiene valores numéricos pero está tipificada como texto.\n",
      "Posible error: La columna 'COL57' contiene valores numéricos pero está tipificada como texto.\n",
      "Posible error: La columna 'COL58' contiene valores numéricos pero está tipificada como texto.\n",
      "Posible error: La columna 'COL59' contiene valores numéricos pero está tipificada como texto.\n",
      "Posible error: La columna 'COL60' contiene valores numéricos pero está tipificada como texto.\n",
      "Posible error: La columna 'COL61' contiene valores numéricos pero está tipificada como texto.\n",
      "Posible error: La columna 'COL62' contiene valores numéricos pero está tipificada como texto.\n",
      "Posible error: La columna 'COL63' contiene valores numéricos pero está tipificada como texto.\n",
      "Posible error: La columna 'COL65' contiene valores numéricos pero está tipificada como texto.\n",
      "Posible error: La columna 'COL66' contiene valores numéricos pero está tipificada como texto.\n",
      "Posible error: La columna 'COL68' contiene valores numéricos pero está tipificada como texto.\n",
      "Posible error: La columna 'COL76' contiene valores numéricos pero está tipificada como texto.\n",
      "Posible error: La columna 'COL87' contiene valores numéricos pero está tipificada como texto.\n",
      "Posible error: La columna 'COL88' contiene valores numéricos pero está tipificada como texto.\n",
      "Posible error: La columna 'COL89' contiene valores numéricos pero está tipificada como texto.\n",
      "Posible error: La columna 'COL90' contiene valores numéricos pero está tipificada como texto.\n",
      "Posible error: La columna 'COL92' contiene valores numéricos pero está tipificada como texto.\n",
      "Posible error: La columna 'COL93' contiene valores numéricos pero está tipificada como texto.\n",
      "Posible error: La columna 'COL94' contiene valores numéricos pero está tipificada como texto.\n",
      "Posible error: La columna 'COL95' contiene valores numéricos pero está tipificada como texto.\n",
      "Posible error: La columna 'COL97' contiene valores numéricos pero está tipificada como texto.\n",
      "Posible error: La columna 'COL99' contiene valores numéricos pero está tipificada como texto.\n",
      "Posible error: La columna 'COL100' contiene valores numéricos pero está tipificada como texto.\n",
      "Posible error: La columna 'COL102' contiene valores numéricos pero está tipificada como texto.\n",
      "Posible error: La columna 'COL103' contiene valores numéricos pero está tipificada como texto.\n",
      "Posible error: La columna 'COL104' contiene valores numéricos pero está tipificada como texto.\n",
      "Posible error: La columna 'COL105' contiene valores numéricos pero está tipificada como texto.\n",
      "Posible error: La columna 'COL106' contiene valores numéricos pero está tipificada como texto.\n",
      "Posible error: La columna 'COL107' contiene valores numéricos pero está tipificada como texto.\n",
      "Posible error: La columna 'COL109' contiene valores numéricos pero está tipificada como texto.\n",
      "Posible error: La columna 'COL112' contiene valores numéricos pero está tipificada como texto.\n",
      "Posible error: La columna 'COL113' contiene valores numéricos pero está tipificada como texto.\n",
      "Posible error: La columna 'COL114' contiene valores numéricos pero está tipificada como texto.\n",
      "Posible error: La columna 'COL115' contiene valores numéricos pero está tipificada como texto.\n",
      "Posible error: La columna 'COL116' contiene valores numéricos pero está tipificada como texto.\n",
      "Posible error: La columna 'COL117' contiene valores numéricos pero está tipificada como texto.\n",
      "Posible error: La columna 'COL119' contiene valores numéricos pero está tipificada como texto.\n",
      "Posible error: La columna 'COL120' contiene valores numéricos pero está tipificada como texto.\n",
      "Posible error: La columna 'COL122' contiene valores numéricos pero está tipificada como texto.\n",
      "Posible error: La columna 'COL124' contiene valores numéricos pero está tipificada como texto.\n",
      "Posible error: La columna 'COL126' contiene valores numéricos pero está tipificada como texto.\n",
      "Posible error: La columna 'COL127' contiene valores numéricos pero está tipificada como texto.\n",
      "Posible error: La columna 'COL128' contiene valores numéricos pero está tipificada como texto.\n",
      "Posible error: La columna 'COL130' contiene valores numéricos pero está tipificada como texto.\n",
      "Posible error: La columna 'COL131' contiene valores numéricos pero está tipificada como texto.\n",
      "Posible error: La columna 'COL132' contiene valores numéricos pero está tipificada como texto.\n",
      "Posible error: La columna 'COL133' contiene valores numéricos pero está tipificada como texto.\n",
      "Posible error: La columna 'COL134' contiene valores numéricos pero está tipificada como texto.\n",
      "Posible error: La columna 'COL135' contiene valores numéricos pero está tipificada como texto.\n",
      "Posible error: La columna 'COL136' contiene valores numéricos pero está tipificada como texto.\n",
      "Posible error: La columna 'COL138' contiene valores numéricos pero está tipificada como texto.\n",
      "Posible error: La columna 'COL139' contiene valores numéricos pero está tipificada como texto.\n",
      "Posible error: La columna 'COL141' contiene valores numéricos pero está tipificada como texto.\n",
      "Posible error: La columna 'COL143' contiene valores numéricos pero está tipificada como texto.\n",
      "Posible error: La columna 'COL145' contiene valores numéricos pero está tipificada como texto.\n",
      "Posible error: La columna 'COL147' contiene valores numéricos pero está tipificada como texto.\n",
      "Posible error: La columna 'COL149' contiene valores numéricos pero está tipificada como texto.\n",
      "Posible error: La columna 'COL150' contiene valores numéricos pero está tipificada como texto.\n",
      "Posible error: La columna 'COL151' contiene valores numéricos pero está tipificada como texto.\n",
      "Posible error: La columna 'COL153' contiene valores numéricos pero está tipificada como texto.\n",
      "Posible error: La columna 'COL154' contiene valores numéricos pero está tipificada como texto.\n",
      "Posible error: La columna 'COL156' contiene valores numéricos pero está tipificada como texto.\n",
      "Posible error: La columna 'COL157' contiene valores numéricos pero está tipificada como texto.\n",
      "Posible error: La columna 'COL159' contiene valores numéricos pero está tipificada como texto.\n",
      "Posible error: La columna 'COL163' contiene valores numéricos pero está tipificada como texto.\n",
      "Posible error: La columna 'COL164' contiene valores numéricos pero está tipificada como texto.\n",
      "Posible error: La columna 'COL166' contiene valores numéricos pero está tipificada como texto.\n",
      "Posible error: La columna 'COL167' contiene valores numéricos pero está tipificada como texto.\n",
      "Posible error: La columna 'COL168' contiene valores numéricos pero está tipificada como texto.\n",
      "Posible error: La columna 'COL169' contiene valores numéricos pero está tipificada como texto.\n",
      "Posible error: La columna 'COL170' contiene valores numéricos pero está tipificada como texto.\n",
      "Posible error: La columna 'COL171' contiene valores numéricos pero está tipificada como texto.\n",
      "Posible error: La columna 'COL172' contiene valores numéricos pero está tipificada como texto.\n",
      "Posible error: La columna 'COL173' contiene valores numéricos pero está tipificada como texto.\n",
      "Posible error: La columna 'COL174' contiene valores numéricos pero está tipificada como texto.\n",
      "Posible error: La columna 'COL175' contiene valores numéricos pero está tipificada como texto.\n",
      "Posible error: La columna 'COL177' contiene valores numéricos pero está tipificada como texto.\n",
      "Posible error: La columna 'COL178' contiene valores numéricos pero está tipificada como texto.\n",
      "Posible error: La columna 'COL181' contiene valores numéricos pero está tipificada como texto.\n",
      "Posible error: La columna 'COL183' contiene valores numéricos pero está tipificada como texto.\n",
      "Posible error: La columna 'COL188' contiene valores numéricos pero está tipificada como texto.\n",
      "Posible error: La columna 'COL189' contiene valores numéricos pero está tipificada como texto.\n",
      "Posible error: La columna 'COL193' contiene valores numéricos pero está tipificada como texto.\n",
      "Posible error: La columna 'COL195' contiene valores numéricos pero está tipificada como texto.\n",
      "Posible error: La columna 'COL197' contiene valores numéricos pero está tipificada como texto.\n",
      "Posible error: La columna 'COL198' contiene valores numéricos pero está tipificada como texto.\n",
      "Posible error: La columna 'COL199' contiene valores numéricos pero está tipificada como texto.\n",
      "Posible error: La columna 'COL200' contiene valores numéricos pero está tipificada como texto.\n",
      "Posible error: La columna 'COL201' contiene valores numéricos pero está tipificada como texto.\n",
      "Posible error: La columna 'COL202' contiene valores numéricos pero está tipificada como texto.\n",
      "Posible error: La columna 'COL205' contiene valores numéricos pero está tipificada como texto.\n",
      "Posible error: La columna 'COL206' contiene valores numéricos pero está tipificada como texto.\n",
      "Posible error: La columna 'COL208' contiene valores numéricos pero está tipificada como texto.\n",
      "Posible error: La columna 'COL209' contiene valores numéricos pero está tipificada como texto.\n",
      "Posible error: La columna 'COL210' contiene valores numéricos pero está tipificada como texto.\n",
      "Posible error: La columna 'COL212' contiene valores numéricos pero está tipificada como texto.\n",
      "Posible error: La columna 'COL214' contiene valores numéricos pero está tipificada como texto.\n",
      "Posible error: La columna 'COL217' contiene valores numéricos pero está tipificada como texto.\n",
      "Posible error: La columna 'COL218' contiene valores numéricos pero está tipificada como texto.\n",
      "Posible error: La columna 'COL219' contiene valores numéricos pero está tipificada como texto.\n",
      "Posible error: La columna 'COL220' contiene valores numéricos pero está tipificada como texto.\n",
      "Posible error: La columna 'COL221' contiene valores numéricos pero está tipificada como texto.\n",
      "Posible error: La columna 'COL222' contiene valores numéricos pero está tipificada como texto.\n",
      "Posible error: La columna 'COL224' contiene valores numéricos pero está tipificada como texto.\n",
      "Posible error: La columna 'COL225' contiene valores numéricos pero está tipificada como texto.\n",
      "Posible error: La columna 'COL226' contiene valores numéricos pero está tipificada como texto.\n",
      "Posible error: La columna 'COL227' contiene valores numéricos pero está tipificada como texto.\n",
      "Posible error: La columna 'COL228' contiene valores numéricos pero está tipificada como texto.\n",
      "Posible error: La columna 'COL232' contiene valores numéricos pero está tipificada como texto.\n",
      "Posible error: La columna 'COL233' contiene valores numéricos pero está tipificada como texto.\n",
      "Posible error: La columna 'COL235' contiene valores numéricos pero está tipificada como texto.\n",
      "Posible error: La columna 'COL236' contiene valores numéricos pero está tipificada como texto.\n",
      "Posible error: La columna 'COL239' contiene valores numéricos pero está tipificada como texto.\n",
      "Posible error: La columna 'COL240' contiene valores numéricos pero está tipificada como texto.\n",
      "Posible error: La columna 'COL242' contiene valores numéricos pero está tipificada como texto.\n",
      "Posible error: La columna 'COL243' contiene valores numéricos pero está tipificada como texto.\n",
      "Posible error: La columna 'COL247' contiene valores numéricos pero está tipificada como texto.\n",
      "Posible error: La columna 'COL248' contiene valores numéricos pero está tipificada como texto.\n",
      "Posible error: La columna 'COL250' contiene valores numéricos pero está tipificada como texto.\n",
      "Posible error: La columna 'COL251' contiene valores numéricos pero está tipificada como texto.\n",
      "Posible error: La columna 'COL252' contiene valores numéricos pero está tipificada como texto.\n",
      "Posible error: La columna 'COL253' contiene valores numéricos pero está tipificada como texto.\n",
      "Posible error: La columna 'COL255' contiene valores numéricos pero está tipificada como texto.\n",
      "Posible error: La columna 'COL256' contiene valores numéricos pero está tipificada como texto.\n",
      "Posible error: La columna 'COL257' contiene valores numéricos pero está tipificada como texto.\n",
      "Posible error: La columna 'COL259' contiene valores numéricos pero está tipificada como texto.\n",
      "Posible error: La columna 'COL261' contiene valores numéricos pero está tipificada como texto.\n",
      "Posible error: La columna 'COL263' contiene valores numéricos pero está tipificada como texto.\n",
      "Posible error: La columna 'COL266' contiene valores numéricos pero está tipificada como texto.\n",
      "Posible error: La columna 'COL268' contiene valores numéricos pero está tipificada como texto.\n",
      "Posible error: La columna 'COL269' contiene valores numéricos pero está tipificada como texto.\n",
      "Posible error: La columna 'COL271' contiene valores numéricos pero está tipificada como texto.\n",
      "Posible error: La columna 'COL273' contiene valores numéricos pero está tipificada como texto.\n",
      "Posible error: La columna 'COL275' contiene valores numéricos pero está tipificada como texto.\n",
      "Posible error: La columna 'COL276' contiene valores numéricos pero está tipificada como texto.\n",
      "Posible error: La columna 'COL277' contiene valores numéricos pero está tipificada como texto.\n",
      "Posible error: La columna 'COL278' contiene valores numéricos pero está tipificada como texto.\n",
      "Posible error: La columna 'COL279' contiene valores numéricos pero está tipificada como texto.\n",
      "Posible error: La columna 'COL283' contiene valores numéricos pero está tipificada como texto.\n",
      "Posible error: La columna 'COL285' contiene valores numéricos pero está tipificada como texto.\n",
      "Posible error: La columna 'COL287' contiene valores numéricos pero está tipificada como texto.\n",
      "Posible error: La columna 'COL290' contiene valores numéricos pero está tipificada como texto.\n",
      "Posible error: La columna 'COL292' contiene valores numéricos pero está tipificada como texto.\n",
      "Posible error: La columna 'COL293' contiene valores numéricos pero está tipificada como texto.\n",
      "Posible error: La columna 'COL297' contiene valores numéricos pero está tipificada como texto.\n",
      "Posible error: La columna 'COL298' contiene valores numéricos pero está tipificada como texto.\n",
      "Posible error: La columna 'COL299' contiene valores numéricos pero está tipificada como texto.\n",
      "Posible error: La columna 'COL302' contiene valores numéricos pero está tipificada como texto.\n",
      "Posible error: La columna 'COL303' contiene valores numéricos pero está tipificada como texto.\n",
      "Posible error: La columna 'COL304' contiene valores numéricos pero está tipificada como texto.\n",
      "Posible error: La columna 'COL305' contiene valores numéricos pero está tipificada como texto.\n",
      "Posible error: La columna 'COL306' contiene valores numéricos pero está tipificada como texto.\n",
      "Posible error: La columna 'COL307' contiene valores numéricos pero está tipificada como texto.\n",
      "Posible error: La columna 'COL308' contiene valores numéricos pero está tipificada como texto.\n",
      "Posible error: La columna 'COL309' contiene valores numéricos pero está tipificada como texto.\n",
      "Posible error: La columna 'COL310' contiene valores numéricos pero está tipificada como texto.\n",
      "Posible error: La columna 'COL314' contiene valores numéricos pero está tipificada como texto.\n",
      "Posible error: La columna 'COL315' contiene valores numéricos pero está tipificada como texto.\n",
      "Posible error: La columna 'COL319' contiene valores numéricos pero está tipificada como texto.\n",
      "Posible error: La columna 'COL320' contiene valores numéricos pero está tipificada como texto.\n",
      "Posible error: La columna 'COL321' contiene valores numéricos pero está tipificada como texto.\n",
      "Posible error: La columna 'COL324' contiene valores numéricos pero está tipificada como texto.\n",
      "Posible error: La columna 'COL326' contiene valores numéricos pero está tipificada como texto.\n",
      "Posible error: La columna 'COL327' contiene valores numéricos pero está tipificada como texto.\n",
      "Posible error: La columna 'COL329' contiene valores numéricos pero está tipificada como texto.\n",
      "Posible error: La columna 'COL330' contiene valores numéricos pero está tipificada como texto.\n",
      "Posible error: La columna 'COL331' contiene valores numéricos pero está tipificada como texto.\n",
      "Posible error: La columna 'COL332' contiene valores numéricos pero está tipificada como texto.\n",
      "Posible error: La columna 'COL333' contiene valores numéricos pero está tipificada como texto.\n",
      "Posible error: La columna 'COL337' contiene valores numéricos pero está tipificada como texto.\n",
      "Posible error: La columna 'COL338' contiene valores numéricos pero está tipificada como texto.\n",
      "Posible error: La columna 'COL339' contiene valores numéricos pero está tipificada como texto.\n",
      "Posible error: La columna 'COL341' contiene valores numéricos pero está tipificada como texto.\n"
     ]
    }
   ],
   "source": [
    "# Identificar posibles errores de tipificación\n",
    "def identificar_errores_tipificacion(df):\n",
    "    for col in df.columns:\n",
    "        if df[col].dtype == \"object\":\n",
    "            try:\n",
    "                df[col].astype(float)\n",
    "                print(f\"Posible error: La columna '{col}' contiene valores numéricos pero está tipificada como texto.\")\n",
    "            except ValueError:\n",
    "                pass\n",
    "        elif df[col].dtype in [\"int64\", \"float64\"]:\n",
    "            if df[col].apply(lambda x: isinstance(x, str)).any():\n",
    "                print(f\"Posible error: La columna '{col}' contiene texto pero está tipificada como numérica.\")\n",
    "\n",
    "# Aplicar la función al DataFrame\n",
    "identificar_errores_tipificacion(df_sat)"
   ]
  },
  {
   "cell_type": "markdown",
   "id": "667566dd",
   "metadata": {},
   "source": [
    "## Análisis de Columnas de Fechas\n",
    "\n",
    "En esta subsección, verificaremos las columnas que contienen fechas para identificar valores fuera de rango o inconsistencias en el formato."
   ]
  },
  {
   "cell_type": "code",
   "execution_count": 24,
   "id": "b3d1a1fd",
   "metadata": {},
   "outputs": [],
   "source": [
    "# Identificar columnas de tipo fecha\n",
    "def analizar_columnas_fechas(df):\n",
    "    columnas_fecha = [col for col in df.columns if \"fecha\" in col.lower()]\n",
    "    for col in columnas_fecha:\n",
    "        print(f\"Análisis de la columna: {col}\")\n",
    "        print(f\"Rango de fechas: {df[col].min()} - {df[col].max()}\")\n",
    "        print(f\"Valores únicos: {df[col].nunique()}\")\n",
    "\n",
    "# Aplicar la función al DataFrame\n",
    "analizar_columnas_fechas(df_sat)"
   ]
  },
  {
   "cell_type": "markdown",
   "id": "d7dae9b9",
   "metadata": {},
   "source": [
    "## Identificación de Errores de Tipificación\n",
    "\n",
    "En esta subsección, revisaremos las columnas para identificar posibles errores de tipificación, como valores numéricos en columnas categóricas o texto en columnas numéricas."
   ]
  },
  {
   "cell_type": "code",
   "execution_count": 25,
   "id": "60cb7918",
   "metadata": {},
   "outputs": [
    {
     "name": "stdout",
     "output_type": "stream",
     "text": [
      "Columnas con más del 50% de valores vacíos:\n",
      "COL6      100.000000\n",
      "COL7       99.837134\n",
      "COL8       94.169381\n",
      "COL35      85.537459\n",
      "COL44      96.775244\n",
      "             ...    \n",
      "COL338    100.000000\n",
      "COL339    100.000000\n",
      "COL340     99.967427\n",
      "COL341     99.967427\n",
      "COL342     99.934853\n",
      "Length: 279, dtype: float64\n"
     ]
    }
   ],
   "source": [
    "# Calcular el porcentaje de valores vacíos por columna\n",
    "def calcular_porcentaje_vacios(df):\n",
    "    porcentaje_vacios = df.isnull().mean() * 100\n",
    "    return porcentaje_vacios\n",
    "\n",
    "# Aplicar la función al DataFrame y mostrar las columnas con más del 50% de valores vacíos\n",
    "porcentaje_vacios = calcular_porcentaje_vacios(df_sat)\n",
    "columnas_vacias = porcentaje_vacios[porcentaje_vacios > 50]\n",
    "\n",
    "print(\"Columnas con más del 50% de valores vacíos:\")\n",
    "print(columnas_vacias)"
   ]
  },
  {
   "cell_type": "markdown",
   "id": "d8efc6bf",
   "metadata": {},
   "source": [
    "## Eliminacion de Columnas Vacias"
   ]
  },
  {
   "cell_type": "code",
   "execution_count": 26,
   "id": "8af0daa7",
   "metadata": {},
   "outputs": [
    {
     "name": "stdout",
     "output_type": "stream",
     "text": [
      "Antes de eliminar:\n",
      "Registros: 3070, Columnas: 342\n",
      "Después de eliminar:\n",
      "Registros: 3070, Columnas: 63\n"
     ]
    }
   ],
   "source": [
    "# Mostrar número de registros y columnas antes de eliminar\n",
    "print(\"Antes de eliminar:\")\n",
    "print(f\"Registros: {df_sat.shape[0]}, Columnas: {df_sat.shape[1]}\")\n",
    "\n",
    "# Eliminar columnas con más del 50% de valores vacíos\n",
    "df_sat_limpio = df_sat.drop(columns=columnas_vacias.index)\n",
    "\n",
    "# Mostrar número de registros y columnas después de eliminar\n",
    "print(\"Después de eliminar:\")\n",
    "print(f\"Registros: {df_sat_limpio.shape[0]}, Columnas: {df_sat_limpio.shape[1]}\")"
   ]
  },
  {
   "cell_type": "markdown",
   "id": "95fd81a4",
   "metadata": {},
   "source": [
    "## VALIDAR EVOLUCIONES DC"
   ]
  },
  {
   "cell_type": "code",
   "execution_count": 27,
   "id": "b76c9239",
   "metadata": {},
   "outputs": [
    {
     "name": "stdout",
     "output_type": "stream",
     "text": [
      "Registros vacíos en COL23 antes: 91\n",
      "Registros vacíos en COL24 antes: 91\n",
      "Registros vacíos en COL23 después: 0\n",
      "Registros vacíos en COL24 después: 0\n"
     ]
    }
   ],
   "source": [
    "# Mostrar número de registros vacíos en COL23 y COL24 antes del proceso\n",
    "vacios_antes_col23 = df_sat_limpio['COL23'].isnull().sum() + (df_sat_limpio['COL23'].str.strip() == '').sum()\n",
    "vacios_antes_col24 = df_sat_limpio['COL24'].isnull().sum() + (df_sat_limpio['COL24'].str.strip() == '').sum()\n",
    "print(f\"Registros vacíos en COL23 antes: {vacios_antes_col23}\")\n",
    "print(f\"Registros vacíos en COL24 antes: {vacios_antes_col24}\")\n",
    "\n",
    "# Copiar valores de COL21 y COL22 a COL23 y COL24 cuando estén vacías\n",
    "mask_col23 = df_sat_limpio['COL23'].isnull() | (df_sat_limpio['COL23'].str.strip() == '')\n",
    "mask_col24 = df_sat_limpio['COL24'].isnull() | (df_sat_limpio['COL24'].str.strip() == '')\n",
    "\n",
    "if 'COL21' in df_sat.columns and 'COL22' in df_sat.columns:\n",
    "    df_sat_limpio.loc[mask_col23, 'COL23'] = df_sat.loc[df_sat_limpio.index[mask_col23], 'COL21']\n",
    "    df_sat_limpio.loc[mask_col24, 'COL24'] = df_sat.loc[df_sat_limpio.index[mask_col24], 'COL22']\n",
    "\n",
    "# Mostrar número de registros vacíos en COL23 y COL24 después del proceso\n",
    "vacios_despues_col23 = df_sat_limpio['COL23'].isnull().sum() + (df_sat_limpio['COL23'].str.strip() == '').sum()\n",
    "vacios_despues_col24 = df_sat_limpio['COL24'].isnull().sum() + (df_sat_limpio['COL24'].str.strip() == '').sum()\n",
    "print(f\"Registros vacíos en COL23 después: {vacios_despues_col23}\")\n",
    "print(f\"Registros vacíos en COL24 después: {vacios_despues_col24}\")"
   ]
  },
  {
   "cell_type": "markdown",
   "id": "094566ff",
   "metadata": {},
   "source": [
    "## DEFINIR COLUMNAS"
   ]
  },
  {
   "cell_type": "code",
   "execution_count": 28,
   "id": "125d44fa",
   "metadata": {
    "vscode": {
     "languageId": "ruby"
    }
   },
   "outputs": [
    {
     "name": "stdout",
     "output_type": "stream",
     "text": [
      "Dimensiones antes: (3070, 63)\n",
      "Dimensiones después: (3070, 7)\n"
     ]
    }
   ],
   "source": [
    "# Mostrar dimensiones antes de seleccionar columnas\n",
    "print(\"Dimensiones antes:\", df_sat_limpio.shape)\n",
    "\n",
    "# Seleccionar las columnas requeridas (corrigiendo el espacio en 'COL 18')\n",
    "columnas_a_trabajar = ['COL1', 'COL3', 'COL16', 'COL18', 'COL23', 'COL24', 'COL64']\n",
    "df_sat_limpio = df_sat_limpio[columnas_a_trabajar]\n",
    "\n",
    "# Mostrar dimensiones después de seleccionar columnas\n",
    "print(\"Dimensiones después:\", df_sat_limpio.shape)"
   ]
  },
  {
   "cell_type": "markdown",
   "id": "98d3c2f1",
   "metadata": {},
   "source": [
    "## QUITAR DUPLICADOS"
   ]
  },
  {
   "cell_type": "code",
   "execution_count": 29,
   "id": "2fbb8684",
   "metadata": {},
   "outputs": [
    {
     "name": "stdout",
     "output_type": "stream",
     "text": [
      "Antes de eliminar duplicados y vacíos:\n",
      "(3070, 7)\n",
      "Después de eliminar duplicados y vacíos:\n",
      "(1590, 7)\n"
     ]
    }
   ],
   "source": [
    "# Mostrar el DataFrame antes de eliminar duplicados y vacíos\n",
    "print(\"Antes de eliminar duplicados y vacíos:\")\n",
    "print(df_sat_limpio.shape)\n",
    "\n",
    "# Eliminar filas donde COL23 o COL24 estén vacíos (NaN o cadena vacía)\n",
    "df_sat_limpio = df_sat_limpio.dropna(subset=['COL23', 'COL24'])\n",
    "df_sat_limpio = df_sat_limpio[(df_sat_limpio['COL23'].str.strip() != '') & (df_sat_limpio['COL24'].str.strip() != '')]\n",
    "\n",
    "# Eliminar duplicados considerando COL23 y COL24 como ID\n",
    "df_sat_limpio = df_sat_limpio.drop_duplicates(subset=['COL23', 'COL24'])\n",
    "\n",
    "# Mostrar el DataFrame después del proceso\n",
    "print(\"Después de eliminar duplicados y vacíos:\")\n",
    "print(df_sat_limpio.shape)"
   ]
  },
  {
   "cell_type": "markdown",
   "id": "f39be395",
   "metadata": {},
   "source": [
    "## ELM DE MOVILIDAD"
   ]
  },
  {
   "cell_type": "code",
   "execution_count": 30,
   "id": "becf2c29",
   "metadata": {},
   "outputs": [
    {
     "name": "stdout",
     "output_type": "stream",
     "text": [
      "Dimensiones antes de eliminar registros: (1590, 7)\n",
      "Dimensiones después de eliminar registros: (1368, 7)\n"
     ]
    }
   ],
   "source": [
    "# Mostrar dimensiones antes de eliminar registros\n",
    "print(\"Dimensiones antes de eliminar registros:\", df_sat_limpio.shape)\n",
    "\n",
    "# Eliminar registros donde (COL16 = 'EPSC25' y COL18 = 'EPS025') o (COL16 = 'EPS025' y COL18 = 'EPSC25')\n",
    "condicion = ((df_sat_limpio['COL16'] == 'EPSC25') & (df_sat_limpio['COL18'] == 'EPS025')) | \\\n",
    "            ((df_sat_limpio['COL16'] == 'EPS025') & (df_sat_limpio['COL18'] == 'EPSC25'))\n",
    "df_sat_limpio = df_sat_limpio[~condicion]\n",
    "\n",
    "# Mostrar dimensiones después de eliminar registros\n",
    "print(\"Dimensiones después de eliminar registros:\", df_sat_limpio.shape)"
   ]
  },
  {
   "cell_type": "markdown",
   "id": "31939cb1",
   "metadata": {},
   "source": [
    "## CATEGORIZAR BD"
   ]
  },
  {
   "cell_type": "code",
   "execution_count": 31,
   "id": "8c487644",
   "metadata": {},
   "outputs": [
    {
     "name": "stdout",
     "output_type": "stream",
     "text": [
      "Dimensiones antes: (1368, 7)\n",
      "Dimensiones después: (1368, 8)\n",
      "Porcentaje de categorías en 'tipo_Proceso':\n",
      "tipo_Proceso\n",
      "Salidas     92.47076\n",
      "Entradas     7.52924\n",
      "Name: proportion, dtype: float64\n"
     ]
    }
   ],
   "source": [
    "# Mostrar dimensiones antes de crear la columna\n",
    "print(\"Dimensiones antes:\", df_sat_limpio.shape)\n",
    "\n",
    "# Crear la columna 'tipo_Proceso' según las condiciones dadas\n",
    "cond_entrada_1 = (df_sat_limpio['COL16'] == 'EPSC25') & (df_sat_limpio['COL18'].isnull())\n",
    "cond_entrada_2 = (df_sat_limpio['COL16'] == 'EPSC25') & (df_sat_limpio['COL18'].str.strip() == '')\n",
    "cond_entrada_3 = (df_sat_limpio['COL16'] != 'EPSC25') & (df_sat_limpio['COL18'] == 'EPSC25')\n",
    "\n",
    "cond_entrada = cond_entrada_1 | cond_entrada_2 | cond_entrada_3\n",
    "cond_salida = (df_sat_limpio['COL16'] == 'EPSC25') & (df_sat_limpio['COL18'] != 'EPSC25') & (~df_sat_limpio['COL18'].isnull()) & (df_sat_limpio['COL18'].str.strip() != '')\n",
    "\n",
    "df_sat_limpio['tipo_Proceso'] = None\n",
    "df_sat_limpio.loc[cond_entrada, 'tipo_Proceso'] = 'Entradas'\n",
    "df_sat_limpio.loc[cond_salida, 'tipo_Proceso'] = 'Salidas'\n",
    "\n",
    "# Mostrar dimensiones después de crear la columna\n",
    "print(\"Dimensiones después:\", df_sat_limpio.shape)\n",
    "\n",
    "# Mostrar porcentaje de cada categoría y verificar si hay registros sin categoría\n",
    "porcentaje_categorias = df_sat_limpio['tipo_Proceso'].value_counts(dropna=False, normalize=True) * 100\n",
    "print(\"Porcentaje de categorías en 'tipo_Proceso':\")\n",
    "print(porcentaje_categorias)"
   ]
  },
  {
   "cell_type": "markdown",
   "id": "47c59eba",
   "metadata": {},
   "source": [
    "## ID BDUA"
   ]
  },
  {
   "cell_type": "code",
   "execution_count": 34,
   "id": "0a88e508",
   "metadata": {},
   "outputs": [
    {
     "name": "stdout",
     "output_type": "stream",
     "text": [
      "Dimensiones antes: (1368, 10)\n",
      "Dimensiones después: (1368, 11)\n",
      "Porcentaje de vacíos en la columna 'serial': 2.12%\n"
     ]
    }
   ],
   "source": [
    "# Mostrar dimensiones antes de agregar la columna\n",
    "print(\"Dimensiones antes:\", df_sat_limpio.shape)\n",
    "\n",
    "# Crear un nuevo identificador único combinando las columnas 1 y 2 de df_HI\n",
    "df_HI['unique_id'] = df_HI[1].str.strip() + \" \" + df_HI[2].str.strip()\n",
    "\n",
    "# Crear un diccionario para mapear el identificador único al serial (columna 0)\n",
    "id_to_serial = df_HI.set_index('unique_id')[0].to_dict()\n",
    "\n",
    "# Crear un nuevo identificador único combinando las columnas COL23 y COL24 de df_sat_limpio\n",
    "df_sat_limpio['unique_id'] = df_sat_limpio['COL23'].str.strip() + \" \" + df_sat_limpio['COL24'].str.strip()\n",
    "\n",
    "# Asignar la columna 'serial' en df_sat_limpio usando el identificador único\n",
    "df_sat_limpio['serial'] = df_sat_limpio['unique_id'].map(id_to_serial)\n",
    "\n",
    "# Mostrar dimensiones después de agregar la columna\n",
    "print(\"Dimensiones después:\", df_sat_limpio.shape)\n",
    "\n",
    "# Calcular el porcentaje de vacíos en la nueva columna 'serial'\n",
    "porcentaje_vacios_serial = df_sat_limpio['serial'].isnull().mean() * 100\n",
    "print(f\"Porcentaje de vacíos en la columna 'serial': {porcentaje_vacios_serial:.2f}%\")"
   ]
  },
  {
   "cell_type": "markdown",
   "id": "bf063416",
   "metadata": {},
   "source": [
    "# Agrupar df_Maestro por AFL_ID y obtener la fecha mínima y máxima de fecha_maestro\n",
    "fechas_maestro = df_Maestro.groupby('AFL_ID')['fecha_maestro'].agg(['min', 'max']).reset_index()\n",
    "\n",
    "# Crear un diccionario para acceso rápido\n",
    "min_fechas = fechas_maestro.set_index('AFL_ID')['min'].to_dict()\n",
    "max_fechas = fechas_maestro.set_index('AFL_ID')['max'].to_dict()\n",
    "\n",
    "# Función para asignar la fecha según tipo_Proceso\n",
    "def obtener_fec_maestro(row):\n",
    "    serial = row['serial']\n",
    "    if row['tipo_Proceso'] == 'Entradas':\n",
    "        return min_fechas.get(serial, pd.NaT)\n",
    "    elif row['tipo_Proceso'] == 'Salidas':\n",
    "        return max_fechas.get(serial, pd.NaT)\n",
    "    else:\n",
    "        return pd.NaT\n",
    "\n",
    "# Crear la columna 'fec_maestro' en df_sat_limpio\n",
    "df_sat_limpio['fec_maestro'] = df_sat_limpio.apply(obtener_fec_maestro, axis=1)"
   ]
  },
  {
   "cell_type": "markdown",
   "id": "404d04ec",
   "metadata": {},
   "source": [
    "# 5.VIZUALIACION DE DATOS"
   ]
  },
  {
   "cell_type": "code",
   "execution_count": 33,
   "id": "8f56555f",
   "metadata": {},
   "outputs": [
    {
     "data": {
      "image/png": "[encoded data removed]",
      "text/plain": [
       "<Figure size 1400x800 with 1 Axes>"
      ]
     },
     "metadata": {},
     "output_type": "display_data"
    }
   ],
   "source": [
    "import matplotlib.pyplot as plt\n",
    "import seaborn as sns\n",
    "\n",
    "# Asegurarse de que la columna COL1 esté en formato de fecha\n",
    "df_sat_limpio['COL1'] = pd.to_datetime(df_sat_limpio['COL1'], format='%d-%m-%Y', errors='coerce')\n",
    "\n",
    "# Crear una nueva columna para el mes y año\n",
    "df_sat_limpio['Mes_Año'] = df_sat_limpio['COL1'].dt.to_period('M')\n",
    "\n",
    "# Agrupar por Mes_Año y tipo_Proceso, y contar los registros\n",
    "totales_por_mes = df_sat_limpio.groupby(['Mes_Año', 'tipo_Proceso']).size().reset_index(name='Total')\n",
    "\n",
    "# Pivotar los datos para que cada tipo_Proceso sea una columna\n",
    "timeline = totales_por_mes.pivot(index='Mes_Año', columns='tipo_Proceso', values='Total').fillna(0)\n",
    "\n",
    "# Configuración de estilo para gráficos\n",
    "sns.set_theme(style=\"whitegrid\")\n",
    "\n",
    "# Crear el gráfico\n",
    "plt.figure(figsize=(14, 8))\n",
    "palette = sns.color_palette(\"tab10\")  # Paleta de colores\n",
    "\n",
    "# Graficar cada tipo de proceso con un estilo único\n",
    "for column, color in zip(timeline.columns, palette):\n",
    "    plt.plot(timeline.index.astype(str), timeline[column], marker='o', label=column, color=color, linewidth=2)\n",
    "    # Añadir etiquetas de datos con mejor visibilidad\n",
    "    for x, y in zip(timeline.index.astype(str), timeline[column]):\n",
    "        plt.text(x, y, str(int(y)), fontsize=10, color='black', ha='center', va='bottom', fontweight='bold')\n",
    "\n",
    "# Títulos y etiquetas\n",
    "plt.title('Línea de Tiempo por Tipo de Proceso (Totalización Mensual)', fontsize=16, fontweight='bold')\n",
    "plt.xlabel('Mes', fontsize=14)\n",
    "plt.ylabel('Cantidad de Registros', fontsize=14)\n",
    "\n",
    "# Personalización de ejes\n",
    "plt.xticks(fontsize=12, rotation=45)\n",
    "plt.yticks(fontsize=12)\n",
    "\n",
    "# Leyenda\n",
    "plt.legend(title='Tipo de Proceso', fontsize=12, title_fontsize=14, loc='upper left')\n",
    "\n",
    "# Ajustar márgenes y mostrar\n",
    "plt.tight_layout()\n",
    "plt.show()"
   ]
  }
 ],
 "metadata": {
  "kernelspec": {
   "display_name": "Python 3",
   "language": "python",
   "name": "python3"
  },
  "language_info": {
   "codemirror_mode": {
    "name": "ipython",
    "version": 3
   },
   "file_extension": ".py",
   "mimetype": "text/x-python",
   "name": "python",
   "nbconvert_exporter": "python",
   "pygments_lexer": "ipython3",
   "version": "3.13.1"
  }
 },
 "nbformat": 4,
 "nbformat_minor": 5
}
