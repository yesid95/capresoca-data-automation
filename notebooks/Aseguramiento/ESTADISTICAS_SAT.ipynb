{
 "cells": [
  {
   "cell_type": "markdown",
   "id": "4b8b6eb3",
   "metadata": {},
   "source": [
    "# 1. MODULO"
   ]
  },
  {
   "cell_type": "code",
   "execution_count": 41,
   "id": "33899467",
   "metadata": {},
   "outputs": [],
   "source": [
    "# Importa el módulo 'os' para interactuar con el sistema de archivos y rutas del sistema operativo\n",
    "import os\n",
    "\n",
    "# Importa 'pandas' como 'pd', una biblioteca potente para manipulación y análisis de datos mediante DataFrames\n",
    "import pandas as pd\n",
    "\n",
    "# Importa el módulo 'datetime' para trabajar con fechas y horas de manera eficiente\n",
    "import datetime"
   ]
  },
  {
   "cell_type": "markdown",
   "id": "7faa65ee",
   "metadata": {},
   "source": [
    "# 2. Rutas Y variables"
   ]
  },
  {
   "cell_type": "code",
   "execution_count": 42,
   "id": "916035d9",
   "metadata": {},
   "outputs": [],
   "source": [
    "R_Consoliado_Sat = r\"C:\\Users\\osmarrincon\\OneDrive - uniminuto.edu\\Capresoca\\AlmostClear\\SAT\\CONTRIBUTIVO\\All\\SAT_EPSC25_2025.TXT\"\n",
    "R_Historico = r\"C:\\Users\\osmarrincon\\OneDrive - uniminuto.edu\\Capresoca\\AlmostClear\\Procesos BDUA\\Contributivo\\Historico\\2025\\20250629-HISTORICOS\\HISTORIA_IDENTIFICACION.TXT\"\n",
    "R_Maestro = r\"C:\\Users\\osmarrincon\\OneDrive - uniminuto.edu\\Capresoca\\AlmostClear\\Procesos BDUA\\Contributivo\\Maestro\\All\\Min\\2025_Mínim.txt\"\n",
    "\n",
    "ano = 2025\n",
    "#Regimen = \"EPS025\"\n",
    "Regimen = \"EPSC25\"\n",
    "R_Salida = fr\"C:\\Users\\osmarrincon\\OneDrive - uniminuto.edu\\Capresoca\\{ano} SAT ENTRADA y SALIDA {Regimen}.TXT\"\n"
   ]
  },
  {
   "cell_type": "markdown",
   "id": "924c12e0",
   "metadata": {},
   "source": [
    "# 3. CARGUE DATAFRAME"
   ]
  },
  {
   "cell_type": "code",
   "execution_count": 43,
   "id": "19008c3b",
   "metadata": {},
   "outputs": [
    {
     "data": {
      "application/vnd.microsoft.datawrangler.viewer.v0+json": {
       "columns": [
        {
         "name": "index",
         "rawType": "int64",
         "type": "integer"
        },
        {
         "name": "COL1",
         "rawType": "object",
         "type": "string"
        },
        {
         "name": "COL2",
         "rawType": "object",
         "type": "string"
        },
        {
         "name": "COL3",
         "rawType": "object",
         "type": "string"
        },
        {
         "name": "COL4",
         "rawType": "object",
         "type": "string"
        },
        {
         "name": "COL5",
         "rawType": "object",
         "type": "string"
        },
        {
         "name": "COL6",
         "rawType": "object",
         "type": "unknown"
        },
        {
         "name": "COL7",
         "rawType": "object",
         "type": "unknown"
        },
        {
         "name": "COL8",
         "rawType": "object",
         "type": "unknown"
        },
        {
         "name": "COL9",
         "rawType": "object",
         "type": "string"
        },
        {
         "name": "COL10",
         "rawType": "object",
         "type": "string"
        },
        {
         "name": "COL11",
         "rawType": "object",
         "type": "string"
        },
        {
         "name": "COL12",
         "rawType": "object",
         "type": "string"
        },
        {
         "name": "COL13",
         "rawType": "object",
         "type": "string"
        },
        {
         "name": "COL14",
         "rawType": "object",
         "type": "unknown"
        },
        {
         "name": "COL15",
         "rawType": "object",
         "type": "string"
        },
        {
         "name": "COL16",
         "rawType": "object",
         "type": "string"
        },
        {
         "name": "COL17",
         "rawType": "object",
         "type": "unknown"
        },
        {
         "name": "COL18",
         "rawType": "object",
         "type": "string"
        },
        {
         "name": "COL19",
         "rawType": "object",
         "type": "unknown"
        },
        {
         "name": "COL20",
         "rawType": "object",
         "type": "string"
        },
        {
         "name": "COL21",
         "rawType": "object",
         "type": "string"
        },
        {
         "name": "COL22",
         "rawType": "object",
         "type": "string"
        },
        {
         "name": "COL23",
         "rawType": "object",
         "type": "string"
        },
        {
         "name": "COL24",
         "rawType": "object",
         "type": "string"
        },
        {
         "name": "COL25",
         "rawType": "object",
         "type": "string"
        },
        {
         "name": "COL26",
         "rawType": "object",
         "type": "string"
        },
        {
         "name": "COL27",
         "rawType": "object",
         "type": "string"
        },
        {
         "name": "COL28",
         "rawType": "object",
         "type": "unknown"
        },
        {
         "name": "COL29",
         "rawType": "object",
         "type": "string"
        },
        {
         "name": "COL30",
         "rawType": "object",
         "type": "string"
        },
        {
         "name": "COL31",
         "rawType": "object",
         "type": "string"
        },
        {
         "name": "COL32",
         "rawType": "object",
         "type": "string"
        },
        {
         "name": "COL33",
         "rawType": "object",
         "type": "string"
        },
        {
         "name": "COL34",
         "rawType": "object",
         "type": "string"
        },
        {
         "name": "COL35",
         "rawType": "object",
         "type": "unknown"
        },
        {
         "name": "COL36",
         "rawType": "object",
         "type": "string"
        },
        {
         "name": "COL37",
         "rawType": "object",
         "type": "string"
        },
        {
         "name": "COL38",
         "rawType": "object",
         "type": "string"
        },
        {
         "name": "COL39",
         "rawType": "object",
         "type": "string"
        },
        {
         "name": "COL40",
         "rawType": "object",
         "type": "string"
        },
        {
         "name": "COL41",
         "rawType": "object",
         "type": "string"
        },
        {
         "name": "COL42",
         "rawType": "object",
         "type": "string"
        },
        {
         "name": "COL43",
         "rawType": "object",
         "type": "string"
        },
        {
         "name": "COL44",
         "rawType": "object",
         "type": "unknown"
        },
        {
         "name": "COL45",
         "rawType": "object",
         "type": "unknown"
        },
        {
         "name": "COL46",
         "rawType": "object",
         "type": "string"
        },
        {
         "name": "COL47",
         "rawType": "object",
         "type": "string"
        },
        {
         "name": "COL48",
         "rawType": "object",
         "type": "unknown"
        },
        {
         "name": "COL49",
         "rawType": "object",
         "type": "unknown"
        },
        {
         "name": "COL50",
         "rawType": "object",
         "type": "unknown"
        },
        {
         "name": "COL51",
         "rawType": "object",
         "type": "unknown"
        },
        {
         "name": "COL52",
         "rawType": "object",
         "type": "unknown"
        },
        {
         "name": "COL53",
         "rawType": "object",
         "type": "unknown"
        },
        {
         "name": "COL54",
         "rawType": "object",
         "type": "unknown"
        },
        {
         "name": "COL55",
         "rawType": "object",
         "type": "unknown"
        },
        {
         "name": "COL56",
         "rawType": "object",
         "type": "unknown"
        },
        {
         "name": "COL57",
         "rawType": "object",
         "type": "unknown"
        },
        {
         "name": "COL58",
         "rawType": "object",
         "type": "unknown"
        },
        {
         "name": "COL59",
         "rawType": "object",
         "type": "unknown"
        },
        {
         "name": "COL60",
         "rawType": "object",
         "type": "unknown"
        },
        {
         "name": "COL61",
         "rawType": "object",
         "type": "unknown"
        },
        {
         "name": "COL62",
         "rawType": "object",
         "type": "unknown"
        },
        {
         "name": "COL63",
         "rawType": "object",
         "type": "unknown"
        },
        {
         "name": "COL64",
         "rawType": "object",
         "type": "string"
        },
        {
         "name": "COL65",
         "rawType": "object",
         "type": "unknown"
        },
        {
         "name": "COL66",
         "rawType": "object",
         "type": "unknown"
        },
        {
         "name": "COL67",
         "rawType": "object",
         "type": "string"
        },
        {
         "name": "COL68",
         "rawType": "object",
         "type": "string"
        },
        {
         "name": "COL69",
         "rawType": "object",
         "type": "string"
        },
        {
         "name": "COL70",
         "rawType": "object",
         "type": "string"
        },
        {
         "name": "COL71",
         "rawType": "object",
         "type": "string"
        },
        {
         "name": "COL72",
         "rawType": "object",
         "type": "string"
        },
        {
         "name": "COL73",
         "rawType": "object",
         "type": "string"
        },
        {
         "name": "COL74",
         "rawType": "object",
         "type": "unknown"
        },
        {
         "name": "COL75",
         "rawType": "object",
         "type": "unknown"
        },
        {
         "name": "COL76",
         "rawType": "object",
         "type": "unknown"
        },
        {
         "name": "COL77",
         "rawType": "object",
         "type": "string"
        },
        {
         "name": "COL78",
         "rawType": "object",
         "type": "string"
        },
        {
         "name": "COL79",
         "rawType": "object",
         "type": "string"
        },
        {
         "name": "COL80",
         "rawType": "object",
         "type": "string"
        },
        {
         "name": "COL81",
         "rawType": "object",
         "type": "string"
        },
        {
         "name": "COL82",
         "rawType": "object",
         "type": "string"
        },
        {
         "name": "COL83",
         "rawType": "object",
         "type": "unknown"
        },
        {
         "name": "COL84",
         "rawType": "object",
         "type": "unknown"
        },
        {
         "name": "COL85",
         "rawType": "object",
         "type": "unknown"
        },
        {
         "name": "COL86",
         "rawType": "object",
         "type": "unknown"
        }
       ],
       "ref": "882ce34a-1667-4b3a-a545-94079a48908a",
       "rows": [
        [
         "0",
         "01-01-2025",
         "2",
         "4",
         "069CC119278462931122024101800002",
         "2024-12-31T10:24:49",
         null,
         null,
         null,
         "CC",
         "1192784629",
         "BOCANEGRA",
         "PEDRAZA",
         "VICTOR",
         "DANIEL",
         "C",
         "EPSC25",
         "854300286301",
         "EPS037",
         null,
         "C",
         "CC",
         "1192784629",
         "CC",
         "1192784629",
         "BOCANEGRA",
         "PEDRAZA",
         "VICTOR",
         "DANIEL",
         "H",
         "2000-12-02",
         "85",
         "85430",
         "U",
         "victorbocanegra2000@gmail.com",
         null,
         "3115675280",
         "CALLE 14A # 11A -27",
         "85",
         "85430",
         "U",
         "NINGUNO",
         "NINGUNO",
         "06",
         null,
         null,
         "O",
         "+",
         null,
         null,
         null,
         null,
         null,
         null,
         null,
         null,
         null,
         null,
         null,
         null,
         null,
         null,
         null,
         null,
         "2024-12-31",
         null,
         null,
         "CC",
         "1192784629",
         "CC",
         "1192784629",
         "BOCANEGRA",
         "BOCANEGRA",
         "VICTOR",
         "DANIEL",
         null,
         null,
         "S",
         "S",
         "S",
         "S",
         "S",
         "N",
         null,
         null,
         null,
         null
        ],
        [
         "1",
         "01-01-2025",
         "3",
         "14",
         "069CC119278462931122024101800002",
         "2024-12-31T10:24:49",
         null,
         null,
         null,
         "CC",
         "1192784629",
         "BOCANEGRA",
         "PEDRAZA",
         "VICTOR",
         "DANIEL",
         "C",
         "EPSC25",
         "854300286301",
         "EPS037",
         "Tener más del tiempo mínimo de permanencia ",
         "C",
         "CC",
         "1192784629",
         "CC",
         "1192784629",
         "BOCANEGRA",
         "PEDRAZA",
         "VICTOR",
         "DANIEL",
         "H",
         "2000-12-02",
         "85",
         "85430",
         "U",
         "victorbocanegra2000@gmail.com",
         null,
         "3115675280",
         "CALLE 14A # 11A -27",
         "85",
         "85430",
         "U",
         "NINGUNO",
         "NINGUNO",
         "06",
         null,
         null,
         "O",
         "+",
         null,
         null,
         "D",
         "1",
         "NI",
         "891857861",
         "MUNICIPIO DE TRINIDAD",
         "2022-02-01",
         null,
         null,
         null,
         null,
         null,
         null,
         null,
         "4290",
         "2025-02-01",
         null,
         null,
         "CC",
         "1192784629",
         "CC",
         "1192784629",
         "BOCANEGRA",
         "BOCANEGRA",
         "VICTOR",
         "DANIEL",
         null,
         null,
         "S",
         "S",
         "S",
         "S",
         "S",
         "N",
         null,
         null,
         null,
         null
        ],
        [
         "2",
         "10-01-2025",
         "2",
         "4",
         "069CC111604148609012025132300002",
         "2025-01-09T13:37:12",
         null,
         null,
         null,
         "CC",
         "1116041486",
         "ANZUETA",
         "COBA",
         "HOLGER",
         "ALIRIO",
         "C",
         "EPSC25",
         "505680074918",
         "EPS037",
         null,
         "C",
         "CC",
         "1116041486",
         "CC",
         "1116041486",
         "ANZUETA",
         "COBA",
         "HOLGER",
         "ALIRIO",
         "H",
         "1991-12-09",
         "50",
         "50568",
         "R",
         "mayita0718dan+1116041486@gmail.com",
         null,
         "3234919261",
         "VEREDA QUASIPATI",
         "50",
         "50568",
         "R",
         "NINGUNO",
         "NINGUNO",
         "06",
         null,
         null,
         "O",
         "+",
         null,
         null,
         null,
         null,
         null,
         null,
         null,
         null,
         null,
         null,
         null,
         null,
         null,
         null,
         null,
         null,
         "2025-01-09",
         null,
         null,
         "CC",
         "1116041486",
         "CC",
         "1116041486",
         "ANZUETA",
         "ANZUETA",
         "HOLGER",
         "ALIRIO",
         null,
         null,
         "S",
         "S",
         "S",
         "S",
         "S",
         "N",
         null,
         null,
         null,
         null
        ],
        [
         "3",
         "10-01-2025",
         "3",
         "14",
         "069CC111655113809012025130200001",
         "2025-01-09T13:03:21",
         null,
         null,
         null,
         "CC",
         "1116551138",
         "RINCON",
         "VARGAS",
         "SEBASTIAN",
         null,
         "C",
         "EPSC25",
         null,
         "EPS005",
         "Tener más del tiempo mínimo de permanencia ",
         "C",
         "CC",
         "1116551138",
         "CC",
         "1116551138",
         "RINCON",
         "VARGAS",
         "SEBASTIAN",
         null,
         "H",
         "1995-09-08",
         "85",
         "85010",
         "U",
         "sebastian1@vuket.org",
         null,
         "3184932921",
         "KR 14 N 20 - 76",
         "85",
         "85010",
         "U",
         "NINGUNO",
         "NINGUNO",
         "06",
         null,
         null,
         "O",
         "+",
         null,
         null,
         "D",
         "1",
         "NI",
         "891856331",
         "CUERPO DE BOMBEROS VOLUNTARIOS DE AGUAZUL",
         "2022-10-01",
         null,
         null,
         null,
         null,
         null,
         null,
         null,
         "9999",
         "2025-02-01",
         null,
         null,
         "CC",
         "1116551138",
         "CC",
         "1116551138",
         "RINCON",
         "RINCON",
         "SEBASTIAN",
         null,
         null,
         null,
         "S",
         "S",
         "S",
         "S",
         "S",
         "N",
         null,
         null,
         null,
         null
        ],
        [
         "4",
         "10-01-2025",
         "4",
         "14",
         "069CC3364704509012025130200003",
         "2025-01-09T13:18:41",
         null,
         null,
         null,
         "CC",
         "33647045",
         "CARDENAS",
         "CHAPARRO",
         "YEIMY",
         "JOHANA",
         "C",
         "EPSC25",
         null,
         "EPS005",
         "Tener más del tiempo mínimo de permanencia ",
         "C",
         "CC",
         "33647045",
         "CC",
         "33647045",
         "CARDENAS",
         "CHAPARRO",
         "YEIMY",
         "JOHANA",
         "M",
         "1985-08-24",
         "85",
         "85010",
         "U",
         "cardenasyeimy4@gmail.com",
         "3214193010",
         "3214193010",
         "Calle 16 N 24-73",
         "85",
         "85010",
         "U",
         "NINGUNO",
         "NINGUNO",
         "06",
         null,
         null,
         "O",
         "+",
         null,
         null,
         "I",
         "3",
         "CC",
         "33647045",
         "INDEPENDIENTE",
         "2020-04-01",
         null,
         null,
         null,
         null,
         null,
         null,
         null,
         "9999",
         "2025-02-01",
         null,
         null,
         "CC",
         "33647045",
         "CC",
         "33647045",
         "CARDENAS",
         "CARDENAS",
         "YEIMY",
         "JOHANA",
         null,
         null,
         "S",
         "S",
         "S",
         "S",
         "S",
         "N",
         null,
         null,
         null,
         null
        ]
       ],
       "shape": {
        "columns": 86,
        "rows": 5
       }
      },
      "text/html": [
       "<div>\n",
       "<style scoped>\n",
       "    .dataframe tbody tr th:only-of-type {\n",
       "        vertical-align: middle;\n",
       "    }\n",
       "\n",
       "    .dataframe tbody tr th {\n",
       "        vertical-align: top;\n",
       "    }\n",
       "\n",
       "    .dataframe thead th {\n",
       "        text-align: right;\n",
       "    }\n",
       "</style>\n",
       "<table border=\"1\" class=\"dataframe\">\n",
       "  <thead>\n",
       "    <tr style=\"text-align: right;\">\n",
       "      <th></th>\n",
       "      <th>COL1</th>\n",
       "      <th>COL2</th>\n",
       "      <th>COL3</th>\n",
       "      <th>COL4</th>\n",
       "      <th>COL5</th>\n",
       "      <th>COL6</th>\n",
       "      <th>COL7</th>\n",
       "      <th>COL8</th>\n",
       "      <th>COL9</th>\n",
       "      <th>COL10</th>\n",
       "      <th>...</th>\n",
       "      <th>COL77</th>\n",
       "      <th>COL78</th>\n",
       "      <th>COL79</th>\n",
       "      <th>COL80</th>\n",
       "      <th>COL81</th>\n",
       "      <th>COL82</th>\n",
       "      <th>COL83</th>\n",
       "      <th>COL84</th>\n",
       "      <th>COL85</th>\n",
       "      <th>COL86</th>\n",
       "    </tr>\n",
       "  </thead>\n",
       "  <tbody>\n",
       "    <tr>\n",
       "      <th>0</th>\n",
       "      <td>01-01-2025</td>\n",
       "      <td>2</td>\n",
       "      <td>4</td>\n",
       "      <td>069CC119278462931122024101800002</td>\n",
       "      <td>2024-12-31T10:24:49</td>\n",
       "      <td>NaN</td>\n",
       "      <td>NaN</td>\n",
       "      <td>NaN</td>\n",
       "      <td>CC</td>\n",
       "      <td>1192784629</td>\n",
       "      <td>...</td>\n",
       "      <td>S</td>\n",
       "      <td>S</td>\n",
       "      <td>S</td>\n",
       "      <td>S</td>\n",
       "      <td>S</td>\n",
       "      <td>N</td>\n",
       "      <td>NaN</td>\n",
       "      <td>NaN</td>\n",
       "      <td>NaN</td>\n",
       "      <td>NaN</td>\n",
       "    </tr>\n",
       "    <tr>\n",
       "      <th>1</th>\n",
       "      <td>01-01-2025</td>\n",
       "      <td>3</td>\n",
       "      <td>14</td>\n",
       "      <td>069CC119278462931122024101800002</td>\n",
       "      <td>2024-12-31T10:24:49</td>\n",
       "      <td>NaN</td>\n",
       "      <td>NaN</td>\n",
       "      <td>NaN</td>\n",
       "      <td>CC</td>\n",
       "      <td>1192784629</td>\n",
       "      <td>...</td>\n",
       "      <td>S</td>\n",
       "      <td>S</td>\n",
       "      <td>S</td>\n",
       "      <td>S</td>\n",
       "      <td>S</td>\n",
       "      <td>N</td>\n",
       "      <td>NaN</td>\n",
       "      <td>NaN</td>\n",
       "      <td>NaN</td>\n",
       "      <td>NaN</td>\n",
       "    </tr>\n",
       "    <tr>\n",
       "      <th>2</th>\n",
       "      <td>10-01-2025</td>\n",
       "      <td>2</td>\n",
       "      <td>4</td>\n",
       "      <td>069CC111604148609012025132300002</td>\n",
       "      <td>2025-01-09T13:37:12</td>\n",
       "      <td>NaN</td>\n",
       "      <td>NaN</td>\n",
       "      <td>NaN</td>\n",
       "      <td>CC</td>\n",
       "      <td>1116041486</td>\n",
       "      <td>...</td>\n",
       "      <td>S</td>\n",
       "      <td>S</td>\n",
       "      <td>S</td>\n",
       "      <td>S</td>\n",
       "      <td>S</td>\n",
       "      <td>N</td>\n",
       "      <td>NaN</td>\n",
       "      <td>NaN</td>\n",
       "      <td>NaN</td>\n",
       "      <td>NaN</td>\n",
       "    </tr>\n",
       "    <tr>\n",
       "      <th>3</th>\n",
       "      <td>10-01-2025</td>\n",
       "      <td>3</td>\n",
       "      <td>14</td>\n",
       "      <td>069CC111655113809012025130200001</td>\n",
       "      <td>2025-01-09T13:03:21</td>\n",
       "      <td>NaN</td>\n",
       "      <td>NaN</td>\n",
       "      <td>NaN</td>\n",
       "      <td>CC</td>\n",
       "      <td>1116551138</td>\n",
       "      <td>...</td>\n",
       "      <td>S</td>\n",
       "      <td>S</td>\n",
       "      <td>S</td>\n",
       "      <td>S</td>\n",
       "      <td>S</td>\n",
       "      <td>N</td>\n",
       "      <td>NaN</td>\n",
       "      <td>NaN</td>\n",
       "      <td>NaN</td>\n",
       "      <td>NaN</td>\n",
       "    </tr>\n",
       "    <tr>\n",
       "      <th>4</th>\n",
       "      <td>10-01-2025</td>\n",
       "      <td>4</td>\n",
       "      <td>14</td>\n",
       "      <td>069CC3364704509012025130200003</td>\n",
       "      <td>2025-01-09T13:18:41</td>\n",
       "      <td>NaN</td>\n",
       "      <td>NaN</td>\n",
       "      <td>NaN</td>\n",
       "      <td>CC</td>\n",
       "      <td>33647045</td>\n",
       "      <td>...</td>\n",
       "      <td>S</td>\n",
       "      <td>S</td>\n",
       "      <td>S</td>\n",
       "      <td>S</td>\n",
       "      <td>S</td>\n",
       "      <td>N</td>\n",
       "      <td>NaN</td>\n",
       "      <td>NaN</td>\n",
       "      <td>NaN</td>\n",
       "      <td>NaN</td>\n",
       "    </tr>\n",
       "  </tbody>\n",
       "</table>\n",
       "<p>5 rows × 86 columns</p>\n",
       "</div>"
      ],
      "text/plain": [
       "         COL1 COL2 COL3                              COL4  \\\n",
       "0  01-01-2025    2    4  069CC119278462931122024101800002   \n",
       "1  01-01-2025    3   14  069CC119278462931122024101800002   \n",
       "2  10-01-2025    2    4  069CC111604148609012025132300002   \n",
       "3  10-01-2025    3   14  069CC111655113809012025130200001   \n",
       "4  10-01-2025    4   14    069CC3364704509012025130200003   \n",
       "\n",
       "                  COL5 COL6 COL7 COL8 COL9       COL10  ... COL77 COL78 COL79  \\\n",
       "0  2024-12-31T10:24:49  NaN  NaN  NaN   CC  1192784629  ...     S     S     S   \n",
       "1  2024-12-31T10:24:49  NaN  NaN  NaN   CC  1192784629  ...     S     S     S   \n",
       "2  2025-01-09T13:37:12  NaN  NaN  NaN   CC  1116041486  ...     S     S     S   \n",
       "3  2025-01-09T13:03:21  NaN  NaN  NaN   CC  1116551138  ...     S     S     S   \n",
       "4  2025-01-09T13:18:41  NaN  NaN  NaN   CC    33647045  ...     S     S     S   \n",
       "\n",
       "  COL80 COL81 COL82 COL83 COL84 COL85 COL86  \n",
       "0     S     S     N   NaN   NaN   NaN   NaN  \n",
       "1     S     S     N   NaN   NaN   NaN   NaN  \n",
       "2     S     S     N   NaN   NaN   NaN   NaN  \n",
       "3     S     S     N   NaN   NaN   NaN   NaN  \n",
       "4     S     S     N   NaN   NaN   NaN   NaN  \n",
       "\n",
       "[5 rows x 86 columns]"
      ]
     },
     "execution_count": 43,
     "metadata": {},
     "output_type": "execute_result"
    }
   ],
   "source": [
    "df_sat = pd.read_csv(R_Consoliado_Sat, sep='|', encoding='ansi', dtype=str)\n",
    "df_sat.head()"
   ]
  },
  {
   "cell_type": "code",
   "execution_count": 44,
   "id": "cd10ff82",
   "metadata": {},
   "outputs": [
    {
     "name": "stdout",
     "output_type": "stream",
     "text": [
      "Empty DataFrame\n",
      "Columns: [COL1, COL2, COL3, COL4, COL5, COL6, COL7, COL8, COL9, COL10, COL11, COL12, COL13, COL14, COL15, COL16, COL17, COL18, COL19, COL20, COL21, COL22, COL23, COL24, COL25, COL26, COL27, COL28, COL29, COL30, COL31, COL32, COL33, COL34, COL35, COL36, COL37, COL38, COL39, COL40, COL41, COL42, COL43, COL44, COL45, COL46, COL47, COL48, COL49, COL50, COL51, COL52, COL53, COL54, COL55, COL56, COL57, COL58, COL59, COL60, COL61, COL62, COL63, COL64, COL65, COL66, COL67, COL68, COL69, COL70, COL71, COL72, COL73, COL74, COL75, COL76, COL77, COL78, COL79, COL80, COL81, COL82, COL83, COL84, COL85, COL86]\n",
      "Index: []\n",
      "\n",
      "[0 rows x 86 columns]\n"
     ]
    }
   ],
   "source": [
    "# Imprimir los registros donde la columna COL24 sea igual a \"42490216\"\n",
    "registros_filtrados = df_sat[df_sat[\"COL24\"] == \"42490216\"]\n",
    "print(registros_filtrados)"
   ]
  },
  {
   "cell_type": "code",
   "execution_count": 45,
   "id": "d4b69607",
   "metadata": {},
   "outputs": [
    {
     "name": "stdout",
     "output_type": "stream",
     "text": [
      "Archivo leído con éxito usando 'latin1'.\n"
     ]
    },
    {
     "data": {
      "application/vnd.microsoft.datawrangler.viewer.v0+json": {
       "columns": [
        {
         "name": "index",
         "rawType": "int64",
         "type": "integer"
        },
        {
         "name": "0",
         "rawType": "object",
         "type": "string"
        },
        {
         "name": "1",
         "rawType": "object",
         "type": "string"
        },
        {
         "name": "2",
         "rawType": "object",
         "type": "string"
        },
        {
         "name": "3",
         "rawType": "object",
         "type": "string"
        },
        {
         "name": "4",
         "rawType": "object",
         "type": "string"
        },
        {
         "name": "5",
         "rawType": "object",
         "type": "string"
        }
       ],
       "ref": "ae3bd50c-513b-4039-92f6-abca76f6be01",
       "rows": [
        [
         "0",
         "114189514",
         "TI",
         "1118575186",
         "31/12/2024",
         "31/12/2999",
         "EPSC25"
        ],
        [
         "1",
         "98302734",
         "CC",
         "1115854149",
         "24/11/2008",
         "31/12/2999",
         "EPSC25"
        ],
        [
         "2",
         "72242905",
         "CC",
         "47439480",
         "04/01/2001",
         "31/12/2999",
         "EPSC25"
        ],
        [
         "3",
         "71669292",
         "CC",
         "47438450",
         "29/06/2006",
         "31/12/2999",
         "EPSC25"
        ],
        [
         "4",
         "41982118",
         "CC",
         "39950202",
         "16/12/2001",
         "31/12/2999",
         "EPSC25"
        ]
       ],
       "shape": {
        "columns": 6,
        "rows": 5
       }
      },
      "text/html": [
       "<div>\n",
       "<style scoped>\n",
       "    .dataframe tbody tr th:only-of-type {\n",
       "        vertical-align: middle;\n",
       "    }\n",
       "\n",
       "    .dataframe tbody tr th {\n",
       "        vertical-align: top;\n",
       "    }\n",
       "\n",
       "    .dataframe thead th {\n",
       "        text-align: right;\n",
       "    }\n",
       "</style>\n",
       "<table border=\"1\" class=\"dataframe\">\n",
       "  <thead>\n",
       "    <tr style=\"text-align: right;\">\n",
       "      <th></th>\n",
       "      <th>0</th>\n",
       "      <th>1</th>\n",
       "      <th>2</th>\n",
       "      <th>3</th>\n",
       "      <th>4</th>\n",
       "      <th>5</th>\n",
       "    </tr>\n",
       "  </thead>\n",
       "  <tbody>\n",
       "    <tr>\n",
       "      <th>0</th>\n",
       "      <td>114189514</td>\n",
       "      <td>TI</td>\n",
       "      <td>1118575186</td>\n",
       "      <td>31/12/2024</td>\n",
       "      <td>31/12/2999</td>\n",
       "      <td>EPSC25</td>\n",
       "    </tr>\n",
       "    <tr>\n",
       "      <th>1</th>\n",
       "      <td>98302734</td>\n",
       "      <td>CC</td>\n",
       "      <td>1115854149</td>\n",
       "      <td>24/11/2008</td>\n",
       "      <td>31/12/2999</td>\n",
       "      <td>EPSC25</td>\n",
       "    </tr>\n",
       "    <tr>\n",
       "      <th>2</th>\n",
       "      <td>72242905</td>\n",
       "      <td>CC</td>\n",
       "      <td>47439480</td>\n",
       "      <td>04/01/2001</td>\n",
       "      <td>31/12/2999</td>\n",
       "      <td>EPSC25</td>\n",
       "    </tr>\n",
       "    <tr>\n",
       "      <th>3</th>\n",
       "      <td>71669292</td>\n",
       "      <td>CC</td>\n",
       "      <td>47438450</td>\n",
       "      <td>29/06/2006</td>\n",
       "      <td>31/12/2999</td>\n",
       "      <td>EPSC25</td>\n",
       "    </tr>\n",
       "    <tr>\n",
       "      <th>4</th>\n",
       "      <td>41982118</td>\n",
       "      <td>CC</td>\n",
       "      <td>39950202</td>\n",
       "      <td>16/12/2001</td>\n",
       "      <td>31/12/2999</td>\n",
       "      <td>EPSC25</td>\n",
       "    </tr>\n",
       "  </tbody>\n",
       "</table>\n",
       "</div>"
      ],
      "text/plain": [
       "           0   1           2           3           4       5\n",
       "0  114189514  TI  1118575186  31/12/2024  31/12/2999  EPSC25\n",
       "1   98302734  CC  1115854149  24/11/2008  31/12/2999  EPSC25\n",
       "2   72242905  CC    47439480  04/01/2001  31/12/2999  EPSC25\n",
       "3   71669292  CC    47438450  29/06/2006  31/12/2999  EPSC25\n",
       "4   41982118  CC    39950202  16/12/2001  31/12/2999  EPSC25"
      ]
     },
     "execution_count": 45,
     "metadata": {},
     "output_type": "execute_result"
    }
   ],
   "source": [
    "# Intenta con latin1\n",
    "try:\n",
    "    df_HI = pd.read_csv(R_Historico, sep=',', encoding='latin1', dtype=str, header=None)\n",
    "    print(\"Archivo leído con éxito usando 'latin1'.\")\n",
    "except UnicodeDecodeError:\n",
    "    print(\"Error con 'latin1'. Intentando con 'cp1252'.\")\n",
    "    # Si falla, intenta con cp1252\n",
    "    df_HI = pd.read_csv(R_Historico, sep=',', encoding='cp1252', dtype=str, header=None)\n",
    "    print(\"Archivo leído con éxito usando 'cp1252'.\")\n",
    "\n",
    "df_HI.head()"
   ]
  },
  {
   "cell_type": "code",
   "execution_count": 46,
   "id": "281754dd",
   "metadata": {},
   "outputs": [
    {
     "data": {
      "application/vnd.microsoft.datawrangler.viewer.v0+json": {
       "columns": [
        {
         "name": "index",
         "rawType": "int64",
         "type": "integer"
        },
        {
         "name": "AFL_ID",
         "rawType": "object",
         "type": "string"
        },
        {
         "name": "ENT_ID",
         "rawType": "object",
         "type": "string"
        },
        {
         "name": "TPS_IDN_ID_CF",
         "rawType": "object",
         "type": "unknown"
        },
        {
         "name": "HST_IDN_NUMERO_IDENTIFICACION_CF",
         "rawType": "object",
         "type": "unknown"
        },
        {
         "name": "TPS_IDN_ID",
         "rawType": "object",
         "type": "string"
        },
        {
         "name": "HST_IDN_NUMERO_IDENTIFICACION",
         "rawType": "object",
         "type": "string"
        },
        {
         "name": "AFL_PRIMER_APELLIDO",
         "rawType": "object",
         "type": "string"
        },
        {
         "name": "AFL_SEGUNDO_APELLIDO",
         "rawType": "object",
         "type": "unknown"
        },
        {
         "name": "AFL_PRIMER_NOMBRE",
         "rawType": "object",
         "type": "string"
        },
        {
         "name": "AFL_SEGUNDO_NOMBRE",
         "rawType": "object",
         "type": "string"
        },
        {
         "name": "AFL_FECHA_NACIMIENTO",
         "rawType": "object",
         "type": "string"
        },
        {
         "name": "TPS_GNR_ID",
         "rawType": "object",
         "type": "string"
        },
        {
         "name": "AFL_PAIS_NACIMIENTO",
         "rawType": "object",
         "type": "unknown"
        },
        {
         "name": "AFL_MUNICIPIO_NACIMIENTO",
         "rawType": "object",
         "type": "unknown"
        },
        {
         "name": "AFL_NACIONALIDAD",
         "rawType": "object",
         "type": "unknown"
        },
        {
         "name": "AFL_SEXO_IDENTIFICACION",
         "rawType": "object",
         "type": "unknown"
        },
        {
         "name": "AFL_DISCAPACIDAD",
         "rawType": "object",
         "type": "unknown"
        },
        {
         "name": "TPS_AFL_ID",
         "rawType": "object",
         "type": "string"
        },
        {
         "name": "TPS_PRN_ID",
         "rawType": "object",
         "type": "unknown"
        },
        {
         "name": "TPS_GRP_PBL_ID",
         "rawType": "object",
         "type": "unknown"
        },
        {
         "name": "TPS_NVL_SSB_ID",
         "rawType": "object",
         "type": "unknown"
        },
        {
         "name": "NUMEROFICHASISBEN",
         "rawType": "object",
         "type": "unknown"
        },
        {
         "name": "TPS_CND_BNF_ID",
         "rawType": "object",
         "type": "unknown"
        },
        {
         "name": "DPR_ID",
         "rawType": "object",
         "type": "string"
        },
        {
         "name": "MNC_ID",
         "rawType": "object",
         "type": "string"
        },
        {
         "name": "ZNS_ID",
         "rawType": "object",
         "type": "string"
        },
        {
         "name": "AFL_FECHA_AFILIACION_SGSSS",
         "rawType": "object",
         "type": "string"
        },
        {
         "name": "AFC_FECHA_INICIO",
         "rawType": "object",
         "type": "string"
        },
        {
         "name": "NUMERO CONTRATO",
         "rawType": "object",
         "type": "unknown"
        },
        {
         "name": "FECHADE INICIO DEL CONTRATO",
         "rawType": "object",
         "type": "unknown"
        },
        {
         "name": "CNT_AFL_TPS_GRP_PBL_ID",
         "rawType": "object",
         "type": "unknown"
        },
        {
         "name": "CNT_AFL_TPS_PRT_ETN_ID",
         "rawType": "object",
         "type": "unknown"
        },
        {
         "name": "TPS_MDL_SBS_ID",
         "rawType": "object",
         "type": "unknown"
        },
        {
         "name": "TPS_EST_AFL_ID",
         "rawType": "object",
         "type": "string"
        },
        {
         "name": "CND_AFL_FECHA_INICIO",
         "rawType": "object",
         "type": "string"
        },
        {
         "name": "CND_AFL_FECHA_INICIO_2",
         "rawType": "object",
         "type": "unknown"
        },
        {
         "name": "GRP_FML_COTIZANTE_ID",
         "rawType": "object",
         "type": "string"
        },
        {
         "name": "PORTABILIDAD",
         "rawType": "object",
         "type": "string"
        },
        {
         "name": "COD_IPS_P",
         "rawType": "object",
         "type": "unknown"
        },
        {
         "name": "MTDLG_G_P",
         "rawType": "object",
         "type": "unknown"
        },
        {
         "name": "SUB_SISBEN_IV",
         "rawType": "object",
         "type": "unknown"
        },
        {
         "name": "MARCASISBENIV+MARCASISBENIII",
         "rawType": "object",
         "type": "unknown"
        },
        {
         "name": "CRUCE_BDEX_RNEC",
         "rawType": "object",
         "type": "string"
        },
        {
         "name": "nombre_archivo",
         "rawType": "object",
         "type": "string"
        },
        {
         "name": "fecha_maestro",
         "rawType": "object",
         "type": "string"
        }
       ],
       "ref": "12474514-a188-4a8b-aab8-ff173d71322b",
       "rows": [
        [
         "0",
         "71749224",
         "EPSC25",
         null,
         null,
         "CC",
         "23739682",
         "CORONADO",
         null,
         "AURA",
         "MARIA",
         "20/10/1948",
         "F",
         null,
         null,
         null,
         null,
         null,
         "C",
         null,
         null,
         null,
         null,
         null,
         "15",
         "001",
         "U",
         "01/06/2002",
         "29/08/2024",
         null,
         null,
         null,
         null,
         null,
         "AF",
         "05/09/2024",
         null,
         "-1",
         "0",
         null,
         null,
         null,
         "SIV(B05)",
         "0",
         "EPSC25MC0003012025.TXT",
         "03/01/2025"
        ],
        [
         "1",
         "71647382",
         "EPSC25",
         null,
         null,
         "CC",
         "1118529559",
         "GUACHE",
         "TUMAY",
         "JAINER",
         "STIVEN",
         "03/09/2003",
         "M",
         null,
         null,
         null,
         null,
         null,
         "C",
         null,
         null,
         null,
         null,
         null,
         "15",
         "104",
         "U",
         "01/06/2004",
         "15/11/2024",
         null,
         null,
         null,
         null,
         null,
         "AC",
         "15/11/2024",
         null,
         "-1",
         "0",
         "850010014401",
         null,
         null,
         "LC(9)-SIV(A05)",
         "0",
         "EPSC25MC0003012025.TXT",
         "03/01/2025"
        ],
        [
         "2",
         "90915484",
         "EPSC25",
         null,
         null,
         "CC",
         "84095495",
         "FERNANDEZ",
         "BUENO",
         "DARIEN",
         "DE JESUS",
         "13/01/1985",
         "M",
         null,
         null,
         null,
         null,
         null,
         "C",
         null,
         null,
         null,
         null,
         null,
         "20",
         "001",
         "U",
         "01/07/2007",
         "20/11/2024",
         null,
         null,
         null,
         null,
         null,
         "AC",
         "20/11/2024",
         null,
         "-1",
         "0",
         "850010014401",
         null,
         null,
         null,
         "0",
         "EPSC25MC0003012025.TXT",
         "03/01/2025"
        ],
        [
         "3",
         "101088427",
         "EPSC25",
         null,
         null,
         "CC",
         "1006555690",
         "VARGAS",
         "RINCON",
         "SANDY",
         "LIZETH",
         "16/02/2003",
         "F",
         null,
         null,
         null,
         null,
         null,
         "C",
         null,
         null,
         null,
         null,
         null,
         "20",
         "011",
         "U",
         "01/07/2006",
         "16/12/2024",
         null,
         null,
         null,
         null,
         null,
         "AC",
         "16/12/2024",
         null,
         "-1",
         "0",
         "850010014401",
         null,
         null,
         "LC(9)-SIV(B07)",
         "0",
         "EPSC25MC0003012025.TXT",
         "03/01/2025"
        ],
        [
         "4",
         "98300499",
         "EPSC25",
         null,
         null,
         "CC",
         "1118565466",
         "CUBIDES",
         "MARTINEZ",
         "JESSIKA",
         "FERNANDA",
         "24/07/1996",
         "F",
         null,
         null,
         null,
         null,
         null,
         "C",
         null,
         null,
         null,
         null,
         null,
         "68",
         "001",
         "U",
         "02/01/2009",
         "28/09/2024",
         null,
         null,
         null,
         null,
         null,
         "AC",
         "28/09/2024",
         null,
         "-1",
         "0",
         "850010014401",
         null,
         null,
         "SIV(B07)",
         "0",
         "EPSC25MC0003012025.TXT",
         "03/01/2025"
        ]
       ],
       "shape": {
        "columns": 45,
        "rows": 5
       }
      },
      "text/html": [
       "<div>\n",
       "<style scoped>\n",
       "    .dataframe tbody tr th:only-of-type {\n",
       "        vertical-align: middle;\n",
       "    }\n",
       "\n",
       "    .dataframe tbody tr th {\n",
       "        vertical-align: top;\n",
       "    }\n",
       "\n",
       "    .dataframe thead th {\n",
       "        text-align: right;\n",
       "    }\n",
       "</style>\n",
       "<table border=\"1\" class=\"dataframe\">\n",
       "  <thead>\n",
       "    <tr style=\"text-align: right;\">\n",
       "      <th></th>\n",
       "      <th>AFL_ID</th>\n",
       "      <th>ENT_ID</th>\n",
       "      <th>TPS_IDN_ID_CF</th>\n",
       "      <th>HST_IDN_NUMERO_IDENTIFICACION_CF</th>\n",
       "      <th>TPS_IDN_ID</th>\n",
       "      <th>HST_IDN_NUMERO_IDENTIFICACION</th>\n",
       "      <th>AFL_PRIMER_APELLIDO</th>\n",
       "      <th>AFL_SEGUNDO_APELLIDO</th>\n",
       "      <th>AFL_PRIMER_NOMBRE</th>\n",
       "      <th>AFL_SEGUNDO_NOMBRE</th>\n",
       "      <th>...</th>\n",
       "      <th>CND_AFL_FECHA_INICIO_2</th>\n",
       "      <th>GRP_FML_COTIZANTE_ID</th>\n",
       "      <th>PORTABILIDAD</th>\n",
       "      <th>COD_IPS_P</th>\n",
       "      <th>MTDLG_G_P</th>\n",
       "      <th>SUB_SISBEN_IV</th>\n",
       "      <th>MARCASISBENIV+MARCASISBENIII</th>\n",
       "      <th>CRUCE_BDEX_RNEC</th>\n",
       "      <th>nombre_archivo</th>\n",
       "      <th>fecha_maestro</th>\n",
       "    </tr>\n",
       "  </thead>\n",
       "  <tbody>\n",
       "    <tr>\n",
       "      <th>0</th>\n",
       "      <td>71749224</td>\n",
       "      <td>EPSC25</td>\n",
       "      <td>NaN</td>\n",
       "      <td>NaN</td>\n",
       "      <td>CC</td>\n",
       "      <td>23739682</td>\n",
       "      <td>CORONADO</td>\n",
       "      <td>NaN</td>\n",
       "      <td>AURA</td>\n",
       "      <td>MARIA</td>\n",
       "      <td>...</td>\n",
       "      <td>NaN</td>\n",
       "      <td>-1</td>\n",
       "      <td>0</td>\n",
       "      <td>NaN</td>\n",
       "      <td>NaN</td>\n",
       "      <td>NaN</td>\n",
       "      <td>SIV(B05)</td>\n",
       "      <td>0</td>\n",
       "      <td>EPSC25MC0003012025.TXT</td>\n",
       "      <td>03/01/2025</td>\n",
       "    </tr>\n",
       "    <tr>\n",
       "      <th>1</th>\n",
       "      <td>71647382</td>\n",
       "      <td>EPSC25</td>\n",
       "      <td>NaN</td>\n",
       "      <td>NaN</td>\n",
       "      <td>CC</td>\n",
       "      <td>1118529559</td>\n",
       "      <td>GUACHE</td>\n",
       "      <td>TUMAY</td>\n",
       "      <td>JAINER</td>\n",
       "      <td>STIVEN</td>\n",
       "      <td>...</td>\n",
       "      <td>NaN</td>\n",
       "      <td>-1</td>\n",
       "      <td>0</td>\n",
       "      <td>850010014401</td>\n",
       "      <td>NaN</td>\n",
       "      <td>NaN</td>\n",
       "      <td>LC(9)-SIV(A05)</td>\n",
       "      <td>0</td>\n",
       "      <td>EPSC25MC0003012025.TXT</td>\n",
       "      <td>03/01/2025</td>\n",
       "    </tr>\n",
       "    <tr>\n",
       "      <th>2</th>\n",
       "      <td>90915484</td>\n",
       "      <td>EPSC25</td>\n",
       "      <td>NaN</td>\n",
       "      <td>NaN</td>\n",
       "      <td>CC</td>\n",
       "      <td>84095495</td>\n",
       "      <td>FERNANDEZ</td>\n",
       "      <td>BUENO</td>\n",
       "      <td>DARIEN</td>\n",
       "      <td>DE JESUS</td>\n",
       "      <td>...</td>\n",
       "      <td>NaN</td>\n",
       "      <td>-1</td>\n",
       "      <td>0</td>\n",
       "      <td>850010014401</td>\n",
       "      <td>NaN</td>\n",
       "      <td>NaN</td>\n",
       "      <td>NaN</td>\n",
       "      <td>0</td>\n",
       "      <td>EPSC25MC0003012025.TXT</td>\n",
       "      <td>03/01/2025</td>\n",
       "    </tr>\n",
       "    <tr>\n",
       "      <th>3</th>\n",
       "      <td>101088427</td>\n",
       "      <td>EPSC25</td>\n",
       "      <td>NaN</td>\n",
       "      <td>NaN</td>\n",
       "      <td>CC</td>\n",
       "      <td>1006555690</td>\n",
       "      <td>VARGAS</td>\n",
       "      <td>RINCON</td>\n",
       "      <td>SANDY</td>\n",
       "      <td>LIZETH</td>\n",
       "      <td>...</td>\n",
       "      <td>NaN</td>\n",
       "      <td>-1</td>\n",
       "      <td>0</td>\n",
       "      <td>850010014401</td>\n",
       "      <td>NaN</td>\n",
       "      <td>NaN</td>\n",
       "      <td>LC(9)-SIV(B07)</td>\n",
       "      <td>0</td>\n",
       "      <td>EPSC25MC0003012025.TXT</td>\n",
       "      <td>03/01/2025</td>\n",
       "    </tr>\n",
       "    <tr>\n",
       "      <th>4</th>\n",
       "      <td>98300499</td>\n",
       "      <td>EPSC25</td>\n",
       "      <td>NaN</td>\n",
       "      <td>NaN</td>\n",
       "      <td>CC</td>\n",
       "      <td>1118565466</td>\n",
       "      <td>CUBIDES</td>\n",
       "      <td>MARTINEZ</td>\n",
       "      <td>JESSIKA</td>\n",
       "      <td>FERNANDA</td>\n",
       "      <td>...</td>\n",
       "      <td>NaN</td>\n",
       "      <td>-1</td>\n",
       "      <td>0</td>\n",
       "      <td>850010014401</td>\n",
       "      <td>NaN</td>\n",
       "      <td>NaN</td>\n",
       "      <td>SIV(B07)</td>\n",
       "      <td>0</td>\n",
       "      <td>EPSC25MC0003012025.TXT</td>\n",
       "      <td>03/01/2025</td>\n",
       "    </tr>\n",
       "  </tbody>\n",
       "</table>\n",
       "<p>5 rows × 45 columns</p>\n",
       "</div>"
      ],
      "text/plain": [
       "      AFL_ID  ENT_ID TPS_IDN_ID_CF HST_IDN_NUMERO_IDENTIFICACION_CF  \\\n",
       "0   71749224  EPSC25           NaN                              NaN   \n",
       "1   71647382  EPSC25           NaN                              NaN   \n",
       "2   90915484  EPSC25           NaN                              NaN   \n",
       "3  101088427  EPSC25           NaN                              NaN   \n",
       "4   98300499  EPSC25           NaN                              NaN   \n",
       "\n",
       "  TPS_IDN_ID HST_IDN_NUMERO_IDENTIFICACION AFL_PRIMER_APELLIDO  \\\n",
       "0         CC                      23739682            CORONADO   \n",
       "1         CC                    1118529559              GUACHE   \n",
       "2         CC                      84095495           FERNANDEZ   \n",
       "3         CC                    1006555690              VARGAS   \n",
       "4         CC                    1118565466             CUBIDES   \n",
       "\n",
       "  AFL_SEGUNDO_APELLIDO AFL_PRIMER_NOMBRE AFL_SEGUNDO_NOMBRE  ...  \\\n",
       "0                  NaN              AURA              MARIA  ...   \n",
       "1                TUMAY            JAINER             STIVEN  ...   \n",
       "2                BUENO            DARIEN           DE JESUS  ...   \n",
       "3               RINCON             SANDY             LIZETH  ...   \n",
       "4             MARTINEZ           JESSIKA           FERNANDA  ...   \n",
       "\n",
       "  CND_AFL_FECHA_INICIO_2 GRP_FML_COTIZANTE_ID PORTABILIDAD     COD_IPS_P  \\\n",
       "0                    NaN                   -1            0           NaN   \n",
       "1                    NaN                   -1            0  850010014401   \n",
       "2                    NaN                   -1            0  850010014401   \n",
       "3                    NaN                   -1            0  850010014401   \n",
       "4                    NaN                   -1            0  850010014401   \n",
       "\n",
       "  MTDLG_G_P SUB_SISBEN_IV MARCASISBENIV+MARCASISBENIII CRUCE_BDEX_RNEC  \\\n",
       "0       NaN           NaN                     SIV(B05)               0   \n",
       "1       NaN           NaN               LC(9)-SIV(A05)               0   \n",
       "2       NaN           NaN                          NaN               0   \n",
       "3       NaN           NaN               LC(9)-SIV(B07)               0   \n",
       "4       NaN           NaN                     SIV(B07)               0   \n",
       "\n",
       "           nombre_archivo fecha_maestro  \n",
       "0  EPSC25MC0003012025.TXT    03/01/2025  \n",
       "1  EPSC25MC0003012025.TXT    03/01/2025  \n",
       "2  EPSC25MC0003012025.TXT    03/01/2025  \n",
       "3  EPSC25MC0003012025.TXT    03/01/2025  \n",
       "4  EPSC25MC0003012025.TXT    03/01/2025  \n",
       "\n",
       "[5 rows x 45 columns]"
      ]
     },
     "execution_count": 46,
     "metadata": {},
     "output_type": "execute_result"
    }
   ],
   "source": [
    "df_Maestro = pd.read_csv(R_Maestro, sep=',', encoding='ansi', dtype=str)\n",
    "df_Maestro.head()"
   ]
  },
  {
   "cell_type": "markdown",
   "id": "9e21d0fc",
   "metadata": {},
   "source": [
    "# 4. LIMPIEZA DE DATOS\n",
    "\n",
    "En esta sección, realizaremos un proceso de limpieza de datos para identificar inconsistencias y columnas que posiblemente no sean necesarias para el análisis. Esto incluye:\n",
    "\n",
    "- Análisis de columnas vacías.\n",
    "- Análisis de columnas de fechas.\n",
    "- Identificación de posibles errores de tipificación."
   ]
  },
  {
   "cell_type": "markdown",
   "id": "c429d7e9",
   "metadata": {},
   "source": [
    "## 4.1 Análisis de Columnas Vacías\n",
    "\n",
    "En esta subsección, identificaremos las columnas que tienen un alto porcentaje de valores vacíos. Esto nos ayudará a decidir si estas columnas son relevantes para el análisis o si pueden ser eliminadas."
   ]
  },
  {
   "cell_type": "code",
   "execution_count": 47,
   "id": "cf60218b",
   "metadata": {},
   "outputs": [
    {
     "name": "stdout",
     "output_type": "stream",
     "text": [
      "Posible error: La columna 'COL2' contiene valores numéricos pero está tipificada como texto.\n",
      "Posible error: La columna 'COL3' contiene valores numéricos pero está tipificada como texto.\n",
      "Posible error: La columna 'COL7' contiene valores numéricos pero está tipificada como texto.\n",
      "Posible error: La columna 'COL10' contiene valores numéricos pero está tipificada como texto.\n",
      "Posible error: La columna 'COL17' contiene valores numéricos pero está tipificada como texto.\n",
      "Posible error: La columna 'COL22' contiene valores numéricos pero está tipificada como texto.\n",
      "Posible error: La columna 'COL31' contiene valores numéricos pero está tipificada como texto.\n",
      "Posible error: La columna 'COL32' contiene valores numéricos pero está tipificada como texto.\n",
      "Posible error: La columna 'COL38' contiene valores numéricos pero está tipificada como texto.\n",
      "Posible error: La columna 'COL39' contiene valores numéricos pero está tipificada como texto.\n",
      "Posible error: La columna 'COL43' contiene valores numéricos pero está tipificada como texto.\n",
      "Posible error: La columna 'COL44' contiene valores numéricos pero está tipificada como texto.\n",
      "Posible error: La columna 'COL49' contiene valores numéricos pero está tipificada como texto.\n",
      "Posible error: La columna 'COL51' contiene valores numéricos pero está tipificada como texto.\n",
      "Posible error: La columna 'COL53' contiene valores numéricos pero está tipificada como texto.\n",
      "Posible error: La columna 'COL56' contiene valores numéricos pero está tipificada como texto.\n",
      "Posible error: La columna 'COL57' contiene valores numéricos pero está tipificada como texto.\n",
      "Posible error: La columna 'COL58' contiene valores numéricos pero está tipificada como texto.\n",
      "Posible error: La columna 'COL59' contiene valores numéricos pero está tipificada como texto.\n",
      "Posible error: La columna 'COL60' contiene valores numéricos pero está tipificada como texto.\n",
      "Posible error: La columna 'COL61' contiene valores numéricos pero está tipificada como texto.\n",
      "Posible error: La columna 'COL62' contiene valores numéricos pero está tipificada como texto.\n",
      "Posible error: La columna 'COL63' contiene valores numéricos pero está tipificada como texto.\n",
      "Posible error: La columna 'COL65' contiene valores numéricos pero está tipificada como texto.\n",
      "Posible error: La columna 'COL66' contiene valores numéricos pero está tipificada como texto.\n",
      "Posible error: La columna 'COL68' contiene valores numéricos pero está tipificada como texto.\n",
      "Posible error: La columna 'COL76' contiene valores numéricos pero está tipificada como texto.\n"
     ]
    }
   ],
   "source": [
    "# Identificar posibles errores de tipificación\n",
    "def identificar_errores_tipificacion(df):\n",
    "    for col in df.columns:\n",
    "        if df[col].dtype == \"object\":\n",
    "            try:\n",
    "                df[col].astype(float)\n",
    "                print(f\"Posible error: La columna '{col}' contiene valores numéricos pero está tipificada como texto.\")\n",
    "            except ValueError:\n",
    "                pass\n",
    "        elif df[col].dtype in [\"int64\", \"float64\"]:\n",
    "            if df[col].apply(lambda x: isinstance(x, str)).any():\n",
    "                print(f\"Posible error: La columna '{col}' contiene texto pero está tipificada como numérica.\")\n",
    "\n",
    "# Aplicar la función al DataFrame\n",
    "identificar_errores_tipificacion(df_sat)"
   ]
  },
  {
   "cell_type": "markdown",
   "id": "667566dd",
   "metadata": {},
   "source": [
    "## Análisis de Columnas de Fechas\n",
    "\n",
    "En esta subsección, verificaremos las columnas que contienen fechas para identificar valores fuera de rango o inconsistencias en el formato."
   ]
  },
  {
   "cell_type": "code",
   "execution_count": 48,
   "id": "b3d1a1fd",
   "metadata": {},
   "outputs": [],
   "source": [
    "# Identificar columnas de tipo fecha\n",
    "def analizar_columnas_fechas(df):\n",
    "    columnas_fecha = [col for col in df.columns if \"fecha\" in col.lower()]\n",
    "    for col in columnas_fecha:\n",
    "        print(f\"Análisis de la columna: {col}\")\n",
    "        print(f\"Rango de fechas: {df[col].min()} - {df[col].max()}\")\n",
    "        print(f\"Valores únicos: {df[col].nunique()}\")\n",
    "\n",
    "# Aplicar la función al DataFrame\n",
    "analizar_columnas_fechas(df_sat)"
   ]
  },
  {
   "cell_type": "markdown",
   "id": "d7dae9b9",
   "metadata": {},
   "source": [
    "## Identificación de Errores de Tipificación\n",
    "\n",
    "En esta subsección, revisaremos las columnas para identificar posibles errores de tipificación, como valores numéricos en columnas categóricas o texto en columnas numéricas."
   ]
  },
  {
   "cell_type": "code",
   "execution_count": 49,
   "id": "60cb7918",
   "metadata": {},
   "outputs": [
    {
     "name": "stdout",
     "output_type": "stream",
     "text": [
      "Columnas con más del 50% de valores vacíos:\n",
      "COL6      94.131955\n",
      "COL7      94.131955\n",
      "COL8      94.131955\n",
      "COL35     85.405898\n",
      "COL44     96.777136\n",
      "COL45     99.179082\n",
      "COL48     86.166008\n",
      "COL49     99.391912\n",
      "COL56    100.000000\n",
      "COL57     77.956826\n",
      "COL58    100.000000\n",
      "COL59    100.000000\n",
      "COL60    100.000000\n",
      "COL61    100.000000\n",
      "COL62    100.000000\n",
      "COL65    100.000000\n",
      "COL66    100.000000\n",
      "COL75     99.969596\n",
      "COL76     99.969596\n",
      "COL83     94.131955\n",
      "COL84     96.077835\n",
      "COL85     94.253573\n",
      "COL86     95.013682\n",
      "dtype: float64\n",
      "Empty DataFrame\n",
      "Columns: [COL1, COL2, COL3, COL4, COL5, COL6, COL7, COL8, COL9, COL10, COL11, COL12, COL13, COL14, COL15, COL16, COL17, COL18, COL19, COL20, COL21, COL22, COL23, COL24, COL25, COL26, COL27, COL28, COL29, COL30, COL31, COL32, COL33, COL34, COL35, COL36, COL37, COL38, COL39, COL40, COL41, COL42, COL43, COL44, COL45, COL46, COL47, COL48, COL49, COL50, COL51, COL52, COL53, COL54, COL55, COL56, COL57, COL58, COL59, COL60, COL61, COL62, COL63, COL64, COL65, COL66, COL67, COL68, COL69, COL70, COL71, COL72, COL73, COL74, COL75, COL76, COL77, COL78, COL79, COL80, COL81, COL82, COL83, COL84, COL85, COL86]\n",
      "Index: []\n",
      "\n",
      "[0 rows x 86 columns]\n"
     ]
    }
   ],
   "source": [
    "# Calcular el porcentaje de valores vacíos por columna\n",
    "def calcular_porcentaje_vacios(df):\n",
    "    porcentaje_vacios = df.isnull().mean() * 100\n",
    "    return porcentaje_vacios\n",
    "\n",
    "# Aplicar la función al DataFrame y mostrar las columnas con más del 50% de valores vacíos\n",
    "porcentaje_vacios = calcular_porcentaje_vacios(df_sat)\n",
    "columnas_vacias = porcentaje_vacios[porcentaje_vacios > 50]\n",
    "\n",
    "print(\"Columnas con más del 50% de valores vacíos:\")\n",
    "print(columnas_vacias)\n",
    "\n",
    "# Imprimir los registros donde la columna COL24 sea igual a \"42490216\"\n",
    "registros_filtrados = df_sat[df_sat[\"COL24\"] == \"42490216\"]\n",
    "print(registros_filtrados)"
   ]
  },
  {
   "cell_type": "markdown",
   "id": "d8efc6bf",
   "metadata": {},
   "source": [
    "## Eliminacion de Columnas Vacias"
   ]
  },
  {
   "cell_type": "code",
   "execution_count": 50,
   "id": "8af0daa7",
   "metadata": {},
   "outputs": [
    {
     "name": "stdout",
     "output_type": "stream",
     "text": [
      "Antes de eliminar:\n",
      "Registros: 3289, Columnas: 86\n",
      "Después de eliminar:\n",
      "Registros: 3289, Columnas: 63\n",
      "Empty DataFrame\n",
      "Columns: [COL1, COL2, COL3, COL4, COL5, COL9, COL10, COL11, COL12, COL13, COL14, COL15, COL16, COL17, COL18, COL19, COL20, COL21, COL22, COL23, COL24, COL25, COL26, COL27, COL28, COL29, COL30, COL31, COL32, COL33, COL34, COL36, COL37, COL38, COL39, COL40, COL41, COL42, COL43, COL46, COL47, COL50, COL51, COL52, COL53, COL54, COL55, COL63, COL64, COL67, COL68, COL69, COL70, COL71, COL72, COL73, COL74, COL77, COL78, COL79, COL80, COL81, COL82]\n",
      "Index: []\n",
      "\n",
      "[0 rows x 63 columns]\n"
     ]
    }
   ],
   "source": [
    "# Mostrar número de registros y columnas antes de eliminar\n",
    "print(\"Antes de eliminar:\")\n",
    "print(f\"Registros: {df_sat.shape[0]}, Columnas: {df_sat.shape[1]}\")\n",
    "\n",
    "# Eliminar columnas con más del 50% de valores vacíos\n",
    "df_sat_limpio = df_sat.drop(columns=columnas_vacias.index)\n",
    "\n",
    "# Mostrar número de registros y columnas después de eliminar\n",
    "print(\"Después de eliminar:\")\n",
    "print(f\"Registros: {df_sat_limpio.shape[0]}, Columnas: {df_sat_limpio.shape[1]}\")\n",
    "\n",
    "# Imprimir los registros donde la columna COL24 sea igual a \"42490216\"\n",
    "registros_filtrados = df_sat_limpio[df_sat_limpio[\"COL24\"] == \"42490216\"]\n",
    "print(registros_filtrados)"
   ]
  },
  {
   "cell_type": "markdown",
   "id": "95fd81a4",
   "metadata": {},
   "source": [
    "## VALIDAR EVOLUCIONES DC"
   ]
  },
  {
   "cell_type": "code",
   "execution_count": 51,
   "id": "b76c9239",
   "metadata": {},
   "outputs": [
    {
     "name": "stdout",
     "output_type": "stream",
     "text": [
      "Registros vacíos en COL23 antes: 98\n",
      "Registros vacíos en COL24 antes: 98\n",
      "Registros vacíos en COL23 después: 0\n",
      "Registros vacíos en COL24 después: 0\n",
      "Empty DataFrame\n",
      "Columns: [COL1, COL2, COL3, COL4, COL5, COL9, COL10, COL11, COL12, COL13, COL14, COL15, COL16, COL17, COL18, COL19, COL20, COL21, COL22, COL23, COL24, COL25, COL26, COL27, COL28, COL29, COL30, COL31, COL32, COL33, COL34, COL36, COL37, COL38, COL39, COL40, COL41, COL42, COL43, COL46, COL47, COL50, COL51, COL52, COL53, COL54, COL55, COL63, COL64, COL67, COL68, COL69, COL70, COL71, COL72, COL73, COL74, COL77, COL78, COL79, COL80, COL81, COL82]\n",
      "Index: []\n",
      "\n",
      "[0 rows x 63 columns]\n"
     ]
    }
   ],
   "source": [
    "# Mostrar número de registros vacíos en COL23 y COL24 antes del proceso\n",
    "vacios_antes_col23 = df_sat_limpio['COL23'].isnull().sum() + (df_sat_limpio['COL23'].str.strip() == '').sum()\n",
    "vacios_antes_col24 = df_sat_limpio['COL24'].isnull().sum() + (df_sat_limpio['COL24'].str.strip() == '').sum()\n",
    "print(f\"Registros vacíos en COL23 antes: {vacios_antes_col23}\")\n",
    "print(f\"Registros vacíos en COL24 antes: {vacios_antes_col24}\")\n",
    "\n",
    "# Copiar valores de COL21 y COL22 a COL23 y COL24 cuando estén vacías\n",
    "mask_col23 = df_sat_limpio['COL23'].isnull() | (df_sat_limpio['COL23'].str.strip() == '')\n",
    "mask_col24 = df_sat_limpio['COL24'].isnull() | (df_sat_limpio['COL24'].str.strip() == '')\n",
    "\n",
    "if 'COL21' in df_sat.columns and 'COL22' in df_sat.columns:\n",
    "    df_sat_limpio.loc[mask_col23, 'COL23'] = df_sat.loc[df_sat_limpio.index[mask_col23], 'COL21']\n",
    "    df_sat_limpio.loc[mask_col24, 'COL24'] = df_sat.loc[df_sat_limpio.index[mask_col24], 'COL22']\n",
    "\n",
    "# Mostrar número de registros vacíos en COL23 y COL24 después del proceso\n",
    "vacios_despues_col23 = df_sat_limpio['COL23'].isnull().sum() + (df_sat_limpio['COL23'].str.strip() == '').sum()\n",
    "vacios_despues_col24 = df_sat_limpio['COL24'].isnull().sum() + (df_sat_limpio['COL24'].str.strip() == '').sum()\n",
    "print(f\"Registros vacíos en COL23 después: {vacios_despues_col23}\")\n",
    "print(f\"Registros vacíos en COL24 después: {vacios_despues_col24}\")\n",
    "\n",
    "# Imprimir los registros donde la columna COL24 sea igual a \"42490216\"\n",
    "registros_filtrados = df_sat_limpio[df_sat_limpio[\"COL24\"] == \"42490216\"]\n",
    "print(registros_filtrados)"
   ]
  },
  {
   "cell_type": "markdown",
   "id": "93834288",
   "metadata": {},
   "source": [
    "## Eliminación Registros de actualización de datos\n",
    "\n",
    "Actualización de datos y evoluciones"
   ]
  },
  {
   "cell_type": "code",
   "execution_count": 52,
   "id": "7049ea68",
   "metadata": {},
   "outputs": [
    {
     "name": "stdout",
     "output_type": "stream",
     "text": [
      "Empty DataFrame\n",
      "Columns: [COL1, COL2, COL3, COL4, COL5, COL9, COL10, COL11, COL12, COL13, COL14, COL15, COL16, COL17, COL18, COL19, COL20, COL21, COL22, COL23, COL24, COL25, COL26, COL27, COL28, COL29, COL30, COL31, COL32, COL33, COL34, COL36, COL37, COL38, COL39, COL40, COL41, COL42, COL43, COL46, COL47, COL50, COL51, COL52, COL53, COL54, COL55, COL63, COL64, COL67, COL68, COL69, COL70, COL71, COL72, COL73, COL74, COL77, COL78, COL79, COL80, COL81, COL82]\n",
      "Index: []\n",
      "\n",
      "[0 rows x 63 columns]\n"
     ]
    }
   ],
   "source": [
    "# Eliminar registros donde COL3 sea igual a \"4\" y \"3\"\n",
    "df_sat_limpio = df_sat_limpio[~df_sat_limpio['COL3'].isin([\"4\", \"3\"])]\n",
    "\n",
    "# Imprimir los registros donde la columna COL24 sea igual a \"42490216\"\n",
    "registros_filtrados = df_sat_limpio[df_sat_limpio[\"COL24\"] == \"42490216\"]\n",
    "print(registros_filtrados)"
   ]
  },
  {
   "cell_type": "markdown",
   "id": "094566ff",
   "metadata": {},
   "source": [
    "## DEFINIR COLUMNAS"
   ]
  },
  {
   "cell_type": "code",
   "execution_count": 53,
   "id": "125d44fa",
   "metadata": {
    "vscode": {
     "languageId": "ruby"
    }
   },
   "outputs": [
    {
     "name": "stdout",
     "output_type": "stream",
     "text": [
      "Dimensiones antes: (2173, 63)\n",
      "Dimensiones después: (2173, 7)\n",
      "Empty DataFrame\n",
      "Columns: [COL1, COL3, COL16, COL18, COL23, COL24, COL64]\n",
      "Index: []\n"
     ]
    }
   ],
   "source": [
    "# Mostrar dimensiones antes de seleccionar columnas\n",
    "print(\"Dimensiones antes:\", df_sat_limpio.shape)\n",
    "\n",
    "# Seleccionar las columnas requeridas (corrigiendo el espacio en 'COL 18')\n",
    "columnas_a_trabajar = ['COL1', 'COL3', 'COL16', 'COL18', 'COL23', 'COL24', 'COL64']\n",
    "df_sat_limpio = df_sat_limpio[columnas_a_trabajar]\n",
    "\n",
    "# Mostrar dimensiones después de seleccionar columnas\n",
    "print(\"Dimensiones después:\", df_sat_limpio.shape)\n",
    "\n",
    "# Imprimir los registros donde la columna COL24 sea igual a \"42490216\"\n",
    "registros_filtrados = df_sat_limpio[df_sat_limpio[\"COL24\"] == \"42490216\"]\n",
    "print(registros_filtrados)"
   ]
  },
  {
   "cell_type": "markdown",
   "id": "98d3c2f1",
   "metadata": {},
   "source": [
    "## QUITAR DUPLICADOS"
   ]
  },
  {
   "cell_type": "code",
   "execution_count": 54,
   "id": "2fbb8684",
   "metadata": {},
   "outputs": [
    {
     "name": "stdout",
     "output_type": "stream",
     "text": [
      "Antes de eliminar duplicados y vacíos:\n",
      "(2173, 7)\n",
      "Después de eliminar duplicados y vacíos:\n",
      "(1905, 7)\n",
      "Empty DataFrame\n",
      "Columns: [COL1, COL3, COL16, COL18, COL23, COL24, COL64]\n",
      "Index: []\n"
     ]
    }
   ],
   "source": [
    "# Mostrar el DataFrame antes de eliminar duplicados y vacíos\n",
    "print(\"Antes de eliminar duplicados y vacíos:\")\n",
    "print(df_sat_limpio.shape)\n",
    "\n",
    "# Eliminar filas donde COL23 o COL24 estén vacíos (NaN o cadena vacía)\n",
    "df_sat_limpio = df_sat_limpio.dropna(subset=['COL23', 'COL24'])\n",
    "df_sat_limpio = df_sat_limpio[(df_sat_limpio['COL23'].str.strip() != '') & (df_sat_limpio['COL24'].str.strip() != '')]\n",
    "\n",
    "# Eliminar duplicados considerando las 6 columnas como un solo ID\n",
    "df_sat_limpio = df_sat_limpio.drop_duplicates(subset=['COL1', 'COL3', 'COL16', 'COL18', 'COL23', 'COL24'])\n",
    "\n",
    "# Mostrar el DataFrame después del proceso\n",
    "print(\"Después de eliminar duplicados y vacíos:\")\n",
    "print(df_sat_limpio.shape)\n",
    "\n",
    "# Imprimir los registros donde la columna COL24 sea igual a \"42490216\"\n",
    "registros_filtrados = df_sat_limpio[df_sat_limpio[\"COL24\"] == \"42490216\"]\n",
    "print(registros_filtrados)"
   ]
  },
  {
   "cell_type": "markdown",
   "id": "f39be395",
   "metadata": {},
   "source": [
    "## ELM DE MOVILIDAD"
   ]
  },
  {
   "cell_type": "code",
   "execution_count": 55,
   "id": "becf2c29",
   "metadata": {},
   "outputs": [
    {
     "name": "stdout",
     "output_type": "stream",
     "text": [
      "Dimensiones antes de eliminar registros: (1905, 7)\n",
      "Dimensiones después de eliminar registros: (1421, 7)\n",
      "Empty DataFrame\n",
      "Columns: [COL1, COL3, COL16, COL18, COL23, COL24, COL64]\n",
      "Index: []\n"
     ]
    }
   ],
   "source": [
    "# Mostrar dimensiones antes de eliminar registros\n",
    "print(\"Dimensiones antes de eliminar registros:\", df_sat_limpio.shape)\n",
    "\n",
    "# Eliminar registros donde (COL16 = 'EPSC25' y COL18 = 'EPS025') o (COL16 = 'EPS025' y COL18 = 'EPSC25')\n",
    "condicion = ((df_sat_limpio['COL16'] == 'EPSC25') & (df_sat_limpio['COL18'] == 'EPS025')) | \\\n",
    "            ((df_sat_limpio['COL16'] == 'EPS025') & (df_sat_limpio['COL18'] == 'EPSC25'))\n",
    "df_sat_limpio = df_sat_limpio[~condicion]\n",
    "\n",
    "# Mostrar dimensiones después de eliminar registros\n",
    "print(\"Dimensiones después de eliminar registros:\", df_sat_limpio.shape)\n",
    "\n",
    "# Imprimir los registros donde la columna COL24 sea igual a \"42490216\"\n",
    "registros_filtrados = df_sat_limpio[df_sat_limpio[\"COL24\"] == \"42490216\"]\n",
    "print(registros_filtrados)"
   ]
  },
  {
   "cell_type": "markdown",
   "id": "31939cb1",
   "metadata": {},
   "source": [
    "## CATEGORIZAR BD"
   ]
  },
  {
   "cell_type": "code",
   "execution_count": 56,
   "id": "8c487644",
   "metadata": {},
   "outputs": [
    {
     "name": "stdout",
     "output_type": "stream",
     "text": [
      "Dimensiones antes: (1421, 7)\n",
      "Dimensiones después: (1421, 8)\n",
      "Porcentaje de categorías en 'tipo_Proceso':\n",
      "tipo_Proceso\n",
      "SALIDA     94.7924\n",
      "ENTRADA     5.2076\n",
      "Name: proportion, dtype: float64\n"
     ]
    }
   ],
   "source": [
    "# Mostrar dimensiones antes de crear la columna\n",
    "print(\"Dimensiones antes:\", df_sat_limpio.shape)\n",
    "\n",
    "if Regimen == \"EPS025\":\n",
    "    # Crear la columna 'tipo_Proceso' según las condiciones dadas\n",
    "    cond_entrada_1 = (df_sat_limpio['COL16'] == 'EPS025') & (df_sat_limpio['COL18'].isnull())\n",
    "    cond_entrada_2 = (df_sat_limpio['COL16'] == 'EPS025') & (df_sat_limpio['COL18'].str.strip() == '')\n",
    "    cond_entrada_3 = (df_sat_limpio['COL16'] != 'EPS025') & (df_sat_limpio['COL18'] == 'EPS025')\n",
    "    cond_entrada_4 = (df_sat_limpio['COL16'] == 'EPS025') & (df_sat_limpio['COL18'] == 'EPS025')\n",
    "\n",
    "    cond_entrada = cond_entrada_1 | cond_entrada_2 | cond_entrada_3 | cond_entrada_4\n",
    "    cond_salida = (df_sat_limpio['COL16'] == 'EPS025') & (df_sat_limpio['COL18'] != 'EPS025') & (~df_sat_limpio['COL18'].isnull()) & (df_sat_limpio['COL18'].str.strip() != '')\n",
    "else:\n",
    "    # Crear la columna 'tipo_Proceso' según las condiciones dadas\n",
    "    cond_entrada_1 = (df_sat_limpio['COL16'] == 'EPSC25') & (df_sat_limpio['COL18'].isnull())\n",
    "    cond_entrada_2 = (df_sat_limpio['COL16'] == 'EPSC25') & (df_sat_limpio['COL18'].str.strip() == '')\n",
    "    cond_entrada_3 = (df_sat_limpio['COL16'] != 'EPSC25') & (df_sat_limpio['COL18'] == 'EPSC25')\n",
    "    cond_entrada_4 = (df_sat_limpio['COL16'] == 'EPSC25') & (df_sat_limpio['COL18'] == 'EPSC25')\n",
    "\n",
    "    cond_entrada = cond_entrada_1 | cond_entrada_2 | cond_entrada_3 | cond_entrada_4\n",
    "    cond_salida = (df_sat_limpio['COL16'] == 'EPSC25') & (df_sat_limpio['COL18'] != 'EPSC25') & (~df_sat_limpio['COL18'].isnull()) & (df_sat_limpio['COL18'].str.strip() != '')\n",
    "\n",
    "df_sat_limpio['tipo_Proceso'] = None\n",
    "df_sat_limpio.loc[cond_entrada, 'tipo_Proceso'] = 'ENTRADA'\n",
    "df_sat_limpio.loc[cond_salida, 'tipo_Proceso'] = 'SALIDA'\n",
    "\n",
    "# Mostrar dimensiones después de crear la columna\n",
    "print(\"Dimensiones después:\", df_sat_limpio.shape)\n",
    "\n",
    "# Mostrar porcentaje de cada categoría y verificar si hay registros sin categoría\n",
    "porcentaje_categorias = df_sat_limpio['tipo_Proceso'].value_counts(dropna=False, normalize=True) * 100\n",
    "print(\"Porcentaje de categorías en 'tipo_Proceso':\")\n",
    "print(porcentaje_categorias)"
   ]
  },
  {
   "cell_type": "markdown",
   "id": "47c59eba",
   "metadata": {},
   "source": [
    "## ID BDUA"
   ]
  },
  {
   "cell_type": "code",
   "execution_count": 57,
   "id": "0a88e508",
   "metadata": {},
   "outputs": [
    {
     "name": "stdout",
     "output_type": "stream",
     "text": [
      "Dimensiones antes: (1421, 8)\n",
      "Dimensiones después: (1421, 10)\n",
      "Porcentaje de vacíos en la columna 'serial': 2.74%\n",
      "Empty DataFrame\n",
      "Columns: [COL1, COL3, COL16, COL18, COL23, COL24, COL64, tipo_Proceso, unique_id, serial]\n",
      "Index: []\n"
     ]
    }
   ],
   "source": [
    "# Mostrar dimensiones antes de agregar la columna\n",
    "print(\"Dimensiones antes:\", df_sat_limpio.shape)\n",
    "\n",
    "# Crear un nuevo identificador único combinando las columnas 1 y 2 de df_HI\n",
    "df_HI['unique_id'] = df_HI[1].str.strip() + \" \" + df_HI[2].str.strip()\n",
    "\n",
    "# Crear un diccionario para mapear el identificador único al serial (columna 0)\n",
    "id_to_serial = df_HI.set_index('unique_id')[0].to_dict()\n",
    "\n",
    "# Crear un nuevo identificador único combinando las columnas COL23 y COL24 de df_sat_limpio\n",
    "df_sat_limpio['unique_id'] = df_sat_limpio['COL23'].str.strip() + \" \" + df_sat_limpio['COL24'].str.strip()\n",
    "\n",
    "# Asignar la columna 'serial' en df_sat_limpio usando el identificador único\n",
    "df_sat_limpio['serial'] = df_sat_limpio['unique_id'].map(id_to_serial)\n",
    "\n",
    "# Mostrar dimensiones después de agregar la columna\n",
    "print(\"Dimensiones después:\", df_sat_limpio.shape)\n",
    "\n",
    "# Calcular el porcentaje de vacíos en la nueva columna 'serial'\n",
    "porcentaje_vacios_serial = df_sat_limpio['serial'].isnull().mean() * 100\n",
    "print(f\"Porcentaje de vacíos en la columna 'serial': {porcentaje_vacios_serial:.2f}%\")\n",
    "\n",
    "\n",
    "# Imprimir los registros donde la columna COL24 sea igual a \"42490216\"\n",
    "registros_filtrados = df_sat_limpio[df_sat_limpio[\"COL24\"] == \"42490216\"]\n",
    "print(registros_filtrados)"
   ]
  },
  {
   "cell_type": "code",
   "execution_count": 58,
   "id": "bf063416",
   "metadata": {},
   "outputs": [
    {
     "name": "stdout",
     "output_type": "stream",
     "text": [
      "Empty DataFrame\n",
      "Columns: [COL1, COL3, COL16, COL18, COL23, COL24, COL64, tipo_Proceso, unique_id, serial, fec_maestro]\n",
      "Index: []\n"
     ]
    }
   ],
   "source": [
    "# Agrupar df_Maestro por AFL_ID y obtener la fecha mínima y máxima de fecha_maestro\n",
    "fechas_maestro = df_Maestro.groupby('AFL_ID')['fecha_maestro'].agg(['min', 'max']).reset_index()\n",
    "\n",
    "# Crear un diccionario para acceso rápido\n",
    "min_fechas = fechas_maestro.set_index('AFL_ID')['min'].to_dict()\n",
    "max_fechas = fechas_maestro.set_index('AFL_ID')['max'].to_dict()\n",
    "\n",
    "# Función para asignar la fecha según tipo_Proceso\n",
    "def obtener_fec_maestro(row):\n",
    "    serial = row['serial']\n",
    "    if row['tipo_Proceso'] == 'ENTRADA':\n",
    "        return min_fechas.get(serial, pd.NaT)\n",
    "    elif row['tipo_Proceso'] == 'SALIDA':\n",
    "        return max_fechas.get(serial, pd.NaT)\n",
    "    else:\n",
    "        return pd.NaT\n",
    "\n",
    "# Crear la columna 'fec_maestro' en df_sat_limpio\n",
    "df_sat_limpio['fec_maestro'] = df_sat_limpio.apply(obtener_fec_maestro, axis=1)\n",
    "\n",
    "\n",
    "# Imprimir los registros donde la columna COL24 sea igual a \"42490216\"\n",
    "registros_filtrados = df_sat_limpio[df_sat_limpio[\"COL24\"] == \"42490216\"]\n",
    "print(registros_filtrados)"
   ]
  },
  {
   "cell_type": "markdown",
   "id": "404d04ec",
   "metadata": {},
   "source": [
    "# 5.VIZUALIACION DE DATOS"
   ]
  },
  {
   "cell_type": "code",
   "execution_count": 59,
   "id": "8f56555f",
   "metadata": {},
   "outputs": [
    {
     "data": {
      "image/png": "[encoded data removed]",
      "text/plain": [
       "<Figure size 1400x800 with 1 Axes>"
      ]
     },
     "metadata": {},
     "output_type": "display_data"
    }
   ],
   "source": [
    "import matplotlib.pyplot as plt\n",
    "import seaborn as sns\n",
    "import matplotlib.dates as mdates\n",
    "\n",
    "# Asegurarse de que la columna COL1 esté en formato de fecha\n",
    "df_sat_limpio['COL1'] = pd.to_datetime(df_sat_limpio['COL1'], format='%d-%m-%Y', errors='coerce')\n",
    "\n",
    "# Crear una nueva columna para el mes y año\n",
    "df_sat_limpio['Mes_Año'] = df_sat_limpio['COL1'].dt.to_period('M')\n",
    "\n",
    "# Agrupar por Mes_Año y tipo_Proceso, y contar los registros\n",
    "totales_por_mes = df_sat_limpio.groupby(['Mes_Año', 'tipo_Proceso']).size().reset_index(name='Total')\n",
    "\n",
    "# Pivotar los datos para que cada tipo_Proceso sea una columna\n",
    "timeline = totales_por_mes.pivot(index='Mes_Año', columns='tipo_Proceso', values='Total').fillna(0)\n",
    "\n",
    "import matplotlib.pyplot as plt\n",
    "import seaborn as sns\n",
    "import matplotlib.dates as mdates\n",
    "\n",
    "# Mapeo abreviado de meses en español\n",
    "spanish_abbr = {\n",
    "    1: 'Ene', 2: 'Feb', 3: 'Mar', 4: 'Abr',\n",
    "    5: 'May', 6: 'Jun', 7: 'Jul', 8: 'Ago',\n",
    "    9: 'Sep', 10: 'Oct', 11: 'Nov', 12: 'Dic'\n",
    "}\n",
    "\n",
    "# Estilo y paleta\n",
    "sns.set_theme(style=\"whitegrid\", context=\"talk\", palette=\"colorblind\")\n",
    "\n",
    "# Índice de fechas (Timestamp)\n",
    "idx = timeline.index.to_timestamp()\n",
    "\n",
    "fig, ax = plt.subplots(figsize=(14, 8))\n",
    "\n",
    "for column in timeline.columns:\n",
    "    y = timeline[column].values\n",
    "    ax.plot(idx, y, marker='o', linewidth=2, label=column)\n",
    "    # Etiqueta cada punto\n",
    "    for x, val in zip(idx, y):\n",
    "        ax.text(x, val, f\"{int(val)}\",\n",
    "                va='bottom', ha='center',\n",
    "                fontsize=10, fontweight='bold')\n",
    "\n",
    "# Formato de eje X con etiquetas en español\n",
    "ax.set_xticks(idx)\n",
    "ax.set_xticklabels(\n",
    "    [f\"{spanish_abbr[d.month]} {d.year}\" for d in idx],\n",
    "    rotation=45,\n",
    "    ha='right'\n",
    ")\n",
    "\n",
    "# Despine y grillas secundarias\n",
    "sns.despine(ax=ax)\n",
    "ax.minorticks_on()\n",
    "ax.grid(which='minor', linestyle=':', alpha=0.5)\n",
    "\n",
    "# Títulos y ejes\n",
    "ax.set_title(\n",
    "    f'Línea de Tiempo SAT por Tipo de Proceso\\n{Regimen}',\n",
    "    fontsize=18, fontweight='bold', pad=20\n",
    ")\n",
    "ax.set_xlabel('Mes', fontsize=14)\n",
    "ax.set_ylabel('Cantidad de Registros', fontsize=14)\n",
    "\n",
    "# Leyenda fuera del plot\n",
    "ax.legend(\n",
    "    title='Tipo de Proceso',\n",
    "    loc='upper left',\n",
    "    bbox_to_anchor=(1.02, 1),\n",
    "    borderaxespad=0.\n",
    ")\n",
    "\n",
    "plt.tight_layout()\n",
    "plt.show()"
   ]
  },
  {
   "cell_type": "markdown",
   "id": "afa5272f",
   "metadata": {},
   "source": [
    "# Guardar Dataframe"
   ]
  },
  {
   "cell_type": "code",
   "execution_count": 60,
   "id": "f62aa162",
   "metadata": {},
   "outputs": [],
   "source": [
    "df_sat_limpio.to_csv(R_Salida, index=False, encoding='ansi', sep=',')"
   ]
  }
 ],
 "metadata": {
  "kernelspec": {
   "display_name": "venv",
   "language": "python",
   "name": "python3"
  },
  "language_info": {
   "codemirror_mode": {
    "name": "ipython",
    "version": 3
   },
   "file_extension": ".py",
   "mimetype": "text/x-python",
   "name": "python",
   "nbconvert_exporter": "python",
   "pygments_lexer": "ipython3",
   "version": "3.12.2"
  }
 },
 "nbformat": 4,
 "nbformat_minor": 5
}
