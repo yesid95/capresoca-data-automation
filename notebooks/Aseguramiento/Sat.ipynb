{
 "cells": [
  {
   "cell_type": "markdown",
   "id": "1fceddd4",
   "metadata": {},
   "source": [
    "# 1. MODULOS"
   ]
  },
  {
   "cell_type": "code",
   "execution_count": 1,
   "id": "19b9528d",
   "metadata": {},
   "outputs": [],
   "source": [
    "# Importa el módulo 'os' para interactuar con el sistema de archivos y rutas del sistema operativo\n",
    "import os\n",
    "\n",
    "# Importa 'pandas' como 'pd', una biblioteca potente para manipulación y análisis de datos mediante DataFrames\n",
    "import pandas as pd\n",
    "\n",
    "# Importa el módulo 'datetime' para trabajar con fechas y horas de manera eficiente\n",
    "import datetime"
   ]
  },
  {
   "cell_type": "markdown",
   "id": "27607fbf",
   "metadata": {},
   "source": [
    "# 2. RUTAS Y VARIABLES"
   ]
  },
  {
   "cell_type": "code",
   "execution_count": 2,
   "id": "a4525406",
   "metadata": {},
   "outputs": [],
   "source": [
    "# Se define la ruta de la carpeta donde se encuentran los archivos SAT\n",
    "R_Sat = r\"C:\\Users\\anthonycaicedo\\OneDrive - 891856000_CAPRESOCA E P S\\Escritorio\\BaseD\\Sat_RC\"\n",
    "\n",
    "# Se define el nombre del archivo de salida SAT\n",
    "SAT_SALIDA = \"CONSOLIDADO_SAT_RC.TXT\"\n",
    "\n",
    "# Se construye la ruta completa del archivo de salida SAT utilizando una f-string\n",
    "R_Salida = Fr\"C:\\Users\\anthonycaicedo\\OneDrive - 891856000_CAPRESOCA E P S\\Escritorio\\BaseD\\{SAT_SALIDA}\""
   ]
  },
  {
   "cell_type": "markdown",
   "id": "48898628",
   "metadata": {},
   "source": [
    "# 3 UNIFICACION ARCHIVOS"
   ]
  },
  {
   "cell_type": "code",
   "execution_count": 3,
   "id": "507d65cf",
   "metadata": {},
   "outputs": [],
   "source": [
    "import glob\n",
    "\n",
    "# Explicación no técnica:\n",
    "# 1. Vamos a buscar todos los archivos .txt dentro de la carpeta R_Sat y sus subcarpetas.\n",
    "# 2. Cada archivo tiene datos separados por | y un encabezado (nombres de columnas).\n",
    "# 3. El nombre del archivo contiene la fecha, la cual extraemos y la ponemos como la primera columna en cada registro.\n",
    "# 4. Unimos todos los archivos en un solo archivo, eliminando los encabezados repetidos y renombrando las columnas como COL1, COL2, etc.\n",
    "# 5. Guardamos el resultado en un nuevo archivo .txt, usando el formato ANSI y el separador |.\n",
    "\n",
    "\n",
    "# Buscar todos los archivos .txt en la ruta y subcarpetas\n",
    "archivos = glob.glob(os.path.join(R_Sat, '**', '*.txt'), recursive=True)\n",
    "\n",
    "dataframes = []\n",
    "\n",
    "for archivo in archivos:\n",
    "    # Extraer la fecha del nombre del archivo\n",
    "    nombre = os.path.basename(archivo)\n",
    "    partes = nombre.split('-')\n",
    "    if len(partes) >= 4:\n",
    "        anio = partes[1]\n",
    "        mes = partes[2]\n",
    "        dia = partes[3].split('.')[0]\n",
    "        fecha_archivo = f\"{dia.zfill(2)}-{mes.zfill(2)}-{anio}\"\n",
    "    else:\n",
    "        print(f\"Alerta: El archivo '{nombre}' no tiene el formato esperado. Ejecución pausada.\")\n",
    "        break  # Detener la ejecución si se encuentra un archivo con formato inesperado\n",
    "\n",
    "    # Leer el archivo como texto, sin importar el tipo de dato (todo como str)\n",
    "    df = pd.read_csv(archivo, sep='|', dtype=str, encoding='ansi')\n",
    "    df = df.iloc[1:]  # Eliminar el encabezado repetido si existe en los datos\n",
    "\n",
    "    # Agregar la columna de fecha al inicio\n",
    "    df.insert(0, 'fecha_archivo', fecha_archivo)\n",
    "    dataframes.append(df)\n",
    "\n",
    "# Unir todos los dataframes\n",
    "df_total = pd.concat(dataframes, ignore_index=True)\n",
    "\n",
    "# Renombrar las columnas a COL1, COL2, ...\n",
    "df_total.columns = [f'COL{i+1}' for i in range(df_total.shape[1])]\n",
    "\n",
    "# Guardar el resultado en el archivo de salida, usando | y formato ANSI\n",
    "df_total.to_csv(R_Salida, sep='|', index=False, header=True, encoding='ansi')"
   ]
  }
 ],
 "metadata": {
  "kernelspec": {
   "display_name": "Python 3",
   "language": "python",
   "name": "python3"
  },
  "language_info": {
   "codemirror_mode": {
    "name": "ipython",
    "version": 3
   },
   "file_extension": ".py",
   "mimetype": "text/x-python",
   "name": "python",
   "nbconvert_exporter": "python",
   "pygments_lexer": "ipython3",
   "version": "3.13.1"
  }
 },
 "nbformat": 4,
 "nbformat_minor": 5
}
