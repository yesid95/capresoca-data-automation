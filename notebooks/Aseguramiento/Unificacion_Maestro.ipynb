{
 "cells": [
  {
   "cell_type": "markdown",
   "id": "0e9ea159",
   "metadata": {},
   "source": [
    "# 1. MODULO"
   ]
  },
  {
   "cell_type": "code",
   "execution_count": 1,
   "id": "64515fa7",
   "metadata": {},
   "outputs": [],
   "source": [
    "# Importa el módulo 'os' para interactuar con el sistema de archivos y rutas del sistema operativo\n",
    "import os\n",
    "\n",
    "# Importa 'pandas' como 'pd', una biblioteca potente para manipulación y análisis de datos mediante DataFrames\n",
    "import pandas as pd\n",
    "\n",
    "# Importa el módulo 'datetime' para trabajar con fechas y horas de manera eficiente\n",
    "import datetime"
   ]
  },
  {
   "cell_type": "markdown",
   "id": "dc85aa25",
   "metadata": {},
   "source": [
    "# 2. RUTAS"
   ]
  },
  {
   "cell_type": "code",
   "execution_count": 2,
   "id": "88f73337",
   "metadata": {},
   "outputs": [],
   "source": [
    "R_Maestro = r\"C:\\Users\\anthonycaicedo\\OneDrive - 891856000_CAPRESOCA E P S\\Escritorio\\BaseD\\Maestros\"\n",
    "Maestro_Salidas = \"Maestro.txt\"\n",
    "R_SALIDA = Fr\"C:\\Users\\anthonycaicedo\\OneDrive - 891856000_CAPRESOCA E P S\\Escritorio\\BaseD\\{Maestro_Salidas}\""
   ]
  },
  {
   "cell_type": "markdown",
   "id": "d3e54ecb",
   "metadata": {},
   "source": [
    "# 3. UNIFICACION"
   ]
  },
  {
   "cell_type": "code",
   "execution_count": 8,
   "id": "591696cf",
   "metadata": {},
   "outputs": [],
   "source": [
    "# Lista de encabezados proporcionados\n",
    "encabezados = [\n",
    "    \"AFL_ID\",\n",
    "    \"ENT_ID\",\n",
    "    \"TPS_IDN_ID_CF\",\n",
    "    \"HST_IDN_NUMERO_IDENTIFICACION_CF\",\n",
    "    \"TPS_IDN_ID\",\n",
    "    \"HST_IDN_NUMERO_IDENTIFICACION\",\n",
    "    \"AFL_PRIMER_APELLIDO\",\n",
    "    \"AFL_SEGUNDO_APELLIDO\",\n",
    "    \"AFL_PRIMER_NOMBRE\",\n",
    "    \"AFL_SEGUNDO_NOMBRE\",\n",
    "    \"AFL_FECHA_NACIMIENTO\",\n",
    "    \"TPS_GNR_ID\",\n",
    "    \"AFL_PAIS_NACIMIENTO\",\n",
    "    \"AFL_MUNICIPIO_NACIMIENTO\",\n",
    "    \"AFL_NACIONALIDAD\",\n",
    "    \"AFL_SEXO_IDENTIFICACION\",\n",
    "    \"AFL_DISCAPACIDAD\",\n",
    "    \"TPS_AFL_ID\",\n",
    "    \"TPS_PRN_ID\",\n",
    "    \"TPS_GRP_PBL_ID\",\n",
    "    \"TPS_NVL_SSB_ID\",\n",
    "    \"NUMEROFICHASISBEN\",\n",
    "    \"TPS_CND_BNF_ID\",\n",
    "    \"DPR_ID\",\n",
    "    \"MNC_ID\",\n",
    "    \"ZNS_ID\",\n",
    "    \"AFL_FECHA_AFILIACION_SGSSS\",\n",
    "    \"AFC_FECHA_INICIO\",\n",
    "    \"NUMERO CONTRATO\",\n",
    "    \"FECHADE INICIO DEL CONTRATO\",\n",
    "    \"CNT_AFL_TPS_GRP_PBL_ID\",\n",
    "    \"CNT_AFL_TPS_PRT_ETN_ID\",\n",
    "    \"TPS_MDL_SBS_ID\",\n",
    "    \"TPS_EST_AFL_ID\",\n",
    "    \"CND_AFL_FECHA_INICIO\",\n",
    "    \"CND_AFL_FECHA_INICIO_2\",\n",
    "    \"GRP_FML_COTIZANTE_ID\",\n",
    "    \"PORTABILIDAD\",\n",
    "    \"COD_IPS_P\",\n",
    "    \"MTDLG_G_P\",\n",
    "    \"SUB_SISBEN_IV\",\n",
    "    \"MARCASISBENIV+MARCASISBENIII\",\n",
    "    \"CRUCE_BDEX_RNEC\",\n",
    "]\n",
    "\n",
    "# Buscar todos los archivos .txt en subcarpetas de R_Maestro\n",
    "txt_files = []\n",
    "for root, dirs, files in os.walk(R_Maestro):\n",
    "    for file in files:\n",
    "        if file.lower().endswith('.txt'):\n",
    "            txt_files.append(os.path.join(root, file))\n",
    "\n",
    "# Leer y consolidar los archivos\n",
    "dfs = []\n",
    "for file_path in txt_files:\n",
    "    file_name = os.path.basename(file_path)\n",
    "    # Extraer la fecha del nombre del archivo\n",
    "    try:\n",
    "        idx = file_name.upper().find('EPSC25MC00')\n",
    "        if idx != -1:\n",
    "            fecha_str = file_name[idx+10:idx+18]  # 8 caracteres después de EPSC25MC00\n",
    "            fecha_formateada = f\"{fecha_str[:2]}/{fecha_str[2:4]}/{fecha_str[4:]}\"\n",
    "        else:\n",
    "            fecha_formateada = \"\"\n",
    "    except Exception:\n",
    "        fecha_formateada = \"\"\n",
    "    \n",
    "    # Leer el archivo\n",
    "    df = pd.read_csv(\n",
    "        file_path,\n",
    "        sep=\",\",\n",
    "        header=None,\n",
    "        encoding='ansi',\n",
    "        dtype=str\n",
    "    )\n",
    "    \n",
    "    # Verificar si el archivo tiene 38 o 43 columnas\n",
    "    if df.shape[1] == 38:\n",
    "        # Ajustar las columnas para que coincidan con el formato de 43 columnas\n",
    "        for i in range(12, 17):\n",
    "            df.insert(i, f\"columna_vacia_{i}\", \"\")  # Insertar columnas vacías\n",
    "        # Renombrar las columnas para que coincidan con los encabezados\n",
    "        df.columns = encabezados\n",
    "    elif df.shape[1] == 43:\n",
    "        # Renombrar las columnas directamente\n",
    "        df.columns = encabezados\n",
    "    else:\n",
    "        # Si el archivo no tiene 38 o 43 columnas, omitirlo\n",
    "        print(f\"Archivo omitido por número inesperado de columnas: {file_path}\")\n",
    "        continue\n",
    "    \n",
    "    # Agregar la columna de fecha\n",
    "    df['fecha_maestro'] = fecha_formateada\n",
    "    dfs.append(df)\n",
    "\n",
    "# Concatenar todos los DataFrames\n",
    "df_maestro = pd.concat(dfs, ignore_index=True)\n",
    "\n",
    "# Guardar el resultado en la ruta de salida\n",
    "df_maestro.to_csv(R_SALIDA, sep=\",\", index=False, encoding='ansi')"
   ]
  }
 ],
 "metadata": {
  "kernelspec": {
   "display_name": "Python 3",
   "language": "python",
   "name": "python3"
  },
  "language_info": {
   "codemirror_mode": {
    "name": "ipython",
    "version": 3
   },
   "file_extension": ".py",
   "mimetype": "text/x-python",
   "name": "python",
   "nbconvert_exporter": "python",
   "pygments_lexer": "ipython3",
   "version": "3.13.1"
  }
 },
 "nbformat": 4,
 "nbformat_minor": 5
}
