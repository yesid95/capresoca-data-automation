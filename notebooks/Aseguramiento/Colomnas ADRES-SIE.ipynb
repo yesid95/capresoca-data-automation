{
 "cells": [
  {
   "cell_type": "code",
   "execution_count": 11,
   "id": "39135d20",
   "metadata": {},
   "outputs": [],
   "source": [
    "import pandas as pd\n",
    "import os\n",
    "from datetime import datetime"
   ]
  },
  {
   "cell_type": "code",
   "execution_count": 12,
   "id": "a09d2bfa",
   "metadata": {},
   "outputs": [],
   "source": [
    "R_Ms_ADRES_EPS025 = r\"C:\\Users\\osmarrincon\\OneDrive - 891856000_CAPRESOCA E P S\\Escritorio\\Yesid Rincón Z\\Traslados\\Procesos BDUA\\2025\\04_Abril\\15\\EPS025MS0014042025.TXT\"\n",
    "R_Ms_SIE = r\"C:\\Users\\osmarrincon\\OneDrive - uniminuto.edu\\Capresoca\\AlmostClear\\SIE\\Aseguramiento\\ms_sie\\Reporte_Validación Archivos Maestro_2025_04_15.csv\"\n",
    "Salida = r\"C:\\Users\\osmarrincon\\OneDrive - 891856000_CAPRESOCA E P S\\Escritorio\\Yesid Rincón Z\\Traslados\\Procesos BDUA\\2025\\04_Abril\\15\\NS 15-04-2025.xlsx\"\n",
    "R_dicionario = r\"C:\\Users\\osmarrincon\\OneDrive - 891856000_CAPRESOCA E P S\\Escritorio\\Yesid Rincón Z\\Traslados\\Procesos BDUA\\2025\\04_Abril\\15\\NOMENCLATURA_DE_DIRECCIONES.xlsx\""
   ]
  },
  {
   "cell_type": "code",
   "execution_count": 13,
   "id": "46f7e77b",
   "metadata": {},
   "outputs": [],
   "source": [
    "Df_SIE = pd.read_csv(R_Ms_SIE, sep=';', dtype=str, encoding='ANSI')\n",
    "\n",
    "new_columns = [\"AFL_ID\", \"ENT_ID\", \"TPS_IDN_ID_CF\", \"HST_IDN_NUMERO_IDENTIFICACION_CF\", \"TPS_IDN_ID\", \"HST_IDN_NUMERO_IDENTIFICACION\", \"AFL_PRIMER_APELLIDO\", \"AFL_SEGUNDO_APELLIDO\", \"AFL_PRIMER_NOMBRE\", \"AFL_SEGUNDO_NOMBRE\", \"AFL_FECHA_NACIMIENTO\", \"TPS_GNR_ID\", \"AFL_PAIS_NACIMIENTO\", \"AFL_MUNICIPIO_NACIMIENTO\", \"AFL_NACIONALIDAD\", \"AFL_SEXO_IDENTIFICACION\", \"AFL_DISCAPACIDAD\", \"TPS_AFL_ID\", \"TPS_PRN_ID\", \"TPS_GRP_PBL_ID\", \"TPS_NVL_SSB_ID\", \"NUMEROFICHASISBEN\", \"TPS_CND_BNF_ID\", \"DPR_ID\", \"MNC_ID\", \"ZNS_ID\", \"AFL_FECHA_AFILIACION_SGSSS\", \"AFC_FECHA_INICIO\", \"NUMERO CONTRATO\", \"FECHADE INICIO DEL CONTRATO\", \"CNT_AFL_TPS_GRP_PBL_ID\", \"CNT_AFL_TPS_PRT_ETN_ID\", \"TPS_MDL_SBS_ID\", \"TPS_EST_AFL_ID\", \"CND_AFL_FECHA_INICIO\", \"CND_AFL_FECHA_INICIO\", \"GRP_FML_COTIZANTE_ID\", \"PORTABILIDAD\", \"COD_IPS_P\", \"MTDLG_G_P\", \"SUB_SISBEN_IV\", \"MARCASISBENIV+MARCASISBENIII\", \"CRUCE_BDEX_RNEC\"]\n",
    "\n",
    "Df_EPS025 = pd.read_csv(R_Ms_ADRES_EPS025, sep=',', header=None, dtype=str, encoding='ANSI')\n",
    "Df_EPS025.columns = new_columns"
   ]
  },
  {
   "cell_type": "code",
   "execution_count": 14,
   "id": "2696eced",
   "metadata": {},
   "outputs": [
    {
     "data": {
      "text/plain": [
       "Index(['Nomclatura', 'Nombre'], dtype='object')"
      ]
     },
     "execution_count": 14,
     "metadata": {},
     "output_type": "execute_result"
    }
   ],
   "source": [
    "df_nomenclatura = pd.read_excel(R_dicionario, sheet_name=\"NOMENCLATURA\", header=0, dtype=str)\n",
    "df_nomenclatura.columns"
   ]
  },
  {
   "cell_type": "code",
   "execution_count": 15,
   "id": "74a3f206",
   "metadata": {},
   "outputs": [],
   "source": [
    "# Seleccionar las columnas clave y las columnas a agregar de Df_SIE\n",
    "cols_to_transfer = [\"tipo_documento\", \"numero_identificacion\", \"direccion\", \"celular\", \"correo_electronico\", \"discapacidad\", \"municipio_nacimiento\"]\n",
    "df_sie_subset = Df_SIE[cols_to_transfer]\n",
    "\n",
    "# Realizar la fusión (merge) de Df_EPS025 con el subconjunto de Df_SIE utilizando las columnas de identificación\n",
    "Df_EPS025 = Df_EPS025.merge(\n",
    "\tdf_sie_subset,\n",
    "\thow=\"left\",\n",
    "\tleft_on=[\"TPS_IDN_ID\", \"HST_IDN_NUMERO_IDENTIFICACION\"],\n",
    "\tright_on=[\"tipo_documento\", \"numero_identificacion\"]\n",
    ")\n",
    "\n",
    "# Eliminar las columnas clave de Df_SIE que ya no sean necesarias\n",
    "Df_EPS025.drop(columns=[\"tipo_documento\", \"numero_identificacion\"], inplace=True)"
   ]
  },
  {
   "cell_type": "code",
   "execution_count": 16,
   "id": "0ff2dbab",
   "metadata": {},
   "outputs": [],
   "source": [
    "Df_EPS025 = Df_EPS025[Df_EPS025[\"TPS_EST_AFL_ID\"] == \"AC\"]"
   ]
  },
  {
   "cell_type": "code",
   "execution_count": 17,
   "id": "a75e6b39",
   "metadata": {},
   "outputs": [],
   "source": [
    "import difflib\n",
    "import pandas as pd\n",
    "import numpy as np\n",
    "\n",
    "# Crear diccionario desde df_nomenclatura\n",
    "nomenclatura_dict = dict(\n",
    "    zip(\n",
    "        df_nomenclatura[\"Nombre\"].str.lower().str.strip(),\n",
    "        df_nomenclatura[\"Nomclatura\"].str.strip()\n",
    "    )\n",
    ")\n",
    "\n",
    "def sustituir_palabras(direccion):\n",
    "    # Verifica que el valor sea una cadena de texto\n",
    "    if not isinstance(direccion, str):\n",
    "        return np.nan  # Devuelve NaN para mantener consistencia en tipos\n",
    "\n",
    "    palabras = direccion.split()\n",
    "    resultado = []\n",
    "    for palabra in palabras:\n",
    "        coincidencias = difflib.get_close_matches(palabra.lower(), nomenclatura_dict.keys(), n=1, cutoff=0.8)\n",
    "        if coincidencias:\n",
    "            resultado.append(nomenclatura_dict[coincidencias[0]])\n",
    "        else:\n",
    "            resultado.append(palabra)\n",
    "    return \" \".join(resultado)\n",
    "\n",
    "# Aplicar la transformación a la columna \"direccion\" de Df_EPS025\n",
    "Df_EPS025[\"direccion\"] = Df_EPS025[\"direccion\"].apply(sustituir_palabras)\n"
   ]
  },
  {
   "cell_type": "code",
   "execution_count": 18,
   "id": "322e1136",
   "metadata": {},
   "outputs": [],
   "source": [
    "import re\n",
    "import difflib\n",
    "\n",
    "# Lista de palabras prohibidas (en minúsculas y sin espacios)\n",
    "forbidden = [\"notiene\", \"actualizar\", \"sincorreo\"]\n",
    "\n",
    "def limpiar_valor(val):\n",
    "    if not isinstance(val, str):\n",
    "        return val\n",
    "    # Dividir el texto en tokens usando caracteres no alfanuméricos\n",
    "    tokens = re.split(r'\\W+', val.lower())\n",
    "    for token in tokens:\n",
    "        if token:  # Si el token no está vacío\n",
    "            for palabra in forbidden:\n",
    "                # Si la semejanza es mayor o igual al 80%, se limpia el dato\n",
    "                if difflib.SequenceMatcher(None, token, palabra).ratio() >= 0.8:\n",
    "                    return \"\"\n",
    "    return val\n",
    "\n",
    "# Aplicar la función de limpieza a las columnas \"direccion\", \"celular\" y \"correo_electronico\"\n",
    "for col in [\"direccion\", \"celular\", \"correo_electronico\"]:\n",
    "    Df_EPS025[col] = Df_EPS025[col].apply(limpiar_valor)"
   ]
  },
  {
   "cell_type": "code",
   "execution_count": 19,
   "id": "8ff3dffb",
   "metadata": {},
   "outputs": [],
   "source": [
    "import re\n",
    "\n",
    "def validate_celular(cell):\n",
    "    if not isinstance(cell, str):\n",
    "        return \"\"\n",
    "    # Eliminar espacios y todos los caracteres que no sean dígitos\n",
    "    cleaned = re.sub(r\"[^0-9]\", \"\", cell)\n",
    "    # Si el resultado no tiene 10 dígitos o no inicia con 3, se asigna cadena vacía\n",
    "    if len(cleaned) != 10 or not cleaned.startswith(\"3\"):\n",
    "        return \"\"\n",
    "    return cleaned\n",
    "\n",
    "Df_EPS025[\"celular\"] = Df_EPS025[\"celular\"].apply(validate_celular)"
   ]
  },
  {
   "cell_type": "code",
   "execution_count": 20,
   "id": "f1229eda",
   "metadata": {},
   "outputs": [],
   "source": [
    "mask = Df_EPS025[[\"direccion\", \"celular\", \"correo_electronico\", \"discapacidad\", \"municipio_nacimiento\"]].replace(\"\", pd.NA).isna().all(axis=1)\n",
    "Df_EPS025 = Df_EPS025[~mask]"
   ]
  },
  {
   "cell_type": "code",
   "execution_count": 21,
   "id": "53981f40",
   "metadata": {},
   "outputs": [],
   "source": [
    "Df_EPS025.to_excel(Salida, index=False)"
   ]
  }
 ],
 "metadata": {
  "kernelspec": {
   "display_name": "Python 3",
   "language": "python",
   "name": "python3"
  },
  "language_info": {
   "codemirror_mode": {
    "name": "ipython",
    "version": 3
   },
   "file_extension": ".py",
   "mimetype": "text/x-python",
   "name": "python",
   "nbconvert_exporter": "python",
   "pygments_lexer": "ipython3",
   "version": "3.12.2"
  }
 },
 "nbformat": 4,
 "nbformat_minor": 5
}
