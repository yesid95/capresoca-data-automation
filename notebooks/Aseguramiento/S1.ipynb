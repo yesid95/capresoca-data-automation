{
 "cells": [
  {
   "cell_type": "code",
   "execution_count": 10,
   "id": "73c2086a",
   "metadata": {},
   "outputs": [],
   "source": [
    "import datetime\n",
    "import os\n",
    "import pandas as pd\n",
    "\n",
    "# datetime: Provee clases y métodos para trabajar con fechas y horas.\n",
    "# Utilízalo para operaciones de cálculo y formateo de fechas.\n",
    "\n",
    "# os: Permite interactuar con el sistema operativo.\n",
    "# Úsalo para gestionar rutas y realizar operaciones relacionadas con el sistema de archivos,\n",
    "# asegurándote de mantener la portabilidad y seguridad en el acceso a recursos.\n",
    "\n",
    "# pandas: Biblioteca robusta para manipulación y análisis de datos.\n",
    "# Empléala para la creación y manejo de DataFrames, facilitando tareas de análisis y transformación."
   ]
  },
  {
   "cell_type": "markdown",
   "id": "01a499e3",
   "metadata": {},
   "source": [
    "# 1. Rutas"
   ]
  },
  {
   "cell_type": "code",
   "execution_count": 11,
   "id": "bdd3421e",
   "metadata": {},
   "outputs": [],
   "source": [
    "# Rutas de entrada Home\n",
    "R_S1_SIE = r\"C:\\Users\\crist\\Downloads\\SIE_S1EPS02511052025.txt\"\n",
    "R_Ms_ADRES_EPSC25 = r\"D:\\OneDrive - uniminuto.edu\\Capresoca\\AlmostClear\\Procesos BDUA\\Contributivo\\Maestro\\2025-2\\EPSC25MC0009052025.TXT\"\n",
    "R_Ms_ADRES_EPS025 = r\"D:\\OneDrive - uniminuto.edu\\Capresoca\\AlmostClear\\Procesos BDUA\\Subsidiados\\Maestro\\MS\\2025-2\\EPS025MS0009052025.TXT\""
   ]
  },
  {
   "cell_type": "markdown",
   "id": "507c9b0a",
   "metadata": {},
   "source": [
    "# 2. Definicion de dataframes "
   ]
  },
  {
   "cell_type": "markdown",
   "id": "c5e45d75",
   "metadata": {},
   "source": [
    "## 2.1 S1 SIE"
   ]
  },
  {
   "cell_type": "code",
   "execution_count": 12,
   "id": "fd3f272f",
   "metadata": {},
   "outputs": [],
   "source": [
    "df_S1_SIE = pd.read_csv(R_S1_SIE, header=None, sep=\",\", dtype=str, encoding=\"ANSI\")\n",
    "column_names = [\n",
    "    \"ENT_ID\", \"TPS_IDN_ID\", \"HST_IDN_NUMERO_IDENTIFICACION\", \"AFL_PRIMER_APELLIDO\", \n",
    "    \"AFL_SEGUNDO_APELLIDO\", \"AFL_PRIMER_NOMBRE\", \"AFL_SEGUNDO_NOMBRE\", \"AFL_FECHA_NACIMIENTO\", \n",
    "    \"TPS_GNR_ID\", \"TPS_IDN_ID_2\", \"HST_IDN_NUMERO_IDENTIFICACION_2\", \"AFL_PRIMER_APELLIDO_2\", \n",
    "    \"AFL_SEGUNDO_APELLIDO_2\", \"AFL_PRIMER_NOMBRE_2\", \"AFL_SEGUNDO_NOMBRE_2\", \"AFL_FECHA_NACIMIENTO_2\", \n",
    "    \"TPS_GNR_ID_2\", \"DPR_ID\", \"MNC_ID\", \"ZNS_ID\", \"FECHA_AFILIACION_MOVILIDAD\", \n",
    "    \"TPS_GRP_PBL_ID\", \"TPS_NVL_SSB_ID\", \"TIPO_TRASLADO\", \"CND_AFL_SBS_METODOLOGIA\", \n",
    "    \"CND_AFL_SBS_SUBGRUPO_SIV\", \"CON_DISCAPACIDAD\", \"TPS_IDN_CF_ID\", \n",
    "    \"HST_IDN_NUMERO_CF_IDENTIFICACION\", \"TPS_PRN_ID\", \"TPS_AFL_ID\", \"TPS_ETN_ID\", \n",
    "    \"NOM_RESGUARDO_INDIGENA\", \"PAIS_NACIMIENTO\", \"LUGAR_NACIMIENTO\", \"NACIONALIDAD\", \n",
    "    \"SEXO_IDENTIFICACION\", \"TIPO_DISCAPACIDAD\"\n",
    "]"
   ]
  },
  {
   "cell_type": "markdown",
   "id": "c9b7ac16",
   "metadata": {},
   "source": [
    "## 2.2.  Maestro ADRES"
   ]
  },
  {
   "cell_type": "code",
   "execution_count": null,
   "id": "891f4e99",
   "metadata": {},
   "outputs": [],
   "source": [
    "new_columns = [\n",
    "    \"AFL_ID\", \"ENT_ID\", \"TPS_IDN_CF_ID\", \"HST_IDN_NUMERO_CF_IDENTIFICACION\", \"TPS_IDN_ID\", \"HST_IDN_NUMERO_IDENTIFICACION\", \n",
    "    \"AFL_PRIMER_APELLIDO\", \"AFL_SEGUNDO_APELLIDO\", \"AFL_PRIMER_NOMBRE\", \"AFL_SEGUNDO_NOMBRE\", \"AFL_FECHA_NACIMIENTO\",\n",
    "    \"TPS_GNR_ID\", \"PAIS_NACIMIENTO\", \"LUGAR_NACIMIENTO\", \"NACIONALIDAD\", \"SEXO_IDENTIFICACION\",\n",
    "    \"CON_DISCAPACIDAD\", \"TPS_AFL_ID\", \"TPS_PRN_ID\", \"TPS_GRP_PBL_ID\", \"TPS_NVL_SSB_ID\", \"NUMEROFICHASISBEN\",\n",
    "    \"TPS_CND_BNF_ID\", \"DPR_ID\", \"MNC_ID\", \"ZNS_ID\", \"AFL_FECHA_AFILIACION_SGSSS\", \"AFC_FECHA_INICIO\", \"NUMERO CONTRATO\",\n",
    "    \"FECHADE INICIO DEL CONTRATO\", \"CNT_AFL_TPS_GRP_PBL_ID\", \"CNT_AFL_TPS_PRT_ETN_ID\", \"TPS_MDL_SBS_ID\", \"TPS_EST_AFL_ID\",\n",
    "    \"CND_AFL_FECHA_INICIO\", \"CND_AFL_FECHA_INICIO\", \"GRP_FML_COTIZANTE_ID\", \"PORTABILIDAD\", \"COD_IPS_P\", \"MTDLG_G_P\",\n",
    "    \"SUB_SISBEN_IV\", \"MARCASISBENIV+MARCASISBENIII\", \"CRUCE_BDEX_RNEC\"\n",
    "    ]\n",
    "\n",
    "Df_EPS025 = pd.read_csv(R_Ms_ADRES_EPS025, sep=',', header=None, dtype=str, encoding='ANSI')\n",
    "Df_EPS025.columns = new_columns\n",
    "\n",
    "Df_EPSC25 = pd.read_csv(R_Ms_ADRES_EPSC25, sep=',', header=None, dtype=str, encoding='ANSI')\n",
    "Df_EPSC25.columns = new_columns\n",
    "\n",
    "# 1. Concatenar uno debajo del otro\n",
    "DF_ADRES = pd.concat(\n",
    "    [Df_EPS025, Df_EPSC25],\n",
    "    ignore_index=True,   # reindexa de 0…n-1\n",
    "    sort=False           # evita warnings si el orden de columnas coincide\n",
    ")\n",
    "\n",
    "# 2. (Opcional) borrar los DataFrames originales para liberar memoria\n",
    "del Df_EPS025, Df_EPSC25"
   ]
  },
  {
   "cell_type": "markdown",
   "id": "1bb448e2",
   "metadata": {},
   "source": [
    "# 3. Validaciones "
   ]
  },
  {
   "cell_type": "markdown",
   "id": "75547e38",
   "metadata": {},
   "source": [
    "# 3.1. Usuarios Contributivos Cabezas de Familia"
   ]
  },
  {
   "cell_type": "code",
   "execution_count": null,
   "id": "79fc242a",
   "metadata": {},
   "outputs": [],
   "source": []
  }
 ],
 "metadata": {
  "kernelspec": {
   "display_name": "Python 3",
   "language": "python",
   "name": "python3"
  },
  "language_info": {
   "codemirror_mode": {
    "name": "ipython",
    "version": 3
   },
   "file_extension": ".py",
   "mimetype": "text/x-python",
   "name": "python",
   "nbconvert_exporter": "python",
   "pygments_lexer": "ipython3",
   "version": "3.11.4"
  }
 },
 "nbformat": 4,
 "nbformat_minor": 5
}
