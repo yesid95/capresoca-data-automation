{
 "cells": [
  {
   "cell_type": "markdown",
   "id": "3d80ef40",
   "metadata": {},
   "source": [
    "# Concluciones del proceso\n",
    "\n",
    "Durante el primer cuatrimestre de 2025 se realizaron 11 envíos semanales de MS a ADRES (3 en enero, 3 en febrero, 3 en marzo y 2 en abril). A nivel mensual se glosaron 32 registros en enero (10 validados, 31 % de efectividad), 37 en febrero (16 validados, 43 %), 20 en marzo (13 validados, 65 %) y 13 en abril (6 validados, 46 %). En total fueron 102 glosados, de los cuales 45 se resolvieron dentro del mismo mes (44 % de efectividad mensual). Desglosando por envío, el volumen de glosados osciló entre 7 y 27, y la tasa de corrección varió de un mínimo de 0 % (segundo envío de abril) a un máximo de 64 % (tercer envío de febrero), con un promedio de 46 % por ciclo. Este patrón muestra que los meses con tres envíos (enero–marzo) alcanzan mayores oportunidades de reenvío y, por ende, mejores niveles de limpieza de glosas, mientras que un menor número de cortes (abril) reduce las veces de corrección y afecta la efectividad global."
   ]
  },
  {
   "cell_type": "markdown",
   "id": "feb6d298",
   "metadata": {},
   "source": [
    "# 1. Modulos"
   ]
  },
  {
   "cell_type": "code",
   "execution_count": 2,
   "id": "9f736487",
   "metadata": {},
   "outputs": [],
   "source": [
    "import pandas as pd\n",
    "import numpy as np\n",
    "from reportlab.pdfgen import canvas\n",
    "from reportlab.lib.pagesizes import letter\n",
    "import openpyxl\n",
    "import xlsxwriter\n",
    "from docx import Document\n",
    "from datetime import datetime\n",
    "import matplotlib.pyplot as plt\n",
    "import squarify\n",
    "import subprocess\n",
    "import os\n",
    "import dataframe_image as dfi\n",
    "import kaleido"
   ]
  },
  {
   "cell_type": "markdown",
   "id": "539ea968",
   "metadata": {},
   "source": [
    "# 2. Rutas y contantes"
   ]
  },
  {
   "cell_type": "code",
   "execution_count": 3,
   "id": "c8f78805",
   "metadata": {},
   "outputs": [],
   "source": [
    "R_Glosas = r\"C:\\Users\\osmarrincon\\OneDrive - uniminuto.edu\\Capresoca\\AlmostClear\\Constantes\\Glosas ADRES 2025.xlsx\"\n",
    "R_MS_Neg = r\"C:\\Users\\osmarrincon\\OneDrive - uniminuto.edu\\Capresoca\\AlmostClear\\Procesos BDUA\\Subsidiados\\Procesos BDUA EPS\\MS\\MS Negado\\All_MS_NEG.TXT\"\n",
    "R_MS_Val = r\"C:\\Users\\osmarrincon\\OneDrive - uniminuto.edu\\Capresoca\\AlmostClear\\Procesos BDUA\\Subsidiados\\Procesos BDUA EPS\\MS\\MS Validados\\All_MS_VAL.TXT\"\n",
    "\n",
    "R_Salida = r\"C:\\Users\\osmarrincon\\OneDrive - 891856000_CAPRESOCA E P S\\Escritorio\\Yesid Rincón Z\\informes\\2025\\CTO135.2025 Informe  #6\\ACTIVIDAD 14\\Analisis detallado MS negados\"\n",
    "\n",
    "# ——————————————————————————————\n",
    "# 0) Prepara rutas y carpetas\n",
    "# ——————————————————————————————\n",
    "graficas_dir = os.path.join(R_Salida, \"Graficas\")\n",
    "os.makedirs(graficas_dir, exist_ok=True)\n",
    "\n",
    "ruta_excel   = os.path.join(R_Salida, \"Metricas_Glosas_MS_entrega.xlsx\")"
   ]
  },
  {
   "cell_type": "code",
   "execution_count": 4,
   "id": "cacd151c",
   "metadata": {},
   "outputs": [],
   "source": [
    "# Convertir las constantes a objetos datetime\n",
    "Mes_Ini = datetime.strptime('01/01/2025', '%d/%m/%Y')\n",
    "Mes_Fin = datetime.strptime('30/04/2025', '%d/%m/%Y')\n",
    "\n",
    "# ajusta a tu nombre real\n",
    "notebook = r\"C:\\Users\\osmarrincon\\Documents\\capresoca-data-automation\\notebooks\\Aseguramiento\\Inf_Ejec_MS_NEG.ipynb\""
   ]
  },
  {
   "cell_type": "code",
   "execution_count": 5,
   "id": "1c76a343",
   "metadata": {},
   "outputs": [
    {
     "data": {
      "text/plain": [
       "datetime.datetime"
      ]
     },
     "execution_count": 5,
     "metadata": {},
     "output_type": "execute_result"
    }
   ],
   "source": [
    "type(Mes_Fin)"
   ]
  },
  {
   "cell_type": "markdown",
   "id": "f7465776",
   "metadata": {},
   "source": [
    "# 3. Cargue de Dataframes "
   ]
  },
  {
   "cell_type": "code",
   "execution_count": 6,
   "id": "d6879502",
   "metadata": {},
   "outputs": [],
   "source": [
    "df_glosas = pd.read_excel(R_Glosas, sheet_name=\"Glosas de Negocio_BDUA\", usecols=\"A:B\", header=0, dtype=str)\n",
    "\n",
    "Df_MS_Neg = pd.read_csv(R_MS_Neg, sep=',', header=0, dtype=str, encoding='ANSI')\n",
    "Df_MS_Val = pd.read_csv(R_MS_Val, sep=',', header=0, dtype=str, encoding='ANSI')\n"
   ]
  },
  {
   "cell_type": "markdown",
   "id": "c6b0a06d",
   "metadata": {},
   "source": [
    "# 4. Limpieza de dataframes"
   ]
  },
  {
   "cell_type": "markdown",
   "id": "8f7acaf0",
   "metadata": {},
   "source": [
    "## 4.1 dicionario de Glosas"
   ]
  },
  {
   "cell_type": "code",
   "execution_count": 7,
   "id": "ae21696a",
   "metadata": {},
   "outputs": [
    {
     "name": "stdout",
     "output_type": "stream",
     "text": [
      "Número de registros antes de eliminar duplicados: 212\n",
      "Número de registros después de eliminar duplicados: 212\n"
     ]
    }
   ],
   "source": [
    "df_glosas.columns = df_glosas.columns.str.strip()\n",
    "# Reemplazar cadenas vacías que contienen solo espacios por NaN\n",
    "df_glosas[['Glosa', 'Descripción']] = df_glosas[['Glosa', 'Descripción']].replace(r'^\\s*$', np.nan, regex=True)\n",
    "# Eliminar las filas donde ambas columnas son NaN\n",
    "df_glosas = df_glosas.dropna(subset=['Glosa', 'Descripción'], how='all')\n",
    "\n",
    "# Número de registros antes de eliminar duplicados\n",
    "n_registros_antes = len(df_glosas)\n",
    "print(\"Número de registros antes de eliminar duplicados:\", n_registros_antes)\n",
    "\n",
    "# Eliminar duplicados de la columna \"Glosa\"\n",
    "df_glosas = df_glosas.drop_duplicates(subset=\"Glosa\")\n",
    "\n",
    "# Número de registros después de eliminar duplicados\n",
    "n_registros_despues = len(df_glosas)\n",
    "print(\"Número de registros después de eliminar duplicados:\", n_registros_despues)\n"
   ]
  },
  {
   "cell_type": "code",
   "execution_count": 8,
   "id": "4c5d0e87",
   "metadata": {},
   "outputs": [
    {
     "name": "stdout",
     "output_type": "stream",
     "text": [
      "Longitud mayoritaria: 6\n",
      "Filas con una longitud diferente a la mayoría:\n",
      "         Glosa                                        Descripción\n",
      "159     GN0161  La solicitud de trámite de traslado a la misma...\n",
      "334  GN0501(A)  El afiliado cotizante o cabeza de familia ha r...\n",
      "335  GN0501(B)  El beneficiario o adicional no se puede inclui...\n",
      "336  GN0501(C)  El afiliado se encuentra reportado como suspen...\n",
      "337  GN0501(D)  El afiliado corresponde a un cabeza de familia...\n",
      "338  GN0501(E)  Es una novedad retroactiva sobre el tramo de h...\n",
      "339  GN0501(F)  La relación laboral no puede ser reportada pue...\n"
     ]
    }
   ],
   "source": [
    "# Calcular la longitud de cada valor de la columna 'Glosa'\n",
    "lengths = df_glosas['Glosa'].astype(str).str.len()\n",
    "\n",
    "# Determinar la longitud más frecuente (la modalidad)\n",
    "majority_length = lengths.mode()[0]\n",
    "print(\"Longitud mayoritaria:\", majority_length)\n",
    "\n",
    "# Filtrar las filas donde la longitud es diferente a la mayoritaria\n",
    "different_rows = df_glosas[lengths != majority_length]\n",
    "print(\"Filas con una longitud diferente a la mayoría:\")\n",
    "print(different_rows)"
   ]
  },
  {
   "cell_type": "markdown",
   "id": "3c003cc0",
   "metadata": {},
   "source": [
    "## 4.2. MS negado"
   ]
  },
  {
   "cell_type": "code",
   "execution_count": 9,
   "id": "46255d5f",
   "metadata": {},
   "outputs": [],
   "source": [
    "# Convertir las columnas a formato datetime\n",
    "Df_MS_Neg['AFL_FECHA_NACIMIENTO'] = pd.to_datetime(Df_MS_Neg['AFL_FECHA_NACIMIENTO'], format='%d/%m/%Y')\n",
    "Df_MS_Neg['CND_AFL_FECHA_INICIO'] = pd.to_datetime(Df_MS_Neg['CND_AFL_FECHA_INICIO'], format='%d/%m/%Y')\n",
    "Df_MS_Neg['Fecha_Proceso'] = pd.to_datetime(Df_MS_Neg['Fecha_Proceso'], format='%d/%m/%Y')"
   ]
  },
  {
   "cell_type": "code",
   "execution_count": 10,
   "id": "3323059c",
   "metadata": {},
   "outputs": [
    {
     "name": "stdout",
     "output_type": "stream",
     "text": [
      "Número de registros antes de filtrar Fecha proceso: 22357\n",
      "Número de registros despues de filtrar fecha proceso: 145\n"
     ]
    }
   ],
   "source": [
    "print(\"Número de registros antes de filtrar Fecha proceso:\", len(Df_MS_Neg))\n",
    "# Filtrar registros dentro del rango de fechas\n",
    "Df_MS_Neg = Df_MS_Neg[(Df_MS_Neg['Fecha_Proceso'] >= Mes_Ini) & (Df_MS_Neg['Fecha_Proceso'] <= Mes_Fin)]\n",
    "print(\"Número de registros despues de filtrar fecha proceso:\", len(Df_MS_Neg))"
   ]
  },
  {
   "cell_type": "markdown",
   "id": "77e13e7e",
   "metadata": {},
   "source": [
    "## 4.3 MS validados"
   ]
  },
  {
   "cell_type": "code",
   "execution_count": 11,
   "id": "0d6f6c75",
   "metadata": {},
   "outputs": [],
   "source": [
    "# Convertir las columnas a formato datetime\n",
    "Df_MS_Val['AFL_FECHA_NACIMIENTO'] = pd.to_datetime(Df_MS_Val['AFL_FECHA_NACIMIENTO'], format='%d/%m/%Y')\n",
    "Df_MS_Val['CND_AFL_FECHA_INICIO'] = pd.to_datetime(Df_MS_Val['CND_AFL_FECHA_INICIO'], format='%d/%m/%Y')\n",
    "Df_MS_Val['Fecha_Proceso'] = pd.to_datetime(Df_MS_Val['Fecha_Proceso'], format='%d/%m/%Y')"
   ]
  },
  {
   "cell_type": "code",
   "execution_count": 12,
   "id": "bcb8cfe9",
   "metadata": {},
   "outputs": [
    {
     "name": "stdout",
     "output_type": "stream",
     "text": [
      "Número de registros antes de filtrar Fecha proceso: 19654\n",
      "Número de registros despues de filtrar fecha proceso: 353\n"
     ]
    }
   ],
   "source": [
    "print(\"Número de registros antes de filtrar Fecha proceso:\", len(Df_MS_Val))\n",
    "# Filtrar registros dentro del rango de fechas\n",
    "Df_MS_Val = Df_MS_Val[(Df_MS_Val['Fecha_Proceso'] >= Mes_Ini) & (Df_MS_Val['Fecha_Proceso'] <= Mes_Fin)]\n",
    "print(\"Número de registros despues de filtrar fecha proceso:\", len(Df_MS_Val))"
   ]
  },
  {
   "cell_type": "markdown",
   "id": "ea2c9ef2",
   "metadata": {},
   "source": [
    "# 5. Analisis de los Datos"
   ]
  },
  {
   "cell_type": "markdown",
   "id": "7726198f",
   "metadata": {},
   "source": [
    "## 5.1. métricas inicales"
   ]
  },
  {
   "cell_type": "markdown",
   "id": "735ba862",
   "metadata": {},
   "source": [
    "### 5.1 Cálculo de glosas reales por registro\n",
    "¿Por qué agrupamos por llave “total” y no por fecha de reporte?\n",
    "\n",
    "Llave de negocio constante\n",
    "\n",
    "(ENT_ID, TPS_IDN_ID, HST_IDN_NUMERO_IDENTIFICACION) identifica única e invariablemente a cada afiliado.\n",
    "\n",
    "Incluir Fecha_Proceso en la llave creararía claves distintas para un mismo usuario en cada envío, rompiendo la trazabilidad.\n",
    "\n",
    "Fecha_Proceso como dimensión temporal\n",
    "\n",
    "La usamos fuera de la llave para:\n",
    "\n",
    "Ordenar cronológicamente las glosas.\n",
    "\n",
    "Filtrar por cortes (cuatrimestrales, últimos envíos, etc.).\n",
    "\n",
    "Determinar la “última glosa” de cada afiliado y quién queda pendiente.\n",
    "\n",
    "Beneficio\n",
    "\n",
    "Obtenemos métricas globales (total de glosas, promedio de reintentos, registros pendientes) sin fragmentar la identidad.\n",
    "\n",
    "Podemos profundizar por período sin comprometer la agregación histórica."
   ]
  },
  {
   "cell_type": "code",
   "execution_count": 13,
   "id": "33d59602",
   "metadata": {},
   "outputs": [],
   "source": [
    "# —————————————————————————————————————\n",
    "# 1) Definir la llave única de afiliado\n",
    "# —————————————————————————————————————\n",
    "keys = [\"ENT_ID\", \"TPS_IDN_ID\", \"HST_IDN_NUMERO_IDENTIFICACION\"]\n",
    "\n",
    "Df_MS_Neg[\"_key\"] = (\n",
    "    Df_MS_Neg[keys]\n",
    "      .astype(str)\n",
    "      .agg('|'.join, axis=1)\n",
    ")\n",
    "Df_MS_Val[\"_key\"] = (\n",
    "    Df_MS_Val[keys]\n",
    "      .astype(str)\n",
    "      .agg('|'.join, axis=1)\n",
    ")"
   ]
  },
  {
   "cell_type": "markdown",
   "id": "20b7a923",
   "metadata": {},
   "source": [
    "### 5.1.2. Contar cuántas glosas tuvo cada registro"
   ]
  },
  {
   "cell_type": "code",
   "execution_count": 14,
   "id": "3b36279f",
   "metadata": {},
   "outputs": [],
   "source": [
    "# —————————————————————————————————————\n",
    "# 2) Contar “glosas reales” en cada fila\n",
    "# —————————————————————————————————————\n",
    "def contar_glosas(texto: str) -> int:\n",
    "    # cada glosa está separada por ';'\n",
    "    trozos = texto.strip(';').split(';')\n",
    "    return sum(1 for g in trozos if g)\n",
    "\n",
    "Df_MS_Neg[\"n_glosas\"] = Df_MS_Neg[\"GLOSA\"].apply(contar_glosas)\n"
   ]
  },
  {
   "cell_type": "markdown",
   "id": "96b4560d",
   "metadata": {},
   "source": [
    "### 5.1.3. ¿Cuántos registros terminaron validados?"
   ]
  },
  {
   "cell_type": "code",
   "execution_count": 15,
   "id": "be1dab35",
   "metadata": {},
   "outputs": [
    {
     "name": "stdout",
     "output_type": "stream",
     "text": [
      "total_glosas\n",
      "1     48\n",
      "2     15\n",
      "3     14\n",
      "4      3\n",
      "5      2\n",
      "9      1\n",
      "11     1\n",
      "Name: count, dtype: int64\n",
      "Promedio de glosas por registro: 1.9285714285714286\n"
     ]
    }
   ],
   "source": [
    "# —————————————————————————————————————\n",
    "# 3) Agregar total de glosas por registro\n",
    "# —————————————————————————————————————\n",
    "neg_count = (\n",
    "    Df_MS_Neg\n",
    "      .groupby(\"_key\")[\"n_glosas\"]\n",
    "      .sum()\n",
    "      .rename(\"total_glosas\")\n",
    "      .reset_index()\n",
    ")\n",
    "\n",
    "# Distribución de glosas\n",
    "print(neg_count[\"total_glosas\"].value_counts().sort_index())\n",
    "\n",
    "# Promedio de glosas por registro\n",
    "print(\"Promedio de glosas por registro:\",\n",
    "      neg_count[\"total_glosas\"].mean())"
   ]
  },
  {
   "cell_type": "markdown",
   "id": "95af83d3",
   "metadata": {},
   "source": [
    "### 5.1.4. ¿Cuántas veces, en promedio, se glosó un registro antes de validarse?"
   ]
  },
  {
   "cell_type": "code",
   "execution_count": 16,
   "id": "e1c51cb9",
   "metadata": {},
   "outputs": [
    {
     "name": "stdout",
     "output_type": "stream",
     "text": [
      "De 84 registros negados, 62 acabaron validados.\n"
     ]
    }
   ],
   "source": [
    "# —————————————————————————————————————\n",
    "# 4) ¿Cuántos registros terminaron validados?\n",
    "# —————————————————————————————————————\n",
    "val_keys = set(Df_MS_Val[\"_key\"])\n",
    "neg_count[\"fue_validado\"] = neg_count[\"_key\"].isin(val_keys)\n",
    "\n",
    "print(f\"De {len(neg_count)} registros negados, \"\n",
    "      f\"{neg_count['fue_validado'].sum()} acabaron validados.\")\n"
   ]
  },
  {
   "cell_type": "markdown",
   "id": "a7fde576",
   "metadata": {},
   "source": [
    "### 5.1.5 Promedio de glosas antes de validar"
   ]
  },
  {
   "cell_type": "code",
   "execution_count": 17,
   "id": "867a2f43",
   "metadata": {},
   "outputs": [
    {
     "name": "stdout",
     "output_type": "stream",
     "text": [
      "Promedio de glosas antes de validar: 1.596774193548387\n"
     ]
    }
   ],
   "source": [
    "# —————————————————————————————————————\n",
    "# 5) Promedio de glosas antes de validar\n",
    "# —————————————————————————————————————\n",
    "promedio_antes = neg_count.loc[\n",
    "    neg_count[\"fue_validado\"], \"total_glosas\"\n",
    "].mean()\n",
    "print(\"Promedio de glosas antes de validar:\", promedio_antes)"
   ]
  },
  {
   "cell_type": "markdown",
   "id": "216be680",
   "metadata": {},
   "source": [
    "### 5.1.6 Registros glosados en el último envío\n",
    "Entendemos que el “último reporte” es la fecha máxima de Fecha_Proceso (ultimo reporte del mes). Los registros glosados en esa fecha son los que pasan al siguiente cuatrimestre:"
   ]
  },
  {
   "cell_type": "code",
   "execution_count": 18,
   "id": "73d55d6e",
   "metadata": {},
   "outputs": [
    {
     "name": "stdout",
     "output_type": "stream",
     "text": [
      "Registros glosados en el último envío (pendientes): 7\n"
     ]
    }
   ],
   "source": [
    "# —————————————————————————————————————\n",
    "# 6) Registros glosados en el último envío\n",
    "#    (pendientes para el próximo cuatrimestre)\n",
    "# —————————————————————————————————————\n",
    "ultima_fecha = Df_MS_Neg[\"Fecha_Proceso\"].max()\n",
    "quedan_para_siguiente = (\n",
    "    Df_MS_Neg\n",
    "      .loc[Df_MS_Neg[\"Fecha_Proceso\"] == ultima_fecha, \"_key\"]\n",
    "      .nunique()\n",
    ")\n",
    "print(\"Registros glosados en el último envío (pendientes):\",\n",
    "      quedan_para_siguiente)"
   ]
  },
  {
   "cell_type": "markdown",
   "id": "f53a02b5",
   "metadata": {},
   "source": [
    "### 5.1.7 Identificar registros glosados sin re-envío"
   ]
  },
  {
   "cell_type": "code",
   "execution_count": 19,
   "id": "6822988e",
   "metadata": {},
   "outputs": [
    {
     "name": "stdout",
     "output_type": "stream",
     "text": [
      "Registros glosados que no volvieron a enviarse: 22\n"
     ]
    }
   ],
   "source": [
    "# —————————————————————————————————————\n",
    "# 7) Identificar registros glosados sin re-envío\n",
    "# —————————————————————————————————————\n",
    "\n",
    "# a) Obtengo la última fecha de glosa de cada afiliado\n",
    "last_neg = (\n",
    "    Df_MS_Neg\n",
    "      .groupby(\"_key\")[\"Fecha_Proceso\"]\n",
    "      .max()\n",
    "      .reset_index()\n",
    "      .rename(columns={\"Fecha_Proceso\":\"last_neg_date\"})\n",
    ")\n",
    "\n",
    "# b) Marco si hubo re-envío posterior a esa fecha\n",
    "#    uniendo con el mismo Df_MS_Neg y comprobando fechas\n",
    "tmp = Df_MS_Neg.merge(last_neg, on=\"_key\", how=\"inner\")\n",
    "tiene_reenvio = (\n",
    "    tmp\n",
    "      .assign(flag = tmp[\"Fecha_Proceso\"] > tmp[\"last_neg_date\"])\n",
    "      .groupby(\"_key\")[\"flag\"]\n",
    "      .any()\n",
    "      .reset_index()\n",
    "      .rename(columns={\"flag\":\"tiene_reenvio\"})\n",
    ")\n",
    "\n",
    "last_neg = last_neg.merge(tiene_reenvio, on=\"_key\")\n",
    "\n",
    "# c) Filtrar los que NO tuvieron re-envío y además NO están en validados\n",
    "val_keys = set(Df_MS_Val[\"_key\"])\n",
    "no_reenviado = last_neg[\n",
    "    (~ last_neg[\"tiene_reenvio\"]) &\n",
    "    (~ last_neg[\"_key\"].isin(val_keys))\n",
    "]\n",
    "\n",
    "print(\"Registros glosados que no volvieron a enviarse:\", len(no_reenviado))\n"
   ]
  },
  {
   "cell_type": "markdown",
   "id": "e79195d8",
   "metadata": {},
   "source": [
    "## 5.2. diagnóstico de los registros glosados que no se volvieron a enviar"
   ]
  },
  {
   "cell_type": "markdown",
   "id": "76dfc8b0",
   "metadata": {},
   "source": [
    "### 5..2.1 Identificar los afiliados sin re-envío\n",
    "Partimos del DataFrame last_neg (o de no_reenviado) que ya contiene la llave _key de quienes no tuvieron un envío posterior y no fueron validados:"
   ]
  },
  {
   "cell_type": "code",
   "execution_count": 20,
   "id": "a1633409",
   "metadata": {},
   "outputs": [],
   "source": [
    "# Asumiendo que ya tienes `no_reenviado` con la lista de keys:\n",
    "keys_no_re = set(no_reenviado[\"_key\"])\n",
    "\n",
    "# Filtramos todas las filas originales de Df_MS_Neg de estos keys:\n",
    "df_nr = Df_MS_Neg[ Df_MS_Neg[\"_key\"].isin(keys_no_re) ].copy()"
   ]
  },
  {
   "cell_type": "markdown",
   "id": "bf88c014",
   "metadata": {},
   "source": [
    "### 5.2.2 “Explotar” cada glosa en una fila\n",
    "Convertimos la columna 'Glosa' (con uno o varios GNxxxx(...) separados por ;) en filas independientes:"
   ]
  },
  {
   "cell_type": "code",
   "execution_count": 21,
   "id": "ad3fe10b",
   "metadata": {},
   "outputs": [],
   "source": [
    "# 1) Separamos por `;`\n",
    "df_nr[\"lst_glosa\"] = df_nr[\"GLOSA\"].str.strip(\";\").str.split(\";\")\n",
    "\n",
    "# 2) Explode para tener una fila por cada glosa\n",
    "df_expl = df_nr.explode(\"lst_glosa\").rename(columns={\"lst_glosa\":\"glosa_raw\"})\n",
    "\n",
    "# 3) Extraemos el código (primeros 6 caracteres: GN + 4 dígitos)\n",
    "df_expl[\"GN\"] = df_expl[\"glosa_raw\"].str[:6]\n"
   ]
  },
  {
   "cell_type": "markdown",
   "id": "1abab801",
   "metadata": {},
   "source": [
    "### 5.2.3 Unir con el diccionario de glosas"
   ]
  },
  {
   "cell_type": "code",
   "execution_count": 22,
   "id": "4a098692",
   "metadata": {},
   "outputs": [],
   "source": [
    "df_expl = (\n",
    "    df_expl\n",
    "      .merge(\n",
    "         df_glosas,\n",
    "         left_on=\"GN\",\n",
    "         right_on=\"Glosa\",    # suponiendo que en df_glosas la columna de código se llama \"Glosa\"\n",
    "         how=\"left\"\n",
    "      )\n",
    "      .rename(columns={\"Descripción\":\"descr_glosa\"})\n",
    ")\n"
   ]
  },
  {
   "cell_type": "markdown",
   "id": "ace1dd6f",
   "metadata": {},
   "source": [
    "### 5.2.4 Contar y visualizar las causas\n",
    "1. Top códigos que no se re-envían:"
   ]
  },
  {
   "cell_type": "code",
   "execution_count": 23,
   "id": "13102492",
   "metadata": {},
   "outputs": [
    {
     "name": "stdout",
     "output_type": "stream",
     "text": [
      "GN\n",
      "GN0013    38\n",
      "GN0169    10\n",
      "GN0258     6\n",
      "GN0011     4\n",
      "GN0016     2\n",
      "GN0340     1\n",
      "GN0009     1\n",
      "GN0146     1\n",
      "Name: count, dtype: int64\n"
     ]
    }
   ],
   "source": [
    "top_glosas = df_expl[\"GN\"].value_counts().head(10)\n",
    "print(top_glosas)"
   ]
  },
  {
   "cell_type": "markdown",
   "id": "e965585b",
   "metadata": {},
   "source": [
    "2. Tabla con descripción:"
   ]
  },
  {
   "cell_type": "code",
   "execution_count": 24,
   "id": "c5cf8dfe",
   "metadata": {},
   "outputs": [],
   "source": [
    "# 1) Permitir mostrar texto completo en las celdas\n",
    "pd.set_option(\"display.max_colwidth\", None)\n",
    "\n",
    "# 2) Armar la tabla de glosas con descripción\n",
    "top_tabla = (\n",
    "    df_expl[[\"GN\", \"descr_glosa\"]]\n",
    "      .drop_duplicates(subset=[\"GN\"])\n",
    "      .set_index(\"GN\")\n",
    "      .loc[top_glosas.index]\n",
    ")\n",
    "\n",
    "# 3) Quitar el nombre del índice (para que solo haya un encabezado)\n",
    "top_tabla.index.name = None\n",
    "\n",
    "datos = top_glosas.sort_values()\n",
    "# ---------------------------------------------------\n",
    "# datos = top_glosas  # Serie index=GN, values=conteo\n",
    "top_tabla[\"Frecuencia\"] = datos.reindex(top_tabla.index).fillna(0).astype(int)\n",
    "\n",
    "# ---------------------------------------------------\n",
    "# 2) Reordenar columnas: Frecuencia primero\n",
    "# ---------------------------------------------------\n",
    "top_tabla = top_tabla[[\"Frecuencia\", \"descr_glosa\"]]\n",
    "\n",
    "# ---------------------------------------------------\n",
    "# 3) Preparar estilos con pandas Styler\n",
    "# ---------------------------------------------------\n",
    "pd.set_option(\"display.max_colwidth\", None)    # que no trunque el texto\n",
    "\n",
    "# Definimos estilos CSS para la tabla\n",
    "styles = [\n",
    "    # Encabezado\n",
    "    {\n",
    "      \"selector\": \"th\",\n",
    "      \"props\": [\n",
    "        (\"background-color\", \"#4F81BD\"),\n",
    "        (\"color\", \"white\"),\n",
    "        (\"font-weight\", \"bold\"),\n",
    "        (\"text-align\", \"center\"),\n",
    "        (\"padding\", \"8px\")\n",
    "      ]\n",
    "    },\n",
    "    # Celdas de datos\n",
    "    {\n",
    "      \"selector\": \"td\",\n",
    "      \"props\": [\n",
    "        (\"padding\",        \"6px\"),\n",
    "        (\"border\",         \"1px solid #dddddd\")\n",
    "      ]\n",
    "    },\n",
    "    # Alineamos la columna Frecuencia al centro\n",
    "    {\n",
    "      \"selector\": \"td.row0.col0, td.row1.col0, td.row2.col0, td.row3.col0, td.row4.col0, td.row5.col0, td.row6.col0\",\n",
    "      \"props\": [(\"text-align\", \"center\")]\n",
    "    },\n",
    "    # Celda de índice (GN) con negrita\n",
    "    {\n",
    "      \"selector\": \"th.row_heading\",\n",
    "      \"props\": [(\"font-weight\", \"bold\")]\n",
    "    }\n",
    "]\n",
    "\n",
    "styled = (\n",
    "    top_tabla.style\n",
    "      .set_table_styles(styles)\n",
    "      .format({\"Frecuencia\": \"{:d}\"})    # formateo entero sin decimales\n",
    ")"
   ]
  },
  {
   "cell_type": "code",
   "execution_count": 25,
   "id": "5694cc89",
   "metadata": {},
   "outputs": [
    {
     "data": {
      "text/html": [
       "<style type=\"text/css\">\n",
       "#T_0c2d0 th {\n",
       "  background-color: #4F81BD;\n",
       "  color: white;\n",
       "  font-weight: bold;\n",
       "  text-align: center;\n",
       "  padding: 8px;\n",
       "}\n",
       "#T_0c2d0 td {\n",
       "  padding: 6px;\n",
       "  border: 1px solid #dddddd;\n",
       "}\n",
       "#T_0c2d0 td.row0.col0 {\n",
       "  text-align: center;\n",
       "}\n",
       "#T_0c2d0  td.row1.col0 {\n",
       "  text-align: center;\n",
       "}\n",
       "#T_0c2d0  td.row2.col0 {\n",
       "  text-align: center;\n",
       "}\n",
       "#T_0c2d0  td.row3.col0 {\n",
       "  text-align: center;\n",
       "}\n",
       "#T_0c2d0  td.row4.col0 {\n",
       "  text-align: center;\n",
       "}\n",
       "#T_0c2d0  td.row5.col0 {\n",
       "  text-align: center;\n",
       "}\n",
       "#T_0c2d0  td.row6.col0 {\n",
       "  text-align: center;\n",
       "}\n",
       "#T_0c2d0 th.row_heading {\n",
       "  font-weight: bold;\n",
       "}\n",
       "#T_0c2d0_row0_col0, #T_0c2d0_row0_col1, #T_0c2d0_row1_col0, #T_0c2d0_row1_col1, #T_0c2d0_row2_col0, #T_0c2d0_row2_col1, #T_0c2d0_row3_col0, #T_0c2d0_row3_col1, #T_0c2d0_row4_col0, #T_0c2d0_row4_col1, #T_0c2d0_row5_col0, #T_0c2d0_row5_col1, #T_0c2d0_row6_col0, #T_0c2d0_row6_col1, #T_0c2d0_row7_col0, #T_0c2d0_row7_col1 {\n",
       "  white-space: normal;\n",
       "  word-wrap: break-word;\n",
       "  overflow: hidden;\n",
       "}\n",
       "</style>\n",
       "<table id=\"T_0c2d0\" style=\"width:500px; table-layout: fixed; margin-left: auto; margin-right: auto;\">\n",
       "  <thead>\n",
       "    <tr>\n",
       "      <th class=\"blank level0\" >&nbsp;</th>\n",
       "      <th id=\"T_0c2d0_level0_col0\" class=\"col_heading level0 col0\" >Frecuencia</th>\n",
       "      <th id=\"T_0c2d0_level0_col1\" class=\"col_heading level0 col1\" >descr_glosa</th>\n",
       "    </tr>\n",
       "  </thead>\n",
       "  <tbody>\n",
       "    <tr>\n",
       "      <th id=\"T_0c2d0_level0_row0\" class=\"row_heading level0 row0\" >GN0013</th>\n",
       "      <td id=\"T_0c2d0_row0_col0\" class=\"data row0 col0\" >38</td>\n",
       "      <td id=\"T_0c2d0_row0_col1\" class=\"data row0 col1\" >Afiliado ya existe en la BDUA.</td>\n",
       "    </tr>\n",
       "    <tr>\n",
       "      <th id=\"T_0c2d0_level0_row1\" class=\"row_heading level0 row1\" >GN0169</th>\n",
       "      <td id=\"T_0c2d0_row1_col0\" class=\"data row1 col0\" >10</td>\n",
       "      <td id=\"T_0c2d0_row1_col1\" class=\"data row1 col1\" >Los datos del afiliado enviados no coinciden con los datos certificados por la RNEC.</td>\n",
       "    </tr>\n",
       "    <tr>\n",
       "      <th id=\"T_0c2d0_level0_row2\" class=\"row_heading level0 row2\" >GN0258</th>\n",
       "      <td id=\"T_0c2d0_row2_col0\" class=\"data row2 col0\" >6</td>\n",
       "      <td id=\"T_0c2d0_row2_col1\" class=\"data row2 col1\" >Grupo Poblacional no corresponde con Nivel SISBEN.</td>\n",
       "    </tr>\n",
       "    <tr>\n",
       "      <th id=\"T_0c2d0_level0_row3\" class=\"row_heading level0 row3\" >GN0011</th>\n",
       "      <td id=\"T_0c2d0_row3_col0\" class=\"data row3 col0\" >4</td>\n",
       "      <td id=\"T_0c2d0_row3_col1\" class=\"data row3 col1\" >Cotizante principal (CNT) / Cabeza de familia (SBS), reportado se encuentra en la BDUA en estado RETIRADO - DESAFILIADO - FALLECIDO. \n",
       "// NR:\n",
       "Cotizante principal (CNT), reportado se encuentra en la BDUA en estado RETIRADO - DESAFILIADO - FALLECIDO.</td>\n",
       "    </tr>\n",
       "    <tr>\n",
       "      <th id=\"T_0c2d0_level0_row4\" class=\"row_heading level0 row4\" >GN0016</th>\n",
       "      <td id=\"T_0c2d0_row4_col0\" class=\"data row4 col0\" >2</td>\n",
       "      <td id=\"T_0c2d0_row4_col1\" class=\"data row4 col1\" >Afiliado existe en BDUA con diferente tipo y número de documento de identidad.\n",
       "// NR:\n",
       "El afiliado se encuentra como presunto repetido.</td>\n",
       "    </tr>\n",
       "    <tr>\n",
       "      <th id=\"T_0c2d0_level0_row5\" class=\"row_heading level0 row5\" >GN0340</th>\n",
       "      <td id=\"T_0c2d0_row5_col0\" class=\"data row5 col0\" >1</td>\n",
       "      <td id=\"T_0c2d0_row5_col1\" class=\"data row5 col1\" >IPS Primaria no es válida de acuerdo Registro Especial de Prestadores de Servicios de Salud.</td>\n",
       "    </tr>\n",
       "    <tr>\n",
       "      <th id=\"T_0c2d0_level0_row6\" class=\"row_heading level0 row6\" >GN0009</th>\n",
       "      <td id=\"T_0c2d0_row6_col0\" class=\"data row6 col0\" >1</td>\n",
       "      <td id=\"T_0c2d0_row6_col1\" class=\"data row6 col1\" >Cotizante principal (CNT) / Cabeza de familia (SBS), existe en la BDUA o en el Maestro de Ingresos, pero no pertenece a la misma entidad / régimen o no esta en calidad de Cotizante principal / Cabeza de familia.\n",
       "</td>\n",
       "    </tr>\n",
       "    <tr>\n",
       "      <th id=\"T_0c2d0_level0_row7\" class=\"row_heading level0 row7\" >GN0146</th>\n",
       "      <td id=\"T_0c2d0_row7_col0\" class=\"data row7 col0\" >1</td>\n",
       "      <td id=\"T_0c2d0_row7_col1\" class=\"data row7 col1\" >No se puede asociar el afiliado al afiliado principal enviado en la información auxiliar de la novedad, pues este último ya se encuentra asociado a otro afiliado principal después de la fecha de inicio de novedad.</td>\n",
       "    </tr>\n",
       "  </tbody>\n",
       "</table>\n"
      ],
      "text/plain": [
       "<pandas.io.formats.style.Styler at 0x1c5511e4c80>"
      ]
     },
     "metadata": {},
     "output_type": "display_data"
    }
   ],
   "source": [
    "# ---------------------------------------------------\n",
    "# 1) Limitar ancho de tabla y permitir wrap\n",
    "# ---------------------------------------------------\n",
    "styled = (\n",
    "    top_tabla.style\n",
    "\n",
    "      # 1.1) Ancho total y fixed layout\n",
    "      .set_table_attributes(\n",
    "          'style=\"width:500px; table-layout: fixed; margin-left: auto; margin-right: auto;\"'\n",
    "      )\n",
    "\n",
    "      # 1.2) Estilos generales y de header (como ya tenías)\n",
    "      .set_table_styles(styles)\n",
    "\n",
    "      # 1.3) Para TODAS las celdas: envolver texto y permitir break-word\n",
    "      .set_properties(\n",
    "          **{\n",
    "             \"white-space\": \"normal\", \n",
    "             \"word-wrap\":   \"break-word\",\n",
    "             \"overflow\":    \"hidden\"\n",
    "          }\n",
    "      )\n",
    "\n",
    "      # 1.4) Formato de la frecuencia\n",
    "      .format({\"Frecuencia\": \"{:d}\"})\n",
    ")\n",
    "\n",
    "# ---------------------------------------------------\n",
    "# 2) Mostrar en el notebook\n",
    "# ---------------------------------------------------\n",
    "display(styled)"
   ]
  },
  {
   "cell_type": "markdown",
   "id": "a2b4e417",
   "metadata": {},
   "source": [
    "3. Usar un treemap\n",
    "Un treemap condensa proporción + etiquetas (códigos) en rectángulos de distinto tamaño. Con squarify queda así:"
   ]
  },
  {
   "cell_type": "code",
   "execution_count": 26,
   "id": "ef693d22",
   "metadata": {},
   "outputs": [],
   "source": [
    "# Ordenar de menor a mayor para barras horizontales\n",
    "datos = top_glosas.sort_values()\n",
    "top3 = datos.nlargest(3)\n",
    "other = datos.iloc[3:].sum()\n",
    "# Crear una nueva serie con \"Otros\"\n",
    "otros_serie = pd.Series({\"Otros\": other})\n",
    "# Usar pd.concat para combinar las series\n",
    "resumen = pd.concat([top3, otros_serie])"
   ]
  },
  {
   "cell_type": "code",
   "execution_count": 27,
   "id": "d642b920",
   "metadata": {},
   "outputs": [
    {
     "data": {
      "image/png": "[encoded data removed]",
      "text/plain": [
       "<Figure size 1000x600 with 1 Axes>"
      ]
     },
     "metadata": {},
     "output_type": "display_data"
    }
   ],
   "source": [
    "import os\n",
    "import matplotlib.pyplot as plt\n",
    "import squarify\n",
    "\n",
    "# 1) Crea la carpeta de gráficas si no existe\n",
    "graficas_dir = os.path.join(R_Salida, \"Graficas\")\n",
    "os.makedirs(graficas_dir, exist_ok=True)\n",
    "\n",
    "# 2) Genera la figura y el treemap\n",
    "fig = plt.figure(figsize=(10, 6))\n",
    "sizes = datos.values\n",
    "total = sizes.sum()\n",
    "labels = [\n",
    "    f\"{code}\\n{count} ({count/total*100:.1f}%)\"\n",
    "    for code, count in zip(datos.index, sizes)\n",
    "]\n",
    "cmap = plt.cm.Set3\n",
    "colors = [cmap(i/len(sizes)) for i in range(len(sizes))]\n",
    "\n",
    "squarify.plot(\n",
    "    sizes=sizes,\n",
    "    label=labels,\n",
    "    color=colors,\n",
    "    pad=True,\n",
    "    text_kwargs={'fontsize':12, 'weight':'bold'}\n",
    ")\n",
    "plt.axis('off')\n",
    "plt.title(\"Treemap de glosas sin reenvío (Top glosas)\", fontsize=16)\n",
    "\n",
    "# 3) Guardar la figura en archivo\n",
    "ruta_png = os.path.join(graficas_dir, \"treemap_glosas.png\")\n",
    "fig.savefig(ruta_png, bbox_inches=\"tight\")\n",
    "\n",
    "# 4) mostrarla en pantalla\n",
    "plt.show()\n"
   ]
  },
  {
   "cell_type": "markdown",
   "id": "d445b05a",
   "metadata": {},
   "source": [
    "## 5.3 Tiempo de resolución\n",
    "* ¿Cuánto tarda, en promedio, desde la primera glosa de un registro hasta que finalmente se valida (o queda pendiente)?\n",
    "* Cálculo: para cada _key,\n",
    "\n",
    "En esta sección calculamos el tiempo (en días) que transcurre desde la **primera glosa** de cada afiliado hasta que finalmente aparece **validado** en ADRES.  \n",
    "Este indicador nos ayudará a identificar cuellos de botella en el proceso de corrección y reenvío.\n",
    "\n",
    "**Pasos**:   \n",
    "1. Para cada afiliado (`_key`), obtener las fechas de primera glosa y primera validación.  \n",
    "2. Calcular la diferencia en días.  \n",
    "3. Generar estadísticas descriptivas y visualizar la distribución.\n"
   ]
  },
  {
   "cell_type": "code",
   "execution_count": 28,
   "id": "5b70cd00",
   "metadata": {},
   "outputs": [],
   "source": [
    "# 5.3.1 Fecha de primera glosa por afiliado\n",
    "primera_neg = (\n",
    "    Df_MS_Neg\n",
    "      .groupby(\"_key\")[\"Fecha_Proceso\"]\n",
    "      .min()\n",
    "      .rename(\"fecha_primera_glosa\")\n",
    ")\n",
    "\n",
    "# Fecha de primera validación por afiliado\n",
    "primera_val = (\n",
    "    Df_MS_Val\n",
    "      .groupby(\"_key\")[\"Fecha_Proceso\"]\n",
    "      .min()\n",
    "      .rename(\"fecha_primera_validacion\")\n",
    ")\n",
    "\n",
    "# Unir en un único DataFrame\n",
    "df_tiempo = pd.concat([primera_neg, primera_val], axis=1).dropna()"
   ]
  },
  {
   "cell_type": "markdown",
   "id": "133c17bc",
   "metadata": {},
   "source": [
    "### 5.3.1. Medir resolución en “ciclos de envío” en vez de días\n",
    "En lugar de contar días, calculemos cuántos envíos tardó cada registro:"
   ]
  },
  {
   "cell_type": "code",
   "execution_count": 29,
   "id": "22faed2f",
   "metadata": {},
   "outputs": [
    {
     "name": "stdout",
     "output_type": "stream",
     "text": [
      "Estadísticas de tiempo de resolución (días):\n",
      " count    62.0\n",
      "mean     11.4\n",
      "std       9.3\n",
      "min     -28.0\n",
      "25%       7.0\n",
      "50%       7.0\n",
      "75%      14.0\n",
      "max      42.0\n",
      "Name: dias_resolucion, dtype: float64\n"
     ]
    }
   ],
   "source": [
    "# 5.3.4 Añadir columna de días de resolución\n",
    "df_tiempo[\"dias_resolucion\"] = (\n",
    "    df_tiempo[\"fecha_primera_validacion\"] - \n",
    "    df_tiempo[\"fecha_primera_glosa\"]\n",
    ").dt.days\n",
    "\n",
    "# Estadísticas descriptivas\n",
    "stats = df_tiempo[\"dias_resolucion\"].describe().round(1)\n",
    "print(\"Estadísticas de tiempo de resolución (días):\\n\", stats)\n"
   ]
  },
  {
   "cell_type": "markdown",
   "id": "52bf343f",
   "metadata": {},
   "source": [
    "### 5.3.2 Visualización de la distribución\n",
    "\n",
    "– **Histograma** para ver la forma de la distribución.  \n",
    "– **Boxplot** para identificar posibles valores atípicos (outliers).\n"
   ]
  },
  {
   "cell_type": "code",
   "execution_count": 30,
   "id": "3e8984c0",
   "metadata": {},
   "outputs": [
    {
     "data": {
      "image/png": "[encoded data removed]",
      "text/plain": [
       "<Figure size 1200x400 with 2 Axes>"
      ]
     },
     "metadata": {},
     "output_type": "display_data"
    }
   ],
   "source": [
    "import os\n",
    "import matplotlib.pyplot as plt\n",
    "\n",
    "# 1) Asegúrate de tener definida tu carpeta de gráficas\n",
    "graficas_dir = os.path.join(R_Salida, \"Graficas\")\n",
    "os.makedirs(graficas_dir, exist_ok=True)\n",
    "\n",
    "# 2) Crea la figura y los ejes\n",
    "fig, (ax1, ax2) = plt.subplots(1, 2, figsize=(12,4))\n",
    "\n",
    "# Histograma\n",
    "ax1.hist(df_tiempo[\"dias_resolucion\"], bins=20, edgecolor='k')\n",
    "ax1.set_xlabel(\"Días para validación\")\n",
    "ax1.set_ylabel(\"Número de registros\")\n",
    "ax1.set_title(\"Histograma de tiempo de resolución\")\n",
    "\n",
    "# Boxplot\n",
    "ax2.boxplot(df_tiempo[\"dias_resolucion\"], vert=False)\n",
    "ax2.set_xlabel(\"Días para validación\")\n",
    "ax2.set_title(\"Boxplot de tiempo de resolución\")\n",
    "\n",
    "plt.tight_layout()\n",
    "\n",
    "# 3) Guardar la figura completa\n",
    "ruta_png = os.path.join(graficas_dir, \"tiempo_resolucion.png\")\n",
    "fig.savefig(ruta_png, bbox_inches=\"tight\")\n",
    "\n",
    "# 4) Mostrar en el notebook (opcional)\n",
    "plt.show()"
   ]
  },
  {
   "cell_type": "markdown",
   "id": "d7ba9855",
   "metadata": {},
   "source": [
    "**Interpretación rápida**:  \n",
    "- La media y mediana nos indican el tiempo típico de resolución.  \n",
    "- El histograma muestra si hay sesgos o concentraciones en rangos de días.  \n",
    "- El boxplot revela outliers que podrían requerir un tratamiento especial (casos que tardan demasiado).  "
   ]
  },
  {
   "cell_type": "markdown",
   "id": "d31fbaff",
   "metadata": {},
   "source": [
    "### 5.3.3. Medir resolución en “ciclos de envío” en vez de días\n",
    "En lugar de contar días, calculemos cuántos envíos tardó cada registro:"
   ]
  },
  {
   "cell_type": "code",
   "execution_count": 31,
   "id": "d02805a3",
   "metadata": {},
   "outputs": [
    {
     "name": "stdout",
     "output_type": "stream",
     "text": [
      "Distribución de ciclos de resolución:\n",
      " ciclos_resolucion\n",
      "0     2\n",
      "1    31\n",
      "2    21\n",
      "3     1\n",
      "4     6\n",
      "6     1\n",
      "Name: count, dtype: int64\n",
      "\n",
      "Promedio de ciclos: 1.7\n"
     ]
    }
   ],
   "source": [
    "import pandas as pd\n",
    "\n",
    "# 1. Generar la serie de fechas de envío (viernes hábiles según ADRES)\n",
    "#    Aquí simplificamos a todos los viernes; en producción podrías ajustar feriados.\n",
    "envios = pd.date_range(\n",
    "    start= Df_MS_Neg[\"Fecha_Proceso\"].min().floor('D'),\n",
    "    end= Df_MS_Val[\"Fecha_Proceso\"].max().ceil('D'),\n",
    "    freq='W-FRI'\n",
    ")\n",
    "\n",
    "# 2. Función para contar envíos entre dos fechas\n",
    "def ciclos_entre(fecha_ini, fecha_val):\n",
    "    return ((envios > fecha_ini) & (envios <= fecha_val)).sum()\n",
    "\n",
    "# 3. Aplicar al DataFrame de tiempos\n",
    "df_tiempo[\"ciclos_resolucion\"] = df_tiempo.apply(\n",
    "    lambda row: ciclos_entre(\n",
    "        row[\"fecha_primera_glosa\"], \n",
    "        row[\"fecha_primera_validacion\"]\n",
    "    ),\n",
    "    axis=1\n",
    ")\n",
    "\n",
    "# 4. Estadísticas de ciclos\n",
    "print(\"Distribución de ciclos de resolución:\\n\",\n",
    "      df_tiempo[\"ciclos_resolucion\"].value_counts().sort_index())\n",
    "print(\"\\nPromedio de ciclos:\", df_tiempo[\"ciclos_resolucion\"].mean().round(1))\n"
   ]
  },
  {
   "cell_type": "markdown",
   "id": "3e765247",
   "metadata": {},
   "source": [
    "### 5.3.4 Visualizar ciclos de resolución"
   ]
  },
  {
   "cell_type": "code",
   "execution_count": 32,
   "id": "18af2eac",
   "metadata": {},
   "outputs": [
    {
     "name": "stdout",
     "output_type": "stream",
     "text": [
      "datetime64[ns]\n"
     ]
    }
   ],
   "source": [
    "print(Df_MS_Neg['Fecha_Proceso'].dtypes)"
   ]
  },
  {
   "cell_type": "code",
   "execution_count": 33,
   "id": "a21f65c8",
   "metadata": {},
   "outputs": [
    {
     "data": {
      "image/png": "[encoded data removed]",
      "text/plain": [
       "<Figure size 600x400 with 1 Axes>"
      ]
     },
     "metadata": {},
     "output_type": "display_data"
    }
   ],
   "source": [
    "import os\n",
    "import matplotlib.pyplot as plt\n",
    "\n",
    "# 1) Asegúrate de que exista la carpeta de gráficas\n",
    "graficas_dir = os.path.join(R_Salida, \"Graficas\")\n",
    "os.makedirs(graficas_dir, exist_ok=True)\n",
    "\n",
    "# 2) Crear la figura y el eje\n",
    "fig, ax = plt.subplots(figsize=(6,4))\n",
    "\n",
    "# 3) Dibujar el bar plot\n",
    "df_tiempo[\"ciclos_resolucion\"]\\\n",
    "    .value_counts()\\\n",
    "    .sort_index()\\\n",
    "    .plot.bar(ax=ax)\n",
    "\n",
    "ax.set_xlabel(\"Número de envíos para resolución\")\n",
    "ax.set_ylabel(\"Número de registros\")\n",
    "ax.set_title(\"Ciclos de envío necesarios para corregir glosa\")\n",
    "ax.set_xticklabels(ax.get_xticklabels(), rotation=0)\n",
    "\n",
    "plt.tight_layout()\n",
    "\n",
    "# 4) Guardar la figura\n",
    "ruta_png = os.path.join(graficas_dir, \"ciclos_resolucion.png\")\n",
    "fig.savefig(ruta_png, bbox_inches=\"tight\")\n",
    "\n",
    "# 5) Mostrar (opcional)\n",
    "plt.show()\n"
   ]
  },
  {
   "cell_type": "markdown",
   "id": "8e16e93b",
   "metadata": {},
   "source": [
    "## 5.4 Análisis de combinaciones de glosas\n",
    "\n",
    "En muchos casos un **mismo registro** recibe **varias glosas** en un solo envío.  \n",
    "Detectar patrones de **co-ocurrencia** de códigos nos ayuda a identificar combinaciones frecuentes que podrían tener causas comunes o requerir un mismo proceso de corrección.  \n",
    "\n",
    "**Pasos**:  \n",
    "1. Para cada fila de `Df_MS_Neg`, parsear la lista de códigos GN.  \n",
    "2. Generar todas las **parejas** posibles de códigos dentro de cada fila.  \n",
    "3. Contar cuántas veces aparece cada **par** en todo el conjunto.  \n",
    "4. Mostrar los **top 10 pares** más frecuentes y un **heatmap** de co-ocurrencia para los principales códigos.\n",
    "### 5.5.1 Extraer lista de códigos por fila y generar pares"
   ]
  },
  {
   "cell_type": "code",
   "execution_count": 34,
   "id": "06eaa8c8",
   "metadata": {},
   "outputs": [
    {
     "data": {
      "text/html": [
       "<div>\n",
       "<style scoped>\n",
       "    .dataframe tbody tr th:only-of-type {\n",
       "        vertical-align: middle;\n",
       "    }\n",
       "\n",
       "    .dataframe tbody tr th {\n",
       "        vertical-align: top;\n",
       "    }\n",
       "\n",
       "    .dataframe thead th {\n",
       "        text-align: right;\n",
       "    }\n",
       "</style>\n",
       "<table border=\"1\" class=\"dataframe\">\n",
       "  <thead>\n",
       "    <tr style=\"text-align: right;\">\n",
       "      <th></th>\n",
       "      <th>Par</th>\n",
       "      <th>Frecuencia</th>\n",
       "    </tr>\n",
       "  </thead>\n",
       "  <tbody>\n",
       "    <tr>\n",
       "      <th>0</th>\n",
       "      <td>(GN0011, GN0146)</td>\n",
       "      <td>5</td>\n",
       "    </tr>\n",
       "    <tr>\n",
       "      <th>1</th>\n",
       "      <td>(GN0009, GN0011)</td>\n",
       "      <td>4</td>\n",
       "    </tr>\n",
       "    <tr>\n",
       "      <th>2</th>\n",
       "      <td>(GN0169, GN0258)</td>\n",
       "      <td>3</td>\n",
       "    </tr>\n",
       "    <tr>\n",
       "      <th>3</th>\n",
       "      <td>(GN0009, GN0146)</td>\n",
       "      <td>3</td>\n",
       "    </tr>\n",
       "    <tr>\n",
       "      <th>4</th>\n",
       "      <td>(GN0258, GN0340)</td>\n",
       "      <td>2</td>\n",
       "    </tr>\n",
       "    <tr>\n",
       "      <th>5</th>\n",
       "      <td>(GN0169, GN0340)</td>\n",
       "      <td>1</td>\n",
       "    </tr>\n",
       "    <tr>\n",
       "      <th>6</th>\n",
       "      <td>(GN0019, GN0169)</td>\n",
       "      <td>1</td>\n",
       "    </tr>\n",
       "    <tr>\n",
       "      <th>7</th>\n",
       "      <td>(GN0009, GN0258)</td>\n",
       "      <td>1</td>\n",
       "    </tr>\n",
       "    <tr>\n",
       "      <th>8</th>\n",
       "      <td>(GN0011, GN0258)</td>\n",
       "      <td>1</td>\n",
       "    </tr>\n",
       "    <tr>\n",
       "      <th>9</th>\n",
       "      <td>(GN0146, GN0258)</td>\n",
       "      <td>1</td>\n",
       "    </tr>\n",
       "  </tbody>\n",
       "</table>\n",
       "</div>"
      ],
      "text/plain": [
       "                Par  Frecuencia\n",
       "0  (GN0011, GN0146)           5\n",
       "1  (GN0009, GN0011)           4\n",
       "2  (GN0169, GN0258)           3\n",
       "3  (GN0009, GN0146)           3\n",
       "4  (GN0258, GN0340)           2\n",
       "5  (GN0169, GN0340)           1\n",
       "6  (GN0019, GN0169)           1\n",
       "7  (GN0009, GN0258)           1\n",
       "8  (GN0011, GN0258)           1\n",
       "9  (GN0146, GN0258)           1"
      ]
     },
     "execution_count": 34,
     "metadata": {},
     "output_type": "execute_result"
    }
   ],
   "source": [
    "# 5.5.1 Extraer lista de códigos por fila y generar pares\n",
    "import pandas as pd\n",
    "from itertools import combinations\n",
    "from collections import Counter\n",
    "\n",
    "# Asegurarnos de tener df_expl/df_nr o volver a parsear desde Df_MS_Neg\n",
    "# Aquí volvemos a extraer de Df_MS_Neg\n",
    "def lista_gn(glosa_str):\n",
    "    return [g[:6] for g in glosa_str.strip(\";\").split(\";\") if g]\n",
    "\n",
    "# Generate pairs counter\n",
    "pair_counter = Counter()\n",
    "for lst in Df_MS_Neg[\"GLOSA\"].dropna().apply(lista_gn):\n",
    "    # solo filas con al menos 2 glosas\n",
    "    if len(lst) > 1:\n",
    "        for a,b in combinations(sorted(set(lst)), 2):\n",
    "            pair_counter[(a,b)] += 1\n",
    "\n",
    "# Top 10 pares más frecuentes\n",
    "top_pairs = pair_counter.most_common(10)\n",
    "top_pairs_df = pd.DataFrame(top_pairs, columns=[\"Par\", \"Frecuencia\"])\n",
    "top_pairs_df"
   ]
  },
  {
   "cell_type": "markdown",
   "id": "13ad6678",
   "metadata": {},
   "source": [
    "### 5.4.2 Visualizar los 10 pares más frecuentes\n",
    "\n",
    "La tabla anterior muestra los pares de GN que más aparecen juntos.\n"
   ]
  },
  {
   "cell_type": "code",
   "execution_count": 35,
   "id": "99a97818",
   "metadata": {},
   "outputs": [
    {
     "data": {
      "image/png": "[encoded data removed]",
      "text/plain": [
       "<Figure size 800x400 with 1 Axes>"
      ]
     },
     "metadata": {},
     "output_type": "display_data"
    }
   ],
   "source": [
    "import os\n",
    "import matplotlib.pyplot as plt\n",
    "\n",
    "# 1) Asegurarnos de que exista la carpeta Graficas\n",
    "graficas_dir = os.path.join(R_Salida, \"Graficas\")\n",
    "os.makedirs(graficas_dir, exist_ok=True)\n",
    "\n",
    "# 2) Preparar datos\n",
    "pairs = [\" & \".join(p) for p,_ in top_pairs]\n",
    "freqs = [f for _,f in top_pairs]\n",
    "\n",
    "# 3) Crear figura y eje\n",
    "fig, ax = plt.subplots(figsize=(8,4))\n",
    "ax.barh(pairs[::-1], freqs[::-1])\n",
    "ax.set_xlabel(\"Frecuencia de co-ocurrencia\")\n",
    "ax.set_title(\"Top 10 pares de glosas que ocurren juntos\")\n",
    "plt.tight_layout()\n",
    "\n",
    "# 4) Guardar la figura\n",
    "ruta_png = os.path.join(graficas_dir, \"top_pares_glosas.png\")\n",
    "fig.savefig(ruta_png, bbox_inches=\"tight\")\n",
    "\n",
    "# 5) Mostrar en notebook (opcional)\n",
    "plt.show()\n"
   ]
  },
  {
   "cell_type": "markdown",
   "id": "91ab87ac",
   "metadata": {},
   "source": [
    "### 5.4.3 Heatmap de co-ocurrencia para los principales códigos\n",
    "\n",
    "Para un vistazo más amplio, construimos una matriz de co-ocurrencia para los **top 6** códigos individuales y la mostramos como heatmap.\n"
   ]
  },
  {
   "cell_type": "code",
   "execution_count": 36,
   "id": "5bc8257a",
   "metadata": {},
   "outputs": [
    {
     "data": {
      "image/png": "[encoded data removed]",
      "text/plain": [
       "<Figure size 600x500 with 2 Axes>"
      ]
     },
     "metadata": {},
     "output_type": "display_data"
    }
   ],
   "source": [
    "import os\n",
    "import matplotlib.pyplot as plt\n",
    "import seaborn as sns\n",
    "import pandas as pd\n",
    "\n",
    "# 1) Asegurar carpeta de gráficas\n",
    "graficas_dir = os.path.join(R_Salida, \"Graficas\")\n",
    "os.makedirs(graficas_dir, exist_ok=True)\n",
    "\n",
    "# 2) Preparar datos para el heatmap\n",
    "top_codes = pd.Series(pair_counter).explode().value_counts().head(6).index.tolist()\n",
    "mat = pd.DataFrame(0, index=top_codes, columns=top_codes)\n",
    "for (a,b), cnt in pair_counter.items():\n",
    "    if a in top_codes and b in top_codes:\n",
    "        mat.loc[a,b] = cnt\n",
    "        mat.loc[b,a] = cnt\n",
    "\n",
    "# 3) Crear figura y dibujar heatmap\n",
    "fig, ax = plt.subplots(figsize=(6,5))\n",
    "sns.heatmap(mat, annot=True, fmt=\"d\", cmap=\"Blues\", ax=ax)\n",
    "ax.set_title(\"Heatmap de co-ocurrencia de glosas (top 6 códigos)\")\n",
    "plt.tight_layout()\n",
    "\n",
    "# 4) Guardar en archivo PNG\n",
    "ruta_png = os.path.join(graficas_dir, \"heatmap_coocurrencia.png\")\n",
    "fig.savefig(ruta_png, bbox_inches=\"tight\")\n",
    "\n",
    "# 5) Mostrar en el notebook\n",
    "plt.show()\n"
   ]
  },
  {
   "cell_type": "markdown",
   "id": "98d1debf",
   "metadata": {},
   "source": [
    "**Interpretación**:  \n",
    "- El bar chart revela qué combinaciones de glosas suelen aparecer juntas, sugiriendo procesos de corrección simultáneos.  \n",
    "- El heatmap muestra la relación entre los **códigos más críticos**, ayudándote a priorizar validaciones conjuntas o flujos de trabajo mixtos.\n"
   ]
  },
  {
   "cell_type": "markdown",
   "id": "52db3cb7",
   "metadata": {},
   "source": [
    "## 5.5. Efectividad de Corrección\n",
    "\n",
    "En esta sección calculamos la **efectividad** de nuestro flujo de glosas, entendida como el porcentaje de registros glosados que finalmente quedan **validados**:\n",
    "\n",
    "1. **Por envío**: del total de registros glosados en un envío, ¿qué % se valida en el envío siguiente?  \n",
    "2. **Por mes**: del total de glosados en un mes, ¿qué % se valida en el mismo mes?  \n",
    "3. **Por cuatrimestre** (cuando tengamos más data): del total de glosados en un cuatrimestre, ¿qué % se valida antes de cerrar el periodo?\n"
   ]
  },
  {
   "cell_type": "markdown",
   "id": "0fd15dc9",
   "metadata": {},
   "source": [
    "### 5.5.1 Preparación: lista de envíos ordenados"
   ]
  },
  {
   "cell_type": "code",
   "execution_count": 37,
   "id": "0fa0a233",
   "metadata": {},
   "outputs": [
    {
     "data": {
      "text/html": [
       "<div>\n",
       "<style scoped>\n",
       "    .dataframe tbody tr th:only-of-type {\n",
       "        vertical-align: middle;\n",
       "    }\n",
       "\n",
       "    .dataframe tbody tr th {\n",
       "        vertical-align: top;\n",
       "    }\n",
       "\n",
       "    .dataframe thead th {\n",
       "        text-align: right;\n",
       "    }\n",
       "</style>\n",
       "<table border=\"1\" class=\"dataframe\">\n",
       "  <thead>\n",
       "    <tr style=\"text-align: right;\">\n",
       "      <th></th>\n",
       "      <th>glosados</th>\n",
       "      <th>validados_next</th>\n",
       "      <th>efectividad</th>\n",
       "    </tr>\n",
       "    <tr>\n",
       "      <th>envio</th>\n",
       "      <th></th>\n",
       "      <th></th>\n",
       "      <th></th>\n",
       "    </tr>\n",
       "  </thead>\n",
       "  <tbody>\n",
       "    <tr>\n",
       "      <th>2025-01-10</th>\n",
       "      <td>12</td>\n",
       "      <td>3</td>\n",
       "      <td>25.0</td>\n",
       "    </tr>\n",
       "    <tr>\n",
       "      <th>2025-01-17</th>\n",
       "      <td>15</td>\n",
       "      <td>7</td>\n",
       "      <td>46.7</td>\n",
       "    </tr>\n",
       "    <tr>\n",
       "      <th>2025-01-24</th>\n",
       "      <td>18</td>\n",
       "      <td>6</td>\n",
       "      <td>33.3</td>\n",
       "    </tr>\n",
       "    <tr>\n",
       "      <th>2025-02-07</th>\n",
       "      <td>27</td>\n",
       "      <td>12</td>\n",
       "      <td>44.4</td>\n",
       "    </tr>\n",
       "    <tr>\n",
       "      <th>2025-02-14</th>\n",
       "      <td>13</td>\n",
       "      <td>4</td>\n",
       "      <td>30.8</td>\n",
       "    </tr>\n",
       "    <tr>\n",
       "      <th>2025-02-21</th>\n",
       "      <td>11</td>\n",
       "      <td>7</td>\n",
       "      <td>63.6</td>\n",
       "    </tr>\n",
       "    <tr>\n",
       "      <th>2025-03-07</th>\n",
       "      <td>13</td>\n",
       "      <td>7</td>\n",
       "      <td>53.8</td>\n",
       "    </tr>\n",
       "    <tr>\n",
       "      <th>2025-03-14</th>\n",
       "      <td>10</td>\n",
       "      <td>5</td>\n",
       "      <td>50.0</td>\n",
       "    </tr>\n",
       "    <tr>\n",
       "      <th>2025-03-21</th>\n",
       "      <td>8</td>\n",
       "      <td>2</td>\n",
       "      <td>25.0</td>\n",
       "    </tr>\n",
       "    <tr>\n",
       "      <th>2025-04-04</th>\n",
       "      <td>11</td>\n",
       "      <td>6</td>\n",
       "      <td>54.5</td>\n",
       "    </tr>\n",
       "    <tr>\n",
       "      <th>2025-04-11</th>\n",
       "      <td>7</td>\n",
       "      <td>0</td>\n",
       "      <td>0.0</td>\n",
       "    </tr>\n",
       "  </tbody>\n",
       "</table>\n",
       "</div>"
      ],
      "text/plain": [
       "            glosados  validados_next  efectividad\n",
       "envio                                            \n",
       "2025-01-10        12               3         25.0\n",
       "2025-01-17        15               7         46.7\n",
       "2025-01-24        18               6         33.3\n",
       "2025-02-07        27              12         44.4\n",
       "2025-02-14        13               4         30.8\n",
       "2025-02-21        11               7         63.6\n",
       "2025-03-07        13               7         53.8\n",
       "2025-03-14        10               5         50.0\n",
       "2025-03-21         8               2         25.0\n",
       "2025-04-04        11               6         54.5\n",
       "2025-04-11         7               0          0.0"
      ]
     },
     "metadata": {},
     "output_type": "display_data"
    }
   ],
   "source": [
    "# 1) Lista completa de envíos\n",
    "envios = sorted(Df_MS_Neg[\"Fecha_Proceso\"].unique())\n",
    "\n",
    "efic_envio = []\n",
    "for i, fecha in enumerate(envios):\n",
    "    # claves glosadas en este envío\n",
    "    neg_keys = set(\n",
    "        Df_MS_Neg.loc[Df_MS_Neg[\"Fecha_Proceso\"] == fecha, \"_key\"]\n",
    "    )\n",
    "    # si hay un siguiente envío, contamos validados; si no, 0\n",
    "    if i < len(envios) - 1:\n",
    "        next_fecha = envios[i+1]\n",
    "        val_next = set(\n",
    "            Df_MS_Val.loc[Df_MS_Val[\"Fecha_Proceso\"] == next_fecha, \"_key\"]\n",
    "        )\n",
    "        n_val = len(neg_keys & val_next)\n",
    "    else:\n",
    "        n_val = 0\n",
    "\n",
    "    n_tot = len(neg_keys)\n",
    "    efect = (n_val / n_tot * 100) if n_tot else None\n",
    "\n",
    "    efic_envio.append({\n",
    "        \"envio\": fecha,\n",
    "        \"glosados\": n_tot,\n",
    "        \"validados_next\": n_val,\n",
    "        \"efectividad\": round(efect,1) if efect is not None else None\n",
    "    })\n",
    "\n",
    "# 2) Crear el DataFrame final y mostrarlo\n",
    "df_efic_envio = pd.DataFrame(efic_envio).set_index(\"envio\")\n",
    "display(df_efic_envio)\n"
   ]
  },
  {
   "cell_type": "markdown",
   "id": "fbdc5cd6",
   "metadata": {},
   "source": [
    "### 5.5.2 Resultados por envío\n",
    "\n",
    "| Envío      | Glosados | Validados en próximo envío | Efectividad (%) |\n",
    "|:----------:|:--------:|:--------------------------:|:---------------:|\n",
    "{{ aquí ya no necesitas nada, porque la tabla la genera el display() }}"
   ]
  },
  {
   "cell_type": "code",
   "execution_count": 38,
   "id": "650a4177",
   "metadata": {},
   "outputs": [
    {
     "data": {
      "text/html": [
       "<div>\n",
       "<style scoped>\n",
       "    .dataframe tbody tr th:only-of-type {\n",
       "        vertical-align: middle;\n",
       "    }\n",
       "\n",
       "    .dataframe tbody tr th {\n",
       "        vertical-align: top;\n",
       "    }\n",
       "\n",
       "    .dataframe thead th {\n",
       "        text-align: right;\n",
       "    }\n",
       "</style>\n",
       "<table border=\"1\" class=\"dataframe\">\n",
       "  <thead>\n",
       "    <tr style=\"text-align: right;\">\n",
       "      <th></th>\n",
       "      <th>Glosados</th>\n",
       "      <th>Validados en próximo envío</th>\n",
       "      <th>Efectividad (%)</th>\n",
       "    </tr>\n",
       "    <tr>\n",
       "      <th>envio</th>\n",
       "      <th></th>\n",
       "      <th></th>\n",
       "      <th></th>\n",
       "    </tr>\n",
       "  </thead>\n",
       "  <tbody>\n",
       "    <tr>\n",
       "      <th>2025-01-10</th>\n",
       "      <td>12</td>\n",
       "      <td>3</td>\n",
       "      <td>25.0</td>\n",
       "    </tr>\n",
       "    <tr>\n",
       "      <th>2025-01-17</th>\n",
       "      <td>15</td>\n",
       "      <td>7</td>\n",
       "      <td>46.7</td>\n",
       "    </tr>\n",
       "    <tr>\n",
       "      <th>2025-01-24</th>\n",
       "      <td>18</td>\n",
       "      <td>6</td>\n",
       "      <td>33.3</td>\n",
       "    </tr>\n",
       "    <tr>\n",
       "      <th>2025-02-07</th>\n",
       "      <td>27</td>\n",
       "      <td>12</td>\n",
       "      <td>44.4</td>\n",
       "    </tr>\n",
       "    <tr>\n",
       "      <th>2025-02-14</th>\n",
       "      <td>13</td>\n",
       "      <td>4</td>\n",
       "      <td>30.8</td>\n",
       "    </tr>\n",
       "    <tr>\n",
       "      <th>2025-02-21</th>\n",
       "      <td>11</td>\n",
       "      <td>7</td>\n",
       "      <td>63.6</td>\n",
       "    </tr>\n",
       "    <tr>\n",
       "      <th>2025-03-07</th>\n",
       "      <td>13</td>\n",
       "      <td>7</td>\n",
       "      <td>53.8</td>\n",
       "    </tr>\n",
       "    <tr>\n",
       "      <th>2025-03-14</th>\n",
       "      <td>10</td>\n",
       "      <td>5</td>\n",
       "      <td>50.0</td>\n",
       "    </tr>\n",
       "    <tr>\n",
       "      <th>2025-03-21</th>\n",
       "      <td>8</td>\n",
       "      <td>2</td>\n",
       "      <td>25.0</td>\n",
       "    </tr>\n",
       "    <tr>\n",
       "      <th>2025-04-04</th>\n",
       "      <td>11</td>\n",
       "      <td>6</td>\n",
       "      <td>54.5</td>\n",
       "    </tr>\n",
       "    <tr>\n",
       "      <th>2025-04-11</th>\n",
       "      <td>7</td>\n",
       "      <td>0</td>\n",
       "      <td>0.0</td>\n",
       "    </tr>\n",
       "  </tbody>\n",
       "</table>\n",
       "</div>"
      ],
      "text/plain": [
       "            Glosados  Validados en próximo envío  Efectividad (%)\n",
       "envio                                                            \n",
       "2025-01-10        12                           3             25.0\n",
       "2025-01-17        15                           7             46.7\n",
       "2025-01-24        18                           6             33.3\n",
       "2025-02-07        27                          12             44.4\n",
       "2025-02-14        13                           4             30.8\n",
       "2025-02-21        11                           7             63.6\n",
       "2025-03-07        13                           7             53.8\n",
       "2025-03-14        10                           5             50.0\n",
       "2025-03-21         8                           2             25.0\n",
       "2025-04-04        11                           6             54.5\n",
       "2025-04-11         7                           0              0.0"
      ]
     },
     "metadata": {},
     "output_type": "display_data"
    }
   ],
   "source": [
    "import pandas as pd\n",
    "\n",
    "# 1. Creamos el DataFrame y redondeamos\n",
    "df_efic_envio = pd.DataFrame(efic_envio).set_index(\"envio\").round(1)\n",
    "\n",
    "# 2. Reordenamos las columnas en el orden que queremos ver\n",
    "df_efic_envio = df_efic_envio[[\"glosados\", \"validados_next\", \"efectividad\"]]\n",
    "\n",
    "# 3. Renombramos para que coincidan con tu tabla de Markdown\n",
    "df_efic_envio = df_efic_envio.rename(\n",
    "    columns={\n",
    "        \"glosados\": \"Glosados\",\n",
    "        \"validados_next\": \"Validados en próximo envío\",\n",
    "        \"efectividad\": \"Efectividad (%)\"\n",
    "    }\n",
    ")\n",
    "\n",
    "# 4. Opcional: convertimos el índice a string para que no salga con Timestamp\n",
    "df_efic_envio.index = df_efic_envio.index.strftime(\"%Y-%m-%d\")\n",
    "\n",
    "# 5. Mostramos el resultado\n",
    "from IPython.display import display\n",
    "display(df_efic_envio)\n"
   ]
  },
  {
   "cell_type": "markdown",
   "id": "e5b3f153",
   "metadata": {},
   "source": [
    "### 5.5.3 Gráfico de efectividad por envío"
   ]
  },
  {
   "cell_type": "markdown",
   "id": "1437cc9d",
   "metadata": {},
   "source": [
    "1. Gráfico combinado: volumen + eficacia\n",
    "\n",
    "Comparación de volumen de glosados y tasa de corrección por envío"
   ]
  },
  {
   "cell_type": "code",
   "execution_count": 39,
   "id": "ccbc2e84",
   "metadata": {},
   "outputs": [
    {
     "name": "stderr",
     "output_type": "stream",
     "text": [
      "C:\\Users\\osmarrincon\\AppData\\Local\\Temp\\ipykernel_22760\\2940667496.py:40: UserWarning: set_ticklabels() should only be used with a fixed number of ticks, i.e. after set_ticks() or using a FixedLocator.\n",
      "  ax1.set_xticklabels(df_efic_envio.index, rotation=45, ha=\"right\")\n"
     ]
    },
    {
     "data": {
      "image/png": "[encoded data removed]",
      "text/plain": [
       "<Figure size 800x400 with 2 Axes>"
      ]
     },
     "metadata": {},
     "output_type": "display_data"
    }
   ],
   "source": [
    "import os\n",
    "import matplotlib.pyplot as plt\n",
    "\n",
    "# 1) Asegúrate de tener definida la carpeta de salida de gráficas\n",
    "graficas_dir = os.path.join(R_Salida, \"Graficas\")\n",
    "os.makedirs(graficas_dir, exist_ok=True)\n",
    "\n",
    "# 2) Crea la figura y los ejes\n",
    "fig, ax1 = plt.subplots(figsize=(8,4))\n",
    "\n",
    "# Barras de glosados\n",
    "ax1.bar(\n",
    "    df_efic_envio.index,\n",
    "    df_efic_envio[\"Glosados\"],\n",
    "    alpha=0.6,\n",
    "    label=\"Glosados por envío\"\n",
    ")\n",
    "ax1.set_ylabel(\"Glosados\", color=\"tab:blue\")\n",
    "ax1.tick_params(axis=\"y\", labelcolor=\"tab:blue\")\n",
    "\n",
    "# Línea de efectividad en eje derecho\n",
    "ax2 = ax1.twinx()\n",
    "ax2.plot(\n",
    "    df_efic_envio.index,\n",
    "    df_efic_envio[\"Efectividad (%)\"],\n",
    "    color=\"tab:orange\",\n",
    "    marker=\"o\",\n",
    "    label=\"Efectividad (%)\"\n",
    ")\n",
    "ax2.set_ylabel(\"Efectividad (%)\", color=\"tab:orange\")\n",
    "ax2.tick_params(axis=\"y\", labelcolor=\"tab:orange\")\n",
    "ax2.set_ylim(0, 100)\n",
    "\n",
    "# Anotar valores de eficacia sobre cada punto\n",
    "for x, y in zip(df_efic_envio.index, df_efic_envio[\"Efectividad (%)\"]):\n",
    "    ax2.text(x, y + 3, f\"{y:.0f}%\", ha=\"center\", color=\"tab:orange\")\n",
    "\n",
    "# Estética\n",
    "ax1.set_title(\"Volumen de glosados vs Efectividad por envío\")\n",
    "ax1.set_xticklabels(df_efic_envio.index, rotation=45, ha=\"right\")\n",
    "ax1.legend(loc=\"upper left\")\n",
    "ax2.legend(loc=\"upper right\")\n",
    "\n",
    "plt.tight_layout()\n",
    "\n",
    "# 3) Guardar la figura en PNG\n",
    "ruta_png = os.path.join(graficas_dir, \"volumen_vs_efectividad_envio.png\")\n",
    "fig.savefig(ruta_png, bbox_inches=\"tight\")\n",
    "\n",
    "# 4) Mostrarla en pantalla (opcional)\n",
    "plt.show()"
   ]
  },
  {
   "cell_type": "markdown",
   "id": "986cc1a1",
   "metadata": {},
   "source": [
    "2. Barras horizontales con umbral\n",
    "\n",
    "Cumplimiento del 50 % de efectividad — envíos fuera de SLA en rojo"
   ]
  },
  {
   "cell_type": "code",
   "execution_count": 40,
   "id": "bcac4d8c",
   "metadata": {},
   "outputs": [
    {
     "data": {
      "image/png": "[encoded data removed]",
      "text/plain": [
       "<Figure size 600x400 with 1 Axes>"
      ]
     },
     "metadata": {},
     "output_type": "display_data"
    }
   ],
   "source": [
    "import os\n",
    "import matplotlib.pyplot as plt\n",
    "\n",
    "# Asegura que exista la carpeta de gráficas\n",
    "graficas_dir = os.path.join(R_Salida, \"Graficas\")\n",
    "os.makedirs(graficas_dir, exist_ok=True)\n",
    "\n",
    "# 1) Definimos constantes\n",
    "THRESHOLD = 50\n",
    "COLOR_OK   = \"tab:green\"\n",
    "COLOR_FAIL = \"tab:red\"\n",
    "\n",
    "# 2) Preparamos los datos y la máscara\n",
    "efic = df_efic_envio[\"Efectividad (%)\"]\n",
    "idx  = df_efic_envio.index\n",
    "mask_ok   = efic >= THRESHOLD\n",
    "mask_fail = ~mask_ok\n",
    "\n",
    "# 3) Dibujamos\n",
    "fig, ax = plt.subplots(figsize=(6,4))\n",
    "\n",
    "# Barras de los que cumplen\n",
    "ax.barh(\n",
    "    idx[mask_ok],\n",
    "    efic[mask_ok],\n",
    "    color=COLOR_OK,\n",
    "    label=f\">= {THRESHOLD}%\"\n",
    ")\n",
    "\n",
    "# Barras de los que no cumplen\n",
    "ax.barh(\n",
    "    idx[mask_fail],\n",
    "    efic[mask_fail],\n",
    "    color=COLOR_FAIL,\n",
    "    label=f\"< {THRESHOLD}%\"\n",
    ")\n",
    "\n",
    "# 4) Línea de umbral y anotaciones\n",
    "ax.axvline(THRESHOLD, color=\"gray\", linestyle=\"--\")\n",
    "ax.text(\n",
    "    THRESHOLD, -0.5,\n",
    "    f\"Objetivo {THRESHOLD}%\",\n",
    "    ha=\"center\", va=\"bottom\", color=\"gray\"\n",
    ")\n",
    "\n",
    "for i, v in enumerate(efic):\n",
    "    ax.text(\n",
    "        v + 1,\n",
    "        i,\n",
    "        f\"{v:.0f}%\",\n",
    "        va=\"center\"\n",
    "    )\n",
    "\n",
    "# 5) Ejes y leyenda\n",
    "ax.set_xlabel(\"Efectividad (%)\")\n",
    "ax.set_title(\"Efectividad de corrección por envío\")\n",
    "ax.legend(loc=\"lower right\")\n",
    "\n",
    "plt.tight_layout()\n",
    "\n",
    "# 6) Guardar la figura\n",
    "ruta_png = os.path.join(graficas_dir, \"efectividad_envio_horizontal.png\")\n",
    "fig.savefig(ruta_png, bbox_inches=\"tight\")\n",
    "\n",
    "# 7) Mostrarla en pantalla\n",
    "plt.show()"
   ]
  },
  {
   "cell_type": "markdown",
   "id": "a3932302",
   "metadata": {},
   "source": [
    "### 5.5.4 Efectividad mensual\n",
    "\n",
    "Para el indicador mensual definimos:\n",
    "- **Denominador**: todos los registros glosados en el mes “M”.  \n",
    "- **Numerador**: de esos, los que quedaron validados **en ese mismo mes** “M”.\n",
    "\n",
    "Esto simula tu reporte mensual de efectividad, que excluye validaciones que caen en meses posteriores.\n"
   ]
  },
  {
   "cell_type": "code",
   "execution_count": 41,
   "id": "336d00a8",
   "metadata": {},
   "outputs": [],
   "source": [
    "# Agregar mes de proceso\n",
    "Df_MS_Neg[\"mes\"] = Df_MS_Neg[\"Fecha_Proceso\"].dt.to_period(\"M\")\n",
    "Df_MS_Val[\"mes\"] = Df_MS_Val[\"Fecha_Proceso\"].dt.to_period(\"M\")\n",
    "\n",
    "# Calcular efectividad por mes\n",
    "meses = sorted(Df_MS_Neg[\"mes\"].unique())\n",
    "efic_mes = []\n",
    "\n",
    "for mes in meses:\n",
    "    neg_keys = set(Df_MS_Neg.loc[ Df_MS_Neg[\"mes\"]==mes, \"_key\" ])\n",
    "    val_keys = set(Df_MS_Val.loc[ Df_MS_Val[\"mes\"]==mes, \"_key\" ])\n",
    "    n_tot = len(neg_keys)\n",
    "    n_val = len(neg_keys & val_keys)\n",
    "    efic = n_val / n_tot * 100 if n_tot else None\n",
    "    efic_mes.append({\"mes\": str(mes), \"glosados\":n_tot, \"val_mes\":n_val, \"efectividad\":round(efic,1)})\n"
   ]
  },
  {
   "cell_type": "markdown",
   "id": "dfa2b9e7",
   "metadata": {},
   "source": [
    "### 5.5.5 Resultados mensuales\n",
    "\n",
    "| Mes     | Glosados | Validados en mes | Efectividad (%) |\n",
    "|:-------:|---------:|-----------------:|----------------:|\n",
    "{{ muestra `df_efic_mes` }}\n"
   ]
  },
  {
   "cell_type": "code",
   "execution_count": 42,
   "id": "90cd6012",
   "metadata": {},
   "outputs": [
    {
     "data": {
      "text/html": [
       "<div>\n",
       "<style scoped>\n",
       "    .dataframe tbody tr th:only-of-type {\n",
       "        vertical-align: middle;\n",
       "    }\n",
       "\n",
       "    .dataframe tbody tr th {\n",
       "        vertical-align: top;\n",
       "    }\n",
       "\n",
       "    .dataframe thead th {\n",
       "        text-align: right;\n",
       "    }\n",
       "</style>\n",
       "<table border=\"1\" class=\"dataframe\">\n",
       "  <thead>\n",
       "    <tr style=\"text-align: right;\">\n",
       "      <th></th>\n",
       "      <th>Glosados</th>\n",
       "      <th>Validados en mes</th>\n",
       "      <th>Efectividad (%)</th>\n",
       "    </tr>\n",
       "    <tr>\n",
       "      <th>Mes</th>\n",
       "      <th></th>\n",
       "      <th></th>\n",
       "      <th></th>\n",
       "    </tr>\n",
       "  </thead>\n",
       "  <tbody>\n",
       "    <tr>\n",
       "      <th>2025-01</th>\n",
       "      <td>32</td>\n",
       "      <td>10</td>\n",
       "      <td>31.2%</td>\n",
       "    </tr>\n",
       "    <tr>\n",
       "      <th>2025-02</th>\n",
       "      <td>37</td>\n",
       "      <td>16</td>\n",
       "      <td>43.2%</td>\n",
       "    </tr>\n",
       "    <tr>\n",
       "      <th>2025-03</th>\n",
       "      <td>20</td>\n",
       "      <td>13</td>\n",
       "      <td>65.0%</td>\n",
       "    </tr>\n",
       "    <tr>\n",
       "      <th>2025-04</th>\n",
       "      <td>13</td>\n",
       "      <td>6</td>\n",
       "      <td>46.2%</td>\n",
       "    </tr>\n",
       "  </tbody>\n",
       "</table>\n",
       "</div>"
      ],
      "text/plain": [
       "         Glosados  Validados en mes Efectividad (%)\n",
       "Mes                                                \n",
       "2025-01        32                10           31.2%\n",
       "2025-02        37                16           43.2%\n",
       "2025-03        20                13           65.0%\n",
       "2025-04        13                 6           46.2%"
      ]
     },
     "metadata": {},
     "output_type": "display_data"
    }
   ],
   "source": [
    "# Partiendo de tu df_efic_mes ya renombrado\n",
    "df_efic_mes = pd.DataFrame(efic_mes).set_index(\"mes\")\n",
    "\n",
    "# Renombrar índice y columnas\n",
    "df_efic_mes.index.name = \"Mes\"\n",
    "df_efic_mes = df_efic_mes.rename(columns={\n",
    "    \"glosados\": \"Glosados\",\n",
    "    \"val_mes\":  \"Validados en mes\",\n",
    "    \"efectividad\": \"Efectividad (%)\"\n",
    "})\n",
    "\n",
    "# Convertir la columna a string con '%'\n",
    "df_efic_mes[\"Efectividad (%)\"] = (\n",
    "    df_efic_mes[\"Efectividad (%)\"]\n",
    "      .map(lambda x: f\"{x:.1f}%\")\n",
    ")\n",
    "\n",
    "# Mostrar\n",
    "from IPython.display import display\n",
    "display(df_efic_mes)"
   ]
  },
  {
   "cell_type": "markdown",
   "id": "1c96dac6",
   "metadata": {},
   "source": [
    "### 5.5.6 Gráfico de efectividad mensual\n",
    "\n",
    "En este gráfico mostramos, para cada mes:\n",
    "- Una barra con la **efectividad (%)** de corrección.\n",
    "- Color verde si ≥ 50 % y rojo si < 50 %.\n",
    "- Línea discontinua al 50 % como objetivo.\n",
    "\n",
    "Esto te permitirá ver rápidamente qué meses cumplen tu SLA mensual."
   ]
  },
  {
   "cell_type": "code",
   "execution_count": 43,
   "id": "27e7c3a6",
   "metadata": {},
   "outputs": [
    {
     "data": {
      "image/png": "[encoded data removed]",
      "text/plain": [
       "<Figure size 600x400 with 1 Axes>"
      ]
     },
     "metadata": {},
     "output_type": "display_data"
    }
   ],
   "source": [
    "import os\n",
    "\n",
    "# 1) Asegúrate de que exista la carpeta de gráficas\n",
    "graficas_dir = os.path.join(R_Salida, \"Graficas\")\n",
    "os.makedirs(graficas_dir, exist_ok=True)\n",
    "\n",
    "# 2) Crear la figura y el gráfico de efectividad mensual\n",
    "import matplotlib.pyplot as plt\n",
    "\n",
    "THRESHOLD = 50\n",
    "COLOR_OK   = \"tab:green\"\n",
    "COLOR_FAIL = \"tab:red\"\n",
    "\n",
    "efic_mes   = df_efic_mes.copy()\n",
    "efic_vals  = efic_mes[\"Efectividad (%)\"].str.rstrip(\"%\").astype(float)\n",
    "mask_ok    = efic_vals >= THRESHOLD\n",
    "mask_fail  = ~mask_ok\n",
    "\n",
    "fig, ax = plt.subplots(figsize=(6,4))\n",
    "ax.bar(efic_mes.index[mask_ok],   efic_vals[mask_ok],   color=COLOR_OK,   label=f\">= {THRESHOLD}%\")\n",
    "ax.bar(efic_mes.index[mask_fail], efic_vals[mask_fail], color=COLOR_FAIL, label=f\"< {THRESHOLD}%\")\n",
    "\n",
    "ax.axhline(THRESHOLD, color=\"gray\", linestyle=\"--\", linewidth=1)\n",
    "ax.text(efic_mes.index[0], THRESHOLD + 2, f\"Objetivo {THRESHOLD}%\", color=\"gray\", va=\"bottom\")\n",
    "\n",
    "for x, v in zip(efic_mes.index, efic_vals):\n",
    "    ax.text(x, v + 2, f\"{v:.0f}%\", ha=\"center\")\n",
    "\n",
    "ax.set_ylabel(\"Efectividad (%)\")\n",
    "ax.set_title(\"Efectividad de corrección mensual\")\n",
    "ax.set_ylim(0, 100)\n",
    "ax.legend(loc=\"upper right\")\n",
    "plt.xticks(rotation=0)\n",
    "plt.tight_layout()\n",
    "\n",
    "# 3) Guardar la figura\n",
    "ruta_png = os.path.join(graficas_dir, \"efectividad_mensual.png\")\n",
    "fig.savefig(ruta_png, bbox_inches=\"tight\")\n",
    "\n",
    "# 4) Mostrarla en el notebook\n",
    "plt.show()\n"
   ]
  },
  {
   "cell_type": "markdown",
   "id": "3577fbb1",
   "metadata": {},
   "source": [
    "> **Utilidad de estos indicadores**  \n",
    "> - Saber si en cada envío estamos resolviendo la mayor parte de las glosas en el siguiente ciclo.  \n",
    "> - Detectar si algún mes (por festivos, puentes o volúmenes atípicos) baja dramáticamente la efectividad.  \n",
    "> - Reportar a Planeación no solo volúmenes absolutos, sino la **calidad y rapidez** de la corrección."
   ]
  },
  {
   "cell_type": "markdown",
   "id": "b15a762d",
   "metadata": {},
   "source": [
    "## 5.6 KPIs\n",
    "\n",
    "A continuación, se definen los indicadores clave de desempeño (KPIs) recomendados para evaluar el proceso de gestión de glosas en el notebook:\n",
    "\n",
    "### 5.6.1. Tasa de cierre integral\n",
    "**Definición:** Proporción de glosas que se consideran cerradas, ya sea mediante validación o por no requerir reenvío.\n",
    "**Fórmula:**"
   ]
  },
  {
   "cell_type": "code",
   "execution_count": 44,
   "id": "b35e4e89",
   "metadata": {},
   "outputs": [
    {
     "name": "stdout",
     "output_type": "stream",
     "text": [
      "Tasa de cierre integral: 100.00%\n"
     ]
    }
   ],
   "source": [
    "# Crear la columna 'validado' en Df_MS_Neg\n",
    "Df_MS_Neg[\"_key\"] = Df_MS_Neg[[\"ENT_ID\", \"TPS_IDN_ID\", \"HST_IDN_NUMERO_IDENTIFICACION\"]].astype(str).agg('|'.join, axis=1)\n",
    "Df_MS_Val[\"_key\"] = Df_MS_Val[[\"ENT_ID\", \"TPS_IDN_ID\", \"HST_IDN_NUMERO_IDENTIFICACION\"]].astype(str).agg('|'.join, axis=1)\n",
    "\n",
    "Df_MS_Neg[\"validado\"] = Df_MS_Neg[\"_key\"].isin(Df_MS_Val[\"_key\"])\n",
    "\n",
    "# Identificar registros no reenviados\n",
    "last_neg = (\n",
    "    Df_MS_Neg.groupby(\"_key\")[\"Fecha_Proceso\"]\n",
    "    .max()\n",
    "    .reset_index()\n",
    "    .rename(columns={\"Fecha_Proceso\": \"last_neg_date\"})\n",
    ")\n",
    "\n",
    "tmp = Df_MS_Neg.merge(last_neg, on=\"_key\", how=\"inner\")\n",
    "tiene_reenvio = (\n",
    "    tmp.assign(flag=tmp[\"Fecha_Proceso\"] > tmp[\"last_neg_date\"])\n",
    "    .groupby(\"_key\")[\"flag\"]\n",
    "    .any()\n",
    "    .reset_index()\n",
    "    .rename(columns={\"flag\": \"tiene_reenvio\"})\n",
    ")\n",
    "\n",
    "last_neg = last_neg.merge(tiene_reenvio, on=\"_key\")\n",
    "no_reenviado = last_neg[\n",
    "    (~last_neg[\"tiene_reenvio\"]) & (~last_neg[\"_key\"].isin(Df_MS_Val[\"_key\"]))\n",
    "]\n",
    "\n",
    "# Crear la columna 'no_reenviado' en Df_MS_Neg\n",
    "Df_MS_Neg[\"no_reenviado\"] = Df_MS_Neg[\"_key\"].isin(no_reenviado[\"_key\"])\n",
    "\n",
    "# Calcular la tasa de cierre integral\n",
    "tasa_cierre = (Df_MS_Neg[\"validado\"].sum() + Df_MS_Neg[\"no_reenviado\"].sum()) / len(Df_MS_Neg) * 100\n",
    "\n",
    "print(f\"Tasa de cierre integral: {tasa_cierre:.2f}%\")"
   ]
  },
  {
   "cell_type": "markdown",
   "id": "f22dc5f2",
   "metadata": {},
   "source": [
    "**Instrucciones:** Documentar los códigos de glosa incluidos en `no_reenviado` (por ejemplo, GN0013).\n",
    "\n",
    "### 5.6.2. First-Pass Yield\n",
    "\n",
    "**Definición:** Porcentaje de glosas resueltas en el primer ciclo de envío.\n",
    "**Fórmula:**"
   ]
  },
  {
   "cell_type": "code",
   "execution_count": 45,
   "id": "d2ffc7fc",
   "metadata": {},
   "outputs": [
    {
     "ename": "AttributeError",
     "evalue": "'DataFrame' object has no attribute 'ciclo'",
     "output_type": "error",
     "traceback": [
      "\u001b[31m---------------------------------------------------------------------------\u001b[39m",
      "\u001b[31mAttributeError\u001b[39m                            Traceback (most recent call last)",
      "\u001b[32m~\\AppData\\Local\\Temp\\ipykernel_22760\\3992682107.py\u001b[39m in \u001b[36m?\u001b[39m\u001b[34m()\u001b[39m\n\u001b[32m----> \u001b[39m\u001b[32m1\u001b[39m first_pass = df_glosas.loc[df_glosas.ciclo == 1, \"validado\"].sum() \\\n\u001b[32m      2\u001b[39m              / len(df_glosas.loc[df_glosas.ciclo == \u001b[32m1\u001b[39m]) * \u001b[32m100\u001b[39m\n",
      "\u001b[32mc:\\Users\\osmarrincon\\Documents\\capresoca-data-automation\\venv\\Lib\\site-packages\\pandas\\core\\generic.py\u001b[39m in \u001b[36m?\u001b[39m\u001b[34m(self, name)\u001b[39m\n\u001b[32m   6295\u001b[39m             \u001b[38;5;28;01mand\u001b[39;00m name \u001b[38;5;28;01mnot\u001b[39;00m \u001b[38;5;28;01min\u001b[39;00m self._accessors\n\u001b[32m   6296\u001b[39m             \u001b[38;5;28;01mand\u001b[39;00m self._info_axis._can_hold_identifiers_and_holds_name(name)\n\u001b[32m   6297\u001b[39m         ):\n\u001b[32m   6298\u001b[39m             \u001b[38;5;28;01mreturn\u001b[39;00m self[name]\n\u001b[32m-> \u001b[39m\u001b[32m6299\u001b[39m         \u001b[38;5;28;01mreturn\u001b[39;00m object.__getattribute__(self, name)\n",
      "\u001b[31mAttributeError\u001b[39m: 'DataFrame' object has no attribute 'ciclo'"
     ]
    }
   ],
   "source": [
    "first_pass = df_glosas.loc[df_glosas.ciclo == 1, \"validado\"].sum() \\\n",
    "             / len(df_glosas.loc[df_glosas.ciclo == 1]) * 100"
   ]
  },
  {
   "cell_type": "markdown",
   "id": "8f6f1ab8",
   "metadata": {},
   "source": [
    "### 5.6.3. Backlog de pendientes\n",
    "\n",
    "**Definición:** Volumen y antigüedad promedio de glosas aún pendientes de resolución.\n",
    "**Cálculo:**"
   ]
  },
  {
   "cell_type": "code",
   "execution_count": null,
   "id": "ee427376",
   "metadata": {},
   "outputs": [],
   "source": [
    "# Filtrar pendientes y calcular antigüedad media\\pendientes = df_glosas[df_glosas.fecha_resolucion.isna()]\n",
    "antiguedad_media = (pd.Timestamp.today() - pendientes.fecha_glosa).dt.days.mean()"
   ]
  },
  {
   "cell_type": "markdown",
   "id": "eda2dfaf",
   "metadata": {},
   "source": [
    "**Instrucciones:** Segmentar los pendientes por mes de `fecha_glosa` para detectar cuellos de botella.\n",
    "\n",
    "### 5.6.4. Glosas vs. volumen total\n",
    "\n",
    "**Definición:** Relación entre el número de glosas y el total de registros MS procesados.\n",
    "**Fórmula:**"
   ]
  },
  {
   "cell_type": "code",
   "execution_count": null,
   "id": "cfb2ea3e",
   "metadata": {},
   "outputs": [],
   "source": [
    "# Glosas totales vs. total de MS procesados × 100\n",
    "glosas_vs_volumen = len(df_glosas) / df_glosas.total_ms_procesados.sum() * 100"
   ]
  },
  {
   "cell_type": "markdown",
   "id": "8d7b9459",
   "metadata": {},
   "source": [
    "### 5.6.5. SLA de resolución\n",
    "\n",
    "**Definición:** Porcentaje de glosas resueltas dentro del plazo objetivo (7 días).\n",
    "**Fórmula:**"
   ]
  },
  {
   "cell_type": "code",
   "execution_count": null,
   "id": "1b3db3a2",
   "metadata": {},
   "outputs": [],
   "source": [
    "# Cálculo del SLA de 7 días\n",
    "dentro_sla = ((df_glosas.fecha_resolucion - df_glosas.fecha_glosa).dt.days <= 7).sum()\n",
    "sla = dentro_sla / len(df_glosas) * 100"
   ]
  },
  {
   "cell_type": "markdown",
   "id": "ce078259",
   "metadata": {},
   "source": [
    "**Notas finales:**\n",
    "\n",
    "* Incluir gráficos (líneas de tendencia, barras comparativas) y tablas resumen en el notebook para cada KPI.\n",
    "* Permitir filtros dinámicos por mes y por código de glosa para análisis detallado.\n",
    "* Documentar claramente las reglas de inclusión para cada KPI y revisar posibles outliers en fechas."
   ]
  },
  {
   "cell_type": "markdown",
   "id": "0ed65868",
   "metadata": {},
   "source": [
    "# 6. Exportación del Informe\n",
    "\n",
    "En esta sección veremos cómo generar automáticamente:\n",
    "\n",
    "1. **PDF** del notebook completo (incluyendo texto, código y gráficas).  \n",
    "2. **Excel** con los resúmenes de métricas (opcional, para acompañar el PDF)."
   ]
  },
  {
   "cell_type": "markdown",
   "id": "c0bee809",
   "metadata": {},
   "source": [
    "## 6.1 Exportar el notebook a PDF\n",
    "\n",
    "Usaremos `nbconvert` de Jupyter. Solo necesitas ejecutar:\n",
    "\n",
    "```bash\n",
    "!jupyter nbconvert --to pdf \"TuNotebook.ipynb\" \\\n",
    "    --output \"Informe_Glosas_MS.pdf\"\n"
   ]
  },
  {
   "cell_type": "code",
   "execution_count": null,
   "id": "3c15710e",
   "metadata": {},
   "outputs": [],
   "source": [
    "import os\n",
    "import subprocess\n",
    "from weasyprint import HTML\n",
    "\n",
    "# 0) Variables\n",
    "base_name = \"Informe_Glosas_MS\"\n",
    "\n",
    "# 1) Asegurar que exista la carpeta\n",
    "os.makedirs(R_Salida, exist_ok=True)\n",
    "\n",
    "# 2) Convertir a HTML\n",
    "cmd = [\n",
    "    \"python\", \"-m\", \"nbconvert\",\n",
    "    \"--to\", \"html\",\n",
    "    notebook,\n",
    "    \"--output-dir\", R_Salida,\n",
    "    \"--output\", base_name\n",
    "]\n",
    "proc = subprocess.run(cmd, capture_output=True, text=True)\n",
    "if proc.returncode != 0:\n",
    "    print(\"❌ nbconvert falló:\\n\", proc.stderr)\n",
    "else:\n",
    "    print(\"✅ HTML generado en:\", os.path.join(R_Salida, f\"{base_name}.html\"))\n",
    "\n",
    "    # 3) Convertir HTML a PDF con WeasyPrint\n",
    "    html_path = os.path.join(R_Salida, f\"{base_name}.html\")\n",
    "    pdf_path  = os.path.join(R_Salida, f\"{base_name}.pdf\")\n",
    "    HTML(html_path).write_pdf(pdf_path)\n",
    "    print(\"✅ PDF generado en:\", pdf_path)\n"
   ]
  },
  {
   "cell_type": "markdown",
   "id": "264f0873",
   "metadata": {},
   "source": [
    "## 6.2 Exportar métricas clave a Excel"
   ]
  },
  {
   "cell_type": "code",
   "execution_count": null,
   "id": "b9c1d4b3",
   "metadata": {},
   "outputs": [],
   "source": [
    "# 1) Preparar df_env con la tasa en fracción\n",
    "df_env = df_efic_envio.copy()\n",
    "df_env[\"Efectividad (%)\"] = df_env[\"Efectividad (%)\"] / 100\n",
    "# Ahora df_env[\"Efectividad (%)\"] va de 0 a 1\n",
    "\n",
    "# 2) Preparar df_mes sin columna extra\n",
    "# Partimos del df_efic_mes (que era strings “31.2%”) y lo convertimos a fracción\n",
    "df_mes = df_efic_mes.copy()\n",
    "df_mes[\"Efectividad (%)\"] = (\n",
    "    df_mes[\"Efectividad (%)\"]\n",
    "      .str.rstrip(\"%\")\n",
    "      .astype(float) / 100\n",
    ")\n",
    "# df_mes ya no lleva columna extra, sólo ésta con valores 0–1\n",
    "\n",
    "# 3) Escribir todo en Excel\n",
    "with pd.ExcelWriter(ruta_excel, engine=\"xlsxwriter\") as writer:\n",
    "    wb = writer.book\n",
    "\n",
    "    #### Hoja Envios ####\n",
    "    df_env.to_excel(\n",
    "        writer,\n",
    "        sheet_name=\"Envios\",\n",
    "        startrow=2,\n",
    "        index_label=\"Envío\",\n",
    "        columns=[\"Glosados\", \"Validados en próximo envío\", \"Efectividad (%)\"]\n",
    "    )\n",
    "    ws1 = writer.sheets[\"Envios\"]\n",
    "\n",
    "    # Formatos\n",
    "    hdr = wb.add_format({\"bold\":True, \"bg_color\":\"#4F81BD\",\n",
    "                         \"font_color\":\"white\", \"align\":\"center\", \"border\":1})\n",
    "    i_fmt = wb.add_format({\"num_format\":\"0\",    \"border\":1})\n",
    "    p_fmt = wb.add_format({\"num_format\":\"0.0%\", \"border\":1})\n",
    "    bad_fmt = wb.add_format({\"bg_color\":\"#FFC7CE\"})\n",
    "\n",
    "    # Encabezados\n",
    "    for col, title in enumerate([\"Envío\",\"Glosados\",\"Validados en próximo envío\",\"Efectividad (%)\"]):\n",
    "        ws1.write(1, col, title, hdr)\n",
    "\n",
    "    # Anchos\n",
    "    ws1.set_column(0,0,15)\n",
    "    ws1.set_column(1,1,10, i_fmt)\n",
    "    ws1.set_column(2,2,18, i_fmt)\n",
    "    ws1.set_column(3,3,15, p_fmt)\n",
    "\n",
    "    ws1.freeze_panes(2,1)\n",
    "    ws1.autofilter(1,0, 1+len(df_env), 3)\n",
    "\n",
    "    # Resaltar <50%\n",
    "    ws1.conditional_format(\n",
    "        2, 3,\n",
    "        1+len(df_env), 3,\n",
    "        {\"type\":\"cell\",\"criteria\":\"<\",\"value\":0.5,\"format\":bad_fmt}\n",
    "    )\n",
    "\n",
    "    #### Hoja Mensual ####\n",
    "    df_mes.to_excel(\n",
    "        writer,\n",
    "        sheet_name=\"Mensual\",\n",
    "        startrow=2,\n",
    "        index_label=\"Mes\",\n",
    "        columns=[\"Glosados\",\"Validados en mes\",\"Efectividad (%)\"]\n",
    "    )\n",
    "    ws2 = writer.sheets[\"Mensual\"]\n",
    "\n",
    "    # Encabezados\n",
    "    for col, title in enumerate([\"Mes\",\"Glosados\",\"Validados en mes\",\"Efectividad (%)\"]):\n",
    "        ws2.write(1, col, title, hdr)\n",
    "\n",
    "    # Anchos\n",
    "    ws2.set_column(0,0,12)\n",
    "    ws2.set_column(1,1,10, i_fmt)\n",
    "    ws2.set_column(2,2,15, i_fmt)\n",
    "    ws2.set_column(3,3,15, p_fmt)\n",
    "\n",
    "    ws2.freeze_panes(2,1)\n",
    "    ws2.autofilter(1,0, 1+len(df_mes), 3)\n",
    "    ws2.conditional_format(\n",
    "        2,3, 1+len(df_mes), 3,\n",
    "        {\"type\":\"cell\",\"criteria\":\"<\",\"value\":0.5,\"format\":bad_fmt}\n",
    "    )\n",
    "\n",
    "    #### Hojas crudas ###\n",
    "    Df_MS_Neg.to_excel(writer, sheet_name=\"MS_Negados\", index=False)\n",
    "    Df_MS_Val.to_excel(writer, sheet_name=\"MS_Validados\", index=False)\n",
    "\n",
    "print(\"✅ Excel corregido exportado en:\", ruta_excel)"
   ]
  },
  {
   "cell_type": "markdown",
   "id": "d9328179",
   "metadata": {},
   "source": [
    "## 6.3. Hoja Resumen del Excel con las imagenes"
   ]
  },
  {
   "cell_type": "code",
   "execution_count": null,
   "id": "436155bc",
   "metadata": {},
   "outputs": [],
   "source": [
    "import os\n",
    "from openpyxl import load_workbook\n",
    "from openpyxl.drawing.image import Image as XLImage\n",
    "from openpyxl.styles import Font, Alignment, PatternFill\n",
    "\n",
    "\n",
    "# —————————————————————\n",
    "# 1) Abrir y borrar Resumen viejo\n",
    "# —————————————————————\n",
    "wb = load_workbook(ruta_excel)\n",
    "if \"Resumen\" in wb.sheetnames:\n",
    "    wb.remove(wb[\"Resumen\"])\n",
    "ws = wb.create_sheet(\"Resumen\", 0)\n",
    "\n",
    "# —————————————————————\n",
    "# 2) Columnas y filas compactas\n",
    "# —————————————————————\n",
    "# Sólo usamos A–K y alturas de fila reducidas\n",
    "#for col in \"ABCDEFGHIJK\":\n",
    "#    ws.column_dimensions[col].width = 8\n",
    "\n",
    "#for r in range(4, 14):   ws.row_dimensions[r].height = 60\n",
    "#for r in range(14, 24):  ws.row_dimensions[r].height = 60\n",
    "\n",
    "# —————————————————————\n",
    "# 3) Título\n",
    "# —————————————————————\n",
    "ws.merge_cells(\"A1:N2\")\n",
    "c = ws[\"A1\"]\n",
    "c.value     = \"Informe Glosas MS Negados – Resumen\"\n",
    "c.font      = Font(bold=True, size=16)\n",
    "c.alignment = Alignment(horizontal=\"center\", vertical=\"center\")\n",
    "c.fill      = PatternFill(\"solid\", fgColor=\"D9E1F2\")\n",
    "\n",
    "# —————————————————————\n",
    "# 4) Insertar y escalar imágenes\n",
    "# —————————————————————\n",
    "imgs = [\n",
    "    (\"volumen_vs_efectividad_envio.png\",   \"A3\", 0.5, 0.5),\n",
    "    (\"efectividad_envio_horizontal.png\",   \"H3\", 0.5, 0.5),\n",
    "    (\"treemap_glosas.png\",                 \"A16\",0.5, 0.5),\n",
    "    (\"top_pares_glosas.png\",               \"H16\",0.5, 0.5),\n",
    "]\n",
    "for fname, anchor, xs, ys in imgs:\n",
    "    img = XLImage(os.path.join(graficas_dir, fname))\n",
    "    img.anchor = anchor\n",
    "    img.width  = img.width  * xs\n",
    "    img.height = img.height * ys\n",
    "    ws.add_image(img)\n",
    "\n",
    "# —————————————————————\n",
    "# 5) Descripciones compactas\n",
    "# —————————————————————\n",
    "desc_fmt = Alignment(wrap_text=True, vertical=\"top\")\n",
    "desc = [\n",
    "    (\"A13:F14\",\n",
    "     \"1) Volumen glosados vs efectividad por envío.\"),\n",
    "    (\"H13:L14\",\n",
    "     \"2) Efectividad con umbral 50 % (verde cumple, rojo no).\"),\n",
    "    (\"A29:F30\",\n",
    "     \"3) Treemap: GN0013 = 60,3 % de no reenvíos.\"),\n",
    "    (\"H29:L30\",\n",
    "     \"4) Pares top de glosas juntas.\"),\n",
    "]\n",
    "for rng, text in desc:\n",
    "    ws.merge_cells(rng)\n",
    "    cell = ws[rng.split(\":\")[0]]\n",
    "    cell.value     = text\n",
    "    cell.alignment = desc_fmt\n",
    "\n",
    "# —————————————————————\n",
    "# 6) Guardar\n",
    "# —————————————————————\n",
    "wb.save(ruta_excel)\n",
    "print(\"✅ Resumen compacto listo en:\", ruta_excel)"
   ]
  },
  {
   "cell_type": "markdown",
   "id": "b5ce8156",
   "metadata": {},
   "source": [
    "## 7. Conclusión\n",
    "\n",
    "Durante el primer cuatrimestre de 2025 se llevaron a cabo **11 ciclos de envío** semanales de Maestro de Servicios (MS) a ADRES (3 en enero, 3 en febrero, 3 en marzo y 2 en abril), procesando en total **102 glosas**. De ellas, **84 correspondieron a registros negados**, de los cuales:\n",
    "\n",
    "- **62 (73,8 %)** terminaron validados en envíos posteriores  \n",
    "- **22 (26,2 %)** nunca se reenvían  \n",
    "- Al cierre de abril quedan **7 glosas pendientes**, que se corregirán en el primer ciclo de mayo  \n",
    "\n",
    "La glosa **GN0013 (“Afiliado ya existe en la BDUA”)** concentró el **60,3 %** de todos los rechazos, seguida por GN0169 (10 casos, 15,9 %) y GN0258 (6 casos, 9,5 %). La **efectividad promedio por envío** fue del **46,1 %** (rango 0–63,6 %), y por mes:\n",
    "\n",
    "| Mes     | Glosadas | Validadas | Efectividad |\n",
    "|:--------|---------:|----------:|------------:|\n",
    "| 2025-01 |       32 |        10 | 31,2 %      |\n",
    "| 2025-02 |       37 |        16 | 43,2 %      |\n",
    "| 2025-03 |       20 |        13 | 65,0 %      |\n",
    "| 2025-04 |       13 |         6 | 46,2 %      |\n",
    "\n",
    "El tiempo de resolución mediano fue de **7 días** (P75=14 días), alineado con el ritmo semanal de envíos. Cada registro necesitó en promedio **1,7 ciclos de reenvío** y **1,93 glosas** antes de su validación.\n",
    "\n",
    "### Puntos clave y recomendaciones\n",
    "\n",
    "1. **Glosa dominante (GN0013)**  \n",
    "   Más del 60 % de los rechazos se debe a duplicados en la BDUA. Un **filtro automático previo** eliminaría este 60 % de incidencias desde el origen.\n",
    "\n",
    "2. **Efectividad por envío y por mes**  \n",
    "   - Semana a semana, la efectividad varió entre 0 % y 63,6 %.  \n",
    "   - De enero a marzo pasó de 31 % a 65 %, cayendo ligeramente en abril por contar solo dos cortes ese mes.\n",
    "\n",
    "3. **Ciclos de reenvío y notificaciones tempranas**  \n",
    "   Con casi 2 glosas por registro y casi 2 envíos de promedio, conviene activar **alertas automáticas tras el primer rechazo** para acelerar la corrección antes del segundo envío.\n",
    "\n",
    "4. **Patrones de co-ocurrencia**  \n",
    "   Combinaciones frecuentes como (GN0011 & GN0146) o (GN0009 & GN0011) deben validarse juntas, **consolidando reglas** y evitando ciclos adicionales.\n",
    "\n",
    "5. **Pendientes y no reenviados**  \n",
    "   Al cierre del cuatrimestre quedan 7 pendientes y 22 que nunca se reenvían. Un **informe automático de “pendientes”** facilitará su seguimiento y evitará pérdidas de casos.\n",
    "\n",
    "Implementando estas acciones en el pipeline ETL y en el SIE, lograremos un proceso más ágil, con menos reenvíos y una tasa de validación significativamente superior desde el **primer ciclo**.  "
   ]
  },
  {
   "cell_type": "markdown",
   "id": "7c19a6bb",
   "metadata": {},
   "source": [
    "## 📊 Análisis de Glosas MS Negados\n",
    "\n",
    "Este notebook (`notebooks/Aseguramiento/Inf_Ejec_MS_NEG.ipynb`) contiene el análisis completo de los registros negados en el Maestro de ingresos (MS) que reporta Capresoca EPS a ADRES.  \n",
    "\n",
    "🔍 **Autoría**  \n",
    "Este estudio y los algoritmos de extracción de métricas fueron diseñados y desarrollados por **Yesid Rincón**.  \n",
    "\n",
    "### Contenido principal\n",
    "1. **Métricas iniciales**: volumen y frecuencia de glosas.  \n",
    "2. **Tiempo de resolución**: distribución de días y ciclos de envío.  \n",
    "3. **Efectividad**: porcentaje de glosas corregidas por envío y por mes.  \n",
    "4. **Co-ocurrencia de glosas**: patrones de glosas múltiples en un mismo registro.  \n",
    "5. **Dashboard y exportación**: generación automática de gráficos y Excel.\n",
    "\n",
    "> Para ver los resultados completos, abre el notebook y revisa la sección **7. Conclusión**, donde se recogen los principales hallazgos y próximas acciones.\n",
    "\n",
    "---\n",
    "\n",
    "*Puedes clonar este proyecto y ejecutar el notebook con*  \n",
    "```bash\n",
    "git clone https://github.com/yesid95/capresoca-data-automation.git\n",
    "cd capresoca-data-automation/notebooks/Aseguramiento\n",
    "jupyter lab\n"
   ]
  }
 ],
 "metadata": {
  "kernelspec": {
   "display_name": "venv",
   "language": "python",
   "name": "python3"
  },
  "language_info": {
   "codemirror_mode": {
    "name": "ipython",
    "version": 3
   },
   "file_extension": ".py",
   "mimetype": "text/x-python",
   "name": "python",
   "nbconvert_exporter": "python",
   "pygments_lexer": "ipython3",
   "version": "3.12.2"
  }
 },
 "nbformat": 4,
 "nbformat_minor": 5
}
