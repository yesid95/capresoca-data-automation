{
 "cells": [
  {
   "cell_type": "code",
   "execution_count": null,
   "metadata": {},
   "outputs": [],
   "source": [
    "import datetime\n",
    "import pandas as pd\n",
    "import os\n",
    "import sys\n",
    "import glob\n",
    "# Importación de librerías para manejo de Excel\n",
    "import openpyxl   # Para trabajar con archivos Excel (.xlsx)\n",
    "\n",
    "print(\"Librerías cargadas correctamente.\")"
   ]
  },
  {
   "cell_type": "code",
   "execution_count": null,
   "metadata": {},
   "outputs": [],
   "source": [
    "R_Recaudo =r\"C:\\Users\\osmarrincon\\Downloads\\RECAUDO CORTE A NOV-DIC-FEBRERO 2025  ok.xlsx\"\n",
    "RS_Recaudo =r\"C:\\Users\\osmarrincon\\Downloads\\RECAUDO CORTE A NOV-DIC-FEBRERO 2025.xlsx\"\n",
    "R_Pila_SIE_I = r\"C:\\Users\\osmarrincon\\OneDrive - uniminuto.edu\\Capresoca\\AlmostClear\\Procesos BDUA\\Contributivo\\Compensación\\_Pila_SIE\\Pila I\"\n",
    "R_Pila_SIE_IP = r\"C:\\Users\\osmarrincon\\OneDrive - uniminuto.edu\\Capresoca\\AlmostClear\\Procesos BDUA\\Contributivo\\Compensación\\_Pila_SIE\\Pila IP\""
   ]
  },
  {
   "cell_type": "code",
   "execution_count": null,
   "metadata": {},
   "outputs": [],
   "source": [
    "Df_Recaudo = pd.read_excel(R_Recaudo, sheet_name=\"RELACION RECAUDO\", header=0, dtype=str)\n",
    "\n",
    "# Buscar todos los archivos .TXT en la carpeta R_Pila_SIE_I\n",
    "txt_files = glob.glob(os.path.join(R_Pila_SIE_I, \"*.TXT\"))\n",
    "# Leer cada archivo y almacenarlo en una lista de DataFrames\n",
    "dfs = [pd.read_csv(file, delimiter=\"|\", encoding=\"ANSI\", dtype=str) for file in txt_files]\n",
    "# Concatenar todos los DataFrames en uno solo\n",
    "Df_Pila_I = pd.concat(dfs, ignore_index=True)\n",
    "\n",
    "# Buscar todos los archivos .TXT en la carpeta R_Pila_SIE_IP\n",
    "txt_files = glob.glob(os.path.join(R_Pila_SIE_IP, \"*.TXT\"))\n",
    "# Leer cada archivo y almacenarlo en una lista de DataFrames\n",
    "dfs = [pd.read_csv(file, delimiter=\"|\", encoding=\"ANSI\", header=None, dtype=str) for file in txt_files]\n",
    "# Concatenar todos los DataFrames en uno solo\n",
    "Df_Pila_IP = pd.concat(dfs, ignore_index=True)\n",
    "Df_Pila_IP = Df_Pila_IP.applymap(lambda x: 1 if x == \"X\" else (0 if pd.isna(x) or x == \"\" else x))\n",
    "\n",
    "# Asignar los encabezados de Df_Pila_I a Df_Pila_IP para que tengan las mismas columnas\n",
    "Df_Pila_IP.columns = Df_Pila_I.columns\n",
    "# Concatenar Df_Pila_I y Df_Pila_IP, colocando los registros de Df_Pila_IP debajo de los de Df_Pila_I\n",
    "Df_Pila_SIE = pd.concat([Df_Pila_I, Df_Pila_IP], ignore_index=True)"
   ]
  },
  {
   "cell_type": "code",
   "execution_count": null,
   "metadata": {},
   "outputs": [],
   "source": [
    "Df_Pila_SIE = Df_Pila_SIE[Df_Pila_SIE[\"Correcciones\"] != \"A\"]\n",
    "cols_keep = [\n",
    "    \"N° Identificación Aportante\", \"Perido Pago\", \"Tipo Documento Cotizante\",\n",
    "    \"N° Identificación Cotizante\", \"ING\", \"RET\", \"Días Cotizados\",\n",
    "    \"Cotización Obligatoria\", \"Número Planilla\", \"Fecha Planilla\"\n",
    "]\n",
    "Df_Pila_SIE = Df_Pila_SIE[cols_keep]"
   ]
  },
  {
   "cell_type": "code",
   "execution_count": null,
   "metadata": {},
   "outputs": [],
   "source": [
    "from datetime import datetime\n",
    "import pandas as pd\n",
    "\n",
    "# Obtener el valor mínimo de la columna \"periodo_pago\"\n",
    "min_period = min(Df_Recaudo[\"periodo_pago\"].unique())\n",
    "# Convertir el valor mínimo a objeto datetime (formato \"yyyy-mm\")\n",
    "min_date = datetime.strptime(min_period, \"%Y-%m\")\n",
    "\n",
    "# Obtener el primer día del mes actual\n",
    "current_date = datetime.today().replace(day=1)\n",
    "\n",
    "# Generar un rango de fechas mensuales desde min_date hasta current_date\n",
    "date_range = pd.date_range(start=min_date, end=current_date, freq='MS')\n",
    "\n",
    "# Convertir cada fecha del rango a formato \"yyyy-mm\"\n",
    "unique_periods = [d.strftime(\"%Y-%m\") for d in date_range]\n",
    "\n",
    "# Para cada valor en el rango, crear una columna vacía en Df_Recaudo\n",
    "for period in unique_periods:\n",
    "    Df_Recaudo[period] = None"
   ]
  },
  {
   "cell_type": "code",
   "execution_count": null,
   "metadata": {},
   "outputs": [],
   "source": [
    "# Renombrar columnas en Df_Pila_SIE para que se ajusten a los nombres de Df_Recaudo\n",
    "Df_Pila_SIE = Df_Pila_SIE.rename(columns={\n",
    "    \"N° Identificación Aportante\": \"numero_identificacion_aportante\",\n",
    "    \"Perido Pago\": \"periodo_pago\",\n",
    "    \"Tipo Documento Cotizante\": \"tipo_identificacion_cotizante\",\n",
    "    \"N° Identificación Cotizante\": \"numero_identificacion_cotizante\"\n",
    "})\n",
    "\n",
    "# Crear el diccionario mapping con las columnas renombradas\n",
    "mapping = Df_Pila_SIE.set_index(\n",
    "    [\"numero_identificacion_aportante\", \"tipo_identificacion_cotizante\", \"numero_identificacion_cotizante\", \"periodo_pago\"]\n",
    ")[\"Cotización Obligatoria\"].to_dict()\n",
    "\n",
    "def assign_cotizacion_all(row):\n",
    "    key_prefix = (\n",
    "        row[\"numero_identificacion_aportante\"],\n",
    "        row[\"tipo_identificacion_cotizante\"],\n",
    "        row[\"numero_identificacion_cotizante\"]\n",
    "    )\n",
    "    for key, cotizacion in mapping.items():\n",
    "        if key[:3] == key_prefix:\n",
    "            period = key[3]\n",
    "            # Si la columna para ese período existe en Df_Recaudo, se asigna el valor\n",
    "            if period in row.index:\n",
    "                row[period] = cotizacion\n",
    "    return row\n",
    "\n",
    "Df_Recaudo = Df_Recaudo.apply(assign_cotizacion_all, axis=1)"
   ]
  },
  {
   "cell_type": "code",
   "execution_count": null,
   "metadata": {},
   "outputs": [],
   "source": [
    "Df_Recaudo.to_excel(RS_Recaudo, index=False)"
   ]
  }
 ],
 "metadata": {
  "kernelspec": {
   "display_name": "Python 3",
   "language": "python",
   "name": "python3"
  },
  "language_info": {
   "codemirror_mode": {
    "name": "ipython",
    "version": 3
   },
   "file_extension": ".py",
   "mimetype": "text/x-python",
   "name": "python",
   "nbconvert_exporter": "python",
   "pygments_lexer": "ipython3",
   "version": "3.12.2"
  }
 },
 "nbformat": 4,
 "nbformat_minor": 2
}
