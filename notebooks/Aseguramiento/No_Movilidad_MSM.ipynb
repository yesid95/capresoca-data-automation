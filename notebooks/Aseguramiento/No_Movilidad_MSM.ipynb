{
 "cells": [
  {
   "cell_type": "markdown",
   "id": "4a0605cf",
   "metadata": {},
   "source": [
    "# Rutas y modulos"
   ]
  },
  {
   "cell_type": "code",
   "execution_count": 1,
   "id": "cae3a46f",
   "metadata": {},
   "outputs": [],
   "source": [
    "# Importar librerías necesarias\n",
    "import os  # Para trabajar con rutas del sistema\n",
    "import pandas as pd  # Para trabajar con dataframes y archivos Excel\n",
    "import numpy as np  # Para operaciones numéricas\n",
    "import re  # Para validación de correos electrónicos\n",
    "from datetime import datetime  # Para trabajar con fechas\n",
    "from sklearn.feature_extraction.text import TfidfVectorizer\n",
    "from sklearn.cluster import KMeans\n",
    "from datetime import datetime\n",
    "import sys  # Acceso a variables y funciones del sistema\n",
    "\n",
    "\n",
    "# Añadir la carpeta raíz del proyecto al sys.path para importar módulos personalizados\n",
    "sys.path.append(os.path.abspath(\"c:/Users/osmarrincon/Documents/capresoca-data-automation\"))\n",
    "#sys.path.append(os.path.abspath(\"D:\\Proyectos Python\\capresoca-data-automation\"))  # Ruta alternativa (comentada)\n",
    "\n",
    "# Importar función y clase personalizada del proyecto\n",
    "from src.file_loader import cargar_maestros_ADRES  # Función para cargar archivos maestros ADRES\n",
    "from src.data_cleaning import BduaReportProcessor      # Clase para limpiar y normalizar población Maestro ADRES\n",
    "from src.data_cleaning import DataCleaner # Clase para limpiar y normalizar DataFrames de Pandas"
   ]
  },
  {
   "cell_type": "code",
   "execution_count": 2,
   "id": "eabe0472",
   "metadata": {},
   "outputs": [],
   "source": [
    "Fecha = \"20-08-2025\""
   ]
  },
  {
   "cell_type": "code",
   "execution_count": 3,
   "id": "ce870954",
   "metadata": {},
   "outputs": [],
   "source": [
    "hoja = \"Sheet1\"\n",
    "R_MS_SIe = r\"C:\\Users\\osmarrincon\\OneDrive - uniminuto.edu\\Capresoca\\AlmostClear\\SIE\\Aseguramiento\\ms_sie\\Reporte_Validación Archivos Maestro_2025_08_20 (2).csv\"\n",
    "R_Pila_movilidad = r\"C:\\Users\\osmarrincon\\OneDrive - 891856000_CAPRESOCA E P S\\Escritorio\\Yesid Rincón Z\\Traslados\\Procesos BDUA\\2025\\08_Agosto\\20\\Dataframe Pila 20-08-2025.xlsx\"\n",
    "R_Maestro__EPSC25 = r\"C:\\Users\\osmarrincon\\OneDrive - uniminuto.edu\\Capresoca\\AlmostClear\\Procesos BDUA\\Contributivo\\Maestro\\2025-2\\EPSC25MC0019082025.TXT\"\n",
    "R_Maestro__EPS025 = r\"C:\\Users\\osmarrincon\\OneDrive - uniminuto.edu\\Capresoca\\AlmostClear\\Procesos BDUA\\Subsidiados\\Maestro\\MS\\2025-02\\EPS025MS0019082025.TXT\"\n",
    "R_Cod_DANE = r\"C:\\Users\\osmarrincon\\OneDrive - 891856000_CAPRESOCA E P S\\Proyecto INOVA\\Colab_Notebooks\\dashboard\\Base de datos\\Codigo DANE\\Departamentos.txt\"\n",
    "\n",
    "\n",
    "S_Excel = fr\"C:\\Users\\osmarrincon\\OneDrive - 891856000_CAPRESOCA E P S\\Escritorio\\Yesid Rincón Z\\informes\\2025\\CTO135.2025 Informe  #8\\ACTIVIDAD 14\\Bases de datos notificaciones telefonicas\\MOVILIDAD NO EFECTIVA\\3ER PROCESO\\Movilidad No Efectiva {Fecha}.xlsx\""
   ]
  },
  {
   "cell_type": "markdown",
   "id": "d5e031d7",
   "metadata": {},
   "source": [
    "# Cargue Dataframe"
   ]
  },
  {
   "cell_type": "code",
   "execution_count": 4,
   "id": "fde16daf",
   "metadata": {},
   "outputs": [],
   "source": [
    "# Cargar y combinar los maestros\n",
    "maestro_ADRES = cargar_maestros_ADRES(R_Maestro__EPS025, R_Maestro__EPSC25)\n",
    "\n",
    "# Duplicar la columna \"MARCASISBENIV+MARCASISBENIII_2\" y nombrarla \"MARCASISBENIV+MARCASISBENIII\"\n",
    "maestro_ADRES[\"MARCASISBENIV+MARCASISBENIII_2\"] = \\\n",
    "    maestro_ADRES[\"MARCASISBENIV+MARCASISBENIII\"]\n",
    "\n",
    "\n",
    "# 1. Instanciar el procesador: Se crea un objeto pasando el DataFrame.\n",
    "#    La jerarquía de población ya está definida por defecto dentro de la clase.\n",
    "processor = BduaReportProcessor(df=maestro_ADRES)\n",
    "\n",
    "# 2. Ejecutar la limpieza y asignarla de vuelta.\n",
    "#    El método retorna un DataFrame completamente nuevo con la columna actualizada.\n",
    "maestro_ADRES = processor.prioritize_population_markers(\n",
    "    col_name=\"MARCASISBENIV+MARCASISBENIII\"\n",
    ")\n",
    "\n",
    "# ¡Listo! 'maestro_ADRES' ahora contiene los datos limpios."
   ]
  },
  {
   "cell_type": "code",
   "execution_count": 5,
   "id": "f74bf7b8",
   "metadata": {},
   "outputs": [],
   "source": [
    "# Cargar el archivo Excel R_Pila_movilidad en un DataFrame\n",
    "df_pila_movilidad = pd.read_excel(R_Pila_movilidad, sheet_name=hoja, dtype=str)\n",
    "df_ms_SIE = pd.read_csv(R_MS_SIe, sep=';', encoding='ansi', dtype=str)\n",
    "df_cod_dane = pd.read_csv(R_Cod_DANE, sep=';', encoding='UTF-8', dtype=str)"
   ]
  },
  {
   "cell_type": "markdown",
   "id": "fb9fe7e5",
   "metadata": {},
   "source": [
    "# Normalizar datos"
   ]
  },
  {
   "cell_type": "code",
   "execution_count": 6,
   "id": "915235e5",
   "metadata": {},
   "outputs": [
    {
     "name": "stdout",
     "output_type": "stream",
     "text": [
      "['S1' 'Al dia' 'Relación laboral Reciente' 'MORA' 'S1-PL' 'No SISBEN'\n",
      " 'Sisben D' 'Activo Regimen especial' 'UGPP' 'S1-MORA' 'YA EN SUBSIDIADO'\n",
      " 'AL DIA' 'Mora' 'S1-Mora' 'S1-UGPP' 'Pencionado']\n"
     ]
    }
   ],
   "source": [
    "print(df_pila_movilidad['Movilidad'].unique())"
   ]
  },
  {
   "cell_type": "code",
   "execution_count": 7,
   "id": "1628cf84",
   "metadata": {},
   "outputs": [
    {
     "name": "stdout",
     "output_type": "stream",
     "text": [
      "Registros antes del filtrado: 17673\n",
      "Registros después del filtrado: 1459\n"
     ]
    }
   ],
   "source": [
    "# Filtrar registros donde 'Movilidad' contenga 'sin sisben' o 'sisben D' (ignorando mayúsculas/minúsculas)\n",
    "filtro = df_pila_movilidad['Movilidad'].str.contains('sin sisben', case=False, na=False) | \\\n",
    "         df_pila_movilidad['Movilidad'].str.contains('no sisben', case=False, na=False) | \\\n",
    "         df_pila_movilidad['Movilidad'].str.contains('sisben D', case=False, na=False)\n",
    "\n",
    "# Mostrar cantidad antes del filtrado\n",
    "print(f\"Registros antes del filtrado: {len(df_pila_movilidad)}\")\n",
    "\n",
    "# Aplicar el filtro\n",
    "df_pila_movilidad = df_pila_movilidad[filtro]\n",
    "\n",
    "# Mostrar cantidad después del filtrado\n",
    "print(f\"Registros después del filtrado: {len(df_pila_movilidad)}\")"
   ]
  },
  {
   "cell_type": "code",
   "execution_count": 8,
   "id": "f945f47d",
   "metadata": {},
   "outputs": [],
   "source": [
    "df_pila_movilidad = df_pila_movilidad[[\"Tipo Documento Cotizante\", \"N° Identificación Cotizante\", \"Población\", \"Movilidad\"]]"
   ]
  },
  {
   "cell_type": "code",
   "execution_count": 9,
   "id": "13083912",
   "metadata": {},
   "outputs": [],
   "source": [
    "# Asegurar que los identificadores sean string para evitar problemas de merge\n",
    "maestro_ADRES['TPS_IDN_ID'] = maestro_ADRES['TPS_IDN_ID'].astype(str)\n",
    "maestro_ADRES['HST_IDN_NUMERO_IDENTIFICACION'] = maestro_ADRES['HST_IDN_NUMERO_IDENTIFICACION'].astype(str)\n",
    "df_pila_movilidad['Tipo Documento Cotizante'] = df_pila_movilidad['Tipo Documento Cotizante'].astype(str)\n",
    "df_pila_movilidad['N° Identificación Cotizante'] = df_pila_movilidad['N° Identificación Cotizante'].astype(str)\n",
    "\n",
    "# Seleccionar columnas a traer del maestro\n",
    "cols_maestro = [\n",
    "    \"TPS_IDN_ID\", \"HST_IDN_NUMERO_IDENTIFICACION\",\n",
    "    \"AFL_PRIMER_APELLIDO\", \"AFL_SEGUNDO_APELLIDO\",\n",
    "    \"AFL_PRIMER_NOMBRE\", \"AFL_SEGUNDO_NOMBRE\",\n",
    "    \"AFL_FECHA_NACIMIENTO\", \"TPS_GNR_ID\", \"DPR_ID\", \"MNC_ID\"\n",
    "]\n",
    "\n",
    "# Hacer el merge\n",
    "df_pila_movilidad = df_pila_movilidad.merge(\n",
    "    maestro_ADRES[cols_maestro],\n",
    "    left_on=[\"Tipo Documento Cotizante\", \"N° Identificación Cotizante\"],\n",
    "    right_on=[\"TPS_IDN_ID\", \"HST_IDN_NUMERO_IDENTIFICACION\"],\n",
    "    how=\"left\"\n",
    ")"
   ]
  },
  {
   "cell_type": "code",
   "execution_count": 10,
   "id": "44c36514",
   "metadata": {},
   "outputs": [],
   "source": [
    "df_pila_movilidad = df_pila_movilidad.drop(columns=[\"Tipo Documento Cotizante\", \"N° Identificación Cotizante\"])"
   ]
  },
  {
   "cell_type": "code",
   "execution_count": 11,
   "id": "dd2e93fc",
   "metadata": {},
   "outputs": [],
   "source": [
    "# Seleccionar columnas a unir desde df_ms_SIE\n",
    "cols_contacto = [\n",
    "    \"tipo_documento\", \"numero_identificacion\",\n",
    "    \"celular\", \"telefono_1\", \"telefono_2\", \"correo_electronico\"\n",
    "]\n",
    "\n",
    "# Realizar el merge usando los identificadores correspondientes\n",
    "df_pila_movilidad = df_pila_movilidad.merge(\n",
    "    df_ms_SIE[cols_contacto],\n",
    "    left_on=[\"TPS_IDN_ID\", \"HST_IDN_NUMERO_IDENTIFICACION\"],\n",
    "    right_on=[\"tipo_documento\", \"numero_identificacion\"],\n",
    "    how=\"left\"\n",
    ")\n",
    "\n",
    "# Eliminar las columnas de identificadores provenientes de df_ms_SIE\n",
    "df_pila_movilidad = df_pila_movilidad.drop(columns=[\"tipo_documento\", \"numero_identificacion\"])"
   ]
  },
  {
   "cell_type": "code",
   "execution_count": 12,
   "id": "40bc609d",
   "metadata": {},
   "outputs": [],
   "source": [
    "def limpiar_telefono(numero):\n",
    "    \"\"\"\n",
    "    Limpia y valida un número de teléfono colombiano.\n",
    "    - Elimina caracteres no numéricos.\n",
    "    - Debe tener 10 dígitos y empezar por '3'.\n",
    "    - Si no cumple, retorna ''.\n",
    "    \"\"\"\n",
    "    if pd.isnull(numero):\n",
    "        return ''\n",
    "    # Eliminar espacios, signos y dejar solo números\n",
    "    solo_numeros = re.sub(r'\\D', '', str(numero))\n",
    "    # Validar longitud y prefijo\n",
    "    if len(solo_numeros) == 10 and solo_numeros.startswith('3'):\n",
    "        return solo_numeros\n",
    "    return ''\n",
    "\n",
    "# Aplicar la función a las columnas de teléfono\n",
    "for col in [\"celular\", \"telefono_1\", \"telefono_2\"]:\n",
    "    df_pila_movilidad[col] = df_pila_movilidad[col].apply(limpiar_telefono)"
   ]
  },
  {
   "cell_type": "code",
   "execution_count": 13,
   "id": "6bb27f5d",
   "metadata": {},
   "outputs": [],
   "source": [
    "def limpiar_correo(correo):\n",
    "    \"\"\"\n",
    "    Limpia y valida un correo electrónico:\n",
    "    - Elimina espacios y convierte a minúsculas.\n",
    "    - Descarta correos con palabras clave como 'actualizar', 'notiene', 'sincorreo', etc.\n",
    "    - Valida la estructura básica de correo electrónico.\n",
    "    - Si no es válido, retorna ''.\n",
    "    \"\"\"\n",
    "    if pd.isnull(correo):\n",
    "        return ''\n",
    "    correo = str(correo).strip().lower()\n",
    "    # Palabras clave no válidas\n",
    "    palabras_invalidas = [\n",
    "        'actualizar', 'notiene', 'no tiene', 'sincorreo', 'sin correo', 'noaplica', 'no aplica', 'ninguno', 'noexiste', 'no existe'\n",
    "    ]\n",
    "    for palabra in palabras_invalidas:\n",
    "        if palabra in correo:\n",
    "            return ''\n",
    "    # Validar estructura básica de correo\n",
    "    patron = r'^[\\w\\.-]+@[\\w\\.-]+\\.\\w+$'\n",
    "    if re.match(patron, correo):\n",
    "        return correo\n",
    "    return ''\n",
    "\n",
    "# Aplicar la función a la columna 'correo_electronico'\n",
    "df_pila_movilidad['correo_electronico'] = df_pila_movilidad['correo_electronico'].apply(limpiar_correo)"
   ]
  },
  {
   "cell_type": "code",
   "execution_count": 14,
   "id": "01fc9083",
   "metadata": {},
   "outputs": [],
   "source": [
    "# Realizar el merge para agregar los nombres de departamento y municipio\n",
    "df_pila_movilidad = df_pila_movilidad.merge(\n",
    "    df_cod_dane[['Código Deapartamento', 'Código Municipio', 'Nombre Departamento', 'Nombre Municipio']],\n",
    "    left_on=['DPR_ID', 'MNC_ID'],\n",
    "    right_on=['Código Deapartamento', 'Código Municipio'],\n",
    "    how='left'\n",
    ")\n",
    "\n",
    "# Eliminar las columnas de id provenientes de df_cod_dane\n",
    "df_pila_movilidad = df_pila_movilidad.drop(columns=['Código Deapartamento', 'Código Municipio'])"
   ]
  },
  {
   "cell_type": "markdown",
   "id": "8eea4fba",
   "metadata": {},
   "source": [
    "# Guardar dataframes"
   ]
  },
  {
   "cell_type": "code",
   "execution_count": 15,
   "id": "fa0025fc",
   "metadata": {},
   "outputs": [
    {
     "data": {
      "text/plain": [
       "Index(['Población', 'Movilidad', 'TPS_IDN_ID', 'HST_IDN_NUMERO_IDENTIFICACION',\n",
       "       'AFL_PRIMER_APELLIDO', 'AFL_SEGUNDO_APELLIDO', 'AFL_PRIMER_NOMBRE',\n",
       "       'AFL_SEGUNDO_NOMBRE', 'AFL_FECHA_NACIMIENTO', 'TPS_GNR_ID', 'DPR_ID',\n",
       "       'MNC_ID', 'celular', 'telefono_1', 'telefono_2', 'correo_electronico',\n",
       "       'Nombre Departamento', 'Nombre Municipio'],\n",
       "      dtype='object')"
      ]
     },
     "execution_count": 15,
     "metadata": {},
     "output_type": "execute_result"
    }
   ],
   "source": [
    "df_pila_movilidad.columns"
   ]
  },
  {
   "cell_type": "code",
   "execution_count": 16,
   "id": "368cbdc8",
   "metadata": {},
   "outputs": [],
   "source": [
    "with pd.ExcelWriter(S_Excel, engine='openpyxl') as writer:\n",
    "    for movilidad, grupo in df_pila_movilidad.groupby('Movilidad'):\n",
    "        # Limpiar el nombre de la hoja para evitar caracteres no permitidos\n",
    "        nombre_hoja = str(movilidad)[:31].replace('/', '_').replace('\\\\', '_').replace('*', '_').replace('?', '_').replace('[', '_').replace(']', '_')\n",
    "        grupo.to_excel(writer, sheet_name=nombre_hoja, index=False)"
   ]
  }
 ],
 "metadata": {
  "kernelspec": {
   "display_name": "venv",
   "language": "python",
   "name": "python3"
  },
  "language_info": {
   "codemirror_mode": {
    "name": "ipython",
    "version": 3
   },
   "file_extension": ".py",
   "mimetype": "text/x-python",
   "name": "python",
   "nbconvert_exporter": "python",
   "pygments_lexer": "ipython3",
   "version": "3.12.2"
  }
 },
 "nbformat": 4,
 "nbformat_minor": 5
}
