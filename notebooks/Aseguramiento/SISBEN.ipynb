{
 "cells": [
  {
   "cell_type": "markdown",
   "id": "6c9fdecc",
   "metadata": {},
   "source": [
    "# Modulos"
   ]
  },
  {
   "cell_type": "code",
   "execution_count": 1,
   "id": "38a8a98e",
   "metadata": {},
   "outputs": [],
   "source": [
    "import pandas as pd\n",
    "from pathlib import Path\n",
    "from datetime import datetime\n",
    "import sys\n",
    "import re\n",
    "import os\n",
    "import openpyxl\n",
    "\n",
    "# Añadir la carpeta raíz del proyecto a sys.path\n",
    "sys.path.append(os.path.abspath(\"c:/Users/osmarrincon/Documents/capresoca-data-automation\"))\n",
    "#sys.path.append(os.path.abspath(\"D:\\Proyectos Python\\capresoca-data-automation\"))\n",
    "\n",
    "from src.file_loader import cargar_maestros_ADRES"
   ]
  },
  {
   "cell_type": "markdown",
   "id": "22c45600",
   "metadata": {},
   "source": [
    "# Rutas y variables"
   ]
  },
  {
   "cell_type": "code",
   "execution_count": 2,
   "id": "64867bce",
   "metadata": {},
   "outputs": [],
   "source": [
    "R_Salida = r\"C:\\Users\\osmarrincon\\OneDrive - 891856000_CAPRESOCA E P S\\Escritorio\\Yesid Rincón Z\\Traslados\\Consulta SISBEN\\08_AGOSTO\"\n",
    "fecha = datetime.now().strftime(\"%d-%m-%Y\")\n",
    "\n",
    "R_MS_EPS025 = r\"C:\\Users\\osmarrincon\\OneDrive - uniminuto.edu\\Capresoca\\AlmostClear\\Procesos BDUA\\Subsidiados\\Maestro\\MS\\2025-02\\EPS025MS0015082025.TXT\"\n",
    "R_MS_EPSC25 = r\"C:\\Users\\osmarrincon\\OneDrive - uniminuto.edu\\Capresoca\\AlmostClear\\Procesos BDUA\\Contributivo\\Maestro\\2025-2\\EPSC25MC0015082025.TXT\"\n",
    "R_MS_SIE = r\"C:\\Users\\osmarrincon\\OneDrive - uniminuto.edu\\Capresoca\\AlmostClear\\SIE\\Aseguramiento\\ms_sie\\Reporte_Validación Archivos Maestro_2025_08_19.csv\"\n",
    "\n"
   ]
  },
  {
   "cell_type": "markdown",
   "id": "71ebf42c",
   "metadata": {},
   "source": [
    "# Dataframes"
   ]
  },
  {
   "cell_type": "code",
   "execution_count": 3,
   "id": "5202fab0",
   "metadata": {},
   "outputs": [],
   "source": [
    "# Cargar archivos que sirven para validación\n",
    "df_MS_SIE = pd.read_csv(R_MS_SIE, delimiter=';', dtype=str, encoding='ansi')\n",
    "\n",
    "# Cargar y combinar los maestros\n",
    "df_maestro_ADRES = cargar_maestros_ADRES(R_MS_EPS025, R_MS_EPSC25)"
   ]
  },
  {
   "cell_type": "markdown",
   "id": "63555540",
   "metadata": {},
   "source": [
    "# Limpieza de datos"
   ]
  },
  {
   "cell_type": "code",
   "execution_count": 4,
   "id": "7c58fc80",
   "metadata": {},
   "outputs": [
    {
     "data": {
      "text/plain": [
       "Index(['tipo_documento', 'numero_identificacion', 'primer_apellido',\n",
       "       'segundo_apellido', 'primer_nombre', 'segundo_nombre',\n",
       "       'fecha_nacimiento', 'genero', 'municipio', 'estado', 'regimen',\n",
       "       'direccion', 'celular', 'telefono_1', 'telefono_2',\n",
       "       'correo_electronico', 'tipo_afiliado', 'parentesco_codificado',\n",
       "       'tipo_documento_padre', 'numero_documento_padre', 'primer_nombre_padre',\n",
       "       'segundo_nombre_padre', 'primer_apellido_padre',\n",
       "       'segundo_apellido_padre', 'estado_traslado', 'nivel_sisben', 'ficha',\n",
       "       'subgrupo', 'grupo_poblacional', 'fecha_sgsss', 'primer_nombre_bdua',\n",
       "       'segundo_nombre_bdua', 'primer_apellido_bdua', 'segundo_apellido_bdua',\n",
       "       'discapacidad', 'ips_primaria', 'municipio_nacimiento', 'categoria_ibc',\n",
       "       'serial_fosyga', 'Unnamed: 39'],\n",
       "      dtype='object')"
      ]
     },
     "execution_count": 4,
     "metadata": {},
     "output_type": "execute_result"
    }
   ],
   "source": [
    "df_MS_SIE.columns"
   ]
  },
  {
   "cell_type": "code",
   "execution_count": 5,
   "id": "344ab001",
   "metadata": {},
   "outputs": [
    {
     "data": {
      "text/plain": [
       "array(['No Aplica', 'Pendiente Ingreso Traslado RS',\n",
       "       'Pendiente Solicitud Retiro Traslado RS',\n",
       "       'Pendiente Solicitud Retiro Traslado RC', 'Pendiente Ingreso MS',\n",
       "       'Pendiente Ingreso Traslado RC', 'Pendiente Ingreso MC'],\n",
       "      dtype=object)"
      ]
     },
     "execution_count": 5,
     "metadata": {},
     "output_type": "execute_result"
    }
   ],
   "source": [
    "df_MS_SIE['estado_traslado'].unique()"
   ]
  },
  {
   "cell_type": "code",
   "execution_count": 6,
   "id": "89346848",
   "metadata": {},
   "outputs": [
    {
     "name": "stdout",
     "output_type": "stream",
     "text": [
      "Registros antes del filtrado: 224953\n",
      "Registros después del filtrado: 2068\n"
     ]
    }
   ],
   "source": [
    "# Filtrar los registros según los valores requeridos en 'estado_traslado'\n",
    "estados_filtrar = [\n",
    "    'Pendiente Ingreso Traslado RS',\n",
    "    'Pendiente Ingreso MS',\n",
    "    'Pendiente Ingreso Traslado RC',\n",
    "    'Pendiente Ingreso MC'\n",
    "]\n",
    "\n",
    "# Contar registros antes del filtrado\n",
    "registros_antes = len(df_MS_SIE)\n",
    "\n",
    "# Realizar el filtrado\n",
    "df_MS_SIE = df_MS_SIE[df_MS_SIE['estado_traslado'].isin(estados_filtrar)]\n",
    "\n",
    "# Contar registros después del filtrado\n",
    "registros_despues = len(df_MS_SIE)\n",
    "\n",
    "print(f\"Registros antes del filtrado: {registros_antes}\")\n",
    "print(f\"Registros después del filtrado: {registros_despues}\")"
   ]
  },
  {
   "cell_type": "code",
   "execution_count": 7,
   "id": "e65dab99",
   "metadata": {},
   "outputs": [],
   "source": [
    "df_MS_SIE = df_MS_SIE[['tipo_documento', 'numero_identificacion', 'fecha_nacimiento']]"
   ]
  },
  {
   "cell_type": "code",
   "execution_count": 8,
   "id": "8f2a3efc",
   "metadata": {},
   "outputs": [
    {
     "data": {
      "text/plain": [
       "Index(['tipo_documento', 'numero_identificacion', 'fecha_nacimiento'], dtype='object')"
      ]
     },
     "execution_count": 8,
     "metadata": {},
     "output_type": "execute_result"
    }
   ],
   "source": [
    "df_MS_SIE.columns"
   ]
  },
  {
   "cell_type": "code",
   "execution_count": 9,
   "id": "7a63fc91",
   "metadata": {},
   "outputs": [
    {
     "data": {
      "text/plain": [
       "Index(['AFL_ID', 'ENT_ID', 'TPS_IDN_ID_CF', 'HST_IDN_NUMERO_IDENTIFICACION_CF',\n",
       "       'TPS_IDN_ID', 'HST_IDN_NUMERO_IDENTIFICACION', 'AFL_PRIMER_APELLIDO',\n",
       "       'AFL_SEGUNDO_APELLIDO', 'AFL_PRIMER_NOMBRE', 'AFL_SEGUNDO_NOMBRE',\n",
       "       'AFL_FECHA_NACIMIENTO', 'TPS_GNR_ID', 'AFL_PAIS_NACIMIENTO',\n",
       "       'AFL_MUNICIPIO_NACIMIENTO', 'AFL_NACIONALIDAD',\n",
       "       'AFL_SEXO_IDENTIFICACION', 'AFL_DISCAPACIDAD', 'TPS_AFL_ID',\n",
       "       'TPS_PRN_ID', 'TPS_GRP_PBL_ID', 'TPS_NVL_SSB_ID', 'NUMEROFICHASISBEN',\n",
       "       'TPS_CND_BNF_ID', 'DPR_ID', 'MNC_ID', 'ZNS_ID',\n",
       "       'AFL_FECHA_AFILIACION_SGSSS', 'AFC_FECHA_INICIO', 'NUMERO CONTRATO',\n",
       "       'FECHADE INICIO DEL CONTRATO', 'CNT_AFL_TPS_GRP_PBL_ID',\n",
       "       'CNT_AFL_TPS_PRT_ETN_ID_2', 'TPS_MDL_SBS_ID', 'TPS_EST_AFL_ID',\n",
       "       'CND_AFL_FECHA_INICIO', 'CND_AFL_FECHA_INICIO', 'GRP_FML_COTIZANTE_ID',\n",
       "       'PORTABILIDAD', 'COD_IPS_P', 'MTDLG_G_P', 'SUB_SISBEN_IV',\n",
       "       'MARCASISBENIV+MARCASISBENIII', 'CRUCE_BDEX_RNEC'],\n",
       "      dtype='object')"
      ]
     },
     "execution_count": 9,
     "metadata": {},
     "output_type": "execute_result"
    }
   ],
   "source": [
    "df_maestro_ADRES.columns"
   ]
  },
  {
   "cell_type": "code",
   "execution_count": 10,
   "id": "9d914094",
   "metadata": {},
   "outputs": [
    {
     "data": {
      "text/plain": [
       "array(['CN', 'CC', 'RC', 'PT', 'TI', 'PE', 'CE', 'MS', 'SC', 'AS'],\n",
       "      dtype=object)"
      ]
     },
     "execution_count": 10,
     "metadata": {},
     "output_type": "execute_result"
    }
   ],
   "source": [
    "df_maestro_ADRES['TPS_IDN_ID'].unique()"
   ]
  },
  {
   "cell_type": "code",
   "execution_count": 11,
   "id": "5c4cd5d2",
   "metadata": {},
   "outputs": [
    {
     "name": "stdout",
     "output_type": "stream",
     "text": [
      "Registros antes del filtrado: 197547\n",
      "Registros después del filtrado: 197193\n"
     ]
    }
   ],
   "source": [
    "# Definir los valores a excluir\n",
    "excluir = ['CN', 'PE', 'AS', 'SC']\n",
    "\n",
    "# Contar registros antes del filtrado\n",
    "registros_antes = len(df_maestro_ADRES)\n",
    "\n",
    "# Filtrar el DataFrame\n",
    "df_maestro_ADRES = df_maestro_ADRES[~df_maestro_ADRES['TPS_IDN_ID'].isin(excluir)]\n",
    "\n",
    "# Contar registros después del filtrado\n",
    "registros_despues = len(df_maestro_ADRES)\n",
    "\n",
    "print(f\"Registros antes del filtrado: {registros_antes}\")\n",
    "print(f\"Registros después del filtrado: {registros_despues}\")"
   ]
  },
  {
   "cell_type": "code",
   "execution_count": 12,
   "id": "109617c0",
   "metadata": {},
   "outputs": [
    {
     "data": {
      "text/plain": [
       "array(['AF', 'RE', 'AC', 'SD', 'SM', 'PL'], dtype=object)"
      ]
     },
     "execution_count": 12,
     "metadata": {},
     "output_type": "execute_result"
    }
   ],
   "source": [
    "df_maestro_ADRES['TPS_EST_AFL_ID'].unique()"
   ]
  },
  {
   "cell_type": "code",
   "execution_count": 13,
   "id": "86a9b56c",
   "metadata": {},
   "outputs": [
    {
     "name": "stdout",
     "output_type": "stream",
     "text": [
      "Registros antes del filtrado: 197193\n",
      "Registros después del filtrado: 179149\n"
     ]
    }
   ],
   "source": [
    "# Filtrar los registros según los valores requeridos en 'TPS_EST_AFL_ID'\n",
    "estados_filtrar = [\n",
    "    'AC',\n",
    "    'RE',\n",
    "    'SM',\n",
    "    'PL'\n",
    "]\n",
    "\n",
    "# Contar registros antes del filtrado\n",
    "registros_antes = len(df_maestro_ADRES)\n",
    "\n",
    "# Realizar el filtrado\n",
    "df_maestro_ADRES = df_maestro_ADRES[df_maestro_ADRES['TPS_EST_AFL_ID'].isin(estados_filtrar)]\n",
    "\n",
    "# Contar registros después del filtrado\n",
    "registros_despues = len(df_maestro_ADRES)\n",
    "\n",
    "print(f\"Registros antes del filtrado: {registros_antes}\")\n",
    "print(f\"Registros después del filtrado: {registros_despues}\")"
   ]
  },
  {
   "cell_type": "code",
   "execution_count": 14,
   "id": "f7c1c8eb",
   "metadata": {},
   "outputs": [],
   "source": [
    "df_maestro_ADRES = df_maestro_ADRES[['TPS_IDN_ID', 'HST_IDN_NUMERO_IDENTIFICACION', 'AFL_FECHA_NACIMIENTO']]"
   ]
  },
  {
   "cell_type": "code",
   "execution_count": 15,
   "id": "51b1638e",
   "metadata": {},
   "outputs": [
    {
     "data": {
      "text/plain": [
       "Index(['TPS_IDN_ID', 'HST_IDN_NUMERO_IDENTIFICACION', 'AFL_FECHA_NACIMIENTO'], dtype='object')"
      ]
     },
     "execution_count": 15,
     "metadata": {},
     "output_type": "execute_result"
    }
   ],
   "source": [
    "df_maestro_ADRES.columns"
   ]
  },
  {
   "cell_type": "code",
   "execution_count": 16,
   "id": "172554c0",
   "metadata": {},
   "outputs": [],
   "source": [
    "# Renombrar las columnas de df_maestro_ADRES para que coincidan con df_MS_SIE\n",
    "df_maestro_ADRES_ren = df_maestro_ADRES.rename(columns={\n",
    "    'TPS_IDN_ID': 'tipo_documento',\n",
    "    'HST_IDN_NUMERO_IDENTIFICACION': 'numero_identificacion',\n",
    "    'AFL_FECHA_NACIMIENTO': 'fecha_nacimiento'\n",
    "})\n",
    "\n",
    "# Estandarizar la columna 'fecha_nacimiento' de df_MS_SIE a formato dd/mm/yyyy\n",
    "df_MS_SIE['fecha_nacimiento'] = pd.to_datetime(df_MS_SIE['fecha_nacimiento'], format='%Y-%m-%d').dt.strftime('%d/%m/%Y')\n",
    "\n",
    "# Unificar ambos dataframes\n",
    "df_unificado = pd.concat([df_MS_SIE, df_maestro_ADRES_ren], ignore_index=True)\n",
    "\n",
    "# Mostrar las primeras filas del dataframe unificado\n",
    "df_unificado.head()\n",
    "\n",
    "del df_MS_SIE, df_maestro_ADRES_ren, df_maestro_ADRES"
   ]
  },
  {
   "cell_type": "code",
   "execution_count": 17,
   "id": "23d6c436",
   "metadata": {},
   "outputs": [
    {
     "name": "stdout",
     "output_type": "stream",
     "text": [
      "Dimensión original: 181217\n",
      "Dimensión extendida: 192178\n"
     ]
    }
   ],
   "source": [
    "# Convertir 'fecha_nacimiento' a datetime para calcular la edad\n",
    "df_unificado['fecha_nacimiento_dt'] = pd.to_datetime(df_unificado['fecha_nacimiento'], format='%d/%m/%Y', errors='coerce')\n",
    "hoy = pd.to_datetime(fecha, format='%d-%m-%Y')\n",
    "\n",
    "# Calcular la edad\n",
    "df_unificado['edad'] = (hoy - df_unificado['fecha_nacimiento_dt']).dt.days // 365\n",
    "\n",
    "# Duplicar registros de 18 y 19 años con CC a TI\n",
    "mask_cc = (df_unificado['edad'].isin([18, 19])) & (df_unificado['tipo_documento'] == 'CC')\n",
    "df_cc = df_unificado[mask_cc].copy()\n",
    "df_cc['tipo_documento'] = 'TI'\n",
    "\n",
    "# Duplicar registros de 7 y 8 años con TI a RC\n",
    "mask_ti = (df_unificado['edad'].isin([7, 8])) & (df_unificado['tipo_documento'] == 'TI')\n",
    "df_ti = df_unificado[mask_ti].copy()\n",
    "df_ti['tipo_documento'] = 'RC'\n",
    "\n",
    "# Concatenar los duplicados al dataframe original\n",
    "df_unificado_ext = pd.concat([df_unificado, df_cc, df_ti], ignore_index=True)\n",
    "\n",
    "# Validar que la dimensión aumentó\n",
    "print(f\"Dimensión original: {df_unificado.shape[0]}\")\n",
    "print(f\"Dimensión extendida: {df_unificado_ext.shape[0]}\")\n",
    "\n",
    "# Limpiar columnas auxiliares si no se requieren\n",
    "df_unificado_ext = df_unificado_ext.drop(columns=['fecha_nacimiento_dt', 'edad'])"
   ]
  },
  {
   "cell_type": "markdown",
   "id": "40b78564",
   "metadata": {},
   "source": [
    "# Guardar dataframes"
   ]
  },
  {
   "cell_type": "code",
   "execution_count": 18,
   "id": "188119b0",
   "metadata": {},
   "outputs": [],
   "source": [
    "# Asegurar que la columna 'fecha_nacimiento' esté en formato dd/mm/yyyy\n",
    "df_unificado_ext['fecha_nacimiento'] = pd.to_datetime(df_unificado_ext['fecha_nacimiento'], dayfirst=True, errors='coerce').dt.strftime('%d/%m/%Y')\n",
    "\n",
    "# Construir el nombre del archivo con el formato requerido\n",
    "nombre_archivo = hoy.strftime('%Y_%m_%d') + '.xlsx'\n",
    "ruta_archivo = os.path.join(R_Salida, nombre_archivo)\n",
    "\n",
    "# Guardar el DataFrame en Excel sin encabezados\n",
    "df_unificado_ext.to_excel(ruta_archivo, index=False, header=False, engine='openpyxl')\n",
    " "
   ]
  },
  {
   "cell_type": "code",
   "execution_count": 19,
   "id": "8fe12afe",
   "metadata": {},
   "outputs": [
    {
     "name": "stdout",
     "output_type": "stream",
     "text": [
      "Archivo renombrado a: C:\\Users\\osmarrincon\\OneDrive - 891856000_CAPRESOCA E P S\\Escritorio\\Yesid Rincón Z\\Traslados\\Consulta SISBEN\\08_AGOSTO\\2025_08_19.XLSX\n"
     ]
    }
   ],
   "source": [
    "# Cambiar la extensión del archivo exportado de .xlsx a .XLSX (mayúscula)\n",
    "ruta_archivo_nuevo = os.path.splitext(ruta_archivo)[0] + '.XLSX'\n",
    "\n",
    "# Renombrar el archivo si la extensión es diferente\n",
    "if ruta_archivo.lower() != ruta_archivo_nuevo:\n",
    "    os.rename(ruta_archivo, ruta_archivo_nuevo)\n",
    "    print(f\"Archivo renombrado a: {ruta_archivo_nuevo}\")\n",
    "else:\n",
    "    print(\"La extensión ya está en mayúscula.\")"
   ]
  }
 ],
 "metadata": {
  "kernelspec": {
   "display_name": "venv",
   "language": "python",
   "name": "python3"
  },
  "language_info": {
   "codemirror_mode": {
    "name": "ipython",
    "version": 3
   },
   "file_extension": ".py",
   "mimetype": "text/x-python",
   "name": "python",
   "nbconvert_exporter": "python",
   "pygments_lexer": "ipython3",
   "version": "3.12.2"
  }
 },
 "nbformat": 4,
 "nbformat_minor": 5
}
